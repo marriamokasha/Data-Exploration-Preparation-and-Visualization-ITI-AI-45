{
 "cells": [
  {
   "cell_type": "code",
   "execution_count": 1,
   "metadata": {},
   "outputs": [],
   "source": [
    "import pandas as pd\n",
    "import numpy as np\n",
    "import matplotlib.pyplot as plt\n",
    "import seaborn as sns\n",
    "import plotly.express as px\n",
    "import requests\n"
   ]
  },
  {
   "cell_type": "code",
   "execution_count": 2,
   "metadata": {},
   "outputs": [
    {
     "data": {
      "text/html": [
       "<div>\n",
       "<style scoped>\n",
       "    .dataframe tbody tr th:only-of-type {\n",
       "        vertical-align: middle;\n",
       "    }\n",
       "\n",
       "    .dataframe tbody tr th {\n",
       "        vertical-align: top;\n",
       "    }\n",
       "\n",
       "    .dataframe thead th {\n",
       "        text-align: right;\n",
       "    }\n",
       "</style>\n",
       "<table border=\"1\" class=\"dataframe\">\n",
       "  <thead>\n",
       "    <tr style=\"text-align: right;\">\n",
       "      <th></th>\n",
       "      <th>ID number</th>\n",
       "      <th>Name</th>\n",
       "      <th>year</th>\n",
       "      <th>ZIP code</th>\n",
       "      <th>Highest degree offered</th>\n",
       "      <th>County name</th>\n",
       "      <th>Longitude location of institution</th>\n",
       "      <th>Latitude location of institution</th>\n",
       "      <th>Religious affiliation</th>\n",
       "      <th>Offers Less than one year certificate</th>\n",
       "      <th>...</th>\n",
       "      <th>Percent of freshmen  receiving federal grant aid</th>\n",
       "      <th>Percent of freshmen receiving Pell grants</th>\n",
       "      <th>Percent of freshmen receiving other federal grant aid</th>\n",
       "      <th>Percent of freshmen receiving state/local grant aid</th>\n",
       "      <th>Percent of freshmen receiving institutional grant aid</th>\n",
       "      <th>Percent of freshmen receiving student loan aid</th>\n",
       "      <th>Percent of freshmen receiving federal student loans</th>\n",
       "      <th>Percent of freshmen receiving other loan aid</th>\n",
       "      <th>Endowment assets (year end) per FTE enrollment (GASB)</th>\n",
       "      <th>Endowment assets (year end) per FTE enrollment (FASB)</th>\n",
       "    </tr>\n",
       "  </thead>\n",
       "  <tbody>\n",
       "    <tr>\n",
       "      <th>0</th>\n",
       "      <td>100654</td>\n",
       "      <td>Alabama A &amp; M University</td>\n",
       "      <td>2013</td>\n",
       "      <td>35762</td>\n",
       "      <td>Doctor's degree - research/scholarship</td>\n",
       "      <td>Madison County</td>\n",
       "      <td>-86.568502</td>\n",
       "      <td>34.783368</td>\n",
       "      <td>Not applicable</td>\n",
       "      <td>Implied no</td>\n",
       "      <td>...</td>\n",
       "      <td>81.0</td>\n",
       "      <td>81.0</td>\n",
       "      <td>7.0</td>\n",
       "      <td>1.0</td>\n",
       "      <td>32.0</td>\n",
       "      <td>89.0</td>\n",
       "      <td>89.0</td>\n",
       "      <td>1.0</td>\n",
       "      <td>NaN</td>\n",
       "      <td>NaN</td>\n",
       "    </tr>\n",
       "    <tr>\n",
       "      <th>1</th>\n",
       "      <td>100663</td>\n",
       "      <td>University of Alabama at Birmingham</td>\n",
       "      <td>2013</td>\n",
       "      <td>35294-0110</td>\n",
       "      <td>Doctor's degree - research/scholarship and pro...</td>\n",
       "      <td>Jefferson County</td>\n",
       "      <td>-86.809170</td>\n",
       "      <td>33.502230</td>\n",
       "      <td>Not applicable</td>\n",
       "      <td>Implied no</td>\n",
       "      <td>...</td>\n",
       "      <td>36.0</td>\n",
       "      <td>36.0</td>\n",
       "      <td>10.0</td>\n",
       "      <td>0.0</td>\n",
       "      <td>60.0</td>\n",
       "      <td>56.0</td>\n",
       "      <td>55.0</td>\n",
       "      <td>5.0</td>\n",
       "      <td>24136.0</td>\n",
       "      <td>NaN</td>\n",
       "    </tr>\n",
       "    <tr>\n",
       "      <th>2</th>\n",
       "      <td>100690</td>\n",
       "      <td>Amridge University</td>\n",
       "      <td>2013</td>\n",
       "      <td>36117-3553</td>\n",
       "      <td>Doctor's degree - research/scholarship and pro...</td>\n",
       "      <td>Montgomery County</td>\n",
       "      <td>-86.174010</td>\n",
       "      <td>32.362609</td>\n",
       "      <td>Churches of Christ</td>\n",
       "      <td>Implied no</td>\n",
       "      <td>...</td>\n",
       "      <td>90.0</td>\n",
       "      <td>90.0</td>\n",
       "      <td>0.0</td>\n",
       "      <td>40.0</td>\n",
       "      <td>90.0</td>\n",
       "      <td>100.0</td>\n",
       "      <td>100.0</td>\n",
       "      <td>0.0</td>\n",
       "      <td>NaN</td>\n",
       "      <td>302.0</td>\n",
       "    </tr>\n",
       "    <tr>\n",
       "      <th>3</th>\n",
       "      <td>100706</td>\n",
       "      <td>University of Alabama in Huntsville</td>\n",
       "      <td>2013</td>\n",
       "      <td>35899</td>\n",
       "      <td>Doctor's degree - research/scholarship and pro...</td>\n",
       "      <td>Madison County</td>\n",
       "      <td>-86.638420</td>\n",
       "      <td>34.722818</td>\n",
       "      <td>Not applicable</td>\n",
       "      <td>Yes</td>\n",
       "      <td>...</td>\n",
       "      <td>31.0</td>\n",
       "      <td>31.0</td>\n",
       "      <td>4.0</td>\n",
       "      <td>1.0</td>\n",
       "      <td>63.0</td>\n",
       "      <td>46.0</td>\n",
       "      <td>46.0</td>\n",
       "      <td>3.0</td>\n",
       "      <td>11502.0</td>\n",
       "      <td>NaN</td>\n",
       "    </tr>\n",
       "    <tr>\n",
       "      <th>4</th>\n",
       "      <td>100724</td>\n",
       "      <td>Alabama State University</td>\n",
       "      <td>2013</td>\n",
       "      <td>36104-0271</td>\n",
       "      <td>Doctor's degree - research/scholarship and pro...</td>\n",
       "      <td>Montgomery County</td>\n",
       "      <td>-86.295677</td>\n",
       "      <td>32.364317</td>\n",
       "      <td>Not applicable</td>\n",
       "      <td>Implied no</td>\n",
       "      <td>...</td>\n",
       "      <td>76.0</td>\n",
       "      <td>76.0</td>\n",
       "      <td>13.0</td>\n",
       "      <td>11.0</td>\n",
       "      <td>34.0</td>\n",
       "      <td>81.0</td>\n",
       "      <td>81.0</td>\n",
       "      <td>0.0</td>\n",
       "      <td>13202.0</td>\n",
       "      <td>NaN</td>\n",
       "    </tr>\n",
       "  </tbody>\n",
       "</table>\n",
       "<p>5 rows × 145 columns</p>\n",
       "</div>"
      ],
      "text/plain": [
       "   ID number                                 Name  year    ZIP code  \\\n",
       "0     100654             Alabama A & M University  2013       35762   \n",
       "1     100663  University of Alabama at Birmingham  2013  35294-0110   \n",
       "2     100690                   Amridge University  2013  36117-3553   \n",
       "3     100706  University of Alabama in Huntsville  2013       35899   \n",
       "4     100724             Alabama State University  2013  36104-0271   \n",
       "\n",
       "                              Highest degree offered        County name  \\\n",
       "0             Doctor's degree - research/scholarship     Madison County   \n",
       "1  Doctor's degree - research/scholarship and pro...   Jefferson County   \n",
       "2  Doctor's degree - research/scholarship and pro...  Montgomery County   \n",
       "3  Doctor's degree - research/scholarship and pro...     Madison County   \n",
       "4  Doctor's degree - research/scholarship and pro...  Montgomery County   \n",
       "\n",
       "   Longitude location of institution  Latitude location of institution  \\\n",
       "0                         -86.568502                         34.783368   \n",
       "1                         -86.809170                         33.502230   \n",
       "2                         -86.174010                         32.362609   \n",
       "3                         -86.638420                         34.722818   \n",
       "4                         -86.295677                         32.364317   \n",
       "\n",
       "  Religious affiliation Offers Less than one year certificate  ...  \\\n",
       "0        Not applicable                            Implied no  ...   \n",
       "1        Not applicable                            Implied no  ...   \n",
       "2    Churches of Christ                            Implied no  ...   \n",
       "3        Not applicable                                   Yes  ...   \n",
       "4        Not applicable                            Implied no  ...   \n",
       "\n",
       "  Percent of freshmen  receiving federal grant aid  \\\n",
       "0                                             81.0   \n",
       "1                                             36.0   \n",
       "2                                             90.0   \n",
       "3                                             31.0   \n",
       "4                                             76.0   \n",
       "\n",
       "  Percent of freshmen receiving Pell grants  \\\n",
       "0                                      81.0   \n",
       "1                                      36.0   \n",
       "2                                      90.0   \n",
       "3                                      31.0   \n",
       "4                                      76.0   \n",
       "\n",
       "  Percent of freshmen receiving other federal grant aid  \\\n",
       "0                                                7.0      \n",
       "1                                               10.0      \n",
       "2                                                0.0      \n",
       "3                                                4.0      \n",
       "4                                               13.0      \n",
       "\n",
       "  Percent of freshmen receiving state/local grant aid  \\\n",
       "0                                                1.0    \n",
       "1                                                0.0    \n",
       "2                                               40.0    \n",
       "3                                                1.0    \n",
       "4                                               11.0    \n",
       "\n",
       "  Percent of freshmen receiving institutional grant aid  \\\n",
       "0                                               32.0      \n",
       "1                                               60.0      \n",
       "2                                               90.0      \n",
       "3                                               63.0      \n",
       "4                                               34.0      \n",
       "\n",
       "  Percent of freshmen receiving student loan aid  \\\n",
       "0                                           89.0   \n",
       "1                                           56.0   \n",
       "2                                          100.0   \n",
       "3                                           46.0   \n",
       "4                                           81.0   \n",
       "\n",
       "  Percent of freshmen receiving federal student loans  \\\n",
       "0                                               89.0    \n",
       "1                                               55.0    \n",
       "2                                              100.0    \n",
       "3                                               46.0    \n",
       "4                                               81.0    \n",
       "\n",
       "  Percent of freshmen receiving other loan aid  \\\n",
       "0                                          1.0   \n",
       "1                                          5.0   \n",
       "2                                          0.0   \n",
       "3                                          3.0   \n",
       "4                                          0.0   \n",
       "\n",
       "  Endowment assets (year end) per FTE enrollment (GASB)  \\\n",
       "0                                                NaN      \n",
       "1                                            24136.0      \n",
       "2                                                NaN      \n",
       "3                                            11502.0      \n",
       "4                                            13202.0      \n",
       "\n",
       "  Endowment assets (year end) per FTE enrollment (FASB)  \n",
       "0                                                NaN     \n",
       "1                                                NaN     \n",
       "2                                              302.0     \n",
       "3                                                NaN     \n",
       "4                                                NaN     \n",
       "\n",
       "[5 rows x 145 columns]"
      ]
     },
     "execution_count": 2,
     "metadata": {},
     "output_type": "execute_result"
    }
   ],
   "source": [
    "df=pd.read_csv('IPEDS_data.csv')\n",
    "df.head()"
   ]
  },
  {
   "cell_type": "code",
   "execution_count": 3,
   "metadata": {},
   "outputs": [
    {
     "name": "stdout",
     "output_type": "stream",
     "text": [
      "<class 'pandas.core.frame.DataFrame'>\n",
      "RangeIndex: 1534 entries, 0 to 1533\n",
      "Data columns (total 145 columns):\n",
      " #    Column                                                                                  Non-Null Count  Dtype  \n",
      "---   ------                                                                                  --------------  -----  \n",
      " 0    ID number                                                                               1534 non-null   int64  \n",
      " 1    Name                                                                                    1534 non-null   object \n",
      " 2    year                                                                                    1534 non-null   int64  \n",
      " 3    ZIP code                                                                                1534 non-null   object \n",
      " 4    Highest degree offered                                                                  1534 non-null   object \n",
      " 5    County name                                                                             1534 non-null   object \n",
      " 6    Longitude location of institution                                                       1534 non-null   float64\n",
      " 7    Latitude location of institution                                                        1534 non-null   float64\n",
      " 8    Religious affiliation                                                                   1532 non-null   object \n",
      " 9    Offers Less than one year certificate                                                   1532 non-null   object \n",
      " 10   Offers One but less than two years certificate                                          1532 non-null   object \n",
      " 11   Offers Associate's degree                                                               1532 non-null   object \n",
      " 12   Offers Two but less than 4 years certificate                                            1532 non-null   object \n",
      " 13   Offers Bachelor's degree                                                                1532 non-null   object \n",
      " 14   Offers Postbaccalaureate certificate                                                    1532 non-null   object \n",
      " 15   Offers Master's degree                                                                  1532 non-null   object \n",
      " 16   Offers Post-master's certificate                                                        1532 non-null   object \n",
      " 17   Offers Doctor's degree - research/scholarship                                           1532 non-null   object \n",
      " 18   Offers Doctor's degree - professional practice                                          1532 non-null   object \n",
      " 19   Offers Doctor's degree - other                                                          1532 non-null   object \n",
      " 20   Offers Other degree                                                                     1532 non-null   object \n",
      " 21   Applicants total                                                                        1377 non-null   float64\n",
      " 22   Admissions total                                                                        1377 non-null   float64\n",
      " 23   Enrolled total                                                                          1377 non-null   float64\n",
      " 24   Percent of freshmen submitting SAT scores                                               1257 non-null   float64\n",
      " 25   Percent of freshmen submitting ACT scores                                               1259 non-null   float64\n",
      " 26   SAT Critical Reading 25th percentile score                                              1169 non-null   float64\n",
      " 27   SAT Critical Reading 75th percentile score                                              1169 non-null   float64\n",
      " 28   SAT Math 25th percentile score                                                          1182 non-null   float64\n",
      " 29   SAT Math 75th percentile score                                                          1182 non-null   float64\n",
      " 30   SAT Writing 25th percentile score                                                       714 non-null    float64\n",
      " 31   SAT Writing 75th percentile score                                                       714 non-null    float64\n",
      " 32   ACT Composite 25th percentile score                                                     1199 non-null   float64\n",
      " 33   ACT Composite 75th percentile score                                                     1199 non-null   float64\n",
      " 34   Estimated enrollment, total                                                             1532 non-null   float64\n",
      " 35   Estimated enrollment, full time                                                         1531 non-null   float64\n",
      " 36   Estimated enrollment, part time                                                         1523 non-null   float64\n",
      " 37   Estimated undergraduate enrollment, total                                               1526 non-null   float64\n",
      " 38   Estimated undergraduate enrollment, full time                                           1525 non-null   float64\n",
      " 39   Estimated undergraduate enrollment, part time                                           1514 non-null   float64\n",
      " 40   Estimated freshman undergraduate enrollment, total                                      1515 non-null   float64\n",
      " 41   Estimated freshman enrollment, full time                                                1515 non-null   float64\n",
      " 42   Estimated freshman enrollment, part time                                                1451 non-null   float64\n",
      " 43   Estimated graduate enrollment, total                                                    1432 non-null   float64\n",
      " 44   Estimated graduate enrollment, full time                                                1422 non-null   float64\n",
      " 45   Estimated graduate enrollment, part time                                                1420 non-null   float64\n",
      " 46   Associate's degrees awarded                                                             1532 non-null   float64\n",
      " 47   Bachelor's degrees awarded                                                              1532 non-null   float64\n",
      " 48   Master's degrees awarded                                                                1532 non-null   float64\n",
      " 49   Doctor's degrese - research/scholarship awarded                                         1532 non-null   float64\n",
      " 50   Doctor's degrees - professional practice awarded                                        1532 non-null   float64\n",
      " 51   Doctor's degrees - other awarded                                                        1532 non-null   float64\n",
      " 52   Certificates of less than 1-year awarded                                                1532 non-null   float64\n",
      " 53   Certificates of 1 but less than 2-years awarded                                         1532 non-null   float64\n",
      " 54   Certificates of 2 but less than 4-years awarded                                         1532 non-null   float64\n",
      " 55   Postbaccalaureate certificates awarded                                                  1532 non-null   float64\n",
      " 56   Post-master's certificates awarded                                                      1532 non-null   float64\n",
      " 57   Number of students receiving an Associate's degree                                      1532 non-null   float64\n",
      " 58   Number of students receiving a Bachelor's degree                                        1532 non-null   float64\n",
      " 59   Number of students receiving a Master's degree                                          1532 non-null   float64\n",
      " 60   Number of students receiving a Doctor's degree                                          1532 non-null   float64\n",
      " 61   Number of students receiving a certificate of less than 1-year                          1532 non-null   float64\n",
      " 62   Number of students receiving a certificate of 1 but less than 4-years                   1532 non-null   float64\n",
      " 63   Number of students receiving a Postbaccalaureate or Post-master's certificate           1532 non-null   float64\n",
      " 64   Percent admitted - total                                                                1376 non-null   float64\n",
      " 65   Admissions yield - total                                                                1376 non-null   float64\n",
      " 66   Tuition and fees, 2010-11                                                               1490 non-null   float64\n",
      " 67   Tuition and fees, 2011-12                                                               1490 non-null   float64\n",
      " 68   Tuition and fees, 2012-13                                                               1492 non-null   float64\n",
      " 69   Tuition and fees, 2013-14                                                               1497 non-null   float64\n",
      " 70   Total price for in-state students living on campus 2013-14                              1400 non-null   float64\n",
      " 71   Total price for out-of-state students living on campus 2013-14                          1400 non-null   float64\n",
      " 72   State abbreviation                                                                      1534 non-null   object \n",
      " 73   FIPS state code                                                                         1534 non-null   object \n",
      " 74   Geographic region                                                                       1534 non-null   object \n",
      " 75   Sector of institution                                                                   1534 non-null   object \n",
      " 76   Level of institution                                                                    1534 non-null   object \n",
      " 77   Control of institution                                                                  1534 non-null   object \n",
      " 78   Historically Black College or University                                                1534 non-null   object \n",
      " 79   Tribal college                                                                          1534 non-null   object \n",
      " 80   Degree of urbanization (Urban-centric locale)                                           1534 non-null   object \n",
      " 81   Carnegie Classification 2010: Basic                                                     1534 non-null   object \n",
      " 82   Total  enrollment                                                                       1532 non-null   float64\n",
      " 83   Full-time enrollment                                                                    1532 non-null   float64\n",
      " 84   Part-time enrollment                                                                    1532 non-null   float64\n",
      " 85   Undergraduate enrollment                                                                1532 non-null   float64\n",
      " 86   Graduate enrollment                                                                     1532 non-null   float64\n",
      " 87   Full-time undergraduate enrollment                                                      1532 non-null   float64\n",
      " 88   Part-time undergraduate enrollment                                                      1532 non-null   float64\n",
      " 89   Percent of total enrollment that are American Indian or Alaska Native                   1532 non-null   float64\n",
      " 90   Percent of total enrollment that are Asian                                              1532 non-null   float64\n",
      " 91   Percent of total enrollment that are Black or African American                          1532 non-null   float64\n",
      " 92   Percent of total enrollment that are Hispanic/Latino                                    1532 non-null   float64\n",
      " 93   Percent of total enrollment that are Native Hawaiian or Other Pacific Islander          1532 non-null   float64\n",
      " 94   Percent of total enrollment that are White                                              1532 non-null   float64\n",
      " 95   Percent of total enrollment that are two or more races                                  1532 non-null   float64\n",
      " 96   Percent of total enrollment that are Race/ethnicity unknown                             1532 non-null   float64\n",
      " 97   Percent of total enrollment that are Nonresident Alien                                  1532 non-null   float64\n",
      " 98   Percent of total enrollment that are Asian/Native Hawaiian/Pacific Islander             1532 non-null   float64\n",
      " 99   Percent of total enrollment that are women                                              1532 non-null   float64\n",
      " 100  Percent of undergraduate enrollment that are American Indian or Alaska Native           1522 non-null   float64\n",
      " 101  Percent of undergraduate enrollment that are Asian                                      1522 non-null   float64\n",
      " 102  Percent of undergraduate enrollment that are Black or African American                  1522 non-null   float64\n",
      " 103  Percent of undergraduate enrollment that are Hispanic/Latino                            1522 non-null   float64\n",
      " 104  Percent of undergraduate enrollment that are Native Hawaiian or Other Pacific Islander  1522 non-null   float64\n",
      " 105  Percent of undergraduate enrollment that are White                                      1522 non-null   float64\n",
      " 106  Percent of undergraduate enrollment that are two or more races                          1522 non-null   float64\n",
      " 107  Percent of undergraduate enrollment that are Race/ethnicity unknown                     1522 non-null   float64\n",
      " 108  Percent of undergraduate enrollment that are Nonresident Alien                          1522 non-null   float64\n",
      " 109  Percent of undergraduate enrollment that are Asian/Native Hawaiian/Pacific Islander     1522 non-null   float64\n",
      " 110  Percent of undergraduate enrollment that are women                                      1522 non-null   float64\n",
      " 111  Percent of graduate enrollment that are American Indian or Alaska Native                1269 non-null   float64\n",
      " 112  Percent of graduate enrollment that are Asian                                           1269 non-null   float64\n",
      " 113  Percent of graduate enrollment that are Black or African American                       1269 non-null   float64\n",
      " 114  Percent of graduate enrollment that are Hispanic/Latino                                 1269 non-null   float64\n",
      " 115  Percent of graduate enrollment that are Native Hawaiian or Other Pacific Islander       1269 non-null   float64\n",
      " 116  Percent of graduate enrollment that are White                                           1269 non-null   float64\n",
      " 117  Percent of graduate enrollment that are two or more races                               1269 non-null   float64\n",
      " 118  Percent of graduate enrollment that are Race/ethnicity unknown                          1269 non-null   float64\n",
      " 119  Percent of graduate enrollment that are Nonresident Alien                               1269 non-null   float64\n",
      " 120  Percent of graduate enrollment that are Asian/Native Hawaiian/Pacific Islander          1269 non-null   float64\n",
      " 121  Percent of graduate enrollment that are women                                           1269 non-null   float64\n",
      " 122  Number of first-time undergraduates - in-state                                          911 non-null    float64\n",
      " 123  Percent of first-time undergraduates - in-state                                         911 non-null    float64\n",
      " 124  Number of first-time undergraduates - out-of-state                                      911 non-null    float64\n",
      " 125  Percent of first-time undergraduates - out-of-state                                     911 non-null    float64\n",
      " 126  Number of first-time undergraduates - foreign countries                                 911 non-null    float64\n",
      " 127  Percent of first-time undergraduates - foreign countries                                911 non-null    float64\n",
      " 128  Number of first-time undergraduates - residence unknown                                 911 non-null    float64\n",
      " 129  Percent of first-time undergraduates - residence unknown                                911 non-null    float64\n",
      " 130  Graduation rate - Bachelor degree within 4 years, total                                 1476 non-null   float64\n",
      " 131  Graduation rate - Bachelor degree within 5 years, total                                 1476 non-null   float64\n",
      " 132  Graduation rate - Bachelor degree within 6 years, total                                 1476 non-null   float64\n",
      " 133  Percent of freshmen receiving any financial aid                                         1492 non-null   float64\n",
      " 134  Percent of freshmen receiving federal, state, local or institutional grant aid          1492 non-null   float64\n",
      " 135  Percent of freshmen  receiving federal grant aid                                        1492 non-null   float64\n",
      " 136  Percent of freshmen receiving Pell grants                                               1492 non-null   float64\n",
      " 137  Percent of freshmen receiving other federal grant aid                                   1492 non-null   float64\n",
      " 138  Percent of freshmen receiving state/local grant aid                                     1492 non-null   float64\n",
      " 139  Percent of freshmen receiving institutional grant aid                                   1492 non-null   float64\n",
      " 140  Percent of freshmen receiving student loan aid                                          1492 non-null   float64\n",
      " 141  Percent of freshmen receiving federal student loans                                     1492 non-null   float64\n",
      " 142  Percent of freshmen receiving other loan aid                                            1492 non-null   float64\n",
      " 143  Endowment assets (year end) per FTE enrollment (GASB)                                   516 non-null    float64\n",
      " 144  Endowment assets (year end) per FTE enrollment (FASB)                                   960 non-null    float64\n",
      "dtypes: float64(116), int64(2), object(27)\n",
      "memory usage: 1.7+ MB\n"
     ]
    }
   ],
   "source": [
    "df.info(verbose=True,show_counts=True)"
   ]
  },
  {
   "cell_type": "markdown",
   "metadata": {},
   "source": [
    "Drop rows with critical missing data"
   ]
  },
  {
   "cell_type": "code",
   "execution_count": 4,
   "metadata": {},
   "outputs": [],
   "source": [
    "df.dropna(subset=[\"Admissions total\"],inplace=True)\n",
    "df.dropna(subset=[\"Applicants total\"],inplace=True)\n",
    "df.dropna(subset=[\"Enrolled total\"],inplace=True)"
   ]
  },
  {
   "cell_type": "markdown",
   "metadata": {},
   "source": [
    "Drop Columns with rate of non-null vaules less than 0.65"
   ]
  },
  {
   "cell_type": "code",
   "execution_count": 5,
   "metadata": {
    "slideshow": {
     "slide_type": "notes"
    }
   },
   "outputs": [],
   "source": [
    "# df.dropna(thresh = len(df)*0.65, axis = 1,inplace=True)\n",
    "# df.info(verbose=True,show_counts=True)"
   ]
  },
  {
   "cell_type": "markdown",
   "metadata": {},
   "source": [
    "Drop Race/Ethnicity/gender related columns"
   ]
  },
  {
   "cell_type": "markdown",
   "metadata": {},
   "source": [
    "Drop first-time undergraduates info"
   ]
  },
  {
   "cell_type": "markdown",
   "metadata": {},
   "source": [
    "Drop SAT/ACT info"
   ]
  },
  {
   "cell_type": "code",
   "execution_count": 6,
   "metadata": {
    "slideshow": {
     "slide_type": "fragment"
    }
   },
   "outputs": [
    {
     "name": "stdout",
     "output_type": "stream",
     "text": [
      "<class 'pandas.core.frame.DataFrame'>\n",
      "Index: 1377 entries, 0 to 1532\n",
      "Data columns (total 93 columns):\n",
      " #   Column                                                                          Non-Null Count  Dtype  \n",
      "---  ------                                                                          --------------  -----  \n",
      " 0   Name                                                                            1377 non-null   object \n",
      " 1   year                                                                            1377 non-null   int64  \n",
      " 2   ZIP code                                                                        1377 non-null   object \n",
      " 3   Highest degree offered                                                          1377 non-null   object \n",
      " 4   County name                                                                     1377 non-null   object \n",
      " 5   Longitude location of institution                                               1377 non-null   float64\n",
      " 6   Latitude location of institution                                                1377 non-null   float64\n",
      " 7   Religious affiliation                                                           1377 non-null   object \n",
      " 8   Offers Less than one year certificate                                           1377 non-null   object \n",
      " 9   Offers One but less than two years certificate                                  1377 non-null   object \n",
      " 10  Offers Associate's degree                                                       1377 non-null   object \n",
      " 11  Offers Two but less than 4 years certificate                                    1377 non-null   object \n",
      " 12  Offers Bachelor's degree                                                        1377 non-null   object \n",
      " 13  Offers Postbaccalaureate certificate                                            1377 non-null   object \n",
      " 14  Offers Master's degree                                                          1377 non-null   object \n",
      " 15  Offers Post-master's certificate                                                1377 non-null   object \n",
      " 16  Offers Doctor's degree - research/scholarship                                   1377 non-null   object \n",
      " 17  Offers Doctor's degree - professional practice                                  1377 non-null   object \n",
      " 18  Offers Doctor's degree - other                                                  1377 non-null   object \n",
      " 19  Offers Other degree                                                             1377 non-null   object \n",
      " 20  Applicants total                                                                1377 non-null   float64\n",
      " 21  Admissions total                                                                1377 non-null   float64\n",
      " 22  Enrolled total                                                                  1377 non-null   float64\n",
      " 23  Estimated enrollment, total                                                     1377 non-null   float64\n",
      " 24  Estimated enrollment, full time                                                 1377 non-null   float64\n",
      " 25  Estimated enrollment, part time                                                 1374 non-null   float64\n",
      " 26  Estimated undergraduate enrollment, total                                       1377 non-null   float64\n",
      " 27  Estimated undergraduate enrollment, full time                                   1377 non-null   float64\n",
      " 28  Estimated undergraduate enrollment, part time                                   1372 non-null   float64\n",
      " 29  Estimated freshman undergraduate enrollment, total                              1377 non-null   float64\n",
      " 30  Estimated freshman enrollment, full time                                        1377 non-null   float64\n",
      " 31  Estimated freshman enrollment, part time                                        1321 non-null   float64\n",
      " 32  Estimated graduate enrollment, total                                            1294 non-null   float64\n",
      " 33  Estimated graduate enrollment, full time                                        1286 non-null   float64\n",
      " 34  Estimated graduate enrollment, part time                                        1286 non-null   float64\n",
      " 35  Associate's degrees awarded                                                     1377 non-null   float64\n",
      " 36  Bachelor's degrees awarded                                                      1377 non-null   float64\n",
      " 37  Master's degrees awarded                                                        1377 non-null   float64\n",
      " 38  Doctor's degrese - research/scholarship awarded                                 1377 non-null   float64\n",
      " 39  Doctor's degrees - professional practice awarded                                1377 non-null   float64\n",
      " 40  Doctor's degrees - other awarded                                                1377 non-null   float64\n",
      " 41  Certificates of less than 1-year awarded                                        1377 non-null   float64\n",
      " 42  Certificates of 1 but less than 2-years awarded                                 1377 non-null   float64\n",
      " 43  Certificates of 2 but less than 4-years awarded                                 1377 non-null   float64\n",
      " 44  Postbaccalaureate certificates awarded                                          1377 non-null   float64\n",
      " 45  Post-master's certificates awarded                                              1377 non-null   float64\n",
      " 46  Number of students receiving an Associate's degree                              1377 non-null   float64\n",
      " 47  Number of students receiving a Bachelor's degree                                1377 non-null   float64\n",
      " 48  Number of students receiving a Master's degree                                  1377 non-null   float64\n",
      " 49  Number of students receiving a Doctor's degree                                  1377 non-null   float64\n",
      " 50  Number of students receiving a certificate of less than 1-year                  1377 non-null   float64\n",
      " 51  Number of students receiving a certificate of 1 but less than 4-years           1377 non-null   float64\n",
      " 52  Number of students receiving a Postbaccalaureate or Post-master's certificate   1377 non-null   float64\n",
      " 53  Percent admitted - total                                                        1376 non-null   float64\n",
      " 54  Admissions yield - total                                                        1376 non-null   float64\n",
      " 55  Tuition and fees, 2010-11                                                       1372 non-null   float64\n",
      " 56  Tuition and fees, 2011-12                                                       1372 non-null   float64\n",
      " 57  Tuition and fees, 2012-13                                                       1374 non-null   float64\n",
      " 58  Tuition and fees, 2013-14                                                       1377 non-null   float64\n",
      " 59  Total price for in-state students living on campus 2013-14                      1326 non-null   float64\n",
      " 60  Total price for out-of-state students living on campus 2013-14                  1326 non-null   float64\n",
      " 61  State abbreviation                                                              1377 non-null   object \n",
      " 62  FIPS state code                                                                 1377 non-null   object \n",
      " 63  Geographic region                                                               1377 non-null   object \n",
      " 64  Sector of institution                                                           1377 non-null   object \n",
      " 65  Level of institution                                                            1377 non-null   object \n",
      " 66  Control of institution                                                          1377 non-null   object \n",
      " 67  Historically Black College or University                                        1377 non-null   object \n",
      " 68  Tribal college                                                                  1377 non-null   object \n",
      " 69  Degree of urbanization (Urban-centric locale)                                   1377 non-null   object \n",
      " 70  Carnegie Classification 2010: Basic                                             1377 non-null   object \n",
      " 71  Total  enrollment                                                               1377 non-null   float64\n",
      " 72  Full-time enrollment                                                            1377 non-null   float64\n",
      " 73  Part-time enrollment                                                            1377 non-null   float64\n",
      " 74  Undergraduate enrollment                                                        1377 non-null   float64\n",
      " 75  Graduate enrollment                                                             1377 non-null   float64\n",
      " 76  Full-time undergraduate enrollment                                              1377 non-null   float64\n",
      " 77  Part-time undergraduate enrollment                                              1377 non-null   float64\n",
      " 78  Graduation rate - Bachelor degree within 4 years, total                         1367 non-null   float64\n",
      " 79  Graduation rate - Bachelor degree within 5 years, total                         1367 non-null   float64\n",
      " 80  Graduation rate - Bachelor degree within 6 years, total                         1367 non-null   float64\n",
      " 81  Percent of freshmen receiving any financial aid                                 1373 non-null   float64\n",
      " 82  Percent of freshmen receiving federal, state, local or institutional grant aid  1373 non-null   float64\n",
      " 83  Percent of freshmen  receiving federal grant aid                                1373 non-null   float64\n",
      " 84  Percent of freshmen receiving Pell grants                                       1373 non-null   float64\n",
      " 85  Percent of freshmen receiving other federal grant aid                           1373 non-null   float64\n",
      " 86  Percent of freshmen receiving state/local grant aid                             1373 non-null   float64\n",
      " 87  Percent of freshmen receiving institutional grant aid                           1373 non-null   float64\n",
      " 88  Percent of freshmen receiving student loan aid                                  1373 non-null   float64\n",
      " 89  Percent of freshmen receiving federal student loans                             1373 non-null   float64\n",
      " 90  Percent of freshmen receiving other loan aid                                    1373 non-null   float64\n",
      " 91  Endowment assets (year end) per FTE enrollment (GASB)                           469 non-null    float64\n",
      " 92  Endowment assets (year end) per FTE enrollment (FASB)                           880 non-null    float64\n",
      "dtypes: float64(65), int64(1), object(27)\n",
      "memory usage: 1011.2+ KB\n"
     ]
    }
   ],
   "source": [
    "df.drop(columns=[\"ID number\"],inplace=True)\n",
    "df.drop(columns=[\"Percent of total enrollment that are American Indian or Alaska Native\",\n",
    "                \"Percent of total enrollment that are Asian\", \"Percent of total enrollment that are Black or African American\",\n",
    "                \"Percent of total enrollment that are Hispanic/Latino\", \"Percent of total enrollment that are Native Hawaiian or Other Pacific Islander\", \n",
    "                \"Percent of total enrollment that are White\", \"Percent of total enrollment that are two or more races\", \n",
    "                \"Percent of total enrollment that are Race/ethnicity unknown\", \"Percent of total enrollment that are Nonresident Alien\", \n",
    "                \"Percent of total enrollment that are Asian/Native Hawaiian/Pacific Islander\", \n",
    "                \"Percent of total enrollment that are women\", \n",
    "                \"Percent of undergraduate enrollment that are American Indian or Alaska Native\", \"Percent of undergraduate enrollment that are Asian\", \n",
    "                \"Percent of undergraduate enrollment that are Black or African American\", \n",
    "                \"Percent of undergraduate enrollment that are Hispanic/Latino\", \n",
    "                \"Percent of undergraduate enrollment that are Native Hawaiian or Other Pacific Islander\", \n",
    "                \"Percent of undergraduate enrollment that are White\", \"Percent of undergraduate enrollment that are two or more races\", \n",
    "                \"Percent of undergraduate enrollment that are Race/ethnicity unknown\", \"Percent of undergraduate enrollment that are Nonresident Alien\", \n",
    "                \"Percent of undergraduate enrollment that are Asian/Native Hawaiian/Pacific Islander\", \n",
    "                \"Percent of undergraduate enrollment that are women\", \"Percent of graduate enrollment that are American Indian or Alaska Native\", \n",
    "                \"Percent of graduate enrollment that are Asian\", \"Percent of graduate enrollment that are Black or African American\", \n",
    "                \"Percent of graduate enrollment that are Hispanic/Latino\", \n",
    "                \"Percent of graduate enrollment that are Native Hawaiian or Other Pacific Islander\", \n",
    "                \"Percent of graduate enrollment that are White\", \"Percent of graduate enrollment that are two or more races\", \n",
    "                \"Percent of graduate enrollment that are Race/ethnicity unknown\", \"Percent of graduate enrollment that are Nonresident Alien\", \n",
    "                \"Percent of graduate enrollment that are Asian/Native Hawaiian/Pacific Islander\", \"Percent of graduate enrollment that are women\"], \n",
    "                inplace=True)\n",
    "df.drop(columns=[\"Number of first-time undergraduates - in-state\", \"Percent of first-time undergraduates - in-state\", \n",
    "                \"Number of first-time undergraduates - out-of-state\", \"Percent of first-time undergraduates - out-of-state\", \n",
    "                \"Number of first-time undergraduates - foreign countries\", \"Percent of first-time undergraduates - foreign countries\", \n",
    "                \"Number of first-time undergraduates - residence unknown\", \"Percent of first-time undergraduates - residence unknown\"],\n",
    "                inplace=True)\n",
    "df.drop(columns=[\"Percent of freshmen submitting SAT scores\", \"Percent of freshmen submitting ACT scores\", \n",
    "                \"SAT Critical Reading 25th percentile score\", \"SAT Critical Reading 75th percentile score\", \n",
    "                \"SAT Math 25th percentile score\", \"SAT Math 75th percentile score\", \"SAT Writing 25th percentile score\", \n",
    "                \"SAT Writing 75th percentile score\", \"ACT Composite 25th percentile score\", \"ACT Composite 75th percentile score\"],\n",
    "                inplace=True)\n",
    "df.info()"
   ]
  },
  {
   "cell_type": "markdown",
   "metadata": {},
   "source": [
    "Drop irrelevant fees"
   ]
  },
  {
   "cell_type": "markdown",
   "metadata": {},
   "source": [
    "Drop Financial aids details"
   ]
  },
  {
   "cell_type": "code",
   "execution_count": 7,
   "metadata": {},
   "outputs": [
    {
     "name": "stdout",
     "output_type": "stream",
     "text": [
      "<class 'pandas.core.frame.DataFrame'>\n",
      "Index: 1377 entries, 0 to 1532\n",
      "Data columns (total 79 columns):\n",
      " #   Column                                                                         Non-Null Count  Dtype  \n",
      "---  ------                                                                         --------------  -----  \n",
      " 0   Name                                                                           1377 non-null   object \n",
      " 1   year                                                                           1377 non-null   int64  \n",
      " 2   ZIP code                                                                       1377 non-null   object \n",
      " 3   Highest degree offered                                                         1377 non-null   object \n",
      " 4   County name                                                                    1377 non-null   object \n",
      " 5   Longitude location of institution                                              1377 non-null   float64\n",
      " 6   Latitude location of institution                                               1377 non-null   float64\n",
      " 7   Religious affiliation                                                          1377 non-null   object \n",
      " 8   Offers Less than one year certificate                                          1377 non-null   object \n",
      " 9   Offers One but less than two years certificate                                 1377 non-null   object \n",
      " 10  Offers Associate's degree                                                      1377 non-null   object \n",
      " 11  Offers Two but less than 4 years certificate                                   1377 non-null   object \n",
      " 12  Offers Bachelor's degree                                                       1377 non-null   object \n",
      " 13  Offers Postbaccalaureate certificate                                           1377 non-null   object \n",
      " 14  Offers Master's degree                                                         1377 non-null   object \n",
      " 15  Offers Post-master's certificate                                               1377 non-null   object \n",
      " 16  Offers Doctor's degree - research/scholarship                                  1377 non-null   object \n",
      " 17  Offers Doctor's degree - professional practice                                 1377 non-null   object \n",
      " 18  Offers Doctor's degree - other                                                 1377 non-null   object \n",
      " 19  Offers Other degree                                                            1377 non-null   object \n",
      " 20  Applicants total                                                               1377 non-null   float64\n",
      " 21  Admissions total                                                               1377 non-null   float64\n",
      " 22  Enrolled total                                                                 1377 non-null   float64\n",
      " 23  Estimated enrollment, total                                                    1377 non-null   float64\n",
      " 24  Estimated enrollment, full time                                                1377 non-null   float64\n",
      " 25  Estimated enrollment, part time                                                1374 non-null   float64\n",
      " 26  Estimated undergraduate enrollment, total                                      1377 non-null   float64\n",
      " 27  Estimated undergraduate enrollment, full time                                  1377 non-null   float64\n",
      " 28  Estimated undergraduate enrollment, part time                                  1372 non-null   float64\n",
      " 29  Estimated freshman undergraduate enrollment, total                             1377 non-null   float64\n",
      " 30  Estimated freshman enrollment, full time                                       1377 non-null   float64\n",
      " 31  Estimated freshman enrollment, part time                                       1321 non-null   float64\n",
      " 32  Estimated graduate enrollment, total                                           1294 non-null   float64\n",
      " 33  Estimated graduate enrollment, full time                                       1286 non-null   float64\n",
      " 34  Estimated graduate enrollment, part time                                       1286 non-null   float64\n",
      " 35  Associate's degrees awarded                                                    1377 non-null   float64\n",
      " 36  Bachelor's degrees awarded                                                     1377 non-null   float64\n",
      " 37  Master's degrees awarded                                                       1377 non-null   float64\n",
      " 38  Doctor's degrese - research/scholarship awarded                                1377 non-null   float64\n",
      " 39  Doctor's degrees - professional practice awarded                               1377 non-null   float64\n",
      " 40  Doctor's degrees - other awarded                                               1377 non-null   float64\n",
      " 41  Certificates of less than 1-year awarded                                       1377 non-null   float64\n",
      " 42  Certificates of 1 but less than 2-years awarded                                1377 non-null   float64\n",
      " 43  Certificates of 2 but less than 4-years awarded                                1377 non-null   float64\n",
      " 44  Postbaccalaureate certificates awarded                                         1377 non-null   float64\n",
      " 45  Post-master's certificates awarded                                             1377 non-null   float64\n",
      " 46  Number of students receiving an Associate's degree                             1377 non-null   float64\n",
      " 47  Number of students receiving a Bachelor's degree                               1377 non-null   float64\n",
      " 48  Number of students receiving a Master's degree                                 1377 non-null   float64\n",
      " 49  Number of students receiving a Doctor's degree                                 1377 non-null   float64\n",
      " 50  Number of students receiving a certificate of less than 1-year                 1377 non-null   float64\n",
      " 51  Number of students receiving a certificate of 1 but less than 4-years          1377 non-null   float64\n",
      " 52  Number of students receiving a Postbaccalaureate or Post-master's certificate  1377 non-null   float64\n",
      " 53  Percent admitted - total                                                       1376 non-null   float64\n",
      " 54  Admissions yield - total                                                       1376 non-null   float64\n",
      " 55  Tuition and fees, 2013-14                                                      1377 non-null   float64\n",
      " 56  Total price for in-state students living on campus 2013-14                     1326 non-null   float64\n",
      " 57  Total price for out-of-state students living on campus 2013-14                 1326 non-null   float64\n",
      " 58  State abbreviation                                                             1377 non-null   object \n",
      " 59  FIPS state code                                                                1377 non-null   object \n",
      " 60  Geographic region                                                              1377 non-null   object \n",
      " 61  Sector of institution                                                          1377 non-null   object \n",
      " 62  Level of institution                                                           1377 non-null   object \n",
      " 63  Control of institution                                                         1377 non-null   object \n",
      " 64  Historically Black College or University                                       1377 non-null   object \n",
      " 65  Tribal college                                                                 1377 non-null   object \n",
      " 66  Degree of urbanization (Urban-centric locale)                                  1377 non-null   object \n",
      " 67  Carnegie Classification 2010: Basic                                            1377 non-null   object \n",
      " 68  Total  enrollment                                                              1377 non-null   float64\n",
      " 69  Full-time enrollment                                                           1377 non-null   float64\n",
      " 70  Part-time enrollment                                                           1377 non-null   float64\n",
      " 71  Undergraduate enrollment                                                       1377 non-null   float64\n",
      " 72  Graduate enrollment                                                            1377 non-null   float64\n",
      " 73  Full-time undergraduate enrollment                                             1377 non-null   float64\n",
      " 74  Part-time undergraduate enrollment                                             1377 non-null   float64\n",
      " 75  Graduation rate - Bachelor degree within 4 years, total                        1367 non-null   float64\n",
      " 76  Graduation rate - Bachelor degree within 5 years, total                        1367 non-null   float64\n",
      " 77  Graduation rate - Bachelor degree within 6 years, total                        1367 non-null   float64\n",
      " 78  Percent of freshmen receiving any financial aid                                1373 non-null   float64\n",
      "dtypes: float64(51), int64(1), object(27)\n",
      "memory usage: 860.6+ KB\n"
     ]
    }
   ],
   "source": [
    "df.drop(columns=[\"Tuition and fees, 2010-11\", \"Tuition and fees, 2011-12\", \"Tuition and fees, 2012-13\"], inplace=True)\n",
    "\n",
    "df.drop(columns=[\"Percent of freshmen receiving federal, state, local or institutional grant aid\", \n",
    "                \"Percent of freshmen  receiving federal grant aid\", \n",
    "                \"Percent of freshmen receiving Pell grants\", \"Percent of freshmen receiving other federal grant aid\", \n",
    "                \"Percent of freshmen receiving state/local grant aid\", \"Percent of freshmen receiving institutional grant aid\", \n",
    "                \"Percent of freshmen receiving student loan aid\", \"Percent of freshmen receiving federal student loans\", \n",
    "                \"Percent of freshmen receiving other loan aid\", \"Endowment assets (year end) per FTE enrollment (GASB)\", \n",
    "                \"Endowment assets (year end) per FTE enrollment (FASB)\"], inplace=True)\n",
    "df.info()"
   ]
  },
  {
   "cell_type": "markdown",
   "metadata": {},
   "source": [
    "Drop Columns with one repeated value"
   ]
  },
  {
   "cell_type": "code",
   "execution_count": 8,
   "metadata": {},
   "outputs": [],
   "source": [
    "df=df.drop(columns=[\"year\",\"Offers Bachelor's degree\",\"Tribal college\",\"Level of institution\"])"
   ]
  },
  {
   "cell_type": "markdown",
   "metadata": {},
   "source": [
    "Drop non-descriptive/repeated location-related data"
   ]
  },
  {
   "cell_type": "code",
   "execution_count": 9,
   "metadata": {},
   "outputs": [],
   "source": [
    "df=df.drop(columns=[\"ZIP code\",\"Longitude location of institution\",\"Latitude location of institution\",\"Geographic region\"])\n"
   ]
  },
  {
   "cell_type": "markdown",
   "metadata": {},
   "source": [
    "Drop Columns that are similar to other columns  "
   ]
  },
  {
   "cell_type": "code",
   "execution_count": 10,
   "metadata": {},
   "outputs": [
    {
     "name": "stdout",
     "output_type": "stream",
     "text": [
      "<class 'pandas.core.frame.DataFrame'>\n",
      "Index: 1377 entries, 0 to 1532\n",
      "Data columns (total 69 columns):\n",
      " #   Column                                                                         Non-Null Count  Dtype  \n",
      "---  ------                                                                         --------------  -----  \n",
      " 0   Name                                                                           1377 non-null   object \n",
      " 1   Highest degree offered                                                         1377 non-null   object \n",
      " 2   County name                                                                    1377 non-null   object \n",
      " 3   Religious affiliation                                                          1377 non-null   object \n",
      " 4   Offers Less than one year certificate                                          1377 non-null   object \n",
      " 5   Offers One but less than two years certificate                                 1377 non-null   object \n",
      " 6   Offers Associate's degree                                                      1377 non-null   object \n",
      " 7   Offers Two but less than 4 years certificate                                   1377 non-null   object \n",
      " 8   Offers Postbaccalaureate certificate                                           1377 non-null   object \n",
      " 9   Offers Master's degree                                                         1377 non-null   object \n",
      " 10  Offers Post-master's certificate                                               1377 non-null   object \n",
      " 11  Offers Doctor's degree - research/scholarship                                  1377 non-null   object \n",
      " 12  Offers Doctor's degree - professional practice                                 1377 non-null   object \n",
      " 13  Offers Doctor's degree - other                                                 1377 non-null   object \n",
      " 14  Offers Other degree                                                            1377 non-null   object \n",
      " 15  Applicants total                                                               1377 non-null   float64\n",
      " 16  Admissions total                                                               1377 non-null   float64\n",
      " 17  Enrolled total                                                                 1377 non-null   float64\n",
      " 18  Estimated enrollment, total                                                    1377 non-null   float64\n",
      " 19  Estimated enrollment, full time                                                1377 non-null   float64\n",
      " 20  Estimated enrollment, part time                                                1374 non-null   float64\n",
      " 21  Estimated undergraduate enrollment, total                                      1377 non-null   float64\n",
      " 22  Estimated undergraduate enrollment, full time                                  1377 non-null   float64\n",
      " 23  Estimated undergraduate enrollment, part time                                  1372 non-null   float64\n",
      " 24  Estimated freshman undergraduate enrollment, total                             1377 non-null   float64\n",
      " 25  Estimated freshman enrollment, full time                                       1377 non-null   float64\n",
      " 26  Estimated freshman enrollment, part time                                       1321 non-null   float64\n",
      " 27  Estimated graduate enrollment, total                                           1294 non-null   float64\n",
      " 28  Estimated graduate enrollment, full time                                       1286 non-null   float64\n",
      " 29  Estimated graduate enrollment, part time                                       1286 non-null   float64\n",
      " 30  Associate's degrees awarded                                                    1377 non-null   float64\n",
      " 31  Bachelor's degrees awarded                                                     1377 non-null   float64\n",
      " 32  Master's degrees awarded                                                       1377 non-null   float64\n",
      " 33  Doctor's degrese - research/scholarship awarded                                1377 non-null   float64\n",
      " 34  Doctor's degrees - professional practice awarded                               1377 non-null   float64\n",
      " 35  Doctor's degrees - other awarded                                               1377 non-null   float64\n",
      " 36  Certificates of less than 1-year awarded                                       1377 non-null   float64\n",
      " 37  Certificates of 1 but less than 2-years awarded                                1377 non-null   float64\n",
      " 38  Certificates of 2 but less than 4-years awarded                                1377 non-null   float64\n",
      " 39  Postbaccalaureate certificates awarded                                         1377 non-null   float64\n",
      " 40  Post-master's certificates awarded                                             1377 non-null   float64\n",
      " 41  Number of students receiving an Associate's degree                             1377 non-null   float64\n",
      " 42  Number of students receiving a Bachelor's degree                               1377 non-null   float64\n",
      " 43  Number of students receiving a Master's degree                                 1377 non-null   float64\n",
      " 44  Number of students receiving a Doctor's degree                                 1377 non-null   float64\n",
      " 45  Number of students receiving a certificate of less than 1-year                 1377 non-null   float64\n",
      " 46  Number of students receiving a certificate of 1 but less than 4-years          1377 non-null   float64\n",
      " 47  Number of students receiving a Postbaccalaureate or Post-master's certificate  1377 non-null   float64\n",
      " 48  Percent admitted - total                                                       1376 non-null   float64\n",
      " 49  Admissions yield - total                                                       1376 non-null   float64\n",
      " 50  Tuition and fees, 2013-14                                                      1377 non-null   float64\n",
      " 51  Total price for in-state students living on campus 2013-14                     1326 non-null   float64\n",
      " 52  Total price for out-of-state students living on campus 2013-14                 1326 non-null   float64\n",
      " 53  FIPS state code                                                                1377 non-null   object \n",
      " 54  Sector of institution                                                          1377 non-null   object \n",
      " 55  Historically Black College or University                                       1377 non-null   object \n",
      " 56  Degree of urbanization (Urban-centric locale)                                  1377 non-null   object \n",
      " 57  Carnegie Classification 2010: Basic                                            1377 non-null   object \n",
      " 58  Total  enrollment                                                              1377 non-null   float64\n",
      " 59  Full-time enrollment                                                           1377 non-null   float64\n",
      " 60  Part-time enrollment                                                           1377 non-null   float64\n",
      " 61  Undergraduate enrollment                                                       1377 non-null   float64\n",
      " 62  Graduate enrollment                                                            1377 non-null   float64\n",
      " 63  Full-time undergraduate enrollment                                             1377 non-null   float64\n",
      " 64  Part-time undergraduate enrollment                                             1377 non-null   float64\n",
      " 65  Graduation rate - Bachelor degree within 4 years, total                        1367 non-null   float64\n",
      " 66  Graduation rate - Bachelor degree within 5 years, total                        1367 non-null   float64\n",
      " 67  Graduation rate - Bachelor degree within 6 years, total                        1367 non-null   float64\n",
      " 68  Percent of freshmen receiving any financial aid                                1373 non-null   float64\n",
      "dtypes: float64(49), object(20)\n",
      "memory usage: 753.0+ KB\n"
     ]
    }
   ],
   "source": [
    "df=df.drop(columns=[\"State abbreviation\",\"Control of institution\"])\n",
    "df.info()"
   ]
  },
  {
   "cell_type": "code",
   "execution_count": 11,
   "metadata": {},
   "outputs": [
    {
     "name": "stdout",
     "output_type": "stream",
     "text": [
      "<class 'pandas.core.frame.DataFrame'>\n",
      "Index: 1377 entries, 0 to 1532\n",
      "Data columns (total 57 columns):\n",
      " #   Column                                                                         Non-Null Count  Dtype  \n",
      "---  ------                                                                         --------------  -----  \n",
      " 0   Name                                                                           1377 non-null   object \n",
      " 1   Highest degree offered                                                         1377 non-null   object \n",
      " 2   County name                                                                    1377 non-null   object \n",
      " 3   Religious affiliation                                                          1377 non-null   object \n",
      " 4   Offers Less than one year certificate                                          1377 non-null   object \n",
      " 5   Offers One but less than two years certificate                                 1377 non-null   object \n",
      " 6   Offers Associate's degree                                                      1377 non-null   object \n",
      " 7   Offers Two but less than 4 years certificate                                   1377 non-null   object \n",
      " 8   Offers Postbaccalaureate certificate                                           1377 non-null   object \n",
      " 9   Offers Master's degree                                                         1377 non-null   object \n",
      " 10  Offers Post-master's certificate                                               1377 non-null   object \n",
      " 11  Offers Doctor's degree - research/scholarship                                  1377 non-null   object \n",
      " 12  Offers Doctor's degree - professional practice                                 1377 non-null   object \n",
      " 13  Offers Doctor's degree - other                                                 1377 non-null   object \n",
      " 14  Offers Other degree                                                            1377 non-null   object \n",
      " 15  Applicants total                                                               1377 non-null   float64\n",
      " 16  Admissions total                                                               1377 non-null   float64\n",
      " 17  Enrolled total                                                                 1377 non-null   float64\n",
      " 18  Estimated enrollment, total                                                    1377 non-null   float64\n",
      " 19  Estimated undergraduate enrollment, total                                      1377 non-null   float64\n",
      " 20  Estimated freshman undergraduate enrollment, total                             1377 non-null   float64\n",
      " 21  Estimated graduate enrollment, total                                           1294 non-null   float64\n",
      " 22  Associate's degrees awarded                                                    1377 non-null   float64\n",
      " 23  Bachelor's degrees awarded                                                     1377 non-null   float64\n",
      " 24  Master's degrees awarded                                                       1377 non-null   float64\n",
      " 25  Doctor's degrese - research/scholarship awarded                                1377 non-null   float64\n",
      " 26  Doctor's degrees - professional practice awarded                               1377 non-null   float64\n",
      " 27  Doctor's degrees - other awarded                                               1377 non-null   float64\n",
      " 28  Certificates of less than 1-year awarded                                       1377 non-null   float64\n",
      " 29  Certificates of 1 but less than 2-years awarded                                1377 non-null   float64\n",
      " 30  Certificates of 2 but less than 4-years awarded                                1377 non-null   float64\n",
      " 31  Postbaccalaureate certificates awarded                                         1377 non-null   float64\n",
      " 32  Post-master's certificates awarded                                             1377 non-null   float64\n",
      " 33  Number of students receiving an Associate's degree                             1377 non-null   float64\n",
      " 34  Number of students receiving a Bachelor's degree                               1377 non-null   float64\n",
      " 35  Number of students receiving a Master's degree                                 1377 non-null   float64\n",
      " 36  Number of students receiving a Doctor's degree                                 1377 non-null   float64\n",
      " 37  Number of students receiving a certificate of less than 1-year                 1377 non-null   float64\n",
      " 38  Number of students receiving a certificate of 1 but less than 4-years          1377 non-null   float64\n",
      " 39  Number of students receiving a Postbaccalaureate or Post-master's certificate  1377 non-null   float64\n",
      " 40  Percent admitted - total                                                       1376 non-null   float64\n",
      " 41  Admissions yield - total                                                       1376 non-null   float64\n",
      " 42  Tuition and fees, 2013-14                                                      1377 non-null   float64\n",
      " 43  Total price for in-state students living on campus 2013-14                     1326 non-null   float64\n",
      " 44  Total price for out-of-state students living on campus 2013-14                 1326 non-null   float64\n",
      " 45  FIPS state code                                                                1377 non-null   object \n",
      " 46  Sector of institution                                                          1377 non-null   object \n",
      " 47  Historically Black College or University                                       1377 non-null   object \n",
      " 48  Degree of urbanization (Urban-centric locale)                                  1377 non-null   object \n",
      " 49  Carnegie Classification 2010: Basic                                            1377 non-null   object \n",
      " 50  Total  enrollment                                                              1377 non-null   float64\n",
      " 51  Undergraduate enrollment                                                       1377 non-null   float64\n",
      " 52  Graduate enrollment                                                            1377 non-null   float64\n",
      " 53  Graduation rate - Bachelor degree within 4 years, total                        1367 non-null   float64\n",
      " 54  Graduation rate - Bachelor degree within 5 years, total                        1367 non-null   float64\n",
      " 55  Graduation rate - Bachelor degree within 6 years, total                        1367 non-null   float64\n",
      " 56  Percent of freshmen receiving any financial aid                                1373 non-null   float64\n",
      "dtypes: float64(37), object(20)\n",
      "memory usage: 624.0+ KB\n"
     ]
    }
   ],
   "source": [
    "df=df.drop(columns=[\"Estimated enrollment, full time\",\"Estimated enrollment, part time\"\n",
    "                    ,\"Estimated undergraduate enrollment, full time\",\"Estimated undergraduate enrollment, part time\"\n",
    "                    ,\"Estimated freshman enrollment, full time\",\"Estimated freshman enrollment, part time\"\n",
    "                    ,\"Estimated graduate enrollment, full time\",\"Estimated graduate enrollment, part time\"\n",
    "                    ,\"Full-time enrollment\", \"Part-time enrollment\"\n",
    "                    ,\"Full-time undergraduate enrollment\",\"Part-time undergraduate enrollment\"])\n",
    "df.info()"
   ]
  },
  {
   "cell_type": "code",
   "execution_count": 12,
   "metadata": {},
   "outputs": [],
   "source": [
    "df.to_csv('Clean_IPEDS.csv', index=False) "
   ]
  },
  {
   "cell_type": "markdown",
   "metadata": {},
   "source": [
    "### 1-Do universities with a high number of applications are the preferred ones by students? in other words, could the number of applications tell us that a university is one of the most preferred by students?"
   ]
  },
  {
   "cell_type": "code",
   "execution_count": 13,
   "metadata": {},
   "outputs": [
    {
     "data": {
      "application/vnd.plotly.v1+json": {
       "config": {
        "plotlyServerURL": "https://plot.ly"
       },
       "data": [
        {
         "hovertemplate": "Applicants total=%{x}<br>Enrolled total=%{y}<extra></extra>",
         "legendgroup": "",
         "marker": {
          "color": "#636efa",
          "symbol": "circle"
         },
         "mode": "markers",
         "name": "",
         "showlegend": false,
         "type": "scattergl",
         "x": {
          "bdata": "AAAAAAD+t0AAAAAAADm2QAAAAAAADKBAAAAAAIACxEAAAAAAwD/eQAAAAAAAmJ5AAAAAAIDAzkAAAAAAACyeQAAAAAAA+JZAAAAAAAAWqEAAAAAAAMBwQAAAAAAA4HxAAAAAAAAQi0AAAAAAAKSVQAAAAAAA3KNAAAAAAABQpUAAAAAAAO6qQAAAAAAAzrJAAAAAAADEuUAAAAAAABmwQAAAAAAAOrdAAAAAAACTw0AAAAAAAOB+QAAAAACAQtVAAAAAAEC22UAAAAAAAGSaQAAAAACgmOBAAAAAAADweEAAAAAAAIB1QAAAAAAAjJZAAAAAAAB0lEAAAAAAAHfSQAAAAAAA/K9AAAAAAADmskAAAAAAAA6uQAAAAAAAlqxAAAAAAADggEAAAAAAAAihQAAAAAAALKpAAAAAAAAgnkAAAAAAANyRQAAAAAAAMJtAAAAAAACUkEAAAAAAAJiAQAAAAAAAQKVAAAAAAACCrkAAAAAAANG0QAAAAAAA0LJAAAAAAAAarkAAAAAAAJ+1QAAAAAAACLtAAAAAAKAJ4kAAAAAAAABgQAAAAAAA5rlAAAAAAACDtkAAAAAAgOfHQAAAAADAe9tAAAAAAMDP0EAAAAAAAMvMQAAAAAAAuc9AAAAAAKD/4kAAAAAAgOLIQAAAAABg3epAAAAAAECu2kAAAAAAwKbcQAAAAACAPdNAAAAAAKAi7kAAAAAAgFPoQAAAAABgmOtAAAAAAEC+8UAAAAAAwK3dQAAAAAAAtO1AAAAAAED76kAAAAAAIC7gQAAAAAAA6ItAAAAAAADzxkAAAAAAAA6gQAAAAAAAiIFAAAAAAACOtUAAAAAAAIBUQAAAAAAAJKJAAAAAAAAIhkAAAAAAAAAAAAAAAAAApqtAAAAAAACIgUAAAAAAAH3DQAAAAAAAAFlAAAAAAABNu0AAAAAAAC6rQAAAAAAAiIpAAAAAAABoxkAAAAAAAASwQAAAAAAAjJxAAAAAAAAYokAAAAAAAAieQAAAAAAAuLdAAAAAAACAeUAAAAAAAG6gQAAAAAAAx8tAAAAAAID8wkAAAAAAABOwQAAAAAAAhKhAAAAAAADxu0AAAAAAADyyQAAAAABg++hAAAAAAICyzEAAAAAAgLneQAAAAAAA7MxAAAAAAMCQ2EAAAAAAgAHMQAAAAAAAlKJAAAAAAADogUAAAAAAAACzQAAAAAAAq8lAAAAAAABcl0AAAAAAwB/nQAAAAAAAQGZAAAAAAADCoEAAAAAAAB2xQAAAAAAAeItAAAAAAADEpEAAAAAAAAaoQAAAAAAAertAAAAAAEDy1UAAAAAAAIiSQAAAAAAAlLZAAAAAAADRxkAAAAAAgIzRQAAAAACA08pAAAAAAAAApEAAAAAAADu5QAAAAAAA67ZAAAAAAADAU0AAAAAAALK9QAAAAAAAfKdAAAAAAACWqEAAAAAAAKiXQAAAAAAAiIVAAAAAAACAtEAAAAAAAK+1QAAAAAAA5bJAAAAAAMDV2kAAAAAAAPizQAAAAAAAE8JAAAAAAICLzUAAAAAAACiSQAAAAACA3MNAAAAAAMA21EAAAAAAAGW+QAAAAAAA4IpAAAAAAAAGs0AAAAAAAOS9QAAAAAAAn8NAAAAAAAA6rEAAAAAAQEzcQAAAAAAAWsFAAAAAAIDc2EAAAAAAAOqmQAAAAABAItFAAAAAAACauEAAAAAAAECAQAAAAAAAP9VAAAAAAMCk00AAAAAAgNPGQAAAAAAAVJdAAAAAAAClvkAAAAAAAAW9QAAAAAAAEqVAAAAAAAAATUAAAAAAABPfQAAAAAAAQH1AAAAAAACQrkAAAAAAAMydQAAAAAAA1K9AAAAAAACls0AAAAAAQE7YQAAAAAAAFLVAAAAAAADwd0AAAAAAAIy+QAAAAABAKdBAAAAAAABgs0AAAAAAAGOzQAAAAADA4txAAAAAAMB42kAAAAAAAFSrQAAAAAAADLJAAAAAAMA63EAAAAAAAMBQQAAAAACAxcRAAAAAAADosEAAAAAAAEiZQAAAAAAAebJAAAAAAADUqEAAAAAAANjbQAAAAAAAuIZAAAAAAICGxEAAAAAAAJigQAAAAACA+M1AAAAAAADAk0AAAAAAAICNQAAAAACAHchAAAAAAADwlEAAAAAAAB3AQAAAAAAAXKhAAAAAAAAwjUAAAAAAAPG2QAAAAAAAeq5AAAAAAADgoEAAAAAAALB9QAAAAAAA+J9AAAAAAADEqEAAAAAAAKSRQAAAAAAAYItAAAAAAMAQ0UAAAAAAANivQAAAAACAmsxAAAAAAAB0k0AAAAAAAKavQAAAAACAjsRAAAAAAAAhy0AAAAAAgAbSQAAAAACAf8JAAAAAAADAmUAAAAAAAEiJQAAAAAAAMK5AAAAAAAAEpUAAAAAAADOxQAAAAAAApqVAAAAAAACQikAAAAAAAFyRQAAAAAAA1KZAAAAAAAD0mEAAAAAAAMG3QAAAAAAAZJpAAAAAAAAgY0AAAAAAAJSTQAAAAAAAYH1AAAAAAABFtkAAAAAAAFiIQAAAAAAAYrxAAAAAAACQjEAAAAAAAISZQAAAAAAA9bpAAAAAAABvsEAAAAAAAGCMQAAAAAAAmL5AAAAAAAAfvUAAAAAAAHCRQAAAAAAA6IpAAAAAAAAsk0AAAAAAACK6QAAAAAAAx7ZAAAAAAADQo0AAAAAAAICAQAAAAACAhMFAAAAAAABjtEAAAAAAAJjdQAAAAAAARb9AAAAAAADYrEAAAAAAQH3TQAAAAAAAyb5AAAAAAAAcpUAAAAAAAACOQAAAAAAA7JpAAAAAAICFzEAAAAAAAHigQAAAAABgNuBAAAAAAADIq0AAAAAAAACkQAAAAAAAMKZAAAAAAAD9zUAAAAAAAAiHQAAAAAAAyKRAAAAAAADIrEAAAAAAADi1QAAAAAAANJFAAAAAAIAJzEAAAAAAAAyQQAAAAAAARJlAAAAAAACErkAAAAAAADqnQAAAAAAAAFVAAAAAAADkr0AAAAAAAPKuQAAAAACATtlAAAAAAABP30AAAAAAAOa0QAAAAAAADq1AAAAAAADYkEAAAAAAAOCvQAAAAAAAyJBAAAAAAABUqkAAAAAAAFyrQAAAAAAAqJpAAAAAAICIxEAAAAAAAPSWQAAAAAAAADxAAAAAAAC5xkAAAAAAAN69QAAAAAAAOIJAAAAAAADge0AAAAAAAJ3EQAAAAAAAnJ5AAAAAAABcpUAAAAAAgLfQQAAAAAAAaJNAAAAAAIBGwkAAAAAAAAiBQAAAAAAA3rNAAAAAAACInUAAAAAAAO6mQAAAAAAAWqFAAAAAAAAQiEAAAAAAAPSqQAAAAAAAzKhAAAAAAABYhkAAAAAAAICIQAAAAAAA7KxAAAAAAADjx0AAAAAAAMG0QAAAAAAAPLhAAAAAAICFxUAAAAAAAKiQQAAAAAAAMKNAAAAAAEB44kAAAAAAALSbQAAAAAAAYqBAAAAAAAAMk0AAAAAAACahQAAAAAAAIKBAAAAAAADiqkAAAAAAwDvRQAAAAAAAYIRAAAAAAAA+pEAAAAAAAJyZQAAAAAAA0J1AAAAAAACcmUAAAAAAAFB0QAAAAAAA5JdAAAAAAACUmUAAAAAAAGamQAAAAAAA7LdAAAAAAAAElkAAAAAAADSmQAAAAAAAiJNAAAAAAAA4p0AAAAAAADihQAAAAAAALJVAAAAAAAAqt0AAAAAAAMSWQAAAAAAA9J5AAAAAAAA4iUAAAAAAABavQAAAAADAJtBAAAAAAACclEAAAAAAgCLVQAAAAAAARJ1AAAAAAABEq0AAAAAAAIBSQAAAAAAAEq1AAAAAAADwgEAAAAAAAMivQAAAAAAAFJNAAAAAAACipkAAAAAAAFiUQAAAAAAANJNAAAAAAAC4oUAAAAAAACCKQAAAAAAAMItAAAAAAAB2q0AAAAAAAMyRQAAAAAAAsIpAAAAAAACwhEAAAAAAACijQAAAAAAAnqNAAAAAAAAIh0AAAAAAgDLIQAAAAAAAWKJAAAAAAIA3w0AAAAAAAIiFQAAAAAAAEIRAAAAAAACgj0AAAAAAALBwQAAAAAAAAqhAAAAAAAD4h0AAAAAAAEB7QAAAAAAAmItAAAAAAAAogEAAAAAAAEirQAAAAAAAkKxAAAAAAADskkAAAAAAAECwQAAAAAAAUJlAAAAAAAD8q0AAAAAAALKkQAAAAAAAyqNAAAAAAAC+o0AAAAAAAGbDQAAAAAAAHJtAAAAAAAD/uEAAAAAAAHCPQAAAAACAWNNAAAAAAABwgkAAAAAAAOfBQAAAAAAAoHxAAAAAAADge0AAAAAAAG60QAAAAAAA4LFAAAAAAACYu0AAAAAAADCcQAAAAAAAGJFAAAAAAAB0kEAAAAAAALiUQAAAAAAAQJZAAAAAAACnwEAAAAAAAPCEQAAAAAAAdrJAAAAAAADBsUAAAAAAAOCQQAAAAACAlM9AAAAAAADYgEAAAAAAAECMQAAAAAAA1bNAAAAAAADbskAAAAAAAFCsQAAAAAAA+qhAAAAAAADIokAAAAAAAPyqQAAAAAAA+KVAAAAAAABgZEAAAAAAAOm9QAAAAAAAEq1AAAAAAABsmEAAAAAAAJ3AQAAAAACAat1AAAAAAABfskAAAAAAAEB8QAAAAAAAe7RAAAAAAACMu0AAAAAAAB+1QAAAAAAAtJhAAAAAAACYmUAAAAAAAAB9QAAAAAAAQHxAAAAAAAA5wEAAAAAAALiIQAAAAAAAh7BAAAAAAACwmEAAAAAAAHyuQAAAAAAAyJBAAAAAAAA4gEAAAAAAALiFQAAAAAAAJK9AAAAAAAC8lkAAAAAAAFy3QAAAAAAAQK5AAAAAAAA+rEAAAAAAAFiaQAAAAAAA1tRAAAAAAACSykAAAAAAgA3DQAAAAADAodlAAAAAAADSr0AAAAAAAMGyQAAAAAAAT7NAAAAAAAAwikAAAAAAAGjBQAAAAAAABJ9AAAAAAABgdUAAAAAAgFXRQAAAAAAAxrRAAAAAAACyskAAAAAAAPymQAAAAAAAIJ5AAAAAAAD3vkAAAAAAAEKgQAAAAAAAM7JAAAAAAABgjEAAAAAAAMCuQAAAAAAARb1AAAAAAID210AAAAAAwHzlQAAAAAAAjMJAAAAAAAAgt0AAAAAAAK+1QAAAAAAAfLpAAAAAAABojUAAAAAAAAPAQAAAAAAA37lAAAAAAAC2rEAAAAAAANiiQAAAAAAAkKtAAAAAAAA5tUAAAAAAAFKvQAAAAAAAUKZAAAAAAOAZ4UAAAAAAAMu7QAAAAAAAAKxAAAAAAABapEAAAAAAANPBQAAAAACAleFAAAAAAADqv0AAAAAAQIvSQAAAAAAAmIhAAAAAAACquEAAAAAAACitQAAAAAAAhqJAAAAAAAAzs0AAAAAAAIajQAAAAAAAZJpAAAAAAIAg50AAAAAAAAiPQAAAAAAAuIBAAAAAAAD3skAAAAAAAI+wQAAAAAAAQGtAAAAAAAAzsUAAAAAAAG6hQAAAAAAAf79AAAAAAACUuUAAAAAAgB3CQAAAAADA/NFAAAAAAACdskAAAAAAAAK4QAAAAAAAZLdAAAAAAAARtEAAAAAAANCuQAAAAAAAiJhAAAAAAACdu0AAAAAAAMHAQAAAAAAANbBAAAAAAABDskAAAAAAAE6xQAAAAAAAFqVAAAAAAADuo0AAAAAAAMqlQAAAAAAARq9AAAAAAIDP0kAAAAAAAPiRQAAAAAAApJVAAAAAAACsrEAAAAAAgEzHQAAAAAAA78RAAAAAAAC4oEAAAAAAAKB1QAAAAAAAWqJAAAAAAICy0UAAAAAAAEGwQAAAAAAAwKNAAAAAAAAkl0AAAAAAAGycQAAAAAAABJFAAAAAAACgjEAAAAAAAEySQAAAAACg2+ZAAAAAAMC93kAAAAAAAKixQAAAAAAALLNAAAAAAAB2p0AAAAAAAFe6QAAAAACAecdAAAAAAAAsn0AAAAAAAABjQAAAAAAAqbdAAAAAAAA4lkAAAAAAABSlQAAAAAAAQItAAAAAAACCxkAAAAAAgI7MQAAAAAAAMKBAAAAAAAAsrEAAAAAAAJiAQAAAAAAAjKBAAAAAAACFu0AAAAAAAHqjQAAAAAAAPJVAAAAAAAAgakAAAAAAAMSyQAAAAAAAxqpAAAAAAAAbukAAAAAAAGnDQAAAAAAAIHNAAAAAAAAF5UAAAAAAANCHQAAAAAAAortAAAAAAACypEAAAAAAANSrQAAAAAAAUH9AAAAAAABknkAAAAAAADqgQAAAAAAABrZAAAAAAABMm0AAAAAAADyYQAAAAAAAVq9AAAAAAABkkEAAAAAAAEicQAAAAAAApLVAAAAAAAD+p0AAAAAAADigQAAAAAAALLxAAAAAAACyoUAAAAAAANChQAAAAAAASIJAAAAAAACAfUAAAAAAAM20QAAAAAAAtJ1AAAAAAADZy0AAAAAAAOiTQAAAAAAAVbhAAAAAAABAnkAAAAAAgNvFQAAAAAAAoKhAAAAAAADot0AAAAAAAMqkQAAAAAAAGIhAAAAAAAB0mUAAAAAAABSUQAAAAAAAA7JAAAAAAADgn0AAAAAAANCQQAAAAAAAjJVAAAAAAAAghUAAAAAAAPiFQAAAAAAAZqpAAAAAAADsmEAAAAAAAECKQAAAAAAA+JpAAAAAAADooEAAAAAAAHfUQAAAAAAAD7FAAAAAAAD0qUAAAAAAAGybQAAAAAAAbrFAAAAAAAAwtkAAAAAAAHynQAAAAAAAuIRAAAAAAAAgpEAAAAAAgCbKQAAAAAAABqFAAAAAAAB4iEAAAAAAACSxQAAAAAAAOr1AAAAAAEBp3UAAAAAAACCbQAAAAAAAMJZAAAAAAABklkAAAAAAAAiMQAAAAAAAnqlAAAAAAADYkkAAAAAAAFCCQAAAAACAkshAAAAAAADUskAAAAAAAIB3QAAAAAAA0JVAAAAAAABMlEAAAAAAANi0QAAAAAAAeJxAAAAAAABAcEAAAAAAAOSXQAAAAAAAOqRAAAAAAAAwmkAAAAAAAFuzQAAAAAAAFqJAAAAAAIBYxUAAAAAAAPB0QAAAAAAAHJRAAAAAAAAQgUAAAAAAAK+8QAAAAAAAsb5AAAAAAACQqkAAAAAAgJHWQAAAAAAAtKtAAAAAAABbtkAAAAAAAFCxQAAAAACAhNFAAAAAAAAAuEAAAAAAACBoQAAAAAAAALRAAAAAAACQjEAAAAAAAOqtQAAAAAAAVqhAAAAAAABQp0AAAAAAADiQQAAAAAAAzKpAAAAAAABJtEAAAAAAAHyYQAAAAAAAfqxAAAAAAADwk0AAAAAAgC/AQAAAAAAAV7BAAAAAAABYs0AAAAAAAKG1QAAAAAAAaslAAAAAAAD4sEAAAAAAwODZQAAAAAAAmbhAAAAAAACOv0AAAAAAAA29QAAAAADA6d1AAAAAAADxyUAAAAAAAAG4QAAAAACA98RAAAAAAACAo0AAAAAAAHGzQAAAAAAA7rdAAAAAAIDExUAAAAAAgHPBQAAAAAAAiqFAAAAAAAAAkUAAAAAAgGXGQAAAAAAA9bRAAAAAAAAoikAAAAAAAOfAQAAAAAAAsqpAAAAAAABatUAAAAAAAOa1QAAAAAAA4rBAAAAAAAAQo0AAAAAAAFu6QAAAAAAAW8BAAAAAAADYhEAAAAAAwBrfQAAAAAAAOJVAAAAAAADyqEAAAAAA4IfjQAAAAADAZdNAAAAAAMBg00AAAAAAgBzDQAAAAADAptVAAAAAAIAJ3kAAAAAAgNzKQAAAAAAAT85AAAAAAACLvUAAAAAAgHnQQAAAAAAAltJAAAAAAIADykAAAAAAAEySQAAAAAAA6qdAAAAAAADomEAAAAAAAOakQAAAAAAAKKJAAAAAAABhsUAAAAAAoKvhQAAAAAAAmbNAAAAAAAAQtUAAAAAAAAiLQAAAAAAAIbFAAAAAAEAz1kAAAAAAADiJQAAAAAAAF7dAAAAAAACVzkAAAAAAAHyVQAAAAAAAJLdAAAAAAAA/tkAAAAAAAHG3QAAAAAAAZLxAAAAAAAC0rkAAAAAAgDfEQAAAAAAAM7BAAAAAAACEl0AAAAAAAJK5QAAAAAAAVKlAAAAAAAC+q0AAAAAAAOCiQAAAAAAA/K1AAAAAAABImEAAAAAAAHKzQAAAAACgPuxAAAAAAAAIrUAAAAAAADm1QAAAAAAA4IVAAAAAAIAqyUAAAAAAAFCOQAAAAAAA6KpAAAAAAACLz0AAAAAAAHCJQAAAAAAA8c9AAAAAAADX0EAAAAAAAHqhQAAAAAAAhKVAAAAAAAD+pUAAAAAAAEixQAAAAAAAK7JAAAAAAADEnEAAAAAAAOqgQAAAAAAAkr9AAAAAAIAuwEAAAAAAAJioQAAAAAAAYK9AAAAAAEA26UAAAAAAAIG2QAAAAAAAfqpAAAAAAADuskAAAAAAAJqlQAAAAAAAGbVAAAAAAACir0AAAAAAgK7UQAAAAAAAkttAAAAAAECN1kAAAAAAAJfdQAAAAAAACJhAAAAAAACInkAAAAAAAL3AQAAAAAAA/MVAAAAAAAB/xkAAAAAAAPu2QAAAAAAA5sFAAAAAAAAuyUAAAAAAgArEQAAAAACAN8RAAAAAAACcskAAAAAAgGrAQAAAAAAAGqpAAAAAAIAAwEAAAAAAADCXQAAAAAAA/JNAAAAAAECb20AAAAAAABCbQAAAAAAAXbZAAAAAAADSrEAAAAAAAK29QAAAAAAA/KZAAAAAAABMoUAAAAAAAJyYQAAAAAAA7MdAAAAAAADqpkAAAAAAACqhQAAAAAAAnJlAAAAAAAD2oUAAAAAAAOHGQAAAAAAANKlAAAAAAAD4rEAAAAAAAImyQAAAAACAqd1AAAAAAIBXzkAAAAAAAKquQAAAAACAbsNAAAAAAABUr0AAAAAAAGm1QAAAAAAAiJRAAAAAAACsp0AAAAAAAO+9QAAAAAAAqbJAAAAAAABcm0AAAAAAAJqyQAAAAAAAjKlAAAAAAACmpkAAAAAAAIibQAAAAAAA3q9AAAAAAADghUAAAAAAAIqgQAAAAAAAgLFAAAAAAAC4p0AAAAAAQMXbQAAAAAAA18pAAAAAAADAw0AAAAAAAFvBQAAAAAAAN9RAAAAAAACImUAAAAAAANjFQAAAAAAA7JBAAAAAAAAeqEAAAAAAAPiZQAAAAAAAdJ5AAAAAAAAAZUAAAAAAAACkQAAAAAAAsIpAAAAAAAA/uEAAAAAAABCMQAAAAACAuMVAAAAAAAD4kkAAAAAAAMu0QAAAAAAALLRAAAAAAIC/zUAAAAAAABB6QAAAAAAAAJFAAAAAAACIjUAAAAAAAPiNQAAAAAAAHLVAAAAAAAC0tkAAAAAAAJB1QAAAAACAp8RAAAAAAADmpkAAAAAAAHywQAAAAAAA4JtAAAAAAICkzkAAAAAAAHCsQAAAAACA/NFAAAAAAACGqUAAAAAAAOa7QAAAAAAAQc9AAAAAAAC8lkAAAAAAAHC6QAAAAACAs85AAAAAAACgmkAAAAAAAKKyQAAAAAAAqKFAAAAAAADco0AAAAAAABKtQAAAAAAAMc9AAAAAAACsr0AAAAAAABiSQAAAAAAAbJRAAAAAAADUlEAAAAAAAEiwQAAAAAAA/tVAAAAAAADIpEAAAAAAAPyTQAAAAAAAtJJAAAAAAABEn0AAAAAAAEijQAAAAAAADr1AAAAAAAC4pEAAAAAAAPqpQAAAAADAn95AAAAAAEBH1EAAAAAAAHqvQAAAAAAA0KhAAAAAAACEnUAAAAAAAGy0QAAAAAAAncVAAAAAAACQe0AAAAAAAKCZQAAAAAAA+JdAAAAAAACIrUAAAAAAAJq0QAAAAAAAz7VAAAAAAIBNxUAAAAAAABqjQAAAAAAAPqJAAAAAAABgxEAAAAAAAECOQAAAAAAAhJ1AAAAAAADAi0AAAAAAAACfQAAAAAAA0IpAAAAAAACcxUAAAAAAAKC5QAAAAAAAiJZAAAAAAIB3xUAAAAAAACSWQAAAAAAAIJ1AAAAAAADQgkAAAAAAAJCCQAAAAAAASI9AAAAAAABQeUAAAAAAANCjQAAAAAAAiLxAAAAAAAD4m0AAAAAAAHyXQAAAAAAA/qJAAAAAAAA6uUAAAAAAALagQAAAAAAAAEJAAAAAAADgc0AAAAAAALSlQAAAAAAAP8hAAAAAAMDD1EAAAAAAAMSkQAAAAAAAd7ZAAAAAAICZwkAAAAAAAJqmQAAAAAAAbqRAAAAAAACgjUAAAAAAAKCmQAAAAAAArb9AAAAAAABApkAAAAAAAMB4QAAAAAAArLdAAAAAAACgsUAAAAAAAICkQAAAAAAAAJxAAAAAAADEwkAAAAAAABDCQAAAAAAAKKVAAAAAAAALv0AAAAAAAJ6gQAAAAAAAnKdAAAAAAADohEAAAAAAAHHSQAAAAAAAnJBAAAAAAACQgkAAAAAAAJScQAAAAAAALqBAAAAAAACcnUAAAAAAAMK2QAAAAAAgdeVAAAAAAACJukAAAAAAAPW1QAAAAAAAdJxAAAAAAADmqEAAAAAAAM6tQAAAAAAANrRAAAAAAAAer0AAAAAAABiaQAAAAAAATbVAAAAAAABAk0AAAAAAAAKsQAAAAAAAGJVAAAAAAADImUAAAAAAgEvCQAAAAAAAZqFAAAAAAACAkUAAAAAAALilQAAAAAAAab5AAAAAAABAl0AAAAAAAKu1QAAAAAAAbrpAAAAAAACirUAAAAAAgJbIQAAAAAAAUKlAAAAAAABArUAAAAAAACSbQAAAAAAAnJ9AAAAAAACUn0AAAAAAAPSmQAAAAAAAKKZAAAAAAABPtUAAAAAAAJqgQAAAAAAAkJlAAAAAAAAomEAAAAAAACC0QAAAAAAAiqpAAAAAAADaqkAAAAAAANB9QAAAAAAAoGxAAAAAAACAfUAAAAAAAJCGQAAAAAAAaIxAAAAAAABEtkAAAAAAAPCEQAAAAAAAFKRAAAAAAADQpUAAAAAAAPyTQAAAAAAAcHtAAAAAAAAQg0AAAAAAAGySQAAAAAAAOOdAAAAAAADYhUAAAAAAANiJQAAAAAAAKqlAAAAAAACohUAAAAAAAMSUQAAAAACAjN5AAAAAAAAUtUAAAAAAABCDQAAAAAAAYI1AAAAAAAC4k0AAAAAAAIiYQAAAAADASdhAAAAAAABKqUAAAAAAADm2QAAAAAAAsI9AAAAAAAA8mkAAAAAAAJe+QAAAAAAAzJ9AAAAAAIC/wUAAAAAAANyiQAAAAAAAPbdAAAAAAABjtUAAAAAAACKpQAAAAAAA17lAAAAAAEBf0kAAAAAAAK6jQAAAAAAA1q5AAAAAAAAwfEAAAAAAADvNQAAAAAAACLxAAAAAAAConkAAAAAAADjKQAAAAAAAZKpAAAAAAABVtUAAAAAAAGynQAAAAAAAIHxAAAAAAABnw0AAAAAAwD3cQAAAAAAAfbdAAAAAAAAmyEAAAAAAAN7CQAAAAAAAjLFAAAAAAABc00AAAAAAgJ7BQAAAAAAAzrNAAAAAAAAcoUAAAAAAAHCsQAAAAAAA0IVAAAAAAIB6xkAAAAAAAPqjQAAAAAAAArFAAAAAAAAR0kAAAAAAAOSTQAAAAAAA4HJAAAAAAACQfEAAAAAAAHSYQAAAAAAAcIdAAAAAAADerkAAAAAAAEG3QAAAAAAAKqpAAAAAAADwokAAAAAAALiLQAAAAAAA2JtAAAAAAADImUAAAAAAAHikQAAAAAAArJVAAAAAAEDh1kAAAAAAgHjFQAAAAAAAk7FAAAAAAAD0p0AAAAAAAEylQAAAAAAAvbBAAAAAAAA8pUAAAAAAAOyRQAAAAAAA6I1AAAAAAABoiEAAAAAAAMiEQAAAAAAAIHlAAAAAAAAUkkAAAAAAABB5QAAAAAAA87JAAAAAAACklUAAAAAAACysQAAAAAAAwF1AAAAAAAAIqkAAAAAAAPezQAAAAAAA2qRAAAAAAAD8kUAAAAAAAJiuQAAAAAAAXJ5AAAAAAADYiEAAAAAAABarQAAAAAAAcbJAAAAAAAAMqkAAAAAAAEiQQAAAAAAAKI1AAAAAAADtsUAAAAAAAGiTQAAAAAAAZJpAAAAAAAB4jkAAAAAAACihQAAAAAAAZrdAAAAAAIA6w0AAAAAAACCDQAAAAAAAxqtAAAAAAACqqUAAAAAAABKiQAAAAAAAuIhAAAAAAADMvUAAAAAAAB7MQAAAAAAAcKxAAAAAAABts0AAAAAAABCNQAAAAAAAEqZAAAAAAAAwnkAAAAAAwF7eQAAAAAAA5sNAAAAAAABOpEAAAAAAAIqoQAAAAABAkNxAAAAAAABAmkAAAAAAALO7QAAAAAAAjqRAAAAAAAAgk0AAAAAAACiGQAAAAAAA8IlAAAAAAACMsEAAAAAAAFagQAAAAAAA8LZAAAAAAAAwqEAAAAAAAHCoQAAAAADA/9BAAAAAAADEmEAAAAAAAMibQAAAAAAA0K9AAAAAAAC0skAAAAAAALCyQAAAAAAASJxAAAAAAAB4iEAAAAAAAKS1QAAAAAAA0JVAAAAAAACep0AAAAAAwN7RQAAAAAAAmq1AAAAAAIAwwkAAAAAAAMCDQAAAAACA/cRAAAAAAIAbzkAAAAAAANysQAAAAAAAcIhAAAAAAIAxwkAAAAAAAPCLQAAAAAAAG7RAAAAAAACYx0AAAAAAABKgQAAAAAAAtKtAAAAAAIA7xkAAAAAAwH7SQAAAAAAAuJRAAAAAAACYmUAAAAAAAE+4QAAAAAAAWLlAAAAAAMCm3kAAAAAAgNvEQAAAAAAgouJAAAAAAAAXwUAAAAAAAGC4QAAAAAAAcKBAAAAAAMAd0kAAAAAAABibQAAAAAAAeI9AAAAAAIDDzUAAAAAAAAnDQAAAAACAuNJAAAAAAAAQqkAAAAAAAE+xQAAAAAAAmbFAAAAAAAAogkAAAAAAABiyQAAAAACAT8ZAAAAAAADQpEAAAAAAAD/AQAAAAAAArsFAAAAAAAAtxkAAAAAAADqjQAAAAAAAqJFAAAAAAADgaEAAAAAAAJahQAAAAAAAt7NAAAAAAAAAEEAAAAAAACiIQAAAAAAAAItAAAAAAAAolUAAAAAAAABtQAAAAACAR8FAAAAAAAASqEAAAAAAAE+xQAAAAAAA4GZAAAAAAAAAdUAAAAAAAIBIQAAAAAAAwIFAAAAAAEDb1UAAAAAAAGiiQAAAAAAASJBAAAAAAAAZtUAAAAAAAG/LQAAAAAAAWJNAAAAAAABou0AAAAAAAPyZQAAAAAAAxJBAAAAAAACQqUAAAAAAQFHUQAAAAAAAfqRAAAAAAID0zUAAAAAAAMCJQAAAAAAAHtZAAAAAAMB250AAAAAAAK6vQAAAAAAAP7ZAAAAAAAAiqEAAAAAAAJCxQAAAAAAARKBAAAAAAABaqkAAAAAAgOzDQAAAAAAAXr5AAAAAAABqp0AAAAAAAICQQAAAAACAMMNAAAAAAABHsEAAAAAAAKScQAAAAAAA2IdAAAAAAABIjEAAAAAAAGCOQAAAAAAAQGxAAAAAAACq0kAAAAAAAKbLQAAAAAAATtxAAAAAAABwn0AAAAAAAGG2QAAAAAAA0rBAAAAAAACYrUAAAAAAAE64QAAAAAAAm7FAAAAAAABUtEAAAAAAALyYQAAAAAAAT7tAAAAAAACgcUAAAAAAABB9QAAAAAAA5qpAAAAAAADssUAAAAAAAGiEQAAAAAAALbRAAAAAAAD4u0AAAAAAAGyQQAAAAACAE81AAAAAAMB93UAAAAAAAJvCQAAAAAAANKRAAAAAAACYr0AAAAAAAByzQAAAAAAAIJtAAAAAAACUkUAAAAAAAICUQAAAAAAAFKVAAAAAAADwj0AAAAAAAN6lQAAAAAAAuJJAAAAAAABkpkAAAAAAAECMQAAAAAAAnJ9AAAAAAAA0oUAAAAAAAP6gQAAAAAAAJJBAAAAAAACIm0AAAAAAQCLQQAAAAAAAqJNAAAAAAAAwgkAAAAAAAJqhQAAAAAAACIJAAAAAAABopkAAAAAAAAa8QAAAAAAAnKNAAAAAAABElEAAAAAAAKiLQAAAAAAALKVAAAAAAAAQekAAAAAAAOiPQAAAAAAA4tZAAAAAAADuoEAAAAAAAOB9QAAAAAAAiJBAAAAAAACglEAAAAAAAFCgQAAAAAAAQGVAAAAAAAC8mkAAAAAAAEi2QAAAAAAA0rlAAAAAAACwo0AAAAAAAEa7QAAAAAAAMItAAAAAAAD9s0AAAAAAAKCdQAAAAAAAnKhAAAAAAABojUAAAAAAAMfWQAAAAAAAeMFAAAAAAACOqkAAAAAAAFSkQAAAAAAAULFAAAAAAABVsEAAAAAAgPXiQAAAAADAWt5AAAAAAACgaUAAAAAAAABFQAAAAAAAAEFAAAAAAACAlUAAAAAAAPDDQAAAAAAAoGtAAAAAAACAT0AAAAAAADajQAAAAAAAuJJAAAAAAABgYUAAAAAAAMBQQAAAAAAAYHpAAAAAAACJyEAAAAAAAKWzQAAAAAAAgEBAAAAAAAAaxUAAAAAAAEyaQAAAAAAAOJ9AAAAAAAAgaUAAAAAAAACVQAAAAAAAMLtAAAAAAAC/sUAAAAAAACyZQAAAAAAA9qhAAAAAAACQeEAAAAAAALKnQAAAAAAAgF5A",
          "dtype": "f8"
         },
         "xaxis": "x",
         "y": {
          "bdata": "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",
          "dtype": "f8"
         },
         "yaxis": "y"
        }
       ],
       "layout": {
        "legend": {
         "tracegroupgap": 0
        },
        "margin": {
         "t": 60
        },
        "template": {
         "data": {
          "bar": [
           {
            "error_x": {
             "color": "#2a3f5f"
            },
            "error_y": {
             "color": "#2a3f5f"
            },
            "marker": {
             "line": {
              "color": "#E5ECF6",
              "width": 0.5
             },
             "pattern": {
              "fillmode": "overlay",
              "size": 10,
              "solidity": 0.2
             }
            },
            "type": "bar"
           }
          ],
          "barpolar": [
           {
            "marker": {
             "line": {
              "color": "#E5ECF6",
              "width": 0.5
             },
             "pattern": {
              "fillmode": "overlay",
              "size": 10,
              "solidity": 0.2
             }
            },
            "type": "barpolar"
           }
          ],
          "carpet": [
           {
            "aaxis": {
             "endlinecolor": "#2a3f5f",
             "gridcolor": "white",
             "linecolor": "white",
             "minorgridcolor": "white",
             "startlinecolor": "#2a3f5f"
            },
            "baxis": {
             "endlinecolor": "#2a3f5f",
             "gridcolor": "white",
             "linecolor": "white",
             "minorgridcolor": "white",
             "startlinecolor": "#2a3f5f"
            },
            "type": "carpet"
           }
          ],
          "choropleth": [
           {
            "colorbar": {
             "outlinewidth": 0,
             "ticks": ""
            },
            "type": "choropleth"
           }
          ],
          "contour": [
           {
            "colorbar": {
             "outlinewidth": 0,
             "ticks": ""
            },
            "colorscale": [
             [
              0,
              "#0d0887"
             ],
             [
              0.1111111111111111,
              "#46039f"
             ],
             [
              0.2222222222222222,
              "#7201a8"
             ],
             [
              0.3333333333333333,
              "#9c179e"
             ],
             [
              0.4444444444444444,
              "#bd3786"
             ],
             [
              0.5555555555555556,
              "#d8576b"
             ],
             [
              0.6666666666666666,
              "#ed7953"
             ],
             [
              0.7777777777777778,
              "#fb9f3a"
             ],
             [
              0.8888888888888888,
              "#fdca26"
             ],
             [
              1,
              "#f0f921"
             ]
            ],
            "type": "contour"
           }
          ],
          "contourcarpet": [
           {
            "colorbar": {
             "outlinewidth": 0,
             "ticks": ""
            },
            "type": "contourcarpet"
           }
          ],
          "heatmap": [
           {
            "colorbar": {
             "outlinewidth": 0,
             "ticks": ""
            },
            "colorscale": [
             [
              0,
              "#0d0887"
             ],
             [
              0.1111111111111111,
              "#46039f"
             ],
             [
              0.2222222222222222,
              "#7201a8"
             ],
             [
              0.3333333333333333,
              "#9c179e"
             ],
             [
              0.4444444444444444,
              "#bd3786"
             ],
             [
              0.5555555555555556,
              "#d8576b"
             ],
             [
              0.6666666666666666,
              "#ed7953"
             ],
             [
              0.7777777777777778,
              "#fb9f3a"
             ],
             [
              0.8888888888888888,
              "#fdca26"
             ],
             [
              1,
              "#f0f921"
             ]
            ],
            "type": "heatmap"
           }
          ],
          "histogram": [
           {
            "marker": {
             "pattern": {
              "fillmode": "overlay",
              "size": 10,
              "solidity": 0.2
             }
            },
            "type": "histogram"
           }
          ],
          "histogram2d": [
           {
            "colorbar": {
             "outlinewidth": 0,
             "ticks": ""
            },
            "colorscale": [
             [
              0,
              "#0d0887"
             ],
             [
              0.1111111111111111,
              "#46039f"
             ],
             [
              0.2222222222222222,
              "#7201a8"
             ],
             [
              0.3333333333333333,
              "#9c179e"
             ],
             [
              0.4444444444444444,
              "#bd3786"
             ],
             [
              0.5555555555555556,
              "#d8576b"
             ],
             [
              0.6666666666666666,
              "#ed7953"
             ],
             [
              0.7777777777777778,
              "#fb9f3a"
             ],
             [
              0.8888888888888888,
              "#fdca26"
             ],
             [
              1,
              "#f0f921"
             ]
            ],
            "type": "histogram2d"
           }
          ],
          "histogram2dcontour": [
           {
            "colorbar": {
             "outlinewidth": 0,
             "ticks": ""
            },
            "colorscale": [
             [
              0,
              "#0d0887"
             ],
             [
              0.1111111111111111,
              "#46039f"
             ],
             [
              0.2222222222222222,
              "#7201a8"
             ],
             [
              0.3333333333333333,
              "#9c179e"
             ],
             [
              0.4444444444444444,
              "#bd3786"
             ],
             [
              0.5555555555555556,
              "#d8576b"
             ],
             [
              0.6666666666666666,
              "#ed7953"
             ],
             [
              0.7777777777777778,
              "#fb9f3a"
             ],
             [
              0.8888888888888888,
              "#fdca26"
             ],
             [
              1,
              "#f0f921"
             ]
            ],
            "type": "histogram2dcontour"
           }
          ],
          "mesh3d": [
           {
            "colorbar": {
             "outlinewidth": 0,
             "ticks": ""
            },
            "type": "mesh3d"
           }
          ],
          "parcoords": [
           {
            "line": {
             "colorbar": {
              "outlinewidth": 0,
              "ticks": ""
             }
            },
            "type": "parcoords"
           }
          ],
          "pie": [
           {
            "automargin": true,
            "type": "pie"
           }
          ],
          "scatter": [
           {
            "fillpattern": {
             "fillmode": "overlay",
             "size": 10,
             "solidity": 0.2
            },
            "type": "scatter"
           }
          ],
          "scatter3d": [
           {
            "line": {
             "colorbar": {
              "outlinewidth": 0,
              "ticks": ""
             }
            },
            "marker": {
             "colorbar": {
              "outlinewidth": 0,
              "ticks": ""
             }
            },
            "type": "scatter3d"
           }
          ],
          "scattercarpet": [
           {
            "marker": {
             "colorbar": {
              "outlinewidth": 0,
              "ticks": ""
             }
            },
            "type": "scattercarpet"
           }
          ],
          "scattergeo": [
           {
            "marker": {
             "colorbar": {
              "outlinewidth": 0,
              "ticks": ""
             }
            },
            "type": "scattergeo"
           }
          ],
          "scattergl": [
           {
            "marker": {
             "colorbar": {
              "outlinewidth": 0,
              "ticks": ""
             }
            },
            "type": "scattergl"
           }
          ],
          "scattermap": [
           {
            "marker": {
             "colorbar": {
              "outlinewidth": 0,
              "ticks": ""
             }
            },
            "type": "scattermap"
           }
          ],
          "scattermapbox": [
           {
            "marker": {
             "colorbar": {
              "outlinewidth": 0,
              "ticks": ""
             }
            },
            "type": "scattermapbox"
           }
          ],
          "scatterpolar": [
           {
            "marker": {
             "colorbar": {
              "outlinewidth": 0,
              "ticks": ""
             }
            },
            "type": "scatterpolar"
           }
          ],
          "scatterpolargl": [
           {
            "marker": {
             "colorbar": {
              "outlinewidth": 0,
              "ticks": ""
             }
            },
            "type": "scatterpolargl"
           }
          ],
          "scatterternary": [
           {
            "marker": {
             "colorbar": {
              "outlinewidth": 0,
              "ticks": ""
             }
            },
            "type": "scatterternary"
           }
          ],
          "surface": [
           {
            "colorbar": {
             "outlinewidth": 0,
             "ticks": ""
            },
            "colorscale": [
             [
              0,
              "#0d0887"
             ],
             [
              0.1111111111111111,
              "#46039f"
             ],
             [
              0.2222222222222222,
              "#7201a8"
             ],
             [
              0.3333333333333333,
              "#9c179e"
             ],
             [
              0.4444444444444444,
              "#bd3786"
             ],
             [
              0.5555555555555556,
              "#d8576b"
             ],
             [
              0.6666666666666666,
              "#ed7953"
             ],
             [
              0.7777777777777778,
              "#fb9f3a"
             ],
             [
              0.8888888888888888,
              "#fdca26"
             ],
             [
              1,
              "#f0f921"
             ]
            ],
            "type": "surface"
           }
          ],
          "table": [
           {
            "cells": {
             "fill": {
              "color": "#EBF0F8"
             },
             "line": {
              "color": "white"
             }
            },
            "header": {
             "fill": {
              "color": "#C8D4E3"
             },
             "line": {
              "color": "white"
             }
            },
            "type": "table"
           }
          ]
         },
         "layout": {
          "annotationdefaults": {
           "arrowcolor": "#2a3f5f",
           "arrowhead": 0,
           "arrowwidth": 1
          },
          "autotypenumbers": "strict",
          "coloraxis": {
           "colorbar": {
            "outlinewidth": 0,
            "ticks": ""
           }
          },
          "colorscale": {
           "diverging": [
            [
             0,
             "#8e0152"
            ],
            [
             0.1,
             "#c51b7d"
            ],
            [
             0.2,
             "#de77ae"
            ],
            [
             0.3,
             "#f1b6da"
            ],
            [
             0.4,
             "#fde0ef"
            ],
            [
             0.5,
             "#f7f7f7"
            ],
            [
             0.6,
             "#e6f5d0"
            ],
            [
             0.7,
             "#b8e186"
            ],
            [
             0.8,
             "#7fbc41"
            ],
            [
             0.9,
             "#4d9221"
            ],
            [
             1,
             "#276419"
            ]
           ],
           "sequential": [
            [
             0,
             "#0d0887"
            ],
            [
             0.1111111111111111,
             "#46039f"
            ],
            [
             0.2222222222222222,
             "#7201a8"
            ],
            [
             0.3333333333333333,
             "#9c179e"
            ],
            [
             0.4444444444444444,
             "#bd3786"
            ],
            [
             0.5555555555555556,
             "#d8576b"
            ],
            [
             0.6666666666666666,
             "#ed7953"
            ],
            [
             0.7777777777777778,
             "#fb9f3a"
            ],
            [
             0.8888888888888888,
             "#fdca26"
            ],
            [
             1,
             "#f0f921"
            ]
           ],
           "sequentialminus": [
            [
             0,
             "#0d0887"
            ],
            [
             0.1111111111111111,
             "#46039f"
            ],
            [
             0.2222222222222222,
             "#7201a8"
            ],
            [
             0.3333333333333333,
             "#9c179e"
            ],
            [
             0.4444444444444444,
             "#bd3786"
            ],
            [
             0.5555555555555556,
             "#d8576b"
            ],
            [
             0.6666666666666666,
             "#ed7953"
            ],
            [
             0.7777777777777778,
             "#fb9f3a"
            ],
            [
             0.8888888888888888,
             "#fdca26"
            ],
            [
             1,
             "#f0f921"
            ]
           ]
          },
          "colorway": [
           "#636efa",
           "#EF553B",
           "#00cc96",
           "#ab63fa",
           "#FFA15A",
           "#19d3f3",
           "#FF6692",
           "#B6E880",
           "#FF97FF",
           "#FECB52"
          ],
          "font": {
           "color": "#2a3f5f"
          },
          "geo": {
           "bgcolor": "white",
           "lakecolor": "white",
           "landcolor": "#E5ECF6",
           "showlakes": true,
           "showland": true,
           "subunitcolor": "white"
          },
          "hoverlabel": {
           "align": "left"
          },
          "hovermode": "closest",
          "mapbox": {
           "style": "light"
          },
          "paper_bgcolor": "white",
          "plot_bgcolor": "#E5ECF6",
          "polar": {
           "angularaxis": {
            "gridcolor": "white",
            "linecolor": "white",
            "ticks": ""
           },
           "bgcolor": "#E5ECF6",
           "radialaxis": {
            "gridcolor": "white",
            "linecolor": "white",
            "ticks": ""
           }
          },
          "scene": {
           "xaxis": {
            "backgroundcolor": "#E5ECF6",
            "gridcolor": "white",
            "gridwidth": 2,
            "linecolor": "white",
            "showbackground": true,
            "ticks": "",
            "zerolinecolor": "white"
           },
           "yaxis": {
            "backgroundcolor": "#E5ECF6",
            "gridcolor": "white",
            "gridwidth": 2,
            "linecolor": "white",
            "showbackground": true,
            "ticks": "",
            "zerolinecolor": "white"
           },
           "zaxis": {
            "backgroundcolor": "#E5ECF6",
            "gridcolor": "white",
            "gridwidth": 2,
            "linecolor": "white",
            "showbackground": true,
            "ticks": "",
            "zerolinecolor": "white"
           }
          },
          "shapedefaults": {
           "line": {
            "color": "#2a3f5f"
           }
          },
          "ternary": {
           "aaxis": {
            "gridcolor": "white",
            "linecolor": "white",
            "ticks": ""
           },
           "baxis": {
            "gridcolor": "white",
            "linecolor": "white",
            "ticks": ""
           },
           "bgcolor": "#E5ECF6",
           "caxis": {
            "gridcolor": "white",
            "linecolor": "white",
            "ticks": ""
           }
          },
          "title": {
           "x": 0.05
          },
          "xaxis": {
           "automargin": true,
           "gridcolor": "white",
           "linecolor": "white",
           "ticks": "",
           "title": {
            "standoff": 15
           },
           "zerolinecolor": "white",
           "zerolinewidth": 2
          },
          "yaxis": {
           "automargin": true,
           "gridcolor": "white",
           "linecolor": "white",
           "ticks": "",
           "title": {
            "standoff": 15
           },
           "zerolinecolor": "white",
           "zerolinewidth": 2
          }
         }
        },
        "xaxis": {
         "anchor": "y",
         "domain": [
          0,
          1
         ],
         "title": {
          "text": "Applicants total"
         }
        },
        "yaxis": {
         "anchor": "x",
         "domain": [
          0,
          1
         ],
         "title": {
          "text": "Enrolled total"
         }
        }
       }
      }
     },
     "metadata": {},
     "output_type": "display_data"
    }
   ],
   "source": [
    "fig = px.scatter(df, x=\"Applicants total\", y=\"Enrolled total\")\n",
    "fig.show()"
   ]
  },
  {
   "cell_type": "markdown",
   "metadata": {},
   "source": [
    "Conclusion: there is a positive correlation between number of applications and number of enrolled students"
   ]
  },
  {
   "cell_type": "markdown",
   "metadata": {},
   "source": [
    "### 2-Do students prefer universities that have a high rate of admission?, in other words, do students prefer a university where it is easier for them to be admitted?\n"
   ]
  },
  {
   "cell_type": "code",
   "execution_count": 14,
   "metadata": {},
   "outputs": [
    {
     "data": {
      "application/vnd.plotly.v1+json": {
       "config": {
        "plotlyServerURL": "https://plot.ly"
       },
       "data": [
        {
         "hovertemplate": "Percent admitted - total=%{x}<br>Admissions yield - total=%{y}<extra></extra>",
         "legendgroup": "",
         "marker": {
          "color": "#636efa",
          "symbol": "circle"
         },
         "mode": "markers",
         "name": "",
         "showlegend": false,
         "type": "scattergl",
         "x": {
          "bdata": "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",
          "dtype": "f8"
         },
         "xaxis": "x",
         "y": {
          "bdata": "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",
          "dtype": "f8"
         },
         "yaxis": "y"
        }
       ],
       "layout": {
        "legend": {
         "tracegroupgap": 0
        },
        "margin": {
         "t": 60
        },
        "template": {
         "data": {
          "bar": [
           {
            "error_x": {
             "color": "#2a3f5f"
            },
            "error_y": {
             "color": "#2a3f5f"
            },
            "marker": {
             "line": {
              "color": "#E5ECF6",
              "width": 0.5
             },
             "pattern": {
              "fillmode": "overlay",
              "size": 10,
              "solidity": 0.2
             }
            },
            "type": "bar"
           }
          ],
          "barpolar": [
           {
            "marker": {
             "line": {
              "color": "#E5ECF6",
              "width": 0.5
             },
             "pattern": {
              "fillmode": "overlay",
              "size": 10,
              "solidity": 0.2
             }
            },
            "type": "barpolar"
           }
          ],
          "carpet": [
           {
            "aaxis": {
             "endlinecolor": "#2a3f5f",
             "gridcolor": "white",
             "linecolor": "white",
             "minorgridcolor": "white",
             "startlinecolor": "#2a3f5f"
            },
            "baxis": {
             "endlinecolor": "#2a3f5f",
             "gridcolor": "white",
             "linecolor": "white",
             "minorgridcolor": "white",
             "startlinecolor": "#2a3f5f"
            },
            "type": "carpet"
           }
          ],
          "choropleth": [
           {
            "colorbar": {
             "outlinewidth": 0,
             "ticks": ""
            },
            "type": "choropleth"
           }
          ],
          "contour": [
           {
            "colorbar": {
             "outlinewidth": 0,
             "ticks": ""
            },
            "colorscale": [
             [
              0,
              "#0d0887"
             ],
             [
              0.1111111111111111,
              "#46039f"
             ],
             [
              0.2222222222222222,
              "#7201a8"
             ],
             [
              0.3333333333333333,
              "#9c179e"
             ],
             [
              0.4444444444444444,
              "#bd3786"
             ],
             [
              0.5555555555555556,
              "#d8576b"
             ],
             [
              0.6666666666666666,
              "#ed7953"
             ],
             [
              0.7777777777777778,
              "#fb9f3a"
             ],
             [
              0.8888888888888888,
              "#fdca26"
             ],
             [
              1,
              "#f0f921"
             ]
            ],
            "type": "contour"
           }
          ],
          "contourcarpet": [
           {
            "colorbar": {
             "outlinewidth": 0,
             "ticks": ""
            },
            "type": "contourcarpet"
           }
          ],
          "heatmap": [
           {
            "colorbar": {
             "outlinewidth": 0,
             "ticks": ""
            },
            "colorscale": [
             [
              0,
              "#0d0887"
             ],
             [
              0.1111111111111111,
              "#46039f"
             ],
             [
              0.2222222222222222,
              "#7201a8"
             ],
             [
              0.3333333333333333,
              "#9c179e"
             ],
             [
              0.4444444444444444,
              "#bd3786"
             ],
             [
              0.5555555555555556,
              "#d8576b"
             ],
             [
              0.6666666666666666,
              "#ed7953"
             ],
             [
              0.7777777777777778,
              "#fb9f3a"
             ],
             [
              0.8888888888888888,
              "#fdca26"
             ],
             [
              1,
              "#f0f921"
             ]
            ],
            "type": "heatmap"
           }
          ],
          "histogram": [
           {
            "marker": {
             "pattern": {
              "fillmode": "overlay",
              "size": 10,
              "solidity": 0.2
             }
            },
            "type": "histogram"
           }
          ],
          "histogram2d": [
           {
            "colorbar": {
             "outlinewidth": 0,
             "ticks": ""
            },
            "colorscale": [
             [
              0,
              "#0d0887"
             ],
             [
              0.1111111111111111,
              "#46039f"
             ],
             [
              0.2222222222222222,
              "#7201a8"
             ],
             [
              0.3333333333333333,
              "#9c179e"
             ],
             [
              0.4444444444444444,
              "#bd3786"
             ],
             [
              0.5555555555555556,
              "#d8576b"
             ],
             [
              0.6666666666666666,
              "#ed7953"
             ],
             [
              0.7777777777777778,
              "#fb9f3a"
             ],
             [
              0.8888888888888888,
              "#fdca26"
             ],
             [
              1,
              "#f0f921"
             ]
            ],
            "type": "histogram2d"
           }
          ],
          "histogram2dcontour": [
           {
            "colorbar": {
             "outlinewidth": 0,
             "ticks": ""
            },
            "colorscale": [
             [
              0,
              "#0d0887"
             ],
             [
              0.1111111111111111,
              "#46039f"
             ],
             [
              0.2222222222222222,
              "#7201a8"
             ],
             [
              0.3333333333333333,
              "#9c179e"
             ],
             [
              0.4444444444444444,
              "#bd3786"
             ],
             [
              0.5555555555555556,
              "#d8576b"
             ],
             [
              0.6666666666666666,
              "#ed7953"
             ],
             [
              0.7777777777777778,
              "#fb9f3a"
             ],
             [
              0.8888888888888888,
              "#fdca26"
             ],
             [
              1,
              "#f0f921"
             ]
            ],
            "type": "histogram2dcontour"
           }
          ],
          "mesh3d": [
           {
            "colorbar": {
             "outlinewidth": 0,
             "ticks": ""
            },
            "type": "mesh3d"
           }
          ],
          "parcoords": [
           {
            "line": {
             "colorbar": {
              "outlinewidth": 0,
              "ticks": ""
             }
            },
            "type": "parcoords"
           }
          ],
          "pie": [
           {
            "automargin": true,
            "type": "pie"
           }
          ],
          "scatter": [
           {
            "fillpattern": {
             "fillmode": "overlay",
             "size": 10,
             "solidity": 0.2
            },
            "type": "scatter"
           }
          ],
          "scatter3d": [
           {
            "line": {
             "colorbar": {
              "outlinewidth": 0,
              "ticks": ""
             }
            },
            "marker": {
             "colorbar": {
              "outlinewidth": 0,
              "ticks": ""
             }
            },
            "type": "scatter3d"
           }
          ],
          "scattercarpet": [
           {
            "marker": {
             "colorbar": {
              "outlinewidth": 0,
              "ticks": ""
             }
            },
            "type": "scattercarpet"
           }
          ],
          "scattergeo": [
           {
            "marker": {
             "colorbar": {
              "outlinewidth": 0,
              "ticks": ""
             }
            },
            "type": "scattergeo"
           }
          ],
          "scattergl": [
           {
            "marker": {
             "colorbar": {
              "outlinewidth": 0,
              "ticks": ""
             }
            },
            "type": "scattergl"
           }
          ],
          "scattermap": [
           {
            "marker": {
             "colorbar": {
              "outlinewidth": 0,
              "ticks": ""
             }
            },
            "type": "scattermap"
           }
          ],
          "scattermapbox": [
           {
            "marker": {
             "colorbar": {
              "outlinewidth": 0,
              "ticks": ""
             }
            },
            "type": "scattermapbox"
           }
          ],
          "scatterpolar": [
           {
            "marker": {
             "colorbar": {
              "outlinewidth": 0,
              "ticks": ""
             }
            },
            "type": "scatterpolar"
           }
          ],
          "scatterpolargl": [
           {
            "marker": {
             "colorbar": {
              "outlinewidth": 0,
              "ticks": ""
             }
            },
            "type": "scatterpolargl"
           }
          ],
          "scatterternary": [
           {
            "marker": {
             "colorbar": {
              "outlinewidth": 0,
              "ticks": ""
             }
            },
            "type": "scatterternary"
           }
          ],
          "surface": [
           {
            "colorbar": {
             "outlinewidth": 0,
             "ticks": ""
            },
            "colorscale": [
             [
              0,
              "#0d0887"
             ],
             [
              0.1111111111111111,
              "#46039f"
             ],
             [
              0.2222222222222222,
              "#7201a8"
             ],
             [
              0.3333333333333333,
              "#9c179e"
             ],
             [
              0.4444444444444444,
              "#bd3786"
             ],
             [
              0.5555555555555556,
              "#d8576b"
             ],
             [
              0.6666666666666666,
              "#ed7953"
             ],
             [
              0.7777777777777778,
              "#fb9f3a"
             ],
             [
              0.8888888888888888,
              "#fdca26"
             ],
             [
              1,
              "#f0f921"
             ]
            ],
            "type": "surface"
           }
          ],
          "table": [
           {
            "cells": {
             "fill": {
              "color": "#EBF0F8"
             },
             "line": {
              "color": "white"
             }
            },
            "header": {
             "fill": {
              "color": "#C8D4E3"
             },
             "line": {
              "color": "white"
             }
            },
            "type": "table"
           }
          ]
         },
         "layout": {
          "annotationdefaults": {
           "arrowcolor": "#2a3f5f",
           "arrowhead": 0,
           "arrowwidth": 1
          },
          "autotypenumbers": "strict",
          "coloraxis": {
           "colorbar": {
            "outlinewidth": 0,
            "ticks": ""
           }
          },
          "colorscale": {
           "diverging": [
            [
             0,
             "#8e0152"
            ],
            [
             0.1,
             "#c51b7d"
            ],
            [
             0.2,
             "#de77ae"
            ],
            [
             0.3,
             "#f1b6da"
            ],
            [
             0.4,
             "#fde0ef"
            ],
            [
             0.5,
             "#f7f7f7"
            ],
            [
             0.6,
             "#e6f5d0"
            ],
            [
             0.7,
             "#b8e186"
            ],
            [
             0.8,
             "#7fbc41"
            ],
            [
             0.9,
             "#4d9221"
            ],
            [
             1,
             "#276419"
            ]
           ],
           "sequential": [
            [
             0,
             "#0d0887"
            ],
            [
             0.1111111111111111,
             "#46039f"
            ],
            [
             0.2222222222222222,
             "#7201a8"
            ],
            [
             0.3333333333333333,
             "#9c179e"
            ],
            [
             0.4444444444444444,
             "#bd3786"
            ],
            [
             0.5555555555555556,
             "#d8576b"
            ],
            [
             0.6666666666666666,
             "#ed7953"
            ],
            [
             0.7777777777777778,
             "#fb9f3a"
            ],
            [
             0.8888888888888888,
             "#fdca26"
            ],
            [
             1,
             "#f0f921"
            ]
           ],
           "sequentialminus": [
            [
             0,
             "#0d0887"
            ],
            [
             0.1111111111111111,
             "#46039f"
            ],
            [
             0.2222222222222222,
             "#7201a8"
            ],
            [
             0.3333333333333333,
             "#9c179e"
            ],
            [
             0.4444444444444444,
             "#bd3786"
            ],
            [
             0.5555555555555556,
             "#d8576b"
            ],
            [
             0.6666666666666666,
             "#ed7953"
            ],
            [
             0.7777777777777778,
             "#fb9f3a"
            ],
            [
             0.8888888888888888,
             "#fdca26"
            ],
            [
             1,
             "#f0f921"
            ]
           ]
          },
          "colorway": [
           "#636efa",
           "#EF553B",
           "#00cc96",
           "#ab63fa",
           "#FFA15A",
           "#19d3f3",
           "#FF6692",
           "#B6E880",
           "#FF97FF",
           "#FECB52"
          ],
          "font": {
           "color": "#2a3f5f"
          },
          "geo": {
           "bgcolor": "white",
           "lakecolor": "white",
           "landcolor": "#E5ECF6",
           "showlakes": true,
           "showland": true,
           "subunitcolor": "white"
          },
          "hoverlabel": {
           "align": "left"
          },
          "hovermode": "closest",
          "mapbox": {
           "style": "light"
          },
          "paper_bgcolor": "white",
          "plot_bgcolor": "#E5ECF6",
          "polar": {
           "angularaxis": {
            "gridcolor": "white",
            "linecolor": "white",
            "ticks": ""
           },
           "bgcolor": "#E5ECF6",
           "radialaxis": {
            "gridcolor": "white",
            "linecolor": "white",
            "ticks": ""
           }
          },
          "scene": {
           "xaxis": {
            "backgroundcolor": "#E5ECF6",
            "gridcolor": "white",
            "gridwidth": 2,
            "linecolor": "white",
            "showbackground": true,
            "ticks": "",
            "zerolinecolor": "white"
           },
           "yaxis": {
            "backgroundcolor": "#E5ECF6",
            "gridcolor": "white",
            "gridwidth": 2,
            "linecolor": "white",
            "showbackground": true,
            "ticks": "",
            "zerolinecolor": "white"
           },
           "zaxis": {
            "backgroundcolor": "#E5ECF6",
            "gridcolor": "white",
            "gridwidth": 2,
            "linecolor": "white",
            "showbackground": true,
            "ticks": "",
            "zerolinecolor": "white"
           }
          },
          "shapedefaults": {
           "line": {
            "color": "#2a3f5f"
           }
          },
          "ternary": {
           "aaxis": {
            "gridcolor": "white",
            "linecolor": "white",
            "ticks": ""
           },
           "baxis": {
            "gridcolor": "white",
            "linecolor": "white",
            "ticks": ""
           },
           "bgcolor": "#E5ECF6",
           "caxis": {
            "gridcolor": "white",
            "linecolor": "white",
            "ticks": ""
           }
          },
          "title": {
           "x": 0.05
          },
          "xaxis": {
           "automargin": true,
           "gridcolor": "white",
           "linecolor": "white",
           "ticks": "",
           "title": {
            "standoff": 15
           },
           "zerolinecolor": "white",
           "zerolinewidth": 2
          },
          "yaxis": {
           "automargin": true,
           "gridcolor": "white",
           "linecolor": "white",
           "ticks": "",
           "title": {
            "standoff": 15
           },
           "zerolinecolor": "white",
           "zerolinewidth": 2
          }
         }
        },
        "xaxis": {
         "anchor": "y",
         "domain": [
          0,
          1
         ],
         "title": {
          "text": "Percent admitted - total"
         }
        },
        "yaxis": {
         "anchor": "x",
         "domain": [
          0,
          1
         ],
         "title": {
          "text": "Admissions yield - total"
         }
        }
       }
      }
     },
     "metadata": {},
     "output_type": "display_data"
    }
   ],
   "source": [
    "\n",
    "fig = px.scatter(df, x=\"Percent admitted - total\", y=\"Admissions yield - total\")\n",
    "fig.show()"
   ]
  },
  {
   "cell_type": "markdown",
   "metadata": {},
   "source": [
    "Conclusion: There is almost no correlation"
   ]
  },
  {
   "cell_type": "markdown",
   "metadata": {},
   "source": [
    "### 3-Do students prefer public or private universities?"
   ]
  },
  {
   "cell_type": "code",
   "execution_count": 15,
   "metadata": {},
   "outputs": [
    {
     "data": {
      "application/vnd.plotly.v1+json": {
       "config": {
        "plotlyServerURL": "https://plot.ly"
       },
       "data": [
        {
         "domain": {
          "x": [
           0,
           1
          ],
          "y": [
           0,
           1
          ]
         },
         "hovertemplate": "Sector of institution=%{label}<br>Enrolled total=%{value}<extra></extra>",
         "labels": [
          "Public, 4-year or above",
          "Public, 4-year or above",
          "Public, 4-year or above",
          "Public, 4-year or above",
          "Public, 4-year or above",
          "Public, 4-year or above",
          "Public, 4-year or above",
          "Private not-for-profit, 4-year or above",
          "Private not-for-profit, 4-year or above",
          "Public, 4-year or above",
          "Private not-for-profit, 4-year or above",
          "Public, 4-year or above",
          "Private not-for-profit, 4-year or above",
          "Public, 4-year or above",
          "Public, 4-year or above",
          "Private not-for-profit, 4-year or above",
          "Private not-for-profit, 4-year or above",
          "Public, 4-year or above",
          "Private not-for-profit, 4-year or above",
          "Private not-for-profit, 4-year or above",
          "Public, 4-year or above",
          "Private not-for-profit, 4-year or above",
          "Private not-for-profit, 4-year or above",
          "Public, 4-year or above",
          "Public, 4-year or above",
          "Private not-for-profit, 4-year or above",
          "Public, 4-year or above",
          "Private not-for-profit, 4-year or above",
          "Private not-for-profit, 4-year or above",
          "Public, 4-year or above",
          "Private not-for-profit, 4-year or above",
          "Public, 4-year or above",
          "Public, 4-year or above",
          "Public, 4-year or above",
          "Public, 4-year or above",
          "Public, 4-year or above",
          "Private not-for-profit, 4-year or above",
          "Private not-for-profit, 4-year or above",
          "Public, 4-year or above",
          "Private not-for-profit, 4-year or above",
          "Private not-for-profit, 4-year or above",
          "Private not-for-profit, 4-year or above",
          "Private not-for-profit, 4-year or above",
          "Private not-for-profit, 4-year or above",
          "Public, 4-year or above",
          "Public, 4-year or above",
          "Private not-for-profit, 4-year or above",
          "Private not-for-profit, 4-year or above",
          "Private not-for-profit, 4-year or above",
          "Private not-for-profit, 4-year or above",
          "Private not-for-profit, 4-year or above",
          "Public, 4-year or above",
          "Private not-for-profit, 4-year or above",
          "Public, 4-year or above",
          "Public, 4-year or above",
          "Public, 4-year or above",
          "Public, 4-year or above",
          "Public, 4-year or above",
          "Public, 4-year or above",
          "Public, 4-year or above",
          "Public, 4-year or above",
          "Public, 4-year or above",
          "Public, 4-year or above",
          "Public, 4-year or above",
          "Public, 4-year or above",
          "Public, 4-year or above",
          "Public, 4-year or above",
          "Public, 4-year or above",
          "Public, 4-year or above",
          "Public, 4-year or above",
          "Public, 4-year or above",
          "Public, 4-year or above",
          "Public, 4-year or above",
          "Public, 4-year or above",
          "Public, 4-year or above",
          "Private not-for-profit, 4-year or above",
          "Private not-for-profit, 4-year or above",
          "Private not-for-profit, 4-year or above",
          "Private not-for-profit, 4-year or above",
          "Private not-for-profit, 4-year or above",
          "Private not-for-profit, 4-year or above",
          "Private not-for-profit, 4-year or above",
          "Private not-for-profit, 4-year or above",
          "Private not-for-profit, 4-year or above",
          "Private not-for-profit, 4-year or above",
          "Public, 4-year or above",
          "Private not-for-profit, 4-year or above",
          "Private not-for-profit, 4-year or above",
          "Private not-for-profit, 4-year or above",
          "Private not-for-profit, 4-year or above",
          "Private not-for-profit, 4-year or above",
          "Private not-for-profit, 4-year or above",
          "Private not-for-profit, 4-year or above",
          "Private not-for-profit, 4-year or above",
          "Private not-for-profit, 4-year or above",
          "Private not-for-profit, 4-year or above",
          "Private not-for-profit, 4-year or above",
          "Private not-for-profit, 4-year or above",
          "Private not-for-profit, 4-year or above",
          "Private not-for-profit, 4-year or above",
          "Private not-for-profit, 4-year or above",
          "Private not-for-profit, 4-year or above",
          "Private not-for-profit, 4-year or above",
          "Private not-for-profit, 4-year or above",
          "Public, 4-year or above",
          "Private not-for-profit, 4-year or above",
          "Public, 4-year or above",
          "Private not-for-profit, 4-year or above",
          "Public, 4-year or above",
          "Private not-for-profit, 4-year or above",
          "Private not-for-profit, 4-year or above",
          "Private not-for-profit, 4-year or above",
          "Private not-for-profit, 4-year or above",
          "Public, 4-year or above",
          "Private not-for-profit, 4-year or above",
          "Private not-for-profit, 4-year or above",
          "Private not-for-profit, 4-year or above",
          "Private not-for-profit, 4-year or above",
          "Private not-for-profit, 4-year or above",
          "Private not-for-profit, 4-year or above",
          "Public, 4-year or above",
          "Public, 4-year or above",
          "Public, 4-year or above",
          "Public, 4-year or above",
          "Private not-for-profit, 4-year or above",
          "Private not-for-profit, 4-year or above",
          "Public, 4-year or above",
          "Public, 4-year or above",
          "Private not-for-profit, 4-year or above",
          "Public, 4-year or above",
          "Public, 4-year or above",
          "Public, 4-year or above",
          "Private not-for-profit, 4-year or above",
          "Public, 4-year or above",
          "Private not-for-profit, 4-year or above",
          "Public, 4-year or above",
          "Public, 4-year or above",
          "Private not-for-profit, 4-year or above",
          "Private not-for-profit, 4-year or above",
          "Public, 4-year or above",
          "Private not-for-profit, 4-year or above",
          "Public, 4-year or above",
          "Public, 4-year or above",
          "Private not-for-profit, 4-year or above",
          "Private not-for-profit, 4-year or above",
          "Private not-for-profit, 4-year or above",
          "Private not-for-profit, 4-year or above",
          "Private not-for-profit, 4-year or above",
          "Private not-for-profit, 4-year or above",
          "Private not-for-profit, 4-year or above",
          "Public, 4-year or above",
          "Private not-for-profit, 4-year or above",
          "Private not-for-profit, 4-year or above",
          "Public, 4-year or above",
          "Private not-for-profit, 4-year or above",
          "Public, 4-year or above",
          "Public, 4-year or above",
          "Private not-for-profit, 4-year or above",
          "Private not-for-profit, 4-year or above",
          "Private not-for-profit, 4-year or above",
          "Private not-for-profit, 4-year or above",
          "Private not-for-profit, 4-year or above",
          "Private not-for-profit, 4-year or above",
          "Private not-for-profit, 4-year or above",
          "Private not-for-profit, 4-year or above",
          "Private not-for-profit, 4-year or above",
          "Private not-for-profit, 4-year or above",
          "Private not-for-profit, 4-year or above",
          "Private not-for-profit, 4-year or above",
          "Public, 4-year or above",
          "Private not-for-profit, 4-year or above",
          "Private not-for-profit, 4-year or above",
          "Private not-for-profit, 4-year or above",
          "Private not-for-profit, 4-year or above",
          "Public, 4-year or above",
          "Public, 4-year or above",
          "Private not-for-profit, 4-year or above",
          "Private not-for-profit, 4-year or above",
          "Private not-for-profit, 4-year or above",
          "Public, 4-year or above",
          "Private not-for-profit, 4-year or above",
          "Private not-for-profit, 4-year or above",
          "Public, 4-year or above",
          "Public, 4-year or above",
          "Private not-for-profit, 4-year or above",
          "Private not-for-profit, 4-year or above",
          "Private not-for-profit, 4-year or above",
          "Private not-for-profit, 4-year or above",
          "Public, 4-year or above",
          "Private not-for-profit, 4-year or above",
          "Private not-for-profit, 4-year or above",
          "Private not-for-profit, 4-year or above",
          "Private not-for-profit, 4-year or above",
          "Public, 4-year or above",
          "Private not-for-profit, 4-year or above",
          "Private not-for-profit, 4-year or above",
          "Private not-for-profit, 4-year or above",
          "Private not-for-profit, 4-year or above",
          "Private not-for-profit, 4-year or above",
          "Private not-for-profit, 4-year or above",
          "Public, 4-year or above",
          "Private not-for-profit, 4-year or above",
          "Public, 4-year or above",
          "Public, 4-year or above",
          "Private not-for-profit, 4-year or above",
          "Private not-for-profit, 4-year or above",
          "Private not-for-profit, 4-year or above",
          "Private not-for-profit, 4-year or above",
          "Private not-for-profit, 4-year or above",
          "Public, 4-year or above",
          "Public, 4-year or above",
          "Private not-for-profit, 4-year or above",
          "Private not-for-profit, 4-year or above",
          "Private not-for-profit, 4-year or above",
          "Public, 4-year or above",
          "Public, 4-year or above",
          "Public, 4-year or above",
          "Public, 4-year or above",
          "Public, 4-year or above",
          "Public, 4-year or above",
          "Public, 4-year or above",
          "Public, 4-year or above",
          "Private not-for-profit, 4-year or above",
          "Private not-for-profit, 4-year or above",
          "Private not-for-profit, 4-year or above",
          "Private not-for-profit, 4-year or above",
          "Private not-for-profit, 4-year or above",
          "Private not-for-profit, 4-year or above",
          "Private not-for-profit, 4-year or above",
          "Private not-for-profit, 4-year or above",
          "Public, 4-year or above",
          "Private not-for-profit, 4-year or above",
          "Private not-for-profit, 4-year or above",
          "Public, 4-year or above",
          "Private not-for-profit, 4-year or above",
          "Private not-for-profit, 4-year or above",
          "Private not-for-profit, 4-year or above",
          "Public, 4-year or above",
          "Private not-for-profit, 4-year or above",
          "Public, 4-year or above",
          "Private not-for-profit, 4-year or above",
          "Public, 4-year or above",
          "Public, 4-year or above",
          "Private not-for-profit, 4-year or above",
          "Public, 4-year or above",
          "Public, 4-year or above",
          "Public, 4-year or above",
          "Private not-for-profit, 4-year or above",
          "Public, 4-year or above",
          "Private not-for-profit, 4-year or above",
          "Private not-for-profit, 4-year or above",
          "Private not-for-profit, 4-year or above",
          "Private not-for-profit, 4-year or above",
          "Private not-for-profit, 4-year or above",
          "Private not-for-profit, 4-year or above",
          "Public, 4-year or above",
          "Private not-for-profit, 4-year or above",
          "Private not-for-profit, 4-year or above",
          "Private not-for-profit, 4-year or above",
          "Private not-for-profit, 4-year or above",
          "Public, 4-year or above",
          "Private not-for-profit, 4-year or above",
          "Private not-for-profit, 4-year or above",
          "Private not-for-profit, 4-year or above",
          "Public, 4-year or above",
          "Private not-for-profit, 4-year or above",
          "Public, 4-year or above",
          "Private not-for-profit, 4-year or above",
          "Private not-for-profit, 4-year or above",
          "Private not-for-profit, 4-year or above",
          "Public, 4-year or above",
          "Private not-for-profit, 4-year or above",
          "Private not-for-profit, 4-year or above",
          "Private not-for-profit, 4-year or above",
          "Private not-for-profit, 4-year or above",
          "Private not-for-profit, 4-year or above",
          "Private not-for-profit, 4-year or above",
          "Private not-for-profit, 4-year or above",
          "Private not-for-profit, 4-year or above",
          "Private not-for-profit, 4-year or above",
          "Private not-for-profit, 4-year or above",
          "Private not-for-profit, 4-year or above",
          "Private not-for-profit, 4-year or above",
          "Private not-for-profit, 4-year or above",
          "Public, 4-year or above",
          "Private not-for-profit, 4-year or above",
          "Public, 4-year or above",
          "Private not-for-profit, 4-year or above",
          "Private not-for-profit, 4-year or above",
          "Private not-for-profit, 4-year or above",
          "Private not-for-profit, 4-year or above",
          "Private not-for-profit, 4-year or above",
          "Private not-for-profit, 4-year or above",
          "Private not-for-profit, 4-year or above",
          "Private not-for-profit, 4-year or above",
          "Public, 4-year or above",
          "Private not-for-profit, 4-year or above",
          "Public, 4-year or above",
          "Public, 4-year or above",
          "Private not-for-profit, 4-year or above",
          "Private not-for-profit, 4-year or above",
          "Public, 4-year or above",
          "Private not-for-profit, 4-year or above",
          "Private not-for-profit, 4-year or above",
          "Public, 4-year or above",
          "Private not-for-profit, 4-year or above",
          "Private not-for-profit, 4-year or above",
          "Private not-for-profit, 4-year or above",
          "Private not-for-profit, 4-year or above",
          "Private not-for-profit, 4-year or above",
          "Private not-for-profit, 4-year or above",
          "Private not-for-profit, 4-year or above",
          "Private not-for-profit, 4-year or above",
          "Private not-for-profit, 4-year or above",
          "Private not-for-profit, 4-year or above",
          "Private not-for-profit, 4-year or above",
          "Private not-for-profit, 4-year or above",
          "Public, 4-year or above",
          "Public, 4-year or above",
          "Private not-for-profit, 4-year or above",
          "Public, 4-year or above",
          "Public, 4-year or above",
          "Public, 4-year or above",
          "Public, 4-year or above",
          "Public, 4-year or above",
          "Public, 4-year or above",
          "Public, 4-year or above",
          "Public, 4-year or above",
          "Private not-for-profit, 4-year or above",
          "Private not-for-profit, 4-year or above",
          "Private not-for-profit, 4-year or above",
          "Private not-for-profit, 4-year or above",
          "Private not-for-profit, 4-year or above",
          "Public, 4-year or above",
          "Public, 4-year or above",
          "Private not-for-profit, 4-year or above",
          "Private not-for-profit, 4-year or above",
          "Private not-for-profit, 4-year or above",
          "Private not-for-profit, 4-year or above",
          "Private not-for-profit, 4-year or above",
          "Private not-for-profit, 4-year or above",
          "Private not-for-profit, 4-year or above",
          "Private not-for-profit, 4-year or above",
          "Private not-for-profit, 4-year or above",
          "Private not-for-profit, 4-year or above",
          "Private not-for-profit, 4-year or above",
          "Private not-for-profit, 4-year or above",
          "Private not-for-profit, 4-year or above",
          "Private not-for-profit, 4-year or above",
          "Private not-for-profit, 4-year or above",
          "Private not-for-profit, 4-year or above",
          "Private not-for-profit, 4-year or above",
          "Private not-for-profit, 4-year or above",
          "Public, 4-year or above",
          "Private not-for-profit, 4-year or above",
          "Public, 4-year or above",
          "Private not-for-profit, 4-year or above",
          "Private not-for-profit, 4-year or above",
          "Private not-for-profit, 4-year or above",
          "Private not-for-profit, 4-year or above",
          "Private not-for-profit, 4-year or above",
          "Public, 4-year or above",
          "Private not-for-profit, 4-year or above",
          "Private not-for-profit, 4-year or above",
          "Private not-for-profit, 4-year or above",
          "Private not-for-profit, 4-year or above",
          "Private not-for-profit, 4-year or above",
          "Private not-for-profit, 4-year or above",
          "Private not-for-profit, 4-year or above",
          "Private not-for-profit, 4-year or above",
          "Private not-for-profit, 4-year or above",
          "Private not-for-profit, 4-year or above",
          "Private not-for-profit, 4-year or above",
          "Public, 4-year or above",
          "Public, 4-year or above",
          "Private not-for-profit, 4-year or above",
          "Public, 4-year or above",
          "Private not-for-profit, 4-year or above",
          "Public, 4-year or above",
          "Private not-for-profit, 4-year or above",
          "Private not-for-profit, 4-year or above",
          "Private not-for-profit, 4-year or above",
          "Private not-for-profit, 4-year or above",
          "Public, 4-year or above",
          "Private not-for-profit, 4-year or above",
          "Private not-for-profit, 4-year or above",
          "Private not-for-profit, 4-year or above",
          "Private not-for-profit, 4-year or above",
          "Public, 4-year or above",
          "Private not-for-profit, 4-year or above",
          "Private not-for-profit, 4-year or above",
          "Private not-for-profit, 4-year or above",
          "Private not-for-profit, 4-year or above",
          "Private not-for-profit, 4-year or above",
          "Private not-for-profit, 4-year or above",
          "Private not-for-profit, 4-year or above",
          "Private not-for-profit, 4-year or above",
          "Public, 4-year or above",
          "Private not-for-profit, 4-year or above",
          "Public, 4-year or above",
          "Private not-for-profit, 4-year or above",
          "Public, 4-year or above",
          "Private not-for-profit, 4-year or above",
          "Public, 4-year or above",
          "Private not-for-profit, 4-year or above",
          "Private not-for-profit, 4-year or above",
          "Public, 4-year or above",
          "Public, 4-year or above",
          "Public, 4-year or above",
          "Private not-for-profit, 4-year or above",
          "Private not-for-profit, 4-year or above",
          "Private not-for-profit, 4-year or above",
          "Private not-for-profit, 4-year or above",
          "Private not-for-profit, 4-year or above",
          "Public, 4-year or above",
          "Private not-for-profit, 4-year or above",
          "Private not-for-profit, 4-year or above",
          "Public, 4-year or above",
          "Public, 4-year or above",
          "Public, 4-year or above",
          "Public, 4-year or above",
          "Private not-for-profit, 4-year or above",
          "Public, 4-year or above",
          "Private not-for-profit, 4-year or above",
          "Public, 4-year or above",
          "Public, 4-year or above",
          "Public, 4-year or above",
          "Public, 4-year or above",
          "Public, 4-year or above",
          "Private not-for-profit, 4-year or above",
          "Public, 4-year or above",
          "Public, 4-year or above",
          "Public, 4-year or above",
          "Public, 4-year or above",
          "Private not-for-profit, 4-year or above",
          "Private not-for-profit, 4-year or above",
          "Private not-for-profit, 4-year or above",
          "Private not-for-profit, 4-year or above",
          "Private not-for-profit, 4-year or above",
          "Private not-for-profit, 4-year or above",
          "Private not-for-profit, 4-year or above",
          "Public, 4-year or above",
          "Public, 4-year or above",
          "Public, 4-year or above",
          "Public, 4-year or above",
          "Public, 4-year or above",
          "Private not-for-profit, 4-year or above",
          "Private not-for-profit, 4-year or above",
          "Public, 4-year or above",
          "Private not-for-profit, 4-year or above",
          "Private not-for-profit, 4-year or above",
          "Public, 4-year or above",
          "Public, 4-year or above",
          "Private not-for-profit, 4-year or above",
          "Public, 4-year or above",
          "Public, 4-year or above",
          "Private not-for-profit, 4-year or above",
          "Private not-for-profit, 4-year or above",
          "Private not-for-profit, 4-year or above",
          "Private not-for-profit, 4-year or above",
          "Public, 4-year or above",
          "Public, 4-year or above",
          "Public, 4-year or above",
          "Public, 4-year or above",
          "Private not-for-profit, 4-year or above",
          "Private not-for-profit, 4-year or above",
          "Public, 4-year or above",
          "Public, 4-year or above",
          "Private not-for-profit, 4-year or above",
          "Public, 4-year or above",
          "Private not-for-profit, 4-year or above",
          "Private not-for-profit, 4-year or above",
          "Private not-for-profit, 4-year or above",
          "Private not-for-profit, 4-year or above",
          "Private not-for-profit, 4-year or above",
          "Private not-for-profit, 4-year or above",
          "Private not-for-profit, 4-year or above",
          "Private not-for-profit, 4-year or above",
          "Private not-for-profit, 4-year or above",
          "Private not-for-profit, 4-year or above",
          "Private not-for-profit, 4-year or above",
          "Private not-for-profit, 4-year or above",
          "Private not-for-profit, 4-year or above",
          "Public, 4-year or above",
          "Private not-for-profit, 4-year or above",
          "Private not-for-profit, 4-year or above",
          "Private not-for-profit, 4-year or above",
          "Private not-for-profit, 4-year or above",
          "Private not-for-profit, 4-year or above",
          "Private not-for-profit, 4-year or above",
          "Private not-for-profit, 4-year or above",
          "Public, 4-year or above",
          "Public, 4-year or above",
          "Private not-for-profit, 4-year or above",
          "Private not-for-profit, 4-year or above",
          "Private not-for-profit, 4-year or above",
          "Private not-for-profit, 4-year or above",
          "Private not-for-profit, 4-year or above",
          "Private not-for-profit, 4-year or above",
          "Public, 4-year or above",
          "Public, 4-year or above",
          "Public, 4-year or above",
          "Private not-for-profit, 4-year or above",
          "Public, 4-year or above",
          "Private not-for-profit, 4-year or above",
          "Private not-for-profit, 4-year or above",
          "Private not-for-profit, 4-year or above",
          "Private not-for-profit, 4-year or above",
          "Private not-for-profit, 4-year or above",
          "Public, 4-year or above",
          "Private not-for-profit, 4-year or above",
          "Private not-for-profit, 4-year or above",
          "Private not-for-profit, 4-year or above",
          "Public, 4-year or above",
          "Private not-for-profit, 4-year or above",
          "Private not-for-profit, 4-year or above",
          "Private not-for-profit, 4-year or above",
          "Private not-for-profit, 4-year or above",
          "Public, 4-year or above",
          "Private not-for-profit, 4-year or above",
          "Private not-for-profit, 4-year or above",
          "Private not-for-profit, 4-year or above",
          "Private not-for-profit, 4-year or above",
          "Private not-for-profit, 4-year or above",
          "Private not-for-profit, 4-year or above",
          "Public, 4-year or above",
          "Private not-for-profit, 4-year or above",
          "Private not-for-profit, 4-year or above",
          "Private not-for-profit, 4-year or above",
          "Private not-for-profit, 4-year or above",
          "Public, 4-year or above",
          "Private not-for-profit, 4-year or above",
          "Private not-for-profit, 4-year or above",
          "Private not-for-profit, 4-year or above",
          "Private not-for-profit, 4-year or above",
          "Private not-for-profit, 4-year or above",
          "Private not-for-profit, 4-year or above",
          "Public, 4-year or above",
          "Private not-for-profit, 4-year or above",
          "Private not-for-profit, 4-year or above",
          "Private not-for-profit, 4-year or above",
          "Public, 4-year or above",
          "Public, 4-year or above",
          "Private not-for-profit, 4-year or above",
          "Private not-for-profit, 4-year or above",
          "Private not-for-profit, 4-year or above",
          "Public, 4-year or above",
          "Private not-for-profit, 4-year or above",
          "Private not-for-profit, 4-year or above",
          "Public, 4-year or above",
          "Private not-for-profit, 4-year or above",
          "Private not-for-profit, 4-year or above",
          "Private not-for-profit, 4-year or above",
          "Private not-for-profit, 4-year or above",
          "Public, 4-year or above",
          "Public, 4-year or above",
          "Public, 4-year or above",
          "Public, 4-year or above",
          "Public, 4-year or above",
          "Public, 4-year or above",
          "Public, 4-year or above",
          "Private not-for-profit, 4-year or above",
          "Private not-for-profit, 4-year or above",
          "Public, 4-year or above",
          "Private not-for-profit, 4-year or above",
          "Private not-for-profit, 4-year or above",
          "Private not-for-profit, 4-year or above",
          "Public, 4-year or above",
          "Public, 4-year or above",
          "Private not-for-profit, 4-year or above",
          "Public, 4-year or above",
          "Private not-for-profit, 4-year or above",
          "Private not-for-profit, 4-year or above",
          "Private not-for-profit, 4-year or above",
          "Private not-for-profit, 4-year or above",
          "Private not-for-profit, 4-year or above",
          "Private not-for-profit, 4-year or above",
          "Private not-for-profit, 4-year or above",
          "Private not-for-profit, 4-year or above",
          "Private not-for-profit, 4-year or above",
          "Public, 4-year or above",
          "Public, 4-year or above",
          "Public, 4-year or above",
          "Public, 4-year or above",
          "Public, 4-year or above",
          "Public, 4-year or above",
          "Public, 4-year or above",
          "Private not-for-profit, 4-year or above",
          "Private not-for-profit, 4-year or above",
          "Private not-for-profit, 4-year or above",
          "Public, 4-year or above",
          "Private not-for-profit, 4-year or above",
          "Private not-for-profit, 4-year or above",
          "Private not-for-profit, 4-year or above",
          "Private not-for-profit, 4-year or above",
          "Private not-for-profit, 4-year or above",
          "Private not-for-profit, 4-year or above",
          "Private not-for-profit, 4-year or above",
          "Public, 4-year or above",
          "Public, 4-year or above",
          "Public, 4-year or above",
          "Private not-for-profit, 4-year or above",
          "Private not-for-profit, 4-year or above",
          "Public, 4-year or above",
          "Public, 4-year or above",
          "Private not-for-profit, 4-year or above",
          "Public, 4-year or above",
          "Public, 4-year or above",
          "Public, 4-year or above",
          "Private not-for-profit, 4-year or above",
          "Public, 4-year or above",
          "Private not-for-profit, 4-year or above",
          "Public, 4-year or above",
          "Private not-for-profit, 4-year or above",
          "Private not-for-profit, 4-year or above",
          "Private not-for-profit, 4-year or above",
          "Private not-for-profit, 4-year or above",
          "Public, 4-year or above",
          "Private not-for-profit, 4-year or above",
          "Private not-for-profit, 4-year or above",
          "Private not-for-profit, 4-year or above",
          "Private not-for-profit, 4-year or above",
          "Private not-for-profit, 4-year or above",
          "Private not-for-profit, 4-year or above",
          "Private not-for-profit, 4-year or above",
          "Private not-for-profit, 4-year or above",
          "Public, 4-year or above",
          "Private not-for-profit, 4-year or above",
          "Public, 4-year or above",
          "Public, 4-year or above",
          "Public, 4-year or above",
          "Public, 4-year or above",
          "Public, 4-year or above",
          "Public, 4-year or above",
          "Private not-for-profit, 4-year or above",
          "Private not-for-profit, 4-year or above",
          "Private not-for-profit, 4-year or above",
          "Private not-for-profit, 4-year or above",
          "Private not-for-profit, 4-year or above",
          "Private not-for-profit, 4-year or above",
          "Public, 4-year or above",
          "Public, 4-year or above",
          "Private not-for-profit, 4-year or above",
          "Private not-for-profit, 4-year or above",
          "Private not-for-profit, 4-year or above",
          "Private not-for-profit, 4-year or above",
          "Private not-for-profit, 4-year or above",
          "Private not-for-profit, 4-year or above",
          "Private not-for-profit, 4-year or above",
          "Public, 4-year or above",
          "Public, 4-year or above",
          "Public, 4-year or above",
          "Public, 4-year or above",
          "Private not-for-profit, 4-year or above",
          "Private not-for-profit, 4-year or above",
          "Private not-for-profit, 4-year or above",
          "Private not-for-profit, 4-year or above",
          "Private not-for-profit, 4-year or above",
          "Private not-for-profit, 4-year or above",
          "Public, 4-year or above",
          "Private not-for-profit, 4-year or above",
          "Public, 4-year or above",
          "Private not-for-profit, 4-year or above",
          "Public, 4-year or above",
          "Private not-for-profit, 4-year or above",
          "Private not-for-profit, 4-year or above",
          "Private not-for-profit, 4-year or above",
          "Public, 4-year or above",
          "Public, 4-year or above",
          "Private not-for-profit, 4-year or above",
          "Private not-for-profit, 4-year or above",
          "Private not-for-profit, 4-year or above",
          "Private not-for-profit, 4-year or above",
          "Private not-for-profit, 4-year or above",
          "Public, 4-year or above",
          "Public, 4-year or above",
          "Public, 4-year or above",
          "Public, 4-year or above",
          "Private not-for-profit, 4-year or above",
          "Private not-for-profit, 4-year or above",
          "Private not-for-profit, 4-year or above",
          "Private not-for-profit, 4-year or above",
          "Private not-for-profit, 4-year or above",
          "Private not-for-profit, 4-year or above",
          "Private not-for-profit, 4-year or above",
          "Private not-for-profit, 4-year or above",
          "Private not-for-profit, 4-year or above",
          "Private not-for-profit, 4-year or above",
          "Public, 4-year or above",
          "Public, 4-year or above",
          "Public, 4-year or above",
          "Private not-for-profit, 4-year or above",
          "Public, 4-year or above",
          "Public, 4-year or above",
          "Private not-for-profit, 4-year or above",
          "Public, 4-year or above",
          "Private not-for-profit, 4-year or above",
          "Public, 4-year or above",
          "Public, 4-year or above",
          "Public, 4-year or above",
          "Private not-for-profit, 4-year or above",
          "Private not-for-profit, 4-year or above",
          "Private not-for-profit, 4-year or above",
          "Private not-for-profit, 4-year or above",
          "Public, 4-year or above",
          "Public, 4-year or above",
          "Public, 4-year or above",
          "Public, 4-year or above",
          "Public, 4-year or above",
          "Public, 4-year or above",
          "Public, 4-year or above",
          "Private not-for-profit, 4-year or above",
          "Private not-for-profit, 4-year or above",
          "Private not-for-profit, 4-year or above",
          "Private not-for-profit, 4-year or above",
          "Private not-for-profit, 4-year or above",
          "Private not-for-profit, 4-year or above",
          "Private not-for-profit, 4-year or above",
          "Private not-for-profit, 4-year or above",
          "Private not-for-profit, 4-year or above",
          "Private not-for-profit, 4-year or above",
          "Private not-for-profit, 4-year or above",
          "Private not-for-profit, 4-year or above",
          "Private not-for-profit, 4-year or above",
          "Private not-for-profit, 4-year or above",
          "Public, 4-year or above",
          "Public, 4-year or above",
          "Public, 4-year or above",
          "Public, 4-year or above",
          "Public, 4-year or above",
          "Public, 4-year or above",
          "Public, 4-year or above",
          "Public, 4-year or above",
          "Public, 4-year or above",
          "Public, 4-year or above",
          "Public, 4-year or above",
          "Private not-for-profit, 4-year or above",
          "Private not-for-profit, 4-year or above",
          "Private not-for-profit, 4-year or above",
          "Private not-for-profit, 4-year or above",
          "Private not-for-profit, 4-year or above",
          "Public, 4-year or above",
          "Private not-for-profit, 4-year or above",
          "Private not-for-profit, 4-year or above",
          "Private not-for-profit, 4-year or above",
          "Private not-for-profit, 4-year or above",
          "Private not-for-profit, 4-year or above",
          "Private not-for-profit, 4-year or above",
          "Private not-for-profit, 4-year or above",
          "Private not-for-profit, 4-year or above",
          "Private not-for-profit, 4-year or above",
          "Private not-for-profit, 4-year or above",
          "Private not-for-profit, 4-year or above",
          "Private not-for-profit, 4-year or above",
          "Private not-for-profit, 4-year or above",
          "Private not-for-profit, 4-year or above",
          "Private not-for-profit, 4-year or above",
          "Private not-for-profit, 4-year or above",
          "Private not-for-profit, 4-year or above",
          "Private not-for-profit, 4-year or above",
          "Private not-for-profit, 4-year or above",
          "Private not-for-profit, 4-year or above",
          "Private not-for-profit, 4-year or above",
          "Private not-for-profit, 4-year or above",
          "Private not-for-profit, 4-year or above",
          "Private not-for-profit, 4-year or above",
          "Private not-for-profit, 4-year or above",
          "Private not-for-profit, 4-year or above",
          "Private not-for-profit, 4-year or above",
          "Private not-for-profit, 4-year or above",
          "Private not-for-profit, 4-year or above",
          "Private not-for-profit, 4-year or above",
          "Private not-for-profit, 4-year or above",
          "Private not-for-profit, 4-year or above",
          "Private not-for-profit, 4-year or above",
          "Private not-for-profit, 4-year or above",
          "Private not-for-profit, 4-year or above",
          "Private not-for-profit, 4-year or above",
          "Private not-for-profit, 4-year or above",
          "Private not-for-profit, 4-year or above",
          "Private not-for-profit, 4-year or above",
          "Private not-for-profit, 4-year or above",
          "Private not-for-profit, 4-year or above",
          "Private not-for-profit, 4-year or above",
          "Private not-for-profit, 4-year or above",
          "Private not-for-profit, 4-year or above",
          "Private not-for-profit, 4-year or above",
          "Private not-for-profit, 4-year or above",
          "Private not-for-profit, 4-year or above",
          "Private not-for-profit, 4-year or above",
          "Public, 4-year or above",
          "Public, 4-year or above",
          "Public, 4-year or above",
          "Public, 4-year or above",
          "Public, 4-year or above",
          "Public, 4-year or above",
          "Public, 4-year or above",
          "Public, 4-year or above",
          "Public, 4-year or above",
          "Public, 4-year or above",
          "Public, 4-year or above",
          "Public, 4-year or above",
          "Public, 4-year or above",
          "Public, 4-year or above",
          "Public, 4-year or above",
          "Public, 4-year or above",
          "Public, 4-year or above",
          "Public, 4-year or above",
          "Public, 4-year or above",
          "Public, 4-year or above",
          "Public, 4-year or above",
          "Public, 4-year or above",
          "Public, 4-year or above",
          "Public, 4-year or above",
          "Public, 4-year or above",
          "Public, 4-year or above",
          "Private not-for-profit, 4-year or above",
          "Private not-for-profit, 4-year or above",
          "Private not-for-profit, 4-year or above",
          "Private not-for-profit, 4-year or above",
          "Private not-for-profit, 4-year or above",
          "Private not-for-profit, 4-year or above",
          "Private not-for-profit, 4-year or above",
          "Private not-for-profit, 4-year or above",
          "Public, 4-year or above",
          "Private not-for-profit, 4-year or above",
          "Private not-for-profit, 4-year or above",
          "Private not-for-profit, 4-year or above",
          "Private not-for-profit, 4-year or above",
          "Private not-for-profit, 4-year or above",
          "Private not-for-profit, 4-year or above",
          "Private not-for-profit, 4-year or above",
          "Private not-for-profit, 4-year or above",
          "Private not-for-profit, 4-year or above",
          "Public, 4-year or above",
          "Public, 4-year or above",
          "Private not-for-profit, 4-year or above",
          "Public, 4-year or above",
          "Private not-for-profit, 4-year or above",
          "Private not-for-profit, 4-year or above",
          "Private not-for-profit, 4-year or above",
          "Private not-for-profit, 4-year or above",
          "Private not-for-profit, 4-year or above",
          "Private not-for-profit, 4-year or above",
          "Private not-for-profit, 4-year or above",
          "Private not-for-profit, 4-year or above",
          "Private not-for-profit, 4-year or above",
          "Private not-for-profit, 4-year or above",
          "Private not-for-profit, 4-year or above",
          "Private not-for-profit, 4-year or above",
          "Private not-for-profit, 4-year or above",
          "Public, 4-year or above",
          "Public, 4-year or above",
          "Public, 4-year or above",
          "Public, 4-year or above",
          "Public, 4-year or above",
          "Public, 4-year or above",
          "Public, 4-year or above",
          "Private not-for-profit, 4-year or above",
          "Public, 4-year or above",
          "Private not-for-profit, 4-year or above",
          "Public, 4-year or above",
          "Private not-for-profit, 4-year or above",
          "Private not-for-profit, 4-year or above",
          "Private not-for-profit, 4-year or above",
          "Private not-for-profit, 4-year or above",
          "Private not-for-profit, 4-year or above",
          "Private not-for-profit, 4-year or above",
          "Private not-for-profit, 4-year or above",
          "Private not-for-profit, 4-year or above",
          "Private not-for-profit, 4-year or above",
          "Private not-for-profit, 4-year or above",
          "Public, 4-year or above",
          "Public, 4-year or above",
          "Public, 4-year or above",
          "Private not-for-profit, 4-year or above",
          "Private not-for-profit, 4-year or above",
          "Public, 4-year or above",
          "Public, 4-year or above",
          "Public, 4-year or above",
          "Public, 4-year or above",
          "Public, 4-year or above",
          "Private not-for-profit, 4-year or above",
          "Private not-for-profit, 4-year or above",
          "Private not-for-profit, 4-year or above",
          "Public, 4-year or above",
          "Private not-for-profit, 4-year or above",
          "Private not-for-profit, 4-year or above",
          "Private not-for-profit, 4-year or above",
          "Public, 4-year or above",
          "Public, 4-year or above",
          "Private not-for-profit, 4-year or above",
          "Public, 4-year or above",
          "Private not-for-profit, 4-year or above",
          "Private not-for-profit, 4-year or above",
          "Private not-for-profit, 4-year or above",
          "Private not-for-profit, 4-year or above",
          "Private not-for-profit, 4-year or above",
          "Private not-for-profit, 4-year or above",
          "Public, 4-year or above",
          "Private not-for-profit, 4-year or above",
          "Private not-for-profit, 4-year or above",
          "Private not-for-profit, 4-year or above",
          "Private not-for-profit, 4-year or above",
          "Private not-for-profit, 4-year or above",
          "Public, 4-year or above",
          "Private not-for-profit, 4-year or above",
          "Private not-for-profit, 4-year or above",
          "Private not-for-profit, 4-year or above",
          "Private not-for-profit, 4-year or above",
          "Private not-for-profit, 4-year or above",
          "Private not-for-profit, 4-year or above",
          "Private not-for-profit, 4-year or above",
          "Private not-for-profit, 4-year or above",
          "Public, 4-year or above",
          "Public, 4-year or above",
          "Private not-for-profit, 4-year or above",
          "Private not-for-profit, 4-year or above",
          "Private not-for-profit, 4-year or above",
          "Private not-for-profit, 4-year or above",
          "Public, 4-year or above",
          "Private not-for-profit, 4-year or above",
          "Private not-for-profit, 4-year or above",
          "Private not-for-profit, 4-year or above",
          "Private not-for-profit, 4-year or above",
          "Private not-for-profit, 4-year or above",
          "Private not-for-profit, 4-year or above",
          "Private not-for-profit, 4-year or above",
          "Private not-for-profit, 4-year or above",
          "Private not-for-profit, 4-year or above",
          "Public, 4-year or above",
          "Public, 4-year or above",
          "Public, 4-year or above",
          "Public, 4-year or above",
          "Private not-for-profit, 4-year or above",
          "Public, 4-year or above",
          "Public, 4-year or above",
          "Private not-for-profit, 4-year or above",
          "Private not-for-profit, 4-year or above",
          "Public, 4-year or above",
          "Private not-for-profit, 4-year or above",
          "Public, 4-year or above",
          "Private not-for-profit, 4-year or above",
          "Public, 4-year or above",
          "Public, 4-year or above",
          "Private not-for-profit, 4-year or above",
          "Public, 4-year or above",
          "Private not-for-profit, 4-year or above",
          "Private not-for-profit, 4-year or above",
          "Public, 4-year or above",
          "Private not-for-profit, 4-year or above",
          "Private not-for-profit, 4-year or above",
          "Private not-for-profit, 4-year or above",
          "Private not-for-profit, 4-year or above",
          "Private not-for-profit, 4-year or above",
          "Public, 4-year or above",
          "Public, 4-year or above",
          "Public, 4-year or above",
          "Private not-for-profit, 4-year or above",
          "Public, 4-year or above",
          "Private not-for-profit, 4-year or above",
          "Private not-for-profit, 4-year or above",
          "Public, 4-year or above",
          "Private not-for-profit, 4-year or above",
          "Private not-for-profit, 4-year or above",
          "Private not-for-profit, 4-year or above",
          "Public, 4-year or above",
          "Private not-for-profit, 4-year or above",
          "Private not-for-profit, 4-year or above",
          "Private not-for-profit, 4-year or above",
          "Private not-for-profit, 4-year or above",
          "Private not-for-profit, 4-year or above",
          "Private not-for-profit, 4-year or above",
          "Public, 4-year or above",
          "Private not-for-profit, 4-year or above",
          "Private not-for-profit, 4-year or above",
          "Private not-for-profit, 4-year or above",
          "Public, 4-year or above",
          "Private not-for-profit, 4-year or above",
          "Private not-for-profit, 4-year or above",
          "Private not-for-profit, 4-year or above",
          "Private not-for-profit, 4-year or above",
          "Private not-for-profit, 4-year or above",
          "Public, 4-year or above",
          "Private not-for-profit, 4-year or above",
          "Private not-for-profit, 4-year or above",
          "Private not-for-profit, 4-year or above",
          "Private not-for-profit, 4-year or above",
          "Public, 4-year or above",
          "Private not-for-profit, 4-year or above",
          "Public, 4-year or above",
          "Private not-for-profit, 4-year or above",
          "Private not-for-profit, 4-year or above",
          "Private not-for-profit, 4-year or above",
          "Private not-for-profit, 4-year or above",
          "Private not-for-profit, 4-year or above",
          "Private not-for-profit, 4-year or above",
          "Private not-for-profit, 4-year or above",
          "Private not-for-profit, 4-year or above",
          "Private not-for-profit, 4-year or above",
          "Public, 4-year or above",
          "Private not-for-profit, 4-year or above",
          "Private not-for-profit, 4-year or above",
          "Private not-for-profit, 4-year or above",
          "Public, 4-year or above",
          "Private not-for-profit, 4-year or above",
          "Private not-for-profit, 4-year or above",
          "Private not-for-profit, 4-year or above",
          "Private not-for-profit, 4-year or above",
          "Private not-for-profit, 4-year or above",
          "Public, 4-year or above",
          "Public, 4-year or above",
          "Private not-for-profit, 4-year or above",
          "Public, 4-year or above",
          "Private not-for-profit, 4-year or above",
          "Private not-for-profit, 4-year or above",
          "Private not-for-profit, 4-year or above",
          "Public, 4-year or above",
          "Private not-for-profit, 4-year or above",
          "Private not-for-profit, 4-year or above",
          "Private not-for-profit, 4-year or above",
          "Private not-for-profit, 4-year or above",
          "Private not-for-profit, 4-year or above",
          "Public, 4-year or above",
          "Public, 4-year or above",
          "Public, 4-year or above",
          "Public, 4-year or above",
          "Public, 4-year or above",
          "Public, 4-year or above",
          "Public, 4-year or above",
          "Public, 4-year or above",
          "Public, 4-year or above",
          "Public, 4-year or above",
          "Public, 4-year or above",
          "Public, 4-year or above",
          "Public, 4-year or above",
          "Public, 4-year or above",
          "Public, 4-year or above",
          "Public, 4-year or above",
          "Public, 4-year or above",
          "Public, 4-year or above",
          "Public, 4-year or above",
          "Public, 4-year or above",
          "Private not-for-profit, 4-year or above",
          "Private not-for-profit, 4-year or above",
          "Private not-for-profit, 4-year or above",
          "Public, 4-year or above",
          "Public, 4-year or above",
          "Public, 4-year or above",
          "Public, 4-year or above",
          "Private not-for-profit, 4-year or above",
          "Private not-for-profit, 4-year or above",
          "Private not-for-profit, 4-year or above",
          "Private not-for-profit, 4-year or above",
          "Private not-for-profit, 4-year or above",
          "Private not-for-profit, 4-year or above",
          "Private not-for-profit, 4-year or above",
          "Private not-for-profit, 4-year or above",
          "Public, 4-year or above",
          "Public, 4-year or above",
          "Private not-for-profit, 4-year or above",
          "Private not-for-profit, 4-year or above",
          "Public, 4-year or above",
          "Private not-for-profit, 4-year or above",
          "Private not-for-profit, 4-year or above",
          "Private not-for-profit, 4-year or above",
          "Private not-for-profit, 4-year or above",
          "Private not-for-profit, 4-year or above",
          "Private not-for-profit, 4-year or above",
          "Public, 4-year or above",
          "Private not-for-profit, 4-year or above",
          "Private not-for-profit, 4-year or above",
          "Private not-for-profit, 4-year or above",
          "Private not-for-profit, 4-year or above",
          "Private not-for-profit, 4-year or above",
          "Private not-for-profit, 4-year or above",
          "Private not-for-profit, 4-year or above",
          "Private not-for-profit, 4-year or above",
          "Private not-for-profit, 4-year or above",
          "Public, 4-year or above",
          "Public, 4-year or above",
          "Private not-for-profit, 4-year or above",
          "Private not-for-profit, 4-year or above",
          "Private not-for-profit, 4-year or above",
          "Private not-for-profit, 4-year or above",
          "Private not-for-profit, 4-year or above",
          "Public, 4-year or above",
          "Public, 4-year or above",
          "Private not-for-profit, 4-year or above",
          "Public, 4-year or above",
          "Private not-for-profit, 4-year or above",
          "Private not-for-profit, 4-year or above",
          "Private not-for-profit, 4-year or above",
          "Private not-for-profit, 4-year or above",
          "Private not-for-profit, 4-year or above",
          "Public, 4-year or above",
          "Private not-for-profit, 4-year or above",
          "Public, 4-year or above",
          "Private not-for-profit, 4-year or above",
          "Private not-for-profit, 4-year or above",
          "Private not-for-profit, 4-year or above",
          "Private not-for-profit, 4-year or above",
          "Public, 4-year or above",
          "Public, 4-year or above",
          "Public, 4-year or above",
          "Public, 4-year or above",
          "Public, 4-year or above",
          "Public, 4-year or above",
          "Private not-for-profit, 4-year or above",
          "Public, 4-year or above",
          "Private not-for-profit, 4-year or above",
          "Private not-for-profit, 4-year or above",
          "Public, 4-year or above",
          "Public, 4-year or above",
          "Private not-for-profit, 4-year or above",
          "Private not-for-profit, 4-year or above",
          "Public, 4-year or above",
          "Private not-for-profit, 4-year or above",
          "Public, 4-year or above",
          "Private not-for-profit, 4-year or above",
          "Public, 4-year or above",
          "Private not-for-profit, 4-year or above",
          "Public, 4-year or above",
          "Private not-for-profit, 4-year or above",
          "Private not-for-profit, 4-year or above",
          "Private not-for-profit, 4-year or above",
          "Private not-for-profit, 4-year or above",
          "Private not-for-profit, 4-year or above",
          "Private not-for-profit, 4-year or above",
          "Private not-for-profit, 4-year or above",
          "Public, 4-year or above",
          "Private not-for-profit, 4-year or above",
          "Private not-for-profit, 4-year or above",
          "Private not-for-profit, 4-year or above",
          "Private not-for-profit, 4-year or above",
          "Private not-for-profit, 4-year or above",
          "Private not-for-profit, 4-year or above",
          "Private not-for-profit, 4-year or above",
          "Private not-for-profit, 4-year or above",
          "Public, 4-year or above",
          "Public, 4-year or above",
          "Private not-for-profit, 4-year or above",
          "Private not-for-profit, 4-year or above",
          "Private not-for-profit, 4-year or above",
          "Private not-for-profit, 4-year or above",
          "Private not-for-profit, 4-year or above",
          "Public, 4-year or above",
          "Public, 4-year or above",
          "Public, 4-year or above",
          "Public, 4-year or above",
          "Private not-for-profit, 4-year or above",
          "Private not-for-profit, 4-year or above",
          "Private not-for-profit, 4-year or above",
          "Private not-for-profit, 4-year or above",
          "Private not-for-profit, 4-year or above",
          "Public, 4-year or above",
          "Private not-for-profit, 4-year or above",
          "Private not-for-profit, 4-year or above",
          "Private not-for-profit, 4-year or above",
          "Public, 4-year or above",
          "Private not-for-profit, 4-year or above",
          "Private not-for-profit, 4-year or above",
          "Private not-for-profit, 4-year or above",
          "Public, 4-year or above",
          "Public, 4-year or above",
          "Private not-for-profit, 4-year or above",
          "Private not-for-profit, 4-year or above",
          "Public, 4-year or above",
          "Public, 4-year or above",
          "Public, 4-year or above",
          "Private not-for-profit, 4-year or above",
          "Private not-for-profit, 4-year or above",
          "Private not-for-profit, 4-year or above",
          "Public, 4-year or above",
          "Public, 4-year or above",
          "Private not-for-profit, 4-year or above",
          "Private not-for-profit, 4-year or above",
          "Private not-for-profit, 4-year or above",
          "Private not-for-profit, 4-year or above",
          "Public, 4-year or above",
          "Public, 4-year or above",
          "Private not-for-profit, 4-year or above",
          "Public, 4-year or above",
          "Private not-for-profit, 4-year or above",
          "Public, 4-year or above",
          "Private not-for-profit, 4-year or above",
          "Private not-for-profit, 4-year or above",
          "Private not-for-profit, 4-year or above",
          "Public, 4-year or above",
          "Private not-for-profit, 4-year or above",
          "Private not-for-profit, 4-year or above",
          "Private not-for-profit, 4-year or above",
          "Private not-for-profit, 4-year or above",
          "Private not-for-profit, 4-year or above",
          "Public, 4-year or above",
          "Public, 4-year or above",
          "Private not-for-profit, 4-year or above",
          "Public, 4-year or above",
          "Public, 4-year or above",
          "Public, 4-year or above",
          "Public, 4-year or above",
          "Public, 4-year or above",
          "Public, 4-year or above",
          "Public, 4-year or above",
          "Public, 4-year or above",
          "Public, 4-year or above",
          "Private not-for-profit, 4-year or above",
          "Private not-for-profit, 4-year or above",
          "Public, 4-year or above",
          "Public, 4-year or above",
          "Public, 4-year or above",
          "Public, 4-year or above",
          "Private not-for-profit, 4-year or above",
          "Public, 4-year or above",
          "Private not-for-profit, 4-year or above",
          "Private not-for-profit, 4-year or above",
          "Public, 4-year or above",
          "Private not-for-profit, 4-year or above",
          "Private not-for-profit, 4-year or above",
          "Public, 4-year or above",
          "Public, 4-year or above",
          "Public, 4-year or above",
          "Private not-for-profit, 4-year or above",
          "Private not-for-profit, 4-year or above",
          "Private not-for-profit, 4-year or above",
          "Public, 4-year or above",
          "Private not-for-profit, 4-year or above",
          "Private not-for-profit, 4-year or above",
          "Private not-for-profit, 4-year or above",
          "Public, 4-year or above",
          "Public, 4-year or above",
          "Private not-for-profit, 4-year or above",
          "Private not-for-profit, 4-year or above",
          "Private not-for-profit, 4-year or above",
          "Private not-for-profit, 4-year or above",
          "Private not-for-profit, 4-year or above",
          "Private not-for-profit, 4-year or above",
          "Private not-for-profit, 4-year or above",
          "Public, 4-year or above",
          "Public, 4-year or above",
          "Private not-for-profit, 4-year or above",
          "Private not-for-profit, 4-year or above",
          "Private not-for-profit, 4-year or above",
          "Public, 4-year or above",
          "Private not-for-profit, 4-year or above",
          "Public, 4-year or above",
          "Private not-for-profit, 4-year or above",
          "Private not-for-profit, 4-year or above",
          "Private not-for-profit, 4-year or above",
          "Public, 4-year or above",
          "Private not-for-profit, 4-year or above",
          "Private not-for-profit, 4-year or above",
          "Private not-for-profit, 4-year or above",
          "Public, 4-year or above",
          "Private not-for-profit, 4-year or above",
          "Public, 4-year or above",
          "Private not-for-profit, 4-year or above",
          "Private not-for-profit, 4-year or above",
          "Public, 4-year or above",
          "Private not-for-profit, 4-year or above",
          "Public, 4-year or above",
          "Public, 4-year or above",
          "Public, 4-year or above",
          "Private not-for-profit, 4-year or above",
          "Private not-for-profit, 4-year or above",
          "Private not-for-profit, 4-year or above",
          "Private not-for-profit, 4-year or above",
          "Private not-for-profit, 4-year or above",
          "Private not-for-profit, 4-year or above",
          "Private not-for-profit, 4-year or above",
          "Public, 4-year or above",
          "Private not-for-profit, 4-year or above",
          "Public, 4-year or above",
          "Public, 4-year or above",
          "Public, 4-year or above",
          "Public, 4-year or above",
          "Public, 4-year or above",
          "Private not-for-profit, 4-year or above",
          "Private not-for-profit, 4-year or above",
          "Private not-for-profit, 4-year or above",
          "Public, 4-year or above",
          "Public, 4-year or above",
          "Public, 4-year or above",
          "Private not-for-profit, 4-year or above",
          "Private not-for-profit, 4-year or above",
          "Private not-for-profit, 4-year or above",
          "Private not-for-profit, 4-year or above",
          "Private not-for-profit, 4-year or above",
          "Private not-for-profit, 4-year or above",
          "Private not-for-profit, 4-year or above",
          "Private not-for-profit, 4-year or above",
          "Private not-for-profit, 4-year or above",
          "Public, 4-year or above",
          "Public, 4-year or above",
          "Public, 4-year or above",
          "Private not-for-profit, 4-year or above",
          "Private not-for-profit, 4-year or above",
          "Private not-for-profit, 4-year or above",
          "Private not-for-profit, 4-year or above",
          "Public, 4-year or above",
          "Private not-for-profit, 4-year or above",
          "Public, 4-year or above",
          "Private not-for-profit, 4-year or above",
          "Public, 4-year or above",
          "Public, 4-year or above",
          "Public, 4-year or above",
          "Private not-for-profit, 4-year or above",
          "Public, 4-year or above",
          "Public, 4-year or above",
          "Public, 4-year or above",
          "Public, 4-year or above",
          "Private not-for-profit, 4-year or above",
          "Public, 4-year or above",
          "Private not-for-profit, 4-year or above",
          "Private not-for-profit, 4-year or above",
          "Private not-for-profit, 4-year or above",
          "Private not-for-profit, 4-year or above",
          "Private not-for-profit, 4-year or above",
          "Private not-for-profit, 4-year or above",
          "Private not-for-profit, 4-year or above",
          "Private not-for-profit, 4-year or above",
          "Private not-for-profit, 4-year or above",
          "Private not-for-profit, 4-year or above",
          "Private not-for-profit, 4-year or above",
          "Private not-for-profit, 4-year or above",
          "Private not-for-profit, 4-year or above",
          "Private not-for-profit, 4-year or above",
          "Private not-for-profit, 4-year or above",
          "Private not-for-profit, 4-year or above",
          "Private not-for-profit, 4-year or above",
          "Private not-for-profit, 4-year or above",
          "Private not-for-profit, 4-year or above",
          "Private not-for-profit, 4-year or above",
          "Public, 4-year or above",
          "Public, 4-year or above",
          "Public, 4-year or above",
          "Public, 4-year or above",
          "Private not-for-profit, 4-year or above",
          "Public, 4-year or above",
          "Public, 4-year or above",
          "Public, 4-year or above",
          "Public, 4-year or above",
          "Public, 4-year or above",
          "Public, 4-year or above",
          "Public, 4-year or above",
          "Public, 4-year or above",
          "Public, 4-year or above",
          "Public, 4-year or above",
          "Private not-for-profit, 4-year or above",
          "Public, 4-year or above",
          "Private not-for-profit, 4-year or above",
          "Private not-for-profit, 4-year or above",
          "Private not-for-profit, 4-year or above",
          "Public, 4-year or above",
          "Public, 4-year or above",
          "Private not-for-profit, 4-year or above",
          "Private not-for-profit, 4-year or above",
          "Public, 4-year or above",
          "Public, 4-year or above",
          "Private not-for-profit, 4-year or above",
          "Private not-for-profit, 4-year or above",
          "Private not-for-profit, 4-year or above",
          "Public, 4-year or above",
          "Private not-for-profit, 4-year or above",
          "Private not-for-profit, 4-year or above",
          "Public, 4-year or above",
          "Private not-for-profit, 4-year or above",
          "Private not-for-profit, 4-year or above",
          "Public, 4-year or above",
          "Public, 4-year or above",
          "Public, 4-year or above",
          "Private not-for-profit, 4-year or above",
          "Private not-for-profit, 4-year or above",
          "Public, 4-year or above",
          "Public, 4-year or above",
          "Private not-for-profit, 4-year or above",
          "Private not-for-profit, 4-year or above"
         ],
         "legendgroup": "",
         "name": "",
         "showlegend": true,
         "type": "pie",
         "values": {
          "bdata": "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",
          "dtype": "f8"
         }
        }
       ],
       "layout": {
        "height": 400,
        "legend": {
         "tracegroupgap": 0
        },
        "margin": {
         "t": 60
        },
        "template": {
         "data": {
          "bar": [
           {
            "error_x": {
             "color": "#2a3f5f"
            },
            "error_y": {
             "color": "#2a3f5f"
            },
            "marker": {
             "line": {
              "color": "#E5ECF6",
              "width": 0.5
             },
             "pattern": {
              "fillmode": "overlay",
              "size": 10,
              "solidity": 0.2
             }
            },
            "type": "bar"
           }
          ],
          "barpolar": [
           {
            "marker": {
             "line": {
              "color": "#E5ECF6",
              "width": 0.5
             },
             "pattern": {
              "fillmode": "overlay",
              "size": 10,
              "solidity": 0.2
             }
            },
            "type": "barpolar"
           }
          ],
          "carpet": [
           {
            "aaxis": {
             "endlinecolor": "#2a3f5f",
             "gridcolor": "white",
             "linecolor": "white",
             "minorgridcolor": "white",
             "startlinecolor": "#2a3f5f"
            },
            "baxis": {
             "endlinecolor": "#2a3f5f",
             "gridcolor": "white",
             "linecolor": "white",
             "minorgridcolor": "white",
             "startlinecolor": "#2a3f5f"
            },
            "type": "carpet"
           }
          ],
          "choropleth": [
           {
            "colorbar": {
             "outlinewidth": 0,
             "ticks": ""
            },
            "type": "choropleth"
           }
          ],
          "contour": [
           {
            "colorbar": {
             "outlinewidth": 0,
             "ticks": ""
            },
            "colorscale": [
             [
              0,
              "#0d0887"
             ],
             [
              0.1111111111111111,
              "#46039f"
             ],
             [
              0.2222222222222222,
              "#7201a8"
             ],
             [
              0.3333333333333333,
              "#9c179e"
             ],
             [
              0.4444444444444444,
              "#bd3786"
             ],
             [
              0.5555555555555556,
              "#d8576b"
             ],
             [
              0.6666666666666666,
              "#ed7953"
             ],
             [
              0.7777777777777778,
              "#fb9f3a"
             ],
             [
              0.8888888888888888,
              "#fdca26"
             ],
             [
              1,
              "#f0f921"
             ]
            ],
            "type": "contour"
           }
          ],
          "contourcarpet": [
           {
            "colorbar": {
             "outlinewidth": 0,
             "ticks": ""
            },
            "type": "contourcarpet"
           }
          ],
          "heatmap": [
           {
            "colorbar": {
             "outlinewidth": 0,
             "ticks": ""
            },
            "colorscale": [
             [
              0,
              "#0d0887"
             ],
             [
              0.1111111111111111,
              "#46039f"
             ],
             [
              0.2222222222222222,
              "#7201a8"
             ],
             [
              0.3333333333333333,
              "#9c179e"
             ],
             [
              0.4444444444444444,
              "#bd3786"
             ],
             [
              0.5555555555555556,
              "#d8576b"
             ],
             [
              0.6666666666666666,
              "#ed7953"
             ],
             [
              0.7777777777777778,
              "#fb9f3a"
             ],
             [
              0.8888888888888888,
              "#fdca26"
             ],
             [
              1,
              "#f0f921"
             ]
            ],
            "type": "heatmap"
           }
          ],
          "histogram": [
           {
            "marker": {
             "pattern": {
              "fillmode": "overlay",
              "size": 10,
              "solidity": 0.2
             }
            },
            "type": "histogram"
           }
          ],
          "histogram2d": [
           {
            "colorbar": {
             "outlinewidth": 0,
             "ticks": ""
            },
            "colorscale": [
             [
              0,
              "#0d0887"
             ],
             [
              0.1111111111111111,
              "#46039f"
             ],
             [
              0.2222222222222222,
              "#7201a8"
             ],
             [
              0.3333333333333333,
              "#9c179e"
             ],
             [
              0.4444444444444444,
              "#bd3786"
             ],
             [
              0.5555555555555556,
              "#d8576b"
             ],
             [
              0.6666666666666666,
              "#ed7953"
             ],
             [
              0.7777777777777778,
              "#fb9f3a"
             ],
             [
              0.8888888888888888,
              "#fdca26"
             ],
             [
              1,
              "#f0f921"
             ]
            ],
            "type": "histogram2d"
           }
          ],
          "histogram2dcontour": [
           {
            "colorbar": {
             "outlinewidth": 0,
             "ticks": ""
            },
            "colorscale": [
             [
              0,
              "#0d0887"
             ],
             [
              0.1111111111111111,
              "#46039f"
             ],
             [
              0.2222222222222222,
              "#7201a8"
             ],
             [
              0.3333333333333333,
              "#9c179e"
             ],
             [
              0.4444444444444444,
              "#bd3786"
             ],
             [
              0.5555555555555556,
              "#d8576b"
             ],
             [
              0.6666666666666666,
              "#ed7953"
             ],
             [
              0.7777777777777778,
              "#fb9f3a"
             ],
             [
              0.8888888888888888,
              "#fdca26"
             ],
             [
              1,
              "#f0f921"
             ]
            ],
            "type": "histogram2dcontour"
           }
          ],
          "mesh3d": [
           {
            "colorbar": {
             "outlinewidth": 0,
             "ticks": ""
            },
            "type": "mesh3d"
           }
          ],
          "parcoords": [
           {
            "line": {
             "colorbar": {
              "outlinewidth": 0,
              "ticks": ""
             }
            },
            "type": "parcoords"
           }
          ],
          "pie": [
           {
            "automargin": true,
            "type": "pie"
           }
          ],
          "scatter": [
           {
            "fillpattern": {
             "fillmode": "overlay",
             "size": 10,
             "solidity": 0.2
            },
            "type": "scatter"
           }
          ],
          "scatter3d": [
           {
            "line": {
             "colorbar": {
              "outlinewidth": 0,
              "ticks": ""
             }
            },
            "marker": {
             "colorbar": {
              "outlinewidth": 0,
              "ticks": ""
             }
            },
            "type": "scatter3d"
           }
          ],
          "scattercarpet": [
           {
            "marker": {
             "colorbar": {
              "outlinewidth": 0,
              "ticks": ""
             }
            },
            "type": "scattercarpet"
           }
          ],
          "scattergeo": [
           {
            "marker": {
             "colorbar": {
              "outlinewidth": 0,
              "ticks": ""
             }
            },
            "type": "scattergeo"
           }
          ],
          "scattergl": [
           {
            "marker": {
             "colorbar": {
              "outlinewidth": 0,
              "ticks": ""
             }
            },
            "type": "scattergl"
           }
          ],
          "scattermap": [
           {
            "marker": {
             "colorbar": {
              "outlinewidth": 0,
              "ticks": ""
             }
            },
            "type": "scattermap"
           }
          ],
          "scattermapbox": [
           {
            "marker": {
             "colorbar": {
              "outlinewidth": 0,
              "ticks": ""
             }
            },
            "type": "scattermapbox"
           }
          ],
          "scatterpolar": [
           {
            "marker": {
             "colorbar": {
              "outlinewidth": 0,
              "ticks": ""
             }
            },
            "type": "scatterpolar"
           }
          ],
          "scatterpolargl": [
           {
            "marker": {
             "colorbar": {
              "outlinewidth": 0,
              "ticks": ""
             }
            },
            "type": "scatterpolargl"
           }
          ],
          "scatterternary": [
           {
            "marker": {
             "colorbar": {
              "outlinewidth": 0,
              "ticks": ""
             }
            },
            "type": "scatterternary"
           }
          ],
          "surface": [
           {
            "colorbar": {
             "outlinewidth": 0,
             "ticks": ""
            },
            "colorscale": [
             [
              0,
              "#0d0887"
             ],
             [
              0.1111111111111111,
              "#46039f"
             ],
             [
              0.2222222222222222,
              "#7201a8"
             ],
             [
              0.3333333333333333,
              "#9c179e"
             ],
             [
              0.4444444444444444,
              "#bd3786"
             ],
             [
              0.5555555555555556,
              "#d8576b"
             ],
             [
              0.6666666666666666,
              "#ed7953"
             ],
             [
              0.7777777777777778,
              "#fb9f3a"
             ],
             [
              0.8888888888888888,
              "#fdca26"
             ],
             [
              1,
              "#f0f921"
             ]
            ],
            "type": "surface"
           }
          ],
          "table": [
           {
            "cells": {
             "fill": {
              "color": "#EBF0F8"
             },
             "line": {
              "color": "white"
             }
            },
            "header": {
             "fill": {
              "color": "#C8D4E3"
             },
             "line": {
              "color": "white"
             }
            },
            "type": "table"
           }
          ]
         },
         "layout": {
          "annotationdefaults": {
           "arrowcolor": "#2a3f5f",
           "arrowhead": 0,
           "arrowwidth": 1
          },
          "autotypenumbers": "strict",
          "coloraxis": {
           "colorbar": {
            "outlinewidth": 0,
            "ticks": ""
           }
          },
          "colorscale": {
           "diverging": [
            [
             0,
             "#8e0152"
            ],
            [
             0.1,
             "#c51b7d"
            ],
            [
             0.2,
             "#de77ae"
            ],
            [
             0.3,
             "#f1b6da"
            ],
            [
             0.4,
             "#fde0ef"
            ],
            [
             0.5,
             "#f7f7f7"
            ],
            [
             0.6,
             "#e6f5d0"
            ],
            [
             0.7,
             "#b8e186"
            ],
            [
             0.8,
             "#7fbc41"
            ],
            [
             0.9,
             "#4d9221"
            ],
            [
             1,
             "#276419"
            ]
           ],
           "sequential": [
            [
             0,
             "#0d0887"
            ],
            [
             0.1111111111111111,
             "#46039f"
            ],
            [
             0.2222222222222222,
             "#7201a8"
            ],
            [
             0.3333333333333333,
             "#9c179e"
            ],
            [
             0.4444444444444444,
             "#bd3786"
            ],
            [
             0.5555555555555556,
             "#d8576b"
            ],
            [
             0.6666666666666666,
             "#ed7953"
            ],
            [
             0.7777777777777778,
             "#fb9f3a"
            ],
            [
             0.8888888888888888,
             "#fdca26"
            ],
            [
             1,
             "#f0f921"
            ]
           ],
           "sequentialminus": [
            [
             0,
             "#0d0887"
            ],
            [
             0.1111111111111111,
             "#46039f"
            ],
            [
             0.2222222222222222,
             "#7201a8"
            ],
            [
             0.3333333333333333,
             "#9c179e"
            ],
            [
             0.4444444444444444,
             "#bd3786"
            ],
            [
             0.5555555555555556,
             "#d8576b"
            ],
            [
             0.6666666666666666,
             "#ed7953"
            ],
            [
             0.7777777777777778,
             "#fb9f3a"
            ],
            [
             0.8888888888888888,
             "#fdca26"
            ],
            [
             1,
             "#f0f921"
            ]
           ]
          },
          "colorway": [
           "#636efa",
           "#EF553B",
           "#00cc96",
           "#ab63fa",
           "#FFA15A",
           "#19d3f3",
           "#FF6692",
           "#B6E880",
           "#FF97FF",
           "#FECB52"
          ],
          "font": {
           "color": "#2a3f5f"
          },
          "geo": {
           "bgcolor": "white",
           "lakecolor": "white",
           "landcolor": "#E5ECF6",
           "showlakes": true,
           "showland": true,
           "subunitcolor": "white"
          },
          "hoverlabel": {
           "align": "left"
          },
          "hovermode": "closest",
          "mapbox": {
           "style": "light"
          },
          "paper_bgcolor": "white",
          "plot_bgcolor": "#E5ECF6",
          "polar": {
           "angularaxis": {
            "gridcolor": "white",
            "linecolor": "white",
            "ticks": ""
           },
           "bgcolor": "#E5ECF6",
           "radialaxis": {
            "gridcolor": "white",
            "linecolor": "white",
            "ticks": ""
           }
          },
          "scene": {
           "xaxis": {
            "backgroundcolor": "#E5ECF6",
            "gridcolor": "white",
            "gridwidth": 2,
            "linecolor": "white",
            "showbackground": true,
            "ticks": "",
            "zerolinecolor": "white"
           },
           "yaxis": {
            "backgroundcolor": "#E5ECF6",
            "gridcolor": "white",
            "gridwidth": 2,
            "linecolor": "white",
            "showbackground": true,
            "ticks": "",
            "zerolinecolor": "white"
           },
           "zaxis": {
            "backgroundcolor": "#E5ECF6",
            "gridcolor": "white",
            "gridwidth": 2,
            "linecolor": "white",
            "showbackground": true,
            "ticks": "",
            "zerolinecolor": "white"
           }
          },
          "shapedefaults": {
           "line": {
            "color": "#2a3f5f"
           }
          },
          "ternary": {
           "aaxis": {
            "gridcolor": "white",
            "linecolor": "white",
            "ticks": ""
           },
           "baxis": {
            "gridcolor": "white",
            "linecolor": "white",
            "ticks": ""
           },
           "bgcolor": "#E5ECF6",
           "caxis": {
            "gridcolor": "white",
            "linecolor": "white",
            "ticks": ""
           }
          },
          "title": {
           "x": 0.05
          },
          "xaxis": {
           "automargin": true,
           "gridcolor": "white",
           "linecolor": "white",
           "ticks": "",
           "title": {
            "standoff": 15
           },
           "zerolinecolor": "white",
           "zerolinewidth": 2
          },
          "yaxis": {
           "automargin": true,
           "gridcolor": "white",
           "linecolor": "white",
           "ticks": "",
           "title": {
            "standoff": 15
           },
           "zerolinecolor": "white",
           "zerolinewidth": 2
          }
         }
        }
       }
      }
     },
     "metadata": {},
     "output_type": "display_data"
    }
   ],
   "source": [
    "\n",
    "fig = px.pie(df, names='Sector of institution', values='Enrolled total', height=400)\n",
    "fig.show()"
   ]
  },
  {
   "cell_type": "markdown",
   "metadata": {},
   "source": [
    "Conclusion: Students are more likely to choose a public university"
   ]
  },
  {
   "cell_type": "markdown",
   "metadata": {},
   "source": [
    "### 4-Do students prefer universities with low tuition and fees?"
   ]
  },
  {
   "cell_type": "code",
   "execution_count": 16,
   "metadata": {},
   "outputs": [
    {
     "data": {
      "application/vnd.plotly.v1+json": {
       "config": {
        "plotlyServerURL": "https://plot.ly"
       },
       "data": [
        {
         "hovertemplate": "Tuition and fees, 2013-14=%{x}<br>Enrolled total=%{y}<extra></extra>",
         "legendgroup": "",
         "marker": {
          "color": "#636efa",
          "symbol": "circle"
         },
         "mode": "markers",
         "name": "",
         "showlegend": false,
         "type": "scattergl",
         "x": {
          "bdata": "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",
          "dtype": "f8"
         },
         "xaxis": "x",
         "y": {
          "bdata": "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",
          "dtype": "f8"
         },
         "yaxis": "y"
        }
       ],
       "layout": {
        "legend": {
         "tracegroupgap": 0
        },
        "margin": {
         "t": 60
        },
        "template": {
         "data": {
          "bar": [
           {
            "error_x": {
             "color": "#2a3f5f"
            },
            "error_y": {
             "color": "#2a3f5f"
            },
            "marker": {
             "line": {
              "color": "#E5ECF6",
              "width": 0.5
             },
             "pattern": {
              "fillmode": "overlay",
              "size": 10,
              "solidity": 0.2
             }
            },
            "type": "bar"
           }
          ],
          "barpolar": [
           {
            "marker": {
             "line": {
              "color": "#E5ECF6",
              "width": 0.5
             },
             "pattern": {
              "fillmode": "overlay",
              "size": 10,
              "solidity": 0.2
             }
            },
            "type": "barpolar"
           }
          ],
          "carpet": [
           {
            "aaxis": {
             "endlinecolor": "#2a3f5f",
             "gridcolor": "white",
             "linecolor": "white",
             "minorgridcolor": "white",
             "startlinecolor": "#2a3f5f"
            },
            "baxis": {
             "endlinecolor": "#2a3f5f",
             "gridcolor": "white",
             "linecolor": "white",
             "minorgridcolor": "white",
             "startlinecolor": "#2a3f5f"
            },
            "type": "carpet"
           }
          ],
          "choropleth": [
           {
            "colorbar": {
             "outlinewidth": 0,
             "ticks": ""
            },
            "type": "choropleth"
           }
          ],
          "contour": [
           {
            "colorbar": {
             "outlinewidth": 0,
             "ticks": ""
            },
            "colorscale": [
             [
              0,
              "#0d0887"
             ],
             [
              0.1111111111111111,
              "#46039f"
             ],
             [
              0.2222222222222222,
              "#7201a8"
             ],
             [
              0.3333333333333333,
              "#9c179e"
             ],
             [
              0.4444444444444444,
              "#bd3786"
             ],
             [
              0.5555555555555556,
              "#d8576b"
             ],
             [
              0.6666666666666666,
              "#ed7953"
             ],
             [
              0.7777777777777778,
              "#fb9f3a"
             ],
             [
              0.8888888888888888,
              "#fdca26"
             ],
             [
              1,
              "#f0f921"
             ]
            ],
            "type": "contour"
           }
          ],
          "contourcarpet": [
           {
            "colorbar": {
             "outlinewidth": 0,
             "ticks": ""
            },
            "type": "contourcarpet"
           }
          ],
          "heatmap": [
           {
            "colorbar": {
             "outlinewidth": 0,
             "ticks": ""
            },
            "colorscale": [
             [
              0,
              "#0d0887"
             ],
             [
              0.1111111111111111,
              "#46039f"
             ],
             [
              0.2222222222222222,
              "#7201a8"
             ],
             [
              0.3333333333333333,
              "#9c179e"
             ],
             [
              0.4444444444444444,
              "#bd3786"
             ],
             [
              0.5555555555555556,
              "#d8576b"
             ],
             [
              0.6666666666666666,
              "#ed7953"
             ],
             [
              0.7777777777777778,
              "#fb9f3a"
             ],
             [
              0.8888888888888888,
              "#fdca26"
             ],
             [
              1,
              "#f0f921"
             ]
            ],
            "type": "heatmap"
           }
          ],
          "histogram": [
           {
            "marker": {
             "pattern": {
              "fillmode": "overlay",
              "size": 10,
              "solidity": 0.2
             }
            },
            "type": "histogram"
           }
          ],
          "histogram2d": [
           {
            "colorbar": {
             "outlinewidth": 0,
             "ticks": ""
            },
            "colorscale": [
             [
              0,
              "#0d0887"
             ],
             [
              0.1111111111111111,
              "#46039f"
             ],
             [
              0.2222222222222222,
              "#7201a8"
             ],
             [
              0.3333333333333333,
              "#9c179e"
             ],
             [
              0.4444444444444444,
              "#bd3786"
             ],
             [
              0.5555555555555556,
              "#d8576b"
             ],
             [
              0.6666666666666666,
              "#ed7953"
             ],
             [
              0.7777777777777778,
              "#fb9f3a"
             ],
             [
              0.8888888888888888,
              "#fdca26"
             ],
             [
              1,
              "#f0f921"
             ]
            ],
            "type": "histogram2d"
           }
          ],
          "histogram2dcontour": [
           {
            "colorbar": {
             "outlinewidth": 0,
             "ticks": ""
            },
            "colorscale": [
             [
              0,
              "#0d0887"
             ],
             [
              0.1111111111111111,
              "#46039f"
             ],
             [
              0.2222222222222222,
              "#7201a8"
             ],
             [
              0.3333333333333333,
              "#9c179e"
             ],
             [
              0.4444444444444444,
              "#bd3786"
             ],
             [
              0.5555555555555556,
              "#d8576b"
             ],
             [
              0.6666666666666666,
              "#ed7953"
             ],
             [
              0.7777777777777778,
              "#fb9f3a"
             ],
             [
              0.8888888888888888,
              "#fdca26"
             ],
             [
              1,
              "#f0f921"
             ]
            ],
            "type": "histogram2dcontour"
           }
          ],
          "mesh3d": [
           {
            "colorbar": {
             "outlinewidth": 0,
             "ticks": ""
            },
            "type": "mesh3d"
           }
          ],
          "parcoords": [
           {
            "line": {
             "colorbar": {
              "outlinewidth": 0,
              "ticks": ""
             }
            },
            "type": "parcoords"
           }
          ],
          "pie": [
           {
            "automargin": true,
            "type": "pie"
           }
          ],
          "scatter": [
           {
            "fillpattern": {
             "fillmode": "overlay",
             "size": 10,
             "solidity": 0.2
            },
            "type": "scatter"
           }
          ],
          "scatter3d": [
           {
            "line": {
             "colorbar": {
              "outlinewidth": 0,
              "ticks": ""
             }
            },
            "marker": {
             "colorbar": {
              "outlinewidth": 0,
              "ticks": ""
             }
            },
            "type": "scatter3d"
           }
          ],
          "scattercarpet": [
           {
            "marker": {
             "colorbar": {
              "outlinewidth": 0,
              "ticks": ""
             }
            },
            "type": "scattercarpet"
           }
          ],
          "scattergeo": [
           {
            "marker": {
             "colorbar": {
              "outlinewidth": 0,
              "ticks": ""
             }
            },
            "type": "scattergeo"
           }
          ],
          "scattergl": [
           {
            "marker": {
             "colorbar": {
              "outlinewidth": 0,
              "ticks": ""
             }
            },
            "type": "scattergl"
           }
          ],
          "scattermap": [
           {
            "marker": {
             "colorbar": {
              "outlinewidth": 0,
              "ticks": ""
             }
            },
            "type": "scattermap"
           }
          ],
          "scattermapbox": [
           {
            "marker": {
             "colorbar": {
              "outlinewidth": 0,
              "ticks": ""
             }
            },
            "type": "scattermapbox"
           }
          ],
          "scatterpolar": [
           {
            "marker": {
             "colorbar": {
              "outlinewidth": 0,
              "ticks": ""
             }
            },
            "type": "scatterpolar"
           }
          ],
          "scatterpolargl": [
           {
            "marker": {
             "colorbar": {
              "outlinewidth": 0,
              "ticks": ""
             }
            },
            "type": "scatterpolargl"
           }
          ],
          "scatterternary": [
           {
            "marker": {
             "colorbar": {
              "outlinewidth": 0,
              "ticks": ""
             }
            },
            "type": "scatterternary"
           }
          ],
          "surface": [
           {
            "colorbar": {
             "outlinewidth": 0,
             "ticks": ""
            },
            "colorscale": [
             [
              0,
              "#0d0887"
             ],
             [
              0.1111111111111111,
              "#46039f"
             ],
             [
              0.2222222222222222,
              "#7201a8"
             ],
             [
              0.3333333333333333,
              "#9c179e"
             ],
             [
              0.4444444444444444,
              "#bd3786"
             ],
             [
              0.5555555555555556,
              "#d8576b"
             ],
             [
              0.6666666666666666,
              "#ed7953"
             ],
             [
              0.7777777777777778,
              "#fb9f3a"
             ],
             [
              0.8888888888888888,
              "#fdca26"
             ],
             [
              1,
              "#f0f921"
             ]
            ],
            "type": "surface"
           }
          ],
          "table": [
           {
            "cells": {
             "fill": {
              "color": "#EBF0F8"
             },
             "line": {
              "color": "white"
             }
            },
            "header": {
             "fill": {
              "color": "#C8D4E3"
             },
             "line": {
              "color": "white"
             }
            },
            "type": "table"
           }
          ]
         },
         "layout": {
          "annotationdefaults": {
           "arrowcolor": "#2a3f5f",
           "arrowhead": 0,
           "arrowwidth": 1
          },
          "autotypenumbers": "strict",
          "coloraxis": {
           "colorbar": {
            "outlinewidth": 0,
            "ticks": ""
           }
          },
          "colorscale": {
           "diverging": [
            [
             0,
             "#8e0152"
            ],
            [
             0.1,
             "#c51b7d"
            ],
            [
             0.2,
             "#de77ae"
            ],
            [
             0.3,
             "#f1b6da"
            ],
            [
             0.4,
             "#fde0ef"
            ],
            [
             0.5,
             "#f7f7f7"
            ],
            [
             0.6,
             "#e6f5d0"
            ],
            [
             0.7,
             "#b8e186"
            ],
            [
             0.8,
             "#7fbc41"
            ],
            [
             0.9,
             "#4d9221"
            ],
            [
             1,
             "#276419"
            ]
           ],
           "sequential": [
            [
             0,
             "#0d0887"
            ],
            [
             0.1111111111111111,
             "#46039f"
            ],
            [
             0.2222222222222222,
             "#7201a8"
            ],
            [
             0.3333333333333333,
             "#9c179e"
            ],
            [
             0.4444444444444444,
             "#bd3786"
            ],
            [
             0.5555555555555556,
             "#d8576b"
            ],
            [
             0.6666666666666666,
             "#ed7953"
            ],
            [
             0.7777777777777778,
             "#fb9f3a"
            ],
            [
             0.8888888888888888,
             "#fdca26"
            ],
            [
             1,
             "#f0f921"
            ]
           ],
           "sequentialminus": [
            [
             0,
             "#0d0887"
            ],
            [
             0.1111111111111111,
             "#46039f"
            ],
            [
             0.2222222222222222,
             "#7201a8"
            ],
            [
             0.3333333333333333,
             "#9c179e"
            ],
            [
             0.4444444444444444,
             "#bd3786"
            ],
            [
             0.5555555555555556,
             "#d8576b"
            ],
            [
             0.6666666666666666,
             "#ed7953"
            ],
            [
             0.7777777777777778,
             "#fb9f3a"
            ],
            [
             0.8888888888888888,
             "#fdca26"
            ],
            [
             1,
             "#f0f921"
            ]
           ]
          },
          "colorway": [
           "#636efa",
           "#EF553B",
           "#00cc96",
           "#ab63fa",
           "#FFA15A",
           "#19d3f3",
           "#FF6692",
           "#B6E880",
           "#FF97FF",
           "#FECB52"
          ],
          "font": {
           "color": "#2a3f5f"
          },
          "geo": {
           "bgcolor": "white",
           "lakecolor": "white",
           "landcolor": "#E5ECF6",
           "showlakes": true,
           "showland": true,
           "subunitcolor": "white"
          },
          "hoverlabel": {
           "align": "left"
          },
          "hovermode": "closest",
          "mapbox": {
           "style": "light"
          },
          "paper_bgcolor": "white",
          "plot_bgcolor": "#E5ECF6",
          "polar": {
           "angularaxis": {
            "gridcolor": "white",
            "linecolor": "white",
            "ticks": ""
           },
           "bgcolor": "#E5ECF6",
           "radialaxis": {
            "gridcolor": "white",
            "linecolor": "white",
            "ticks": ""
           }
          },
          "scene": {
           "xaxis": {
            "backgroundcolor": "#E5ECF6",
            "gridcolor": "white",
            "gridwidth": 2,
            "linecolor": "white",
            "showbackground": true,
            "ticks": "",
            "zerolinecolor": "white"
           },
           "yaxis": {
            "backgroundcolor": "#E5ECF6",
            "gridcolor": "white",
            "gridwidth": 2,
            "linecolor": "white",
            "showbackground": true,
            "ticks": "",
            "zerolinecolor": "white"
           },
           "zaxis": {
            "backgroundcolor": "#E5ECF6",
            "gridcolor": "white",
            "gridwidth": 2,
            "linecolor": "white",
            "showbackground": true,
            "ticks": "",
            "zerolinecolor": "white"
           }
          },
          "shapedefaults": {
           "line": {
            "color": "#2a3f5f"
           }
          },
          "ternary": {
           "aaxis": {
            "gridcolor": "white",
            "linecolor": "white",
            "ticks": ""
           },
           "baxis": {
            "gridcolor": "white",
            "linecolor": "white",
            "ticks": ""
           },
           "bgcolor": "#E5ECF6",
           "caxis": {
            "gridcolor": "white",
            "linecolor": "white",
            "ticks": ""
           }
          },
          "title": {
           "x": 0.05
          },
          "xaxis": {
           "automargin": true,
           "gridcolor": "white",
           "linecolor": "white",
           "ticks": "",
           "title": {
            "standoff": 15
           },
           "zerolinecolor": "white",
           "zerolinewidth": 2
          },
          "yaxis": {
           "automargin": true,
           "gridcolor": "white",
           "linecolor": "white",
           "ticks": "",
           "title": {
            "standoff": 15
           },
           "zerolinecolor": "white",
           "zerolinewidth": 2
          }
         }
        },
        "xaxis": {
         "anchor": "y",
         "domain": [
          0,
          1
         ],
         "title": {
          "text": "Tuition and fees, 2013-14"
         }
        },
        "yaxis": {
         "anchor": "x",
         "domain": [
          0,
          1
         ],
         "title": {
          "text": "Enrolled total"
         }
        }
       }
      }
     },
     "metadata": {},
     "output_type": "display_data"
    }
   ],
   "source": [
    "fig = px.scatter(df, x=\"Tuition and fees, 2013-14\", y=\"Enrolled total\")\n",
    "fig.show()"
   ]
  },
  {
   "cell_type": "markdown",
   "metadata": {},
   "source": [
    "Conclusion: There is almost no correlation, however we can tell that cheaper universities have a wider range of enrollment"
   ]
  },
  {
   "cell_type": "markdown",
   "metadata": {},
   "source": [
    "### 5-Do students prefer a university for its low on-campus cost of living?"
   ]
  },
  {
   "cell_type": "code",
   "execution_count": 17,
   "metadata": {},
   "outputs": [
    {
     "data": {
      "application/vnd.plotly.v1+json": {
       "config": {
        "plotlyServerURL": "https://plot.ly"
       },
       "data": [
        {
         "hovertemplate": "Total price for in-state students living on campus 2013-14=%{x}<br>Enrolled total=%{y}<extra></extra>",
         "legendgroup": "",
         "marker": {
          "color": "#636efa",
          "symbol": "circle"
         },
         "mode": "markers",
         "name": "",
         "showlegend": false,
         "type": "scattergl",
         "x": {
          "bdata": "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",
          "dtype": "f8"
         },
         "xaxis": "x",
         "y": {
          "bdata": "AAAAAABAkUAAAAAAALSbQAAAAAAAWIRAAAAAAAAcl0AAAAAAADa5QAAAAAAAGIJAAAAAAAAcrUAAAAAAAEB2QAAAAAAAUHBAAAAAAAAYkkAAAAAAAABRQAAAAAAAwHdAAAAAAAAwcEAAAAAAAJiAQAAAAAAAUI5AAAAAAACQeUAAAAAAAOiHQAAAAAAAWJ1AAAAAAADwekAAAAAAABBwQAAAAAAATqBAAAAAAABQhEAAAAAAAIBAQAAAAAAAA7xAAAAAAADpvEAAAAAAAAB8QAAAAAAApLJAAAAAAACASEAAAAAAAIBWQAAAAAAA2IRAAAAAAADAZUAAAAAAAPOwQAAAAAAAwIFAAAAAAABMmUAAAAAAAGybQAAAAAAA2qBAAAAAAAAgYEAAAAAAAESQQAAAAAAAAIZAAAAAAABAe0AAAAAAABBzQAAAAAAAoHhAAAAAAADgY0AAAAAAAIBjQAAAAAAAuIRAAAAAAAD8lEAAAAAAAIiTQAAAAAAAOIxAAAAAAAAIj0AAAAAAACBvQAAAAAAA4IBAAAAAAABmrEAAAAAAAAA8QAAAAAAAwJRAAAAAAABUkUAAAAAAACCjQAAAAAAAYKhAAAAAAAA0pUAAAAAAAPiSQAAAAAAAhqhAAAAAAACusUAAAAAAAJCYQAAAAAAAtLBAAAAAAAC4pkAAAAAAADWwQAAAAAAAnqhAAAAAAABCsEAAAAAAAFi0QAAAAAAA1bNAAAAAAAD0tUAAAAAAAISvQAAAAAAA37FAAAAAAACFskAAAAAAAOatQAAAAAAAwGhAAAAAAAAklEAAAAAAAFB3QAAAAAAAwFhAAAAAAAAQdUAAAAAAAABOQAAAAAAAEHNAAAAAAACAakAAAAAAAAAAAAAAAAAAIGtAAAAAAADAVUAAAAAAAFSTQAAAAAAAADdAAAAAAAB4g0AAAAAAANB9QAAAAAAAIGpAAAAAAAD0lEAAAAAAAGBhQAAAAAAAIGtAAAAAAAB4gUAAAAAAAIBlQAAAAAAAIIFAAAAAAACAU0AAAAAAAPB0QAAAAAAA8I1AAAAAAACAiEAAAAAAAFBwQAAAAAAAOIRAAAAAAADQeEAAAAAAAAiFQAAAAAAAK7BAAAAAAABYk0AAAAAAAL6tQAAAAAAA8JFAAAAAAABwqkAAAAAAAPiTQAAAAAAAAHFAAAAAAADAYkAAAAAAAHCDQAAAAAAAVJtAAAAAAACAeEAAAAAAANSmQAAAAAAAAFZAAAAAAACgckAAAAAAAOB7QAAAAAAAgF1AAAAAAAA4gEAAAAAAAPiOQAAAAAAAQJlAAAAAAADWtkAAAAAAAPB7QAAAAAAAUIBAAAAAAACojUAAAAAAAFuxQAAAAAAAFJZAAAAAAABgi0AAAAAAAEyhQAAAAAAAHJ9AAAAAAAAAQ0AAAAAAAEyeQAAAAAAAmIBAAAAAAACgjEAAAAAAAJB9QAAAAAAAgGBAAAAAAADwgEAAAAAAADSUQAAAAAAAcH9AAAAAAABWrUAAAAAAAMiOQAAAAAAA8I5AAAAAAADMk0AAAAAAAEBmQAAAAAAAWJJAAAAAAAAsnEAAAAAAAAiLQAAAAAAAIGNAAAAAAACQlUAAAAAAAOCCQAAAAAAAgIdAAAAAAADoiEAAAAAAADCVQAAAAAAAMJBAAAAAAACAsEAAAAAAAGCBQAAAAAAAbJlAAAAAAAAoikAAAAAAACBpQAAAAAAApqJAAAAAAACImEAAAAAAAMiVQAAAAAAAQHFAAAAAAAAAgkAAAAAAAPCPQAAAAAAAgHxAAAAAAAAAMEAAAAAAALS3QAAAAAAAgF9AAAAAAACwgEAAAAAAAABqQAAAAAAAgI1AAAAAAADkkUAAAAAAAC6rQAAAAAAAIIZAAAAAAACAaEAAAAAAAHiIQAAAAAAAXKdAAAAAAAAAe0AAAAAAANiDQAAAAAAAoLdAAAAAAADluEAAAAAAAICAQAAAAAAAlKxAAAAAAAC4oEAAAAAAAIBEQAAAAAAAPJlAAAAAAAAIhUAAAAAAAFiCQAAAAAAA0H1AAAAAAAAohEAAAAAAAICuQAAAAAAAQGpAAAAAAACgikAAAAAAAAiLQAAAAAAA4JhAAAAAAABgZkAAAAAAAOBpQAAAAAAA1JRAAAAAAADAb0AAAAAAAFB/QAAAAAAAoJFAAAAAAADAbUAAAAAAAGiIQAAAAAAAAIVAAAAAAADAaUAAAAAAAMBiQAAAAAAACIFAAAAAAABUkEAAAAAAAMBwQAAAAAAAgGNAAAAAAABMlUAAAAAAAICDQAAAAAAAyKdAAAAAAACAd0AAAAAAAMCVQAAAAAAAKKxAAAAAAAAIq0AAAAAAAEizQAAAAAAA9KhAAAAAAADwcEAAAAAAAIBqQAAAAAAAwIZAAAAAAACAfkAAAAAAAKBxQAAAAAAAwHBAAAAAAADgb0AAAAAAAMB4QAAAAAAAVJRAAAAAAABQc0AAAAAAAFiAQAAAAAAA6IhAAAAAAACAUEAAAAAAAEBmQAAAAAAAgGlAAAAAAAAYm0AAAAAAAEBdQAAAAAAATKFAAAAAAACwcEAAAAAAANB8QAAAAAAA9J5AAAAAAAB4gkAAAAAAANByQAAAAAAAOqFAAAAAAACsmUAAAAAAAEByQAAAAAAAsH1AAAAAAABQcEAAAAAAAPCqQAAAAAAAmINAAAAAAAAwhEAAAAAAAABdQAAAAAAA9JBAAAAAAABAcUAAAAAAAEiWQAAAAAAA4qBAAAAAAACAd0AAAAAAAPKiQAAAAAAA1JRAAAAAAACgf0AAAAAAAEBhQAAAAAAAUHFAAAAAAABAqEAAAAAAANiDQAAAAAAAobxAAAAAAACIgEAAAAAAAOBwQAAAAAAAEH1AAAAAAABKp0AAAAAAACBpQAAAAAAAwHdAAAAAAAAweUAAAAAAALCFQAAAAAAAMHdAAAAAAACgo0AAAAAAAABeQAAAAAAAMHhAAAAAAAAwfEAAAAAAAIB4QAAAAAAAADlAAAAAAACIgEAAAAAAAFB3QAAAAAAA7qRAAAAAAADUn0AAAAAAAECJQAAAAAAAiIdAAAAAAAAwcUAAAAAAAHiGQAAAAAAAQFxAAAAAAADAe0AAAAAAABB/QAAAAAAAoG1AAAAAAACQgkAAAAAAAMBzQAAAAAAAACBAAAAAAABopEAAAAAAALieQAAAAAAAoGlAAAAAAADAZkAAAAAAANCZQAAAAAAAsIJAAAAAAADAe0AAAAAAAECsQAAAAAAAQG9AAAAAAAC4j0AAAAAAAABoQAAAAAAACIRAAAAAAADAb0AAAAAAAPiAQAAAAAAAgHJAAAAAAADgZEAAAAAAALB1QAAAAAAA4HRAAAAAAACgY0AAAAAAAGBsQAAAAAAA8JlAAAAAAACorUAAAAAAAPCJQAAAAAAAtJpAAAAAAADKpEAAAAAAAMB/QAAAAAAAyIxAAAAAAAC0vUAAAAAAAPCJQAAAAAAACJBAAAAAAABAeUAAAAAAAHB2QAAAAAAAIHVAAAAAAAB0lkAAAAAAACygQAAAAAAAAFtAAAAAAADYiUAAAAAAAGiEQAAAAAAAQHhAAAAAAAAQcUAAAAAAAABQQAAAAAAAUHtAAAAAAACwfEAAAAAAAFB6QAAAAAAAYItAAAAAAADQcEAAAAAAAFBzQAAAAAAAoGZAAAAAAABgeEAAAAAAAFBwQAAAAAAA0HdAAAAAAACQikAAAAAAAPB7QAAAAAAAYHRAAAAAAACgckAAAAAAAHB6QAAAAAAA9rRAAAAAAADAWUAAAAAAAGyxQAAAAAAA4HlAAAAAAACgg0AAAAAAAAAzQAAAAAAA8HZAAAAAAABAY0AAAAAAAOiaQAAAAAAAwHFAAAAAAACQgUAAAAAAAJB3QAAAAAAAQGtAAAAAAAAwfEAAAAAAAIBwQAAAAAAAYG1AAAAAAADgfkAAAAAAAABnQAAAAAAAwF5AAAAAAABgYEAAAAAAAMCFQAAAAAAAnJBAAAAAAAAAZ0AAAAAAAHatQAAAAAAAoGRAAAAAAADarUAAAAAAAOBiQAAAAAAAQGVAAAAAAADAaEAAAAAAACBiQAAAAAAA4JFAAAAAAABAW0AAAAAAAABgQAAAAAAAIGVAAAAAAADgY0AAAAAAABCWQAAAAAAAoGdAAAAAAAAgdEAAAAAAACCFQAAAAAAA0HhAAAAAAADAYkAAAAAAAGiAQAAAAAAAkHdAAAAAAACAfkAAAAAAAASiQAAAAAAAwG1AAAAAAACgf0AAAAAAAGBkQAAAAAAAXrJAAAAAAADgYEAAAAAAAFKmQAAAAAAAIGlAAAAAAADAXEAAAAAAAMSZQAAAAAAAaJlAAAAAAAB2oEAAAAAAACB4QAAAAAAAIHlAAAAAAACAcEAAAAAAAGByQAAAAAAAQG5AAAAAAABeqkAAAAAAAABgQAAAAAAAoGxAAAAAAABQhkAAAAAAAHB4QAAAAAAAXbZAAAAAAACQdUAAAAAAAKBwQAAAAAAAQJhAAAAAAACAg0AAAAAAAISUQAAAAAAA4IpAAAAAAABsk0AAAAAAALSUQAAAAAAAPJNAAAAAAACATUAAAAAAAAqkQAAAAAAAaIhAAAAAAABghUAAAAAAAAqlQAAAAAAAJJlAAAAAAAAYhUAAAAAAAABaQAAAAAAAQH9AAAAAAAAQf0AAAAAAADB+QAAAAAAAwHtAAAAAAABwe0AAAAAAAEBkQAAAAAAAAFpAAAAAAAA0n0AAAAAAACBsQAAAAAAAyINAAAAAAAAgckAAAAAAACCLQAAAAAAA0HBAAAAAAABAYkAAAAAAAGBvQAAAAAAAmINAAAAAAADAYEAAAAAAAOB7QAAAAAAA+ItAAAAAAACgeUAAAAAAAJBxQAAAAAAAuJVAAAAAAAAgkUAAAAAAAOSZQAAAAAAAaK9AAAAAAAAQg0AAAAAAABiMQAAAAAAA0HpAAAAAAAAAWkAAAAAAAHiTQAAAAAAAMHpAAAAAAACAX0AAAAAAAHilQAAAAAAAgIdAAAAAAADgdUAAAAAAAFB8QAAAAAAAoHVAAAAAAAAgfUAAAAAAAGBuQAAAAAAAYH9AAAAAAADgYEAAAAAAAJB2QAAAAAAAcI5AAAAAAABOoUAAAAAAAEquQAAAAAAACIpAAAAAAAAQl0AAAAAAAGiDQAAAAAAAGIRAAAAAAACgZEAAAAAAAPiKQAAAAAAAGIBAAAAAAACog0AAAAAAAOBtQAAAAAAAuIdAAAAAAADQiUAAAAAAABB+QAAAAAAAkHZAAAAAAADsmUAAAAAAAJCGQAAAAAAAUH5AAAAAAADAc0AAAAAAAMCZQAAAAAAAQLJAAAAAAAAUlkAAAAAAAGyRQAAAAAAAwHJAAAAAAADQiEAAAAAAAHiAQAAAAAAAMHNAAAAAAADgcEAAAAAAAOB5QAAAAAAAkHNAAAAAAACWpkAAAAAAAMBoQAAAAAAAwF1AAAAAAAAckUAAAAAAADB1QAAAAAAAIGJAAAAAAAAYhEAAAAAAAAiAQAAAAAAAjJZAAAAAAAAQg0AAAAAAAJCSQAAAAAAAiJRAAAAAAACYgkAAAAAAACCMQAAAAAAAyIVAAAAAAAAglEAAAAAAACB9QAAAAAAAIGtAAAAAAAAYgUAAAAAAADyRQAAAAAAAYIhAAAAAAAAAf0AAAAAAAKB1QAAAAAAAgHdAAAAAAABAeEAAAAAAAHB4QAAAAAAAcI9AAAAAAAAmp0AAAAAAAIBnQAAAAAAAKIJAAAAAAAAQfkAAAAAAAJikQAAAAAAAWJ9AAAAAAABAd0AAAAAAAABhQAAAAAAAoHZAAAAAAADcr0AAAAAAALCJQAAAAAAAYHxAAAAAAAAgekAAAAAAAFB1QAAAAAAA4GdAAAAAAADAZkAAAAAAAKBiQAAAAAAAOLhAAAAAAAB9v0AAAAAAAASSQAAAAAAA0I1AAAAAAACghkAAAAAAAECaQAAAAAAAEqRAAAAAAADQckAAAAAAAIBCQAAAAAAA5JhAAAAAAADAckAAAAAAAAB3QAAAAAAAQFtAAAAAAADuoEAAAAAAAOyoQAAAAAAAwHdAAAAAAAAwikAAAAAAAGBiQAAAAAAAIINAAAAAAAB4gEAAAAAAAGCFQAAAAAAA8HFAAAAAAACAZEAAAAAAABCDQAAAAAAAwIBAAAAAAABYgUAAAAAAADCjQAAAAAAAAFlAAAAAAACotUAAAAAAAKBqQAAAAAAADKBAAAAAAABQfUAAAAAAAOiOQAAAAAAAwG5AAAAAAAAgfUAAAAAAANCAQAAAAAAAnJpAAAAAAAAQf0AAAAAAAOBzQAAAAAAAgIdAAAAAAABAakAAAAAAAAB7QAAAAAAAYJVAAAAAAACwe0AAAAAAAFB8QAAAAAAAyJlAAAAAAAD4gUAAAAAAAJBxQAAAAAAAwFRAAAAAAABwdUAAAAAAADyRQAAAAAAAYGVAAAAAAAD8q0AAAAAAAABnQAAAAAAA0H5AAAAAAACwgkAAAAAAAKioQAAAAAAA8HFAAAAAAABIm0AAAAAAACBjQAAAAAAAwGZAAAAAAADAZkAAAAAAADByQAAAAAAApJtAAAAAAACAa0AAAAAAAFB0QAAAAAAAwHxAAAAAAAAAZEAAAAAAAKBlQAAAAAAAZJVAAAAAAACQeUAAAAAAAJBwQAAAAAAAQIlAAAAAAADweUAAAAAAADK4QAAAAAAA2JBAAAAAAAC4k0AAAAAAACB+QAAAAAAAxJRAAAAAAACwk0AAAAAAAFB2QAAAAAAAoGlAAAAAAABge0AAAAAAAJiZQAAAAAAAIH5AAAAAAAAAZUAAAAAAAASbQAAAAAAAfqVAAAAAAAAomUAAAAAAACB6QAAAAAAAUHBAAAAAAAAwcEAAAAAAAABqQAAAAAAAsHNAAAAAAADgYkAAAAAAAGBwQAAAAAAAxKZAAAAAAAC8nkAAAAAAAABpQAAAAAAAwG1AAAAAAACgcUAAAAAAADCOQAAAAAAA8HFAAAAAAAAAWEAAAAAAAJB1QAAAAAAA8I9AAAAAAADwdkAAAAAAAISdQAAAAAAAoHdAAAAAAABEsUAAAAAAAEBWQAAAAAAAQGZAAAAAAACAV0AAAAAAAHqtQAAAAAAAZKdAAAAAAABQekAAAAAAACiRQAAAAAAA0IBAAAAAAABAeEAAAAAAAPCJQAAAAAAAaqZAAAAAAACok0AAAAAAAIBXQAAAAAAAEI1AAAAAAADga0AAAAAAAMB/QAAAAAAA4HdAAAAAAACgdEAAAAAAAABrQAAAAAAAAHlAAAAAAADAh0AAAAAAACBjQAAAAAAAUIJAAAAAAAAwcUAAAAAAADCWQAAAAAAASIRAAAAAAADUl0AAAAAAAFCMQAAAAAAAwKdAAAAAAAAUkEAAAAAAABSUQAAAAAAAKIxAAAAAAAB4jEAAAAAAABB/QAAAAAAAwbhAAAAAAACEkEAAAAAAABCDQAAAAAAA+JRAAAAAAAAAX0AAAAAAAHCDQAAAAAAAtJBAAAAAAADwlUAAAAAAADiUQAAAAAAAmIRAAAAAAADgc0AAAAAAAMCqQAAAAAAA+J1AAAAAAABAdEAAAAAAALCMQAAAAAAAuIBAAAAAAACQfkAAAAAAACCCQAAAAAAAUIVAAAAAAACQdUAAAAAAAKiHQAAAAAAAuIdAAAAAAABAXEAAAAAAAByWQAAAAAAAIGNAAAAAAABAZ0AAAAAAAC6pQAAAAAAAhJJAAAAAAADwkUAAAAAAAPijQAAAAAAA1JVAAAAAAADMnkAAAAAAANCdQAAAAAAAOIFAAAAAAABUkEAAAAAAAFqmQAAAAAAApJZAAAAAAABckUAAAAAAACBwQAAAAAAAsHlAAAAAAADgcUAAAAAAAEB4QAAAAAAAQHRAAAAAAABEk0AAAAAAALyeQAAAAAAAsH5AAAAAAACAgEAAAAAAAOBnQAAAAAAAGIRAAAAAAABAl0AAAAAAAOBrQAAAAAAA0IxAAAAAAAD0m0AAAAAAAIBsQAAAAAAAcINAAAAAAAB4i0AAAAAAAJiEQAAAAAAAqIdAAAAAAADAfUAAAAAAAPSRQAAAAAAA8HhAAAAAAACwe0AAAAAAAAiKQAAAAAAAUH9AAAAAAAAQfEAAAAAAACB4QAAAAAAAcHpAAAAAAACggEAAAAAAADiQQAAAAAAAV7RAAAAAAADghUAAAAAAAEiKQAAAAAAAgHBAAAAAAADgnEAAAAAAAABuQAAAAAAAMHxAAAAAAAAMlkAAAAAAAMBpQAAAAAAAwKVAAAAAAAAAl0AAAAAAAJByQAAAAAAAYHtAAAAAAADAgUAAAAAAALiDQAAAAAAAaINAAAAAAAAQdUAAAAAAAIB1QAAAAAAA8IZAAAAAAACghEAAAAAAABiBQAAAAAAASIBAAAAAAADQpUAAAAAAADSRQAAAAAAAYIhAAAAAAAA4jUAAAAAAAGiIQAAAAAAAmJJAAAAAAADQikAAAAAAABCkQAAAAAAA0KRAAAAAAACqrEAAAAAAACqlQAAAAAAAAHJAAAAAAAAgcUAAAAAAAPSQQAAAAAAAsJRAAAAAAADckkAAAAAAAHiPQAAAAAAAKI9AAAAAAAB8kUAAAAAAAHyRQAAAAAAAkJdAAAAAAACoiUAAAAAAADiIQAAAAAAAoHlAAAAAAADQjUAAAAAAABB7QAAAAAAAsHRAAAAAAAA+q0AAAAAAANiKQAAAAAAAeIFAAAAAAACQfkAAAAAAANCEQAAAAAAA4HpAAAAAAAAgZEAAAAAAAMiKQAAAAAAAqKdAAAAAAAAga0AAAAAAALBxQAAAAAAAQGhAAAAAAACgbkAAAAAAAKCIQAAAAAAAYHVAAAAAAACgfUAAAAAAADB+QAAAAAAAyJpAAAAAAABer0AAAAAAAHiAQAAAAAAACJdAAAAAAAAgg0AAAAAAADB7QAAAAAAAAGlAAAAAAABweUAAAAAAAKSTQAAAAAAAAG1AAAAAAABAbEAAAAAAAGBzQAAAAAAAsHhAAAAAAAAwekAAAAAAAPB5QAAAAAAAQHxAAAAAAABAW0AAAAAAANB0QAAAAAAA5JxAAAAAAABIgUAAAAAAAJauQAAAAAAAqqtAAAAAAACoo0AAAAAAAPyVQAAAAAAALrFAAAAAAADAa0AAAAAAAAqgQAAAAAAAgHRAAAAAAADgj0AAAAAAAEBrQAAAAAAAwHNAAAAAAACAQkAAAAAAAHB0QAAAAAAAwGVAAAAAAACwf0AAAAAAAEBmQAAAAAAAQJNAAAAAAACAa0AAAAAAABCEQAAAAAAAaIVAAAAAAABYmEAAAAAAAKBkQAAAAAAAUHBAAAAAAACAe0AAAAAAANB4QAAAAAAAcKJAAAAAAADyo0AAAAAAAEBnQAAAAAAAyK1AAAAAAAB4g0AAAAAAANCHQAAAAAAAQG9AAAAAAAAoqkAAAAAAAJiFQAAAAAAAkJNAAAAAAABoiEAAAAAAAEB6QAAAAAAAhrFAAAAAAAB4hkAAAAAAAPyaQAAAAAAAhJtAAAAAAAAgbkAAAAAAADCCQAAAAAAAKIJAAAAAAAAgckAAAAAAAMiIQAAAAAAAD7BAAAAAAAAwfkAAAAAAAKBpQAAAAAAAYGxAAAAAAADAc0AAAAAAABB4QAAAAAAAeKxAAAAAAABAgUAAAAAAAOByQAAAAAAAQHRAAAAAAABQeUAAAAAAACB1QAAAAAAAaIhAAAAAAADgbUAAAAAAACiDQAAAAAAA2rtAAAAAAACUsEAAAAAAAOiAQAAAAAAA+IFAAAAAAADAfEAAAAAAAISUQAAAAAAAyKpAAAAAAADAWUAAAAAAANB+QAAAAAAAQFFAAAAAAAAwcUAAAAAAACiBQAAAAAAAgIFAAAAAAAAklEAAAAAAACBvQAAAAAAAYGdAAAAAAABeoUAAAAAAACCDQAAAAAAAeIpAAAAAAABQe0AAAAAAAKiAQAAAAAAAEHJAAAAAAABArkAAAAAAACCCQAAAAAAA8HVAAAAAAACor0AAAAAAAPB4QAAAAAAAiIhAAAAAAADAX0AAAAAAAMBiQAAAAAAA0IBAAAAAAADAb0AAAAAAAIiMQAAAAAAAwIpAAAAAAAAga0AAAAAAAKB6QAAAAAAAgINAAAAAAACQfUAAAAAAABB8QAAAAAAAACBAAAAAAACAVEAAAAAAALB2QAAAAAAAeKtAAAAAAAB+r0AAAAAAAFB6QAAAAAAA5JZAAAAAAAAYikAAAAAAACB2QAAAAAAACIVAAAAAAABAVUAAAAAAAMBrQAAAAAAACIFAAAAAAAAIkEAAAAAAAEBUQAAAAAAAeIRAAAAAAADggkAAAAAAAAB6QAAAAAAAUHhAAAAAAACogkAAAAAAAFShQAAAAAAA0HZAAAAAAAAojUAAAAAAAABzQAAAAAAACJJAAAAAAADAaUAAAAAAAIiWQAAAAAAAoGFAAAAAAAAAV0AAAAAAAABoQAAAAAAAwJBAAAAAAAAAekAAAAAAAIiDQAAAAAAAwKdAAAAAAAAsmEAAAAAAAOiSQAAAAAAAsHxAAAAAAACckkAAAAAAAJCAQAAAAAAAuIJAAAAAAABwg0AAAAAAAOB0QAAAAAAA+IVAAAAAAABgakAAAAAAAKB0QAAAAAAAkHJAAAAAAADgbkAAAAAAAGqlQAAAAAAAcHhAAAAAAAAQdEAAAAAAAEB/QAAAAAAAXJxAAAAAAACgbEAAAAAAAFiNQAAAAAAA2INAAAAAAADweUAAAAAAALiSQAAAAAAAAHxAAAAAAABwkEAAAAAAALB1QAAAAAAAqINAAAAAAABweUAAAAAAAMCCQAAAAAAAQIRAAAAAAABMlEAAAAAAADB7QAAAAAAAQHZAAAAAAACwd0AAAAAAABiCQAAAAAAAcH9AAAAAAADgkEAAAAAAAEBjQAAAAAAAgFZAAAAAAACAYkAAAAAAAKBxQAAAAAAAIGxAAAAAAACMlUAAAAAAAABqQAAAAAAAcIlAAAAAAACgg0AAAAAAAAB3QAAAAAAA4GZAAAAAAAAAbEAAAAAAABB7QAAAAAAA4b1AAAAAAAAgaUAAAAAAAFB0QAAAAAAAmIVAAAAAAAAAb0AAAAAAAMByQAAAAAAA6qJAAAAAAAAwgUAAAAAAAGBjQAAAAAAAsHdAAAAAAACgeEAAAAAAACCIQAAAAAAAvKxAAAAAAAAggUAAAAAAADCPQAAAAAAAAFxAAAAAAAAweUAAAAAAAOyTQAAAAAAAgH1AAAAAAACIi0AAAAAAACB4QAAAAAAAwJdAAAAAAAAElkAAAAAAAGiCQAAAAAAAQHhAAAAAAAAmsUAAAAAAAPByQAAAAAAAkHpAAAAAAACAYkAAAAAAAOyZQAAAAAAAYHRAAAAAAACgeUAAAAAAAPShQAAAAAAAUHNAAAAAAADgiUAAAAAAAKCCQAAAAAAAAFNAAAAAAACgkEAAAAAAAByYQAAAAAAA0ItAAAAAAABaoEAAAAAAAAyQQAAAAAAAvJBAAAAAAABip0AAAAAAAECRQAAAAAAAEH1AAAAAAABgf0AAAAAAAICEQAAAAAAAwGNAAAAAAAC0oEAAAAAAACCFQAAAAAAAMHtAAAAAAAAOq0AAAAAAAOBuQAAAAAAAwFlAAAAAAAAAYEAAAAAAAKBtQAAAAAAAQGhAAAAAAABAh0AAAAAAALiHQAAAAAAAyIFAAAAAAAAwfEAAAAAAAMBtQAAAAAAAkH9AAAAAAACAckAAAAAAAHCAQAAAAAAAoHlAAAAAAAARskAAAAAAADyhQAAAAAAAyIFAAAAAAAAwiUAAAAAAAEBiQAAAAAAAIJFAAAAAAADweUAAAAAAAPB2QAAAAAAAWINAAAAAAADgc0AAAAAAAABlQAAAAAAAQF1AAAAAAACgeUAAAAAAAGBgQAAAAAAABKJAAAAAAACgbUAAAAAAAPiUQAAAAAAAAEJAAAAAAADIl0AAAAAAAICTQAAAAAAA6INAAAAAAABgZ0AAAAAAABB+QAAAAAAAwG9AAAAAAACAakAAAAAAAGCFQAAAAAAAZJ1AAAAAAABAbEAAAAAAAEB2QAAAAAAAQGpAAAAAAABQeUAAAAAAAMBnQAAAAAAAYIlAAAAAAADgZ0AAAAAAANB1QAAAAAAArKBAAAAAAACYqUAAAAAAAMBpQAAAAAAACIFAAAAAAACAfkAAAAAAAKB+QAAAAAAAAGpAAAAAAABMokAAAAAAALSwQAAAAAAAcJRAAAAAAAAAoUAAAAAAADBwQAAAAAAAYHNAAAAAAABAfEAAAAAAADSZQAAAAAAAGJBAAAAAAAAQk0AAAAAAAMB2QAAAAAAA7KhAAAAAAAAAaEAAAAAAAAagQAAAAAAAwH5AAAAAAADAd0AAAAAAAJB1QAAAAAAAYGdAAAAAAAB4jUAAAAAAAPB5QAAAAAAAvJFAAAAAAACokUAAAAAAAGBzQAAAAAAA1KpAAAAAAACwdUAAAAAAAGBqQAAAAAAAVJBAAAAAAACslkAAAAAAAOCJQAAAAAAA8HRAAAAAAADgb0AAAAAAABiFQAAAAAAAQG9AAAAAAAB4ikAAAAAAAAmyQAAAAAAAUHVAAAAAAAA8qEAAAAAAAIBRQAAAAAAA4JZAAAAAAACQjkAAAAAAALiIQAAAAAAAoG1AAAAAAADaokAAAAAAALByQAAAAAAAoIJAAAAAAABclkAAAAAAAIB1QAAAAAAAsH5AAAAAAACaoUAAAAAAAD20QAAAAAAAgGVAAAAAAABgc0AAAAAAAESZQAAAAAAAnJNAAAAAAIAAxEAAAAAAADKlQAAAAAAAUbxAAAAAAAByoUAAAAAAALKnQAAAAAAAAIZAAAAAAABAnkAAAAAAAKB1QAAAAAAAQHFAAAAAAACNsUAAAAAAAFiRQAAAAAAAsbJAAAAAAAAQcUAAAAAAACSSQAAAAAAAsIBAAAAAAADAdUAAAAAAAHCUQAAAAAAAS7FAAAAAAAAggEAAAAAAAOCTQAAAAAAA4K1AAAAAAABoqEAAAAAAABB8QAAAAAAAgGFAAAAAAACARkAAAAAAAAB+QAAAAAAAkIJAAAAAAAAAAEAAAAAAAABhQAAAAAAAIGxAAAAAAADQdkAAAAAAAIBHQAAAAAAAsIJAAAAAAAC4gkAAAAAAAACAQAAAAAAAgEBAAAAAAABAV0AAAAAAAAA0QAAAAAAAQGhAAAAAAAB+o0AAAAAAACBuQAAAAAAAgF1AAAAAAADAgEAAAAAAAByXQAAAAAAA4GxAAAAAAADwk0AAAAAAALBwQAAAAAAAAG1AAAAAAADIgUAAAAAAAIanQAAAAAAAUHJAAAAAAABgj0AAAAAAAIBiQAAAAAAA5bBAAAAAAABSskAAAAAAAFyRQAAAAAAAAIBAAAAAAABAa0AAAAAAAJiNQAAAAAAAAHlAAAAAAADoiUAAAAAAAP6mQAAAAAAACJ9AAAAAAADgd0AAAAAAAABrQAAAAAAAKIlAAAAAAADwgEAAAAAAALB8QAAAAAAAQGxAAAAAAACgaEAAAAAAAPB0QAAAAAAAgEZAAAAAAAD0tEAAAAAAAIqrQAAAAAAAgKtAAAAAAABgf0AAAAAAAHCTQAAAAAAAQHlAAAAAAABQfEAAAAAAAAB+QAAAAAAAeJdAAAAAAACsmEAAAAAAANB/QAAAAAAAIJFAAAAAAACATEAAAAAAAEBrQAAAAAAAQIRAAAAAAADwhEAAAAAAAOBjQAAAAAAA+IdAAAAAAACAjkAAAAAAAJB4QAAAAAAAQ7BAAAAAAABtuEAAAAAAANalQAAAAAAAgHhAAAAAAACIgkAAAAAAAGB7QAAAAAAAIGdAAAAAAAAgc0AAAAAAAABxQAAAAAAAiIBAAAAAAADQcEAAAAAAAKiHQAAAAAAAsHNAAAAAAAAInUAAAAAAAMBWQAAAAAAAoIdAAAAAAAAgekAAAAAAAFB/QAAAAAAA4GhAAAAAAABwfUAAAAAAAA+0QAAAAAAAwG1AAAAAAAAAakAAAAAAAMByQAAAAAAAQGlAAAAAAADghUAAAAAAALCGQAAAAAAAIIJAAAAAAACgckAAAAAAAEBrQAAAAAAAsHhAAAAAAABAakAAAAAAAGBvQAAAAAAAGJ9AAAAAAAAAgUAAAAAAAMBcQAAAAAAAgGFAAAAAAADAbUAAAAAAANiAQAAAAAAAAERAAAAAAAAAc0AAAAAAAPCgQAAAAAAAMqBAAAAAAADIjEAAAAAAAKSdQAAAAAAAoGxAAAAAAADEnEAAAAAAAECGQAAAAAAAaJdAAAAAAADgdkAAAAAAAIe4QAAAAAAASKtAAAAAAABom0AAAAAAAHyRQAAAAAAAlJlAAAAAAADAmEAAAAAAADSaQAAAAAAAFrlAAAAAAAAAVUAAAAAAAAA+QAAAAAAAADhAAAAAAADAa0AAAAAAANybQAAAAAAAQGVAAAAAAACARUAAAAAAAOiBQAAAAAAAoHlAAAAAAACAREAAAAAAAIBKQAAAAAAAAFxAAAAAAAAwjEAAAAAAADB/QAAAAAAAABxAAAAAAACSpUAAAAAAALCKQAAAAAAA0HRAAAAAAABAWUAAAAAAACB0QAAAAAAAoIdAAAAAAAAog0AAAAAAAMBvQAAAAAAAkIFAAAAAAACAVUAAAAAAAMBfQAAAAAAAADRA",
          "dtype": "f8"
         },
         "yaxis": "y"
        }
       ],
       "layout": {
        "legend": {
         "tracegroupgap": 0
        },
        "margin": {
         "t": 60
        },
        "template": {
         "data": {
          "bar": [
           {
            "error_x": {
             "color": "#2a3f5f"
            },
            "error_y": {
             "color": "#2a3f5f"
            },
            "marker": {
             "line": {
              "color": "#E5ECF6",
              "width": 0.5
             },
             "pattern": {
              "fillmode": "overlay",
              "size": 10,
              "solidity": 0.2
             }
            },
            "type": "bar"
           }
          ],
          "barpolar": [
           {
            "marker": {
             "line": {
              "color": "#E5ECF6",
              "width": 0.5
             },
             "pattern": {
              "fillmode": "overlay",
              "size": 10,
              "solidity": 0.2
             }
            },
            "type": "barpolar"
           }
          ],
          "carpet": [
           {
            "aaxis": {
             "endlinecolor": "#2a3f5f",
             "gridcolor": "white",
             "linecolor": "white",
             "minorgridcolor": "white",
             "startlinecolor": "#2a3f5f"
            },
            "baxis": {
             "endlinecolor": "#2a3f5f",
             "gridcolor": "white",
             "linecolor": "white",
             "minorgridcolor": "white",
             "startlinecolor": "#2a3f5f"
            },
            "type": "carpet"
           }
          ],
          "choropleth": [
           {
            "colorbar": {
             "outlinewidth": 0,
             "ticks": ""
            },
            "type": "choropleth"
           }
          ],
          "contour": [
           {
            "colorbar": {
             "outlinewidth": 0,
             "ticks": ""
            },
            "colorscale": [
             [
              0,
              "#0d0887"
             ],
             [
              0.1111111111111111,
              "#46039f"
             ],
             [
              0.2222222222222222,
              "#7201a8"
             ],
             [
              0.3333333333333333,
              "#9c179e"
             ],
             [
              0.4444444444444444,
              "#bd3786"
             ],
             [
              0.5555555555555556,
              "#d8576b"
             ],
             [
              0.6666666666666666,
              "#ed7953"
             ],
             [
              0.7777777777777778,
              "#fb9f3a"
             ],
             [
              0.8888888888888888,
              "#fdca26"
             ],
             [
              1,
              "#f0f921"
             ]
            ],
            "type": "contour"
           }
          ],
          "contourcarpet": [
           {
            "colorbar": {
             "outlinewidth": 0,
             "ticks": ""
            },
            "type": "contourcarpet"
           }
          ],
          "heatmap": [
           {
            "colorbar": {
             "outlinewidth": 0,
             "ticks": ""
            },
            "colorscale": [
             [
              0,
              "#0d0887"
             ],
             [
              0.1111111111111111,
              "#46039f"
             ],
             [
              0.2222222222222222,
              "#7201a8"
             ],
             [
              0.3333333333333333,
              "#9c179e"
             ],
             [
              0.4444444444444444,
              "#bd3786"
             ],
             [
              0.5555555555555556,
              "#d8576b"
             ],
             [
              0.6666666666666666,
              "#ed7953"
             ],
             [
              0.7777777777777778,
              "#fb9f3a"
             ],
             [
              0.8888888888888888,
              "#fdca26"
             ],
             [
              1,
              "#f0f921"
             ]
            ],
            "type": "heatmap"
           }
          ],
          "histogram": [
           {
            "marker": {
             "pattern": {
              "fillmode": "overlay",
              "size": 10,
              "solidity": 0.2
             }
            },
            "type": "histogram"
           }
          ],
          "histogram2d": [
           {
            "colorbar": {
             "outlinewidth": 0,
             "ticks": ""
            },
            "colorscale": [
             [
              0,
              "#0d0887"
             ],
             [
              0.1111111111111111,
              "#46039f"
             ],
             [
              0.2222222222222222,
              "#7201a8"
             ],
             [
              0.3333333333333333,
              "#9c179e"
             ],
             [
              0.4444444444444444,
              "#bd3786"
             ],
             [
              0.5555555555555556,
              "#d8576b"
             ],
             [
              0.6666666666666666,
              "#ed7953"
             ],
             [
              0.7777777777777778,
              "#fb9f3a"
             ],
             [
              0.8888888888888888,
              "#fdca26"
             ],
             [
              1,
              "#f0f921"
             ]
            ],
            "type": "histogram2d"
           }
          ],
          "histogram2dcontour": [
           {
            "colorbar": {
             "outlinewidth": 0,
             "ticks": ""
            },
            "colorscale": [
             [
              0,
              "#0d0887"
             ],
             [
              0.1111111111111111,
              "#46039f"
             ],
             [
              0.2222222222222222,
              "#7201a8"
             ],
             [
              0.3333333333333333,
              "#9c179e"
             ],
             [
              0.4444444444444444,
              "#bd3786"
             ],
             [
              0.5555555555555556,
              "#d8576b"
             ],
             [
              0.6666666666666666,
              "#ed7953"
             ],
             [
              0.7777777777777778,
              "#fb9f3a"
             ],
             [
              0.8888888888888888,
              "#fdca26"
             ],
             [
              1,
              "#f0f921"
             ]
            ],
            "type": "histogram2dcontour"
           }
          ],
          "mesh3d": [
           {
            "colorbar": {
             "outlinewidth": 0,
             "ticks": ""
            },
            "type": "mesh3d"
           }
          ],
          "parcoords": [
           {
            "line": {
             "colorbar": {
              "outlinewidth": 0,
              "ticks": ""
             }
            },
            "type": "parcoords"
           }
          ],
          "pie": [
           {
            "automargin": true,
            "type": "pie"
           }
          ],
          "scatter": [
           {
            "fillpattern": {
             "fillmode": "overlay",
             "size": 10,
             "solidity": 0.2
            },
            "type": "scatter"
           }
          ],
          "scatter3d": [
           {
            "line": {
             "colorbar": {
              "outlinewidth": 0,
              "ticks": ""
             }
            },
            "marker": {
             "colorbar": {
              "outlinewidth": 0,
              "ticks": ""
             }
            },
            "type": "scatter3d"
           }
          ],
          "scattercarpet": [
           {
            "marker": {
             "colorbar": {
              "outlinewidth": 0,
              "ticks": ""
             }
            },
            "type": "scattercarpet"
           }
          ],
          "scattergeo": [
           {
            "marker": {
             "colorbar": {
              "outlinewidth": 0,
              "ticks": ""
             }
            },
            "type": "scattergeo"
           }
          ],
          "scattergl": [
           {
            "marker": {
             "colorbar": {
              "outlinewidth": 0,
              "ticks": ""
             }
            },
            "type": "scattergl"
           }
          ],
          "scattermap": [
           {
            "marker": {
             "colorbar": {
              "outlinewidth": 0,
              "ticks": ""
             }
            },
            "type": "scattermap"
           }
          ],
          "scattermapbox": [
           {
            "marker": {
             "colorbar": {
              "outlinewidth": 0,
              "ticks": ""
             }
            },
            "type": "scattermapbox"
           }
          ],
          "scatterpolar": [
           {
            "marker": {
             "colorbar": {
              "outlinewidth": 0,
              "ticks": ""
             }
            },
            "type": "scatterpolar"
           }
          ],
          "scatterpolargl": [
           {
            "marker": {
             "colorbar": {
              "outlinewidth": 0,
              "ticks": ""
             }
            },
            "type": "scatterpolargl"
           }
          ],
          "scatterternary": [
           {
            "marker": {
             "colorbar": {
              "outlinewidth": 0,
              "ticks": ""
             }
            },
            "type": "scatterternary"
           }
          ],
          "surface": [
           {
            "colorbar": {
             "outlinewidth": 0,
             "ticks": ""
            },
            "colorscale": [
             [
              0,
              "#0d0887"
             ],
             [
              0.1111111111111111,
              "#46039f"
             ],
             [
              0.2222222222222222,
              "#7201a8"
             ],
             [
              0.3333333333333333,
              "#9c179e"
             ],
             [
              0.4444444444444444,
              "#bd3786"
             ],
             [
              0.5555555555555556,
              "#d8576b"
             ],
             [
              0.6666666666666666,
              "#ed7953"
             ],
             [
              0.7777777777777778,
              "#fb9f3a"
             ],
             [
              0.8888888888888888,
              "#fdca26"
             ],
             [
              1,
              "#f0f921"
             ]
            ],
            "type": "surface"
           }
          ],
          "table": [
           {
            "cells": {
             "fill": {
              "color": "#EBF0F8"
             },
             "line": {
              "color": "white"
             }
            },
            "header": {
             "fill": {
              "color": "#C8D4E3"
             },
             "line": {
              "color": "white"
             }
            },
            "type": "table"
           }
          ]
         },
         "layout": {
          "annotationdefaults": {
           "arrowcolor": "#2a3f5f",
           "arrowhead": 0,
           "arrowwidth": 1
          },
          "autotypenumbers": "strict",
          "coloraxis": {
           "colorbar": {
            "outlinewidth": 0,
            "ticks": ""
           }
          },
          "colorscale": {
           "diverging": [
            [
             0,
             "#8e0152"
            ],
            [
             0.1,
             "#c51b7d"
            ],
            [
             0.2,
             "#de77ae"
            ],
            [
             0.3,
             "#f1b6da"
            ],
            [
             0.4,
             "#fde0ef"
            ],
            [
             0.5,
             "#f7f7f7"
            ],
            [
             0.6,
             "#e6f5d0"
            ],
            [
             0.7,
             "#b8e186"
            ],
            [
             0.8,
             "#7fbc41"
            ],
            [
             0.9,
             "#4d9221"
            ],
            [
             1,
             "#276419"
            ]
           ],
           "sequential": [
            [
             0,
             "#0d0887"
            ],
            [
             0.1111111111111111,
             "#46039f"
            ],
            [
             0.2222222222222222,
             "#7201a8"
            ],
            [
             0.3333333333333333,
             "#9c179e"
            ],
            [
             0.4444444444444444,
             "#bd3786"
            ],
            [
             0.5555555555555556,
             "#d8576b"
            ],
            [
             0.6666666666666666,
             "#ed7953"
            ],
            [
             0.7777777777777778,
             "#fb9f3a"
            ],
            [
             0.8888888888888888,
             "#fdca26"
            ],
            [
             1,
             "#f0f921"
            ]
           ],
           "sequentialminus": [
            [
             0,
             "#0d0887"
            ],
            [
             0.1111111111111111,
             "#46039f"
            ],
            [
             0.2222222222222222,
             "#7201a8"
            ],
            [
             0.3333333333333333,
             "#9c179e"
            ],
            [
             0.4444444444444444,
             "#bd3786"
            ],
            [
             0.5555555555555556,
             "#d8576b"
            ],
            [
             0.6666666666666666,
             "#ed7953"
            ],
            [
             0.7777777777777778,
             "#fb9f3a"
            ],
            [
             0.8888888888888888,
             "#fdca26"
            ],
            [
             1,
             "#f0f921"
            ]
           ]
          },
          "colorway": [
           "#636efa",
           "#EF553B",
           "#00cc96",
           "#ab63fa",
           "#FFA15A",
           "#19d3f3",
           "#FF6692",
           "#B6E880",
           "#FF97FF",
           "#FECB52"
          ],
          "font": {
           "color": "#2a3f5f"
          },
          "geo": {
           "bgcolor": "white",
           "lakecolor": "white",
           "landcolor": "#E5ECF6",
           "showlakes": true,
           "showland": true,
           "subunitcolor": "white"
          },
          "hoverlabel": {
           "align": "left"
          },
          "hovermode": "closest",
          "mapbox": {
           "style": "light"
          },
          "paper_bgcolor": "white",
          "plot_bgcolor": "#E5ECF6",
          "polar": {
           "angularaxis": {
            "gridcolor": "white",
            "linecolor": "white",
            "ticks": ""
           },
           "bgcolor": "#E5ECF6",
           "radialaxis": {
            "gridcolor": "white",
            "linecolor": "white",
            "ticks": ""
           }
          },
          "scene": {
           "xaxis": {
            "backgroundcolor": "#E5ECF6",
            "gridcolor": "white",
            "gridwidth": 2,
            "linecolor": "white",
            "showbackground": true,
            "ticks": "",
            "zerolinecolor": "white"
           },
           "yaxis": {
            "backgroundcolor": "#E5ECF6",
            "gridcolor": "white",
            "gridwidth": 2,
            "linecolor": "white",
            "showbackground": true,
            "ticks": "",
            "zerolinecolor": "white"
           },
           "zaxis": {
            "backgroundcolor": "#E5ECF6",
            "gridcolor": "white",
            "gridwidth": 2,
            "linecolor": "white",
            "showbackground": true,
            "ticks": "",
            "zerolinecolor": "white"
           }
          },
          "shapedefaults": {
           "line": {
            "color": "#2a3f5f"
           }
          },
          "ternary": {
           "aaxis": {
            "gridcolor": "white",
            "linecolor": "white",
            "ticks": ""
           },
           "baxis": {
            "gridcolor": "white",
            "linecolor": "white",
            "ticks": ""
           },
           "bgcolor": "#E5ECF6",
           "caxis": {
            "gridcolor": "white",
            "linecolor": "white",
            "ticks": ""
           }
          },
          "title": {
           "x": 0.05
          },
          "xaxis": {
           "automargin": true,
           "gridcolor": "white",
           "linecolor": "white",
           "ticks": "",
           "title": {
            "standoff": 15
           },
           "zerolinecolor": "white",
           "zerolinewidth": 2
          },
          "yaxis": {
           "automargin": true,
           "gridcolor": "white",
           "linecolor": "white",
           "ticks": "",
           "title": {
            "standoff": 15
           },
           "zerolinecolor": "white",
           "zerolinewidth": 2
          }
         }
        },
        "xaxis": {
         "anchor": "y",
         "domain": [
          0,
          1
         ],
         "title": {
          "text": "Total price for in-state students living on campus 2013-14"
         }
        },
        "yaxis": {
         "anchor": "x",
         "domain": [
          0,
          1
         ],
         "title": {
          "text": "Enrolled total"
         }
        }
       }
      }
     },
     "metadata": {},
     "output_type": "display_data"
    },
    {
     "data": {
      "application/vnd.plotly.v1+json": {
       "config": {
        "plotlyServerURL": "https://plot.ly"
       },
       "data": [
        {
         "hovertemplate": "Total price for out-of-state students living on campus 2013-14=%{x}<br>Enrolled total=%{y}<extra></extra>",
         "legendgroup": "",
         "marker": {
          "color": "#636efa",
          "symbol": "circle"
         },
         "mode": "markers",
         "name": "",
         "showlegend": false,
         "type": "scattergl",
         "x": {
          "bdata": "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",
          "dtype": "f8"
         },
         "xaxis": "x",
         "y": {
          "bdata": "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",
          "dtype": "f8"
         },
         "yaxis": "y"
        }
       ],
       "layout": {
        "legend": {
         "tracegroupgap": 0
        },
        "margin": {
         "t": 60
        },
        "template": {
         "data": {
          "bar": [
           {
            "error_x": {
             "color": "#2a3f5f"
            },
            "error_y": {
             "color": "#2a3f5f"
            },
            "marker": {
             "line": {
              "color": "#E5ECF6",
              "width": 0.5
             },
             "pattern": {
              "fillmode": "overlay",
              "size": 10,
              "solidity": 0.2
             }
            },
            "type": "bar"
           }
          ],
          "barpolar": [
           {
            "marker": {
             "line": {
              "color": "#E5ECF6",
              "width": 0.5
             },
             "pattern": {
              "fillmode": "overlay",
              "size": 10,
              "solidity": 0.2
             }
            },
            "type": "barpolar"
           }
          ],
          "carpet": [
           {
            "aaxis": {
             "endlinecolor": "#2a3f5f",
             "gridcolor": "white",
             "linecolor": "white",
             "minorgridcolor": "white",
             "startlinecolor": "#2a3f5f"
            },
            "baxis": {
             "endlinecolor": "#2a3f5f",
             "gridcolor": "white",
             "linecolor": "white",
             "minorgridcolor": "white",
             "startlinecolor": "#2a3f5f"
            },
            "type": "carpet"
           }
          ],
          "choropleth": [
           {
            "colorbar": {
             "outlinewidth": 0,
             "ticks": ""
            },
            "type": "choropleth"
           }
          ],
          "contour": [
           {
            "colorbar": {
             "outlinewidth": 0,
             "ticks": ""
            },
            "colorscale": [
             [
              0,
              "#0d0887"
             ],
             [
              0.1111111111111111,
              "#46039f"
             ],
             [
              0.2222222222222222,
              "#7201a8"
             ],
             [
              0.3333333333333333,
              "#9c179e"
             ],
             [
              0.4444444444444444,
              "#bd3786"
             ],
             [
              0.5555555555555556,
              "#d8576b"
             ],
             [
              0.6666666666666666,
              "#ed7953"
             ],
             [
              0.7777777777777778,
              "#fb9f3a"
             ],
             [
              0.8888888888888888,
              "#fdca26"
             ],
             [
              1,
              "#f0f921"
             ]
            ],
            "type": "contour"
           }
          ],
          "contourcarpet": [
           {
            "colorbar": {
             "outlinewidth": 0,
             "ticks": ""
            },
            "type": "contourcarpet"
           }
          ],
          "heatmap": [
           {
            "colorbar": {
             "outlinewidth": 0,
             "ticks": ""
            },
            "colorscale": [
             [
              0,
              "#0d0887"
             ],
             [
              0.1111111111111111,
              "#46039f"
             ],
             [
              0.2222222222222222,
              "#7201a8"
             ],
             [
              0.3333333333333333,
              "#9c179e"
             ],
             [
              0.4444444444444444,
              "#bd3786"
             ],
             [
              0.5555555555555556,
              "#d8576b"
             ],
             [
              0.6666666666666666,
              "#ed7953"
             ],
             [
              0.7777777777777778,
              "#fb9f3a"
             ],
             [
              0.8888888888888888,
              "#fdca26"
             ],
             [
              1,
              "#f0f921"
             ]
            ],
            "type": "heatmap"
           }
          ],
          "histogram": [
           {
            "marker": {
             "pattern": {
              "fillmode": "overlay",
              "size": 10,
              "solidity": 0.2
             }
            },
            "type": "histogram"
           }
          ],
          "histogram2d": [
           {
            "colorbar": {
             "outlinewidth": 0,
             "ticks": ""
            },
            "colorscale": [
             [
              0,
              "#0d0887"
             ],
             [
              0.1111111111111111,
              "#46039f"
             ],
             [
              0.2222222222222222,
              "#7201a8"
             ],
             [
              0.3333333333333333,
              "#9c179e"
             ],
             [
              0.4444444444444444,
              "#bd3786"
             ],
             [
              0.5555555555555556,
              "#d8576b"
             ],
             [
              0.6666666666666666,
              "#ed7953"
             ],
             [
              0.7777777777777778,
              "#fb9f3a"
             ],
             [
              0.8888888888888888,
              "#fdca26"
             ],
             [
              1,
              "#f0f921"
             ]
            ],
            "type": "histogram2d"
           }
          ],
          "histogram2dcontour": [
           {
            "colorbar": {
             "outlinewidth": 0,
             "ticks": ""
            },
            "colorscale": [
             [
              0,
              "#0d0887"
             ],
             [
              0.1111111111111111,
              "#46039f"
             ],
             [
              0.2222222222222222,
              "#7201a8"
             ],
             [
              0.3333333333333333,
              "#9c179e"
             ],
             [
              0.4444444444444444,
              "#bd3786"
             ],
             [
              0.5555555555555556,
              "#d8576b"
             ],
             [
              0.6666666666666666,
              "#ed7953"
             ],
             [
              0.7777777777777778,
              "#fb9f3a"
             ],
             [
              0.8888888888888888,
              "#fdca26"
             ],
             [
              1,
              "#f0f921"
             ]
            ],
            "type": "histogram2dcontour"
           }
          ],
          "mesh3d": [
           {
            "colorbar": {
             "outlinewidth": 0,
             "ticks": ""
            },
            "type": "mesh3d"
           }
          ],
          "parcoords": [
           {
            "line": {
             "colorbar": {
              "outlinewidth": 0,
              "ticks": ""
             }
            },
            "type": "parcoords"
           }
          ],
          "pie": [
           {
            "automargin": true,
            "type": "pie"
           }
          ],
          "scatter": [
           {
            "fillpattern": {
             "fillmode": "overlay",
             "size": 10,
             "solidity": 0.2
            },
            "type": "scatter"
           }
          ],
          "scatter3d": [
           {
            "line": {
             "colorbar": {
              "outlinewidth": 0,
              "ticks": ""
             }
            },
            "marker": {
             "colorbar": {
              "outlinewidth": 0,
              "ticks": ""
             }
            },
            "type": "scatter3d"
           }
          ],
          "scattercarpet": [
           {
            "marker": {
             "colorbar": {
              "outlinewidth": 0,
              "ticks": ""
             }
            },
            "type": "scattercarpet"
           }
          ],
          "scattergeo": [
           {
            "marker": {
             "colorbar": {
              "outlinewidth": 0,
              "ticks": ""
             }
            },
            "type": "scattergeo"
           }
          ],
          "scattergl": [
           {
            "marker": {
             "colorbar": {
              "outlinewidth": 0,
              "ticks": ""
             }
            },
            "type": "scattergl"
           }
          ],
          "scattermap": [
           {
            "marker": {
             "colorbar": {
              "outlinewidth": 0,
              "ticks": ""
             }
            },
            "type": "scattermap"
           }
          ],
          "scattermapbox": [
           {
            "marker": {
             "colorbar": {
              "outlinewidth": 0,
              "ticks": ""
             }
            },
            "type": "scattermapbox"
           }
          ],
          "scatterpolar": [
           {
            "marker": {
             "colorbar": {
              "outlinewidth": 0,
              "ticks": ""
             }
            },
            "type": "scatterpolar"
           }
          ],
          "scatterpolargl": [
           {
            "marker": {
             "colorbar": {
              "outlinewidth": 0,
              "ticks": ""
             }
            },
            "type": "scatterpolargl"
           }
          ],
          "scatterternary": [
           {
            "marker": {
             "colorbar": {
              "outlinewidth": 0,
              "ticks": ""
             }
            },
            "type": "scatterternary"
           }
          ],
          "surface": [
           {
            "colorbar": {
             "outlinewidth": 0,
             "ticks": ""
            },
            "colorscale": [
             [
              0,
              "#0d0887"
             ],
             [
              0.1111111111111111,
              "#46039f"
             ],
             [
              0.2222222222222222,
              "#7201a8"
             ],
             [
              0.3333333333333333,
              "#9c179e"
             ],
             [
              0.4444444444444444,
              "#bd3786"
             ],
             [
              0.5555555555555556,
              "#d8576b"
             ],
             [
              0.6666666666666666,
              "#ed7953"
             ],
             [
              0.7777777777777778,
              "#fb9f3a"
             ],
             [
              0.8888888888888888,
              "#fdca26"
             ],
             [
              1,
              "#f0f921"
             ]
            ],
            "type": "surface"
           }
          ],
          "table": [
           {
            "cells": {
             "fill": {
              "color": "#EBF0F8"
             },
             "line": {
              "color": "white"
             }
            },
            "header": {
             "fill": {
              "color": "#C8D4E3"
             },
             "line": {
              "color": "white"
             }
            },
            "type": "table"
           }
          ]
         },
         "layout": {
          "annotationdefaults": {
           "arrowcolor": "#2a3f5f",
           "arrowhead": 0,
           "arrowwidth": 1
          },
          "autotypenumbers": "strict",
          "coloraxis": {
           "colorbar": {
            "outlinewidth": 0,
            "ticks": ""
           }
          },
          "colorscale": {
           "diverging": [
            [
             0,
             "#8e0152"
            ],
            [
             0.1,
             "#c51b7d"
            ],
            [
             0.2,
             "#de77ae"
            ],
            [
             0.3,
             "#f1b6da"
            ],
            [
             0.4,
             "#fde0ef"
            ],
            [
             0.5,
             "#f7f7f7"
            ],
            [
             0.6,
             "#e6f5d0"
            ],
            [
             0.7,
             "#b8e186"
            ],
            [
             0.8,
             "#7fbc41"
            ],
            [
             0.9,
             "#4d9221"
            ],
            [
             1,
             "#276419"
            ]
           ],
           "sequential": [
            [
             0,
             "#0d0887"
            ],
            [
             0.1111111111111111,
             "#46039f"
            ],
            [
             0.2222222222222222,
             "#7201a8"
            ],
            [
             0.3333333333333333,
             "#9c179e"
            ],
            [
             0.4444444444444444,
             "#bd3786"
            ],
            [
             0.5555555555555556,
             "#d8576b"
            ],
            [
             0.6666666666666666,
             "#ed7953"
            ],
            [
             0.7777777777777778,
             "#fb9f3a"
            ],
            [
             0.8888888888888888,
             "#fdca26"
            ],
            [
             1,
             "#f0f921"
            ]
           ],
           "sequentialminus": [
            [
             0,
             "#0d0887"
            ],
            [
             0.1111111111111111,
             "#46039f"
            ],
            [
             0.2222222222222222,
             "#7201a8"
            ],
            [
             0.3333333333333333,
             "#9c179e"
            ],
            [
             0.4444444444444444,
             "#bd3786"
            ],
            [
             0.5555555555555556,
             "#d8576b"
            ],
            [
             0.6666666666666666,
             "#ed7953"
            ],
            [
             0.7777777777777778,
             "#fb9f3a"
            ],
            [
             0.8888888888888888,
             "#fdca26"
            ],
            [
             1,
             "#f0f921"
            ]
           ]
          },
          "colorway": [
           "#636efa",
           "#EF553B",
           "#00cc96",
           "#ab63fa",
           "#FFA15A",
           "#19d3f3",
           "#FF6692",
           "#B6E880",
           "#FF97FF",
           "#FECB52"
          ],
          "font": {
           "color": "#2a3f5f"
          },
          "geo": {
           "bgcolor": "white",
           "lakecolor": "white",
           "landcolor": "#E5ECF6",
           "showlakes": true,
           "showland": true,
           "subunitcolor": "white"
          },
          "hoverlabel": {
           "align": "left"
          },
          "hovermode": "closest",
          "mapbox": {
           "style": "light"
          },
          "paper_bgcolor": "white",
          "plot_bgcolor": "#E5ECF6",
          "polar": {
           "angularaxis": {
            "gridcolor": "white",
            "linecolor": "white",
            "ticks": ""
           },
           "bgcolor": "#E5ECF6",
           "radialaxis": {
            "gridcolor": "white",
            "linecolor": "white",
            "ticks": ""
           }
          },
          "scene": {
           "xaxis": {
            "backgroundcolor": "#E5ECF6",
            "gridcolor": "white",
            "gridwidth": 2,
            "linecolor": "white",
            "showbackground": true,
            "ticks": "",
            "zerolinecolor": "white"
           },
           "yaxis": {
            "backgroundcolor": "#E5ECF6",
            "gridcolor": "white",
            "gridwidth": 2,
            "linecolor": "white",
            "showbackground": true,
            "ticks": "",
            "zerolinecolor": "white"
           },
           "zaxis": {
            "backgroundcolor": "#E5ECF6",
            "gridcolor": "white",
            "gridwidth": 2,
            "linecolor": "white",
            "showbackground": true,
            "ticks": "",
            "zerolinecolor": "white"
           }
          },
          "shapedefaults": {
           "line": {
            "color": "#2a3f5f"
           }
          },
          "ternary": {
           "aaxis": {
            "gridcolor": "white",
            "linecolor": "white",
            "ticks": ""
           },
           "baxis": {
            "gridcolor": "white",
            "linecolor": "white",
            "ticks": ""
           },
           "bgcolor": "#E5ECF6",
           "caxis": {
            "gridcolor": "white",
            "linecolor": "white",
            "ticks": ""
           }
          },
          "title": {
           "x": 0.05
          },
          "xaxis": {
           "automargin": true,
           "gridcolor": "white",
           "linecolor": "white",
           "ticks": "",
           "title": {
            "standoff": 15
           },
           "zerolinecolor": "white",
           "zerolinewidth": 2
          },
          "yaxis": {
           "automargin": true,
           "gridcolor": "white",
           "linecolor": "white",
           "ticks": "",
           "title": {
            "standoff": 15
           },
           "zerolinecolor": "white",
           "zerolinewidth": 2
          }
         }
        },
        "xaxis": {
         "anchor": "y",
         "domain": [
          0,
          1
         ],
         "title": {
          "text": "Total price for out-of-state students living on campus 2013-14"
         }
        },
        "yaxis": {
         "anchor": "x",
         "domain": [
          0,
          1
         ],
         "title": {
          "text": "Enrolled total"
         }
        }
       }
      }
     },
     "metadata": {},
     "output_type": "display_data"
    }
   ],
   "source": [
    "fig = px.scatter(df, x=\"Total price for in-state students living on campus 2013-14\", y=\"Enrolled total\")\n",
    "fig.show()\n",
    "fig = px.scatter(df, x=\"Total price for out-of-state students living on campus 2013-14\", y=\"Enrolled total\")\n",
    "fig.show()"
   ]
  },
  {
   "cell_type": "markdown",
   "metadata": {},
   "source": [
    "Conclusion: For both plots, there is almost no correlation, however we can tell that universities with cheaper have a wider range of enrollment"
   ]
  },
  {
   "cell_type": "markdown",
   "metadata": {},
   "source": [
    "### 6-Do students prefer universities from highly populated states?"
   ]
  },
  {
   "cell_type": "code",
   "execution_count": 18,
   "metadata": {},
   "outputs": [],
   "source": [
    "total_students_per_state=df.groupby('FIPS state code',sort=False)[['Enrolled total']].sum()\n",
    "total_students_per_state.rename(columns={'Enrolled total': 'total_students_per_state'}, inplace=True)\n",
    "universities_per_state=df.groupby('FIPS state code',sort=False)[['Name']].count()\n",
    "universities_per_state.rename(columns={'Name': 'universities_per_state'}, inplace=True)\n",
    "\n",
    "frames = [total_students_per_state, universities_per_state]\n",
    "agg_df = pd.concat(frames,axis=1)\n",
    "agg_df.index.name = 'NAME'\n",
    "agg_df['Avg_students_per_uni']=round(agg_df['total_students_per_state']/agg_df['universities_per_state'],ndigits=0)\n"
   ]
  },
  {
   "cell_type": "code",
   "execution_count": 19,
   "metadata": {},
   "outputs": [
    {
     "data": {
      "text/html": [
       "<div>\n",
       "<style scoped>\n",
       "    .dataframe tbody tr th:only-of-type {\n",
       "        vertical-align: middle;\n",
       "    }\n",
       "\n",
       "    .dataframe tbody tr th {\n",
       "        vertical-align: top;\n",
       "    }\n",
       "\n",
       "    .dataframe thead th {\n",
       "        text-align: right;\n",
       "    }\n",
       "</style>\n",
       "<table border=\"1\" class=\"dataframe\">\n",
       "  <thead>\n",
       "    <tr style=\"text-align: right;\">\n",
       "      <th></th>\n",
       "      <th>NAME</th>\n",
       "      <th>total_students_per_state</th>\n",
       "      <th>universities_per_state</th>\n",
       "      <th>Avg_students_per_uni</th>\n",
       "      <th>POP_2021</th>\n",
       "      <th>state</th>\n",
       "    </tr>\n",
       "  </thead>\n",
       "  <tbody>\n",
       "    <tr>\n",
       "      <th>0</th>\n",
       "      <td>Alabama</td>\n",
       "      <td>26226.0</td>\n",
       "      <td>22.0</td>\n",
       "      <td>1192.0</td>\n",
       "      <td>5039877</td>\n",
       "      <td>01</td>\n",
       "    </tr>\n",
       "    <tr>\n",
       "      <th>1</th>\n",
       "      <td>Alaska</td>\n",
       "      <td>33.0</td>\n",
       "      <td>1.0</td>\n",
       "      <td>33.0</td>\n",
       "      <td>732673</td>\n",
       "      <td>02</td>\n",
       "    </tr>\n",
       "    <tr>\n",
       "      <th>2</th>\n",
       "      <td>Arizona</td>\n",
       "      <td>19931.0</td>\n",
       "      <td>6.0</td>\n",
       "      <td>3322.0</td>\n",
       "      <td>7276316</td>\n",
       "      <td>04</td>\n",
       "    </tr>\n",
       "    <tr>\n",
       "      <th>3</th>\n",
       "      <td>Arkansas</td>\n",
       "      <td>16609.0</td>\n",
       "      <td>17.0</td>\n",
       "      <td>977.0</td>\n",
       "      <td>3025891</td>\n",
       "      <td>05</td>\n",
       "    </tr>\n",
       "    <tr>\n",
       "      <th>4</th>\n",
       "      <td>California</td>\n",
       "      <td>120777.0</td>\n",
       "      <td>82.0</td>\n",
       "      <td>1473.0</td>\n",
       "      <td>39237836</td>\n",
       "      <td>06</td>\n",
       "    </tr>\n",
       "    <tr>\n",
       "      <th>5</th>\n",
       "      <td>Colorado</td>\n",
       "      <td>26057.0</td>\n",
       "      <td>18.0</td>\n",
       "      <td>1448.0</td>\n",
       "      <td>5812069</td>\n",
       "      <td>08</td>\n",
       "    </tr>\n",
       "    <tr>\n",
       "      <th>6</th>\n",
       "      <td>Connecticut</td>\n",
       "      <td>18529.0</td>\n",
       "      <td>18.0</td>\n",
       "      <td>1029.0</td>\n",
       "      <td>3605597</td>\n",
       "      <td>09</td>\n",
       "    </tr>\n",
       "    <tr>\n",
       "      <th>7</th>\n",
       "      <td>Delaware</td>\n",
       "      <td>5816.0</td>\n",
       "      <td>3.0</td>\n",
       "      <td>1939.0</td>\n",
       "      <td>1003384</td>\n",
       "      <td>10</td>\n",
       "    </tr>\n",
       "    <tr>\n",
       "      <th>8</th>\n",
       "      <td>District of Columbia</td>\n",
       "      <td>8292.0</td>\n",
       "      <td>7.0</td>\n",
       "      <td>1185.0</td>\n",
       "      <td>670050</td>\n",
       "      <td>11</td>\n",
       "    </tr>\n",
       "    <tr>\n",
       "      <th>9</th>\n",
       "      <td>Florida</td>\n",
       "      <td>56893.0</td>\n",
       "      <td>45.0</td>\n",
       "      <td>1264.0</td>\n",
       "      <td>21781128</td>\n",
       "      <td>12</td>\n",
       "    </tr>\n",
       "    <tr>\n",
       "      <th>10</th>\n",
       "      <td>Georgia</td>\n",
       "      <td>38280.0</td>\n",
       "      <td>39.0</td>\n",
       "      <td>982.0</td>\n",
       "      <td>10799566</td>\n",
       "      <td>13</td>\n",
       "    </tr>\n",
       "    <tr>\n",
       "      <th>11</th>\n",
       "      <td>Hawaii</td>\n",
       "      <td>4160.0</td>\n",
       "      <td>7.0</td>\n",
       "      <td>594.0</td>\n",
       "      <td>1441553</td>\n",
       "      <td>15</td>\n",
       "    </tr>\n",
       "    <tr>\n",
       "      <th>12</th>\n",
       "      <td>Idaho</td>\n",
       "      <td>8324.0</td>\n",
       "      <td>6.0</td>\n",
       "      <td>1387.0</td>\n",
       "      <td>1900923</td>\n",
       "      <td>16</td>\n",
       "    </tr>\n",
       "    <tr>\n",
       "      <th>13</th>\n",
       "      <td>Illinois</td>\n",
       "      <td>50238.0</td>\n",
       "      <td>52.0</td>\n",
       "      <td>966.0</td>\n",
       "      <td>12671469</td>\n",
       "      <td>17</td>\n",
       "    </tr>\n",
       "    <tr>\n",
       "      <th>14</th>\n",
       "      <td>Indiana</td>\n",
       "      <td>45571.0</td>\n",
       "      <td>41.0</td>\n",
       "      <td>1111.0</td>\n",
       "      <td>6805985</td>\n",
       "      <td>18</td>\n",
       "    </tr>\n",
       "    <tr>\n",
       "      <th>15</th>\n",
       "      <td>Iowa</td>\n",
       "      <td>19524.0</td>\n",
       "      <td>26.0</td>\n",
       "      <td>751.0</td>\n",
       "      <td>3193079</td>\n",
       "      <td>19</td>\n",
       "    </tr>\n",
       "    <tr>\n",
       "      <th>16</th>\n",
       "      <td>Kansas</td>\n",
       "      <td>14652.0</td>\n",
       "      <td>21.0</td>\n",
       "      <td>698.0</td>\n",
       "      <td>2934582</td>\n",
       "      <td>20</td>\n",
       "    </tr>\n",
       "    <tr>\n",
       "      <th>17</th>\n",
       "      <td>Kentucky</td>\n",
       "      <td>24692.0</td>\n",
       "      <td>26.0</td>\n",
       "      <td>950.0</td>\n",
       "      <td>4509394</td>\n",
       "      <td>21</td>\n",
       "    </tr>\n",
       "    <tr>\n",
       "      <th>18</th>\n",
       "      <td>Louisiana</td>\n",
       "      <td>25012.0</td>\n",
       "      <td>21.0</td>\n",
       "      <td>1191.0</td>\n",
       "      <td>4624047</td>\n",
       "      <td>22</td>\n",
       "    </tr>\n",
       "    <tr>\n",
       "      <th>19</th>\n",
       "      <td>Maine</td>\n",
       "      <td>7161.0</td>\n",
       "      <td>15.0</td>\n",
       "      <td>477.0</td>\n",
       "      <td>1372247</td>\n",
       "      <td>23</td>\n",
       "    </tr>\n",
       "    <tr>\n",
       "      <th>20</th>\n",
       "      <td>Maryland</td>\n",
       "      <td>19343.0</td>\n",
       "      <td>22.0</td>\n",
       "      <td>879.0</td>\n",
       "      <td>6165129</td>\n",
       "      <td>24</td>\n",
       "    </tr>\n",
       "    <tr>\n",
       "      <th>21</th>\n",
       "      <td>Massachusetts</td>\n",
       "      <td>49576.0</td>\n",
       "      <td>58.0</td>\n",
       "      <td>855.0</td>\n",
       "      <td>6984723</td>\n",
       "      <td>25</td>\n",
       "    </tr>\n",
       "    <tr>\n",
       "      <th>22</th>\n",
       "      <td>Michigan</td>\n",
       "      <td>49623.0</td>\n",
       "      <td>39.0</td>\n",
       "      <td>1272.0</td>\n",
       "      <td>10050811</td>\n",
       "      <td>26</td>\n",
       "    </tr>\n",
       "    <tr>\n",
       "      <th>23</th>\n",
       "      <td>Minnesota</td>\n",
       "      <td>26241.0</td>\n",
       "      <td>31.0</td>\n",
       "      <td>846.0</td>\n",
       "      <td>5707390</td>\n",
       "      <td>27</td>\n",
       "    </tr>\n",
       "    <tr>\n",
       "      <th>24</th>\n",
       "      <td>Mississippi</td>\n",
       "      <td>12937.0</td>\n",
       "      <td>15.0</td>\n",
       "      <td>862.0</td>\n",
       "      <td>2949965</td>\n",
       "      <td>28</td>\n",
       "    </tr>\n",
       "    <tr>\n",
       "      <th>25</th>\n",
       "      <td>Missouri</td>\n",
       "      <td>28975.0</td>\n",
       "      <td>32.0</td>\n",
       "      <td>905.0</td>\n",
       "      <td>6168187</td>\n",
       "      <td>29</td>\n",
       "    </tr>\n",
       "    <tr>\n",
       "      <th>26</th>\n",
       "      <td>Montana</td>\n",
       "      <td>6047.0</td>\n",
       "      <td>7.0</td>\n",
       "      <td>864.0</td>\n",
       "      <td>1104271</td>\n",
       "      <td>30</td>\n",
       "    </tr>\n",
       "    <tr>\n",
       "      <th>27</th>\n",
       "      <td>Nebraska</td>\n",
       "      <td>10413.0</td>\n",
       "      <td>13.0</td>\n",
       "      <td>801.0</td>\n",
       "      <td>1963692</td>\n",
       "      <td>31</td>\n",
       "    </tr>\n",
       "    <tr>\n",
       "      <th>28</th>\n",
       "      <td>Nevada</td>\n",
       "      <td>7089.0</td>\n",
       "      <td>3.0</td>\n",
       "      <td>2363.0</td>\n",
       "      <td>3143991</td>\n",
       "      <td>32</td>\n",
       "    </tr>\n",
       "    <tr>\n",
       "      <th>29</th>\n",
       "      <td>New Hampshire</td>\n",
       "      <td>9157.0</td>\n",
       "      <td>11.0</td>\n",
       "      <td>832.0</td>\n",
       "      <td>1388992</td>\n",
       "      <td>33</td>\n",
       "    </tr>\n",
       "    <tr>\n",
       "      <th>30</th>\n",
       "      <td>New Jersey</td>\n",
       "      <td>29124.0</td>\n",
       "      <td>27.0</td>\n",
       "      <td>1079.0</td>\n",
       "      <td>9267130</td>\n",
       "      <td>34</td>\n",
       "    </tr>\n",
       "    <tr>\n",
       "      <th>31</th>\n",
       "      <td>New Mexico</td>\n",
       "      <td>6403.0</td>\n",
       "      <td>5.0</td>\n",
       "      <td>1281.0</td>\n",
       "      <td>2115877</td>\n",
       "      <td>35</td>\n",
       "    </tr>\n",
       "    <tr>\n",
       "      <th>32</th>\n",
       "      <td>New York</td>\n",
       "      <td>111033.0</td>\n",
       "      <td>114.0</td>\n",
       "      <td>974.0</td>\n",
       "      <td>19835913</td>\n",
       "      <td>36</td>\n",
       "    </tr>\n",
       "    <tr>\n",
       "      <th>33</th>\n",
       "      <td>North Carolina</td>\n",
       "      <td>48095.0</td>\n",
       "      <td>51.0</td>\n",
       "      <td>943.0</td>\n",
       "      <td>10551162</td>\n",
       "      <td>37</td>\n",
       "    </tr>\n",
       "    <tr>\n",
       "      <th>34</th>\n",
       "      <td>North Dakota</td>\n",
       "      <td>6362.0</td>\n",
       "      <td>7.0</td>\n",
       "      <td>909.0</td>\n",
       "      <td>774948</td>\n",
       "      <td>38</td>\n",
       "    </tr>\n",
       "    <tr>\n",
       "      <th>35</th>\n",
       "      <td>Ohio</td>\n",
       "      <td>57073.0</td>\n",
       "      <td>47.0</td>\n",
       "      <td>1214.0</td>\n",
       "      <td>11780017</td>\n",
       "      <td>39</td>\n",
       "    </tr>\n",
       "    <tr>\n",
       "      <th>36</th>\n",
       "      <td>Oklahoma</td>\n",
       "      <td>18254.0</td>\n",
       "      <td>20.0</td>\n",
       "      <td>913.0</td>\n",
       "      <td>3986639</td>\n",
       "      <td>40</td>\n",
       "    </tr>\n",
       "    <tr>\n",
       "      <th>37</th>\n",
       "      <td>Oregon</td>\n",
       "      <td>15815.0</td>\n",
       "      <td>19.0</td>\n",
       "      <td>832.0</td>\n",
       "      <td>4246155</td>\n",
       "      <td>41</td>\n",
       "    </tr>\n",
       "    <tr>\n",
       "      <th>38</th>\n",
       "      <td>Pennsylvania</td>\n",
       "      <td>85880.0</td>\n",
       "      <td>108.0</td>\n",
       "      <td>795.0</td>\n",
       "      <td>12964056</td>\n",
       "      <td>42</td>\n",
       "    </tr>\n",
       "    <tr>\n",
       "      <th>39</th>\n",
       "      <td>Rhode Island</td>\n",
       "      <td>11186.0</td>\n",
       "      <td>8.0</td>\n",
       "      <td>1398.0</td>\n",
       "      <td>1095610</td>\n",
       "      <td>44</td>\n",
       "    </tr>\n",
       "    <tr>\n",
       "      <th>40</th>\n",
       "      <td>South Carolina</td>\n",
       "      <td>23298.0</td>\n",
       "      <td>28.0</td>\n",
       "      <td>832.0</td>\n",
       "      <td>5190705</td>\n",
       "      <td>45</td>\n",
       "    </tr>\n",
       "    <tr>\n",
       "      <th>41</th>\n",
       "      <td>South Dakota</td>\n",
       "      <td>6015.0</td>\n",
       "      <td>10.0</td>\n",
       "      <td>602.0</td>\n",
       "      <td>895376</td>\n",
       "      <td>46</td>\n",
       "    </tr>\n",
       "    <tr>\n",
       "      <th>42</th>\n",
       "      <td>Tennessee</td>\n",
       "      <td>29964.0</td>\n",
       "      <td>33.0</td>\n",
       "      <td>908.0</td>\n",
       "      <td>6975218</td>\n",
       "      <td>47</td>\n",
       "    </tr>\n",
       "    <tr>\n",
       "      <th>43</th>\n",
       "      <td>Texas</td>\n",
       "      <td>93767.0</td>\n",
       "      <td>63.0</td>\n",
       "      <td>1488.0</td>\n",
       "      <td>29527941</td>\n",
       "      <td>48</td>\n",
       "    </tr>\n",
       "    <tr>\n",
       "      <th>44</th>\n",
       "      <td>Utah</td>\n",
       "      <td>13096.0</td>\n",
       "      <td>5.0</td>\n",
       "      <td>2619.0</td>\n",
       "      <td>3337975</td>\n",
       "      <td>49</td>\n",
       "    </tr>\n",
       "    <tr>\n",
       "      <th>45</th>\n",
       "      <td>Vermont</td>\n",
       "      <td>6578.0</td>\n",
       "      <td>17.0</td>\n",
       "      <td>387.0</td>\n",
       "      <td>645570</td>\n",
       "      <td>50</td>\n",
       "    </tr>\n",
       "    <tr>\n",
       "      <th>46</th>\n",
       "      <td>Virginia</td>\n",
       "      <td>46065.0</td>\n",
       "      <td>40.0</td>\n",
       "      <td>1152.0</td>\n",
       "      <td>8642274</td>\n",
       "      <td>51</td>\n",
       "    </tr>\n",
       "    <tr>\n",
       "      <th>47</th>\n",
       "      <td>Washington</td>\n",
       "      <td>23783.0</td>\n",
       "      <td>20.0</td>\n",
       "      <td>1189.0</td>\n",
       "      <td>7738692</td>\n",
       "      <td>53</td>\n",
       "    </tr>\n",
       "    <tr>\n",
       "      <th>48</th>\n",
       "      <td>West Virginia</td>\n",
       "      <td>12738.0</td>\n",
       "      <td>17.0</td>\n",
       "      <td>749.0</td>\n",
       "      <td>1782959</td>\n",
       "      <td>54</td>\n",
       "    </tr>\n",
       "    <tr>\n",
       "      <th>49</th>\n",
       "      <td>Wisconsin</td>\n",
       "      <td>33984.0</td>\n",
       "      <td>33.0</td>\n",
       "      <td>1030.0</td>\n",
       "      <td>5895908</td>\n",
       "      <td>55</td>\n",
       "    </tr>\n",
       "    <tr>\n",
       "      <th>50</th>\n",
       "      <td>Wyoming</td>\n",
       "      <td>1584.0</td>\n",
       "      <td>1.0</td>\n",
       "      <td>1584.0</td>\n",
       "      <td>578803</td>\n",
       "      <td>56</td>\n",
       "    </tr>\n",
       "    <tr>\n",
       "      <th>51</th>\n",
       "      <td>Puerto Rico</td>\n",
       "      <td>NaN</td>\n",
       "      <td>NaN</td>\n",
       "      <td>NaN</td>\n",
       "      <td>3263584</td>\n",
       "      <td>72</td>\n",
       "    </tr>\n",
       "  </tbody>\n",
       "</table>\n",
       "</div>"
      ],
      "text/plain": [
       "                    NAME  total_students_per_state  universities_per_state  \\\n",
       "0                Alabama                   26226.0                    22.0   \n",
       "1                 Alaska                      33.0                     1.0   \n",
       "2                Arizona                   19931.0                     6.0   \n",
       "3               Arkansas                   16609.0                    17.0   \n",
       "4             California                  120777.0                    82.0   \n",
       "5               Colorado                   26057.0                    18.0   \n",
       "6            Connecticut                   18529.0                    18.0   \n",
       "7               Delaware                    5816.0                     3.0   \n",
       "8   District of Columbia                    8292.0                     7.0   \n",
       "9                Florida                   56893.0                    45.0   \n",
       "10               Georgia                   38280.0                    39.0   \n",
       "11                Hawaii                    4160.0                     7.0   \n",
       "12                 Idaho                    8324.0                     6.0   \n",
       "13              Illinois                   50238.0                    52.0   \n",
       "14               Indiana                   45571.0                    41.0   \n",
       "15                  Iowa                   19524.0                    26.0   \n",
       "16                Kansas                   14652.0                    21.0   \n",
       "17              Kentucky                   24692.0                    26.0   \n",
       "18             Louisiana                   25012.0                    21.0   \n",
       "19                 Maine                    7161.0                    15.0   \n",
       "20              Maryland                   19343.0                    22.0   \n",
       "21         Massachusetts                   49576.0                    58.0   \n",
       "22              Michigan                   49623.0                    39.0   \n",
       "23             Minnesota                   26241.0                    31.0   \n",
       "24           Mississippi                   12937.0                    15.0   \n",
       "25              Missouri                   28975.0                    32.0   \n",
       "26               Montana                    6047.0                     7.0   \n",
       "27              Nebraska                   10413.0                    13.0   \n",
       "28                Nevada                    7089.0                     3.0   \n",
       "29         New Hampshire                    9157.0                    11.0   \n",
       "30            New Jersey                   29124.0                    27.0   \n",
       "31            New Mexico                    6403.0                     5.0   \n",
       "32              New York                  111033.0                   114.0   \n",
       "33        North Carolina                   48095.0                    51.0   \n",
       "34          North Dakota                    6362.0                     7.0   \n",
       "35                  Ohio                   57073.0                    47.0   \n",
       "36              Oklahoma                   18254.0                    20.0   \n",
       "37                Oregon                   15815.0                    19.0   \n",
       "38          Pennsylvania                   85880.0                   108.0   \n",
       "39          Rhode Island                   11186.0                     8.0   \n",
       "40        South Carolina                   23298.0                    28.0   \n",
       "41          South Dakota                    6015.0                    10.0   \n",
       "42             Tennessee                   29964.0                    33.0   \n",
       "43                 Texas                   93767.0                    63.0   \n",
       "44                  Utah                   13096.0                     5.0   \n",
       "45               Vermont                    6578.0                    17.0   \n",
       "46              Virginia                   46065.0                    40.0   \n",
       "47            Washington                   23783.0                    20.0   \n",
       "48         West Virginia                   12738.0                    17.0   \n",
       "49             Wisconsin                   33984.0                    33.0   \n",
       "50               Wyoming                    1584.0                     1.0   \n",
       "51           Puerto Rico                       NaN                     NaN   \n",
       "\n",
       "    Avg_students_per_uni  POP_2021 state  \n",
       "0                 1192.0   5039877    01  \n",
       "1                   33.0    732673    02  \n",
       "2                 3322.0   7276316    04  \n",
       "3                  977.0   3025891    05  \n",
       "4                 1473.0  39237836    06  \n",
       "5                 1448.0   5812069    08  \n",
       "6                 1029.0   3605597    09  \n",
       "7                 1939.0   1003384    10  \n",
       "8                 1185.0    670050    11  \n",
       "9                 1264.0  21781128    12  \n",
       "10                 982.0  10799566    13  \n",
       "11                 594.0   1441553    15  \n",
       "12                1387.0   1900923    16  \n",
       "13                 966.0  12671469    17  \n",
       "14                1111.0   6805985    18  \n",
       "15                 751.0   3193079    19  \n",
       "16                 698.0   2934582    20  \n",
       "17                 950.0   4509394    21  \n",
       "18                1191.0   4624047    22  \n",
       "19                 477.0   1372247    23  \n",
       "20                 879.0   6165129    24  \n",
       "21                 855.0   6984723    25  \n",
       "22                1272.0  10050811    26  \n",
       "23                 846.0   5707390    27  \n",
       "24                 862.0   2949965    28  \n",
       "25                 905.0   6168187    29  \n",
       "26                 864.0   1104271    30  \n",
       "27                 801.0   1963692    31  \n",
       "28                2363.0   3143991    32  \n",
       "29                 832.0   1388992    33  \n",
       "30                1079.0   9267130    34  \n",
       "31                1281.0   2115877    35  \n",
       "32                 974.0  19835913    36  \n",
       "33                 943.0  10551162    37  \n",
       "34                 909.0    774948    38  \n",
       "35                1214.0  11780017    39  \n",
       "36                 913.0   3986639    40  \n",
       "37                 832.0   4246155    41  \n",
       "38                 795.0  12964056    42  \n",
       "39                1398.0   1095610    44  \n",
       "40                 832.0   5190705    45  \n",
       "41                 602.0    895376    46  \n",
       "42                 908.0   6975218    47  \n",
       "43                1488.0  29527941    48  \n",
       "44                2619.0   3337975    49  \n",
       "45                 387.0    645570    50  \n",
       "46                1152.0   8642274    51  \n",
       "47                1189.0   7738692    53  \n",
       "48                 749.0   1782959    54  \n",
       "49                1030.0   5895908    55  \n",
       "50                1584.0    578803    56  \n",
       "51                   NaN   3263584    72  "
      ]
     },
     "execution_count": 19,
     "metadata": {},
     "output_type": "execute_result"
    }
   ],
   "source": [
    "\n",
    "\n",
    "API_KEY = \"YOUR_KEY\"\n",
    "url = f\"http://api.census.gov/data/2021/pep/population?get=NAME,POP_2021&for=state:*&key=\"\n",
    "\n",
    "response = requests.get(url)\n",
    "data = response.json()\n",
    "pop_df = pd.DataFrame(data)\n",
    "pop_df.columns = pop_df.iloc[0]\n",
    "pop_df = pop_df[1:]\n",
    "pop_df.set_index('NAME', inplace=True)\n",
    "new_df = pd.concat([agg_df,pop_df],axis=1)\n",
    "new_df.reset_index(inplace=True)\n",
    "new_df"
   ]
  },
  {
   "cell_type": "code",
   "execution_count": 20,
   "metadata": {},
   "outputs": [
    {
     "data": {
      "application/vnd.plotly.v1+json": {
       "config": {
        "plotlyServerURL": "https://plot.ly"
       },
       "data": [
        {
         "hovertemplate": "<b>%{hovertext}</b><br><br>POP_2021=%{x}<br>Avg_students_per_uni=%{y}<extra></extra>",
         "hovertext": [
          "Alabama",
          "Alaska",
          "Arizona",
          "Arkansas",
          "California",
          "Colorado",
          "Connecticut",
          "Delaware",
          "District of Columbia",
          "Florida",
          "Georgia",
          "Hawaii",
          "Idaho",
          "Illinois",
          "Indiana",
          "Iowa",
          "Kansas",
          "Kentucky",
          "Louisiana",
          "Maine",
          "Maryland",
          "Massachusetts",
          "Michigan",
          "Minnesota",
          "Mississippi",
          "Missouri",
          "Montana",
          "Nebraska",
          "Nevada",
          "New Hampshire",
          "New Jersey",
          "New Mexico",
          "New York",
          "North Carolina",
          "North Dakota",
          "Ohio",
          "Oklahoma",
          "Oregon",
          "Pennsylvania",
          "Rhode Island",
          "South Carolina",
          "South Dakota",
          "Tennessee",
          "Texas",
          "Utah",
          "Vermont",
          "Virginia",
          "Washington",
          "West Virginia",
          "Wisconsin",
          "Wyoming",
          "Puerto Rico"
         ],
         "legendgroup": "",
         "marker": {
          "color": "#636efa",
          "symbol": "circle"
         },
         "mode": "markers",
         "name": "",
         "orientation": "v",
         "showlegend": false,
         "type": "scatter",
         "x": [
          "5039877",
          "732673",
          "7276316",
          "3025891",
          "39237836",
          "5812069",
          "3605597",
          "1003384",
          "670050",
          "21781128",
          "10799566",
          "1441553",
          "1900923",
          "12671469",
          "6805985",
          "3193079",
          "2934582",
          "4509394",
          "4624047",
          "1372247",
          "6165129",
          "6984723",
          "10050811",
          "5707390",
          "2949965",
          "6168187",
          "1104271",
          "1963692",
          "3143991",
          "1388992",
          "9267130",
          "2115877",
          "19835913",
          "10551162",
          "774948",
          "11780017",
          "3986639",
          "4246155",
          "12964056",
          "1095610",
          "5190705",
          "895376",
          "6975218",
          "29527941",
          "3337975",
          "645570",
          "8642274",
          "7738692",
          "1782959",
          "5895908",
          "578803",
          "3263584"
         ],
         "xaxis": "x",
         "y": {
          "bdata": "AAAAAACgkkAAAAAAAIBAQAAAAAAA9KlAAAAAAACIjkAAAAAAAASXQAAAAAAAoJZAAAAAAAAUkEAAAAAAAEyeQAAAAAAAhJJAAAAAAADAk0AAAAAAALCOQAAAAAAAkIJAAAAAAACslUAAAAAAADCOQAAAAAAAXJFAAAAAAAB4h0AAAAAAANCFQAAAAAAAsI1AAAAAAACckkAAAAAAANB9QAAAAAAAeItAAAAAAAC4ikAAAAAAAOCTQAAAAAAAcIpAAAAAAADwikAAAAAAAEiMQAAAAAAAAItAAAAAAAAIiUAAAAAAAHaiQAAAAAAAAIpAAAAAAADckEAAAAAAAASUQAAAAAAAcI5AAAAAAAB4jUAAAAAAAGiMQAAAAAAA+JJAAAAAAACIjEAAAAAAAACKQAAAAAAA2IhAAAAAAADYlUAAAAAAAACKQAAAAAAA0IJAAAAAAABgjEAAAAAAAECXQAAAAAAAdqRAAAAAAAAweEAAAAAAAACSQAAAAAAAlJJAAAAAAABoh0AAAAAAABiQQAAAAAAAwJhAAAAAAAAA+H8=",
          "dtype": "f8"
         },
         "yaxis": "y"
        }
       ],
       "layout": {
        "legend": {
         "tracegroupgap": 0
        },
        "margin": {
         "t": 60
        },
        "template": {
         "data": {
          "bar": [
           {
            "error_x": {
             "color": "#2a3f5f"
            },
            "error_y": {
             "color": "#2a3f5f"
            },
            "marker": {
             "line": {
              "color": "#E5ECF6",
              "width": 0.5
             },
             "pattern": {
              "fillmode": "overlay",
              "size": 10,
              "solidity": 0.2
             }
            },
            "type": "bar"
           }
          ],
          "barpolar": [
           {
            "marker": {
             "line": {
              "color": "#E5ECF6",
              "width": 0.5
             },
             "pattern": {
              "fillmode": "overlay",
              "size": 10,
              "solidity": 0.2
             }
            },
            "type": "barpolar"
           }
          ],
          "carpet": [
           {
            "aaxis": {
             "endlinecolor": "#2a3f5f",
             "gridcolor": "white",
             "linecolor": "white",
             "minorgridcolor": "white",
             "startlinecolor": "#2a3f5f"
            },
            "baxis": {
             "endlinecolor": "#2a3f5f",
             "gridcolor": "white",
             "linecolor": "white",
             "minorgridcolor": "white",
             "startlinecolor": "#2a3f5f"
            },
            "type": "carpet"
           }
          ],
          "choropleth": [
           {
            "colorbar": {
             "outlinewidth": 0,
             "ticks": ""
            },
            "type": "choropleth"
           }
          ],
          "contour": [
           {
            "colorbar": {
             "outlinewidth": 0,
             "ticks": ""
            },
            "colorscale": [
             [
              0,
              "#0d0887"
             ],
             [
              0.1111111111111111,
              "#46039f"
             ],
             [
              0.2222222222222222,
              "#7201a8"
             ],
             [
              0.3333333333333333,
              "#9c179e"
             ],
             [
              0.4444444444444444,
              "#bd3786"
             ],
             [
              0.5555555555555556,
              "#d8576b"
             ],
             [
              0.6666666666666666,
              "#ed7953"
             ],
             [
              0.7777777777777778,
              "#fb9f3a"
             ],
             [
              0.8888888888888888,
              "#fdca26"
             ],
             [
              1,
              "#f0f921"
             ]
            ],
            "type": "contour"
           }
          ],
          "contourcarpet": [
           {
            "colorbar": {
             "outlinewidth": 0,
             "ticks": ""
            },
            "type": "contourcarpet"
           }
          ],
          "heatmap": [
           {
            "colorbar": {
             "outlinewidth": 0,
             "ticks": ""
            },
            "colorscale": [
             [
              0,
              "#0d0887"
             ],
             [
              0.1111111111111111,
              "#46039f"
             ],
             [
              0.2222222222222222,
              "#7201a8"
             ],
             [
              0.3333333333333333,
              "#9c179e"
             ],
             [
              0.4444444444444444,
              "#bd3786"
             ],
             [
              0.5555555555555556,
              "#d8576b"
             ],
             [
              0.6666666666666666,
              "#ed7953"
             ],
             [
              0.7777777777777778,
              "#fb9f3a"
             ],
             [
              0.8888888888888888,
              "#fdca26"
             ],
             [
              1,
              "#f0f921"
             ]
            ],
            "type": "heatmap"
           }
          ],
          "histogram": [
           {
            "marker": {
             "pattern": {
              "fillmode": "overlay",
              "size": 10,
              "solidity": 0.2
             }
            },
            "type": "histogram"
           }
          ],
          "histogram2d": [
           {
            "colorbar": {
             "outlinewidth": 0,
             "ticks": ""
            },
            "colorscale": [
             [
              0,
              "#0d0887"
             ],
             [
              0.1111111111111111,
              "#46039f"
             ],
             [
              0.2222222222222222,
              "#7201a8"
             ],
             [
              0.3333333333333333,
              "#9c179e"
             ],
             [
              0.4444444444444444,
              "#bd3786"
             ],
             [
              0.5555555555555556,
              "#d8576b"
             ],
             [
              0.6666666666666666,
              "#ed7953"
             ],
             [
              0.7777777777777778,
              "#fb9f3a"
             ],
             [
              0.8888888888888888,
              "#fdca26"
             ],
             [
              1,
              "#f0f921"
             ]
            ],
            "type": "histogram2d"
           }
          ],
          "histogram2dcontour": [
           {
            "colorbar": {
             "outlinewidth": 0,
             "ticks": ""
            },
            "colorscale": [
             [
              0,
              "#0d0887"
             ],
             [
              0.1111111111111111,
              "#46039f"
             ],
             [
              0.2222222222222222,
              "#7201a8"
             ],
             [
              0.3333333333333333,
              "#9c179e"
             ],
             [
              0.4444444444444444,
              "#bd3786"
             ],
             [
              0.5555555555555556,
              "#d8576b"
             ],
             [
              0.6666666666666666,
              "#ed7953"
             ],
             [
              0.7777777777777778,
              "#fb9f3a"
             ],
             [
              0.8888888888888888,
              "#fdca26"
             ],
             [
              1,
              "#f0f921"
             ]
            ],
            "type": "histogram2dcontour"
           }
          ],
          "mesh3d": [
           {
            "colorbar": {
             "outlinewidth": 0,
             "ticks": ""
            },
            "type": "mesh3d"
           }
          ],
          "parcoords": [
           {
            "line": {
             "colorbar": {
              "outlinewidth": 0,
              "ticks": ""
             }
            },
            "type": "parcoords"
           }
          ],
          "pie": [
           {
            "automargin": true,
            "type": "pie"
           }
          ],
          "scatter": [
           {
            "fillpattern": {
             "fillmode": "overlay",
             "size": 10,
             "solidity": 0.2
            },
            "type": "scatter"
           }
          ],
          "scatter3d": [
           {
            "line": {
             "colorbar": {
              "outlinewidth": 0,
              "ticks": ""
             }
            },
            "marker": {
             "colorbar": {
              "outlinewidth": 0,
              "ticks": ""
             }
            },
            "type": "scatter3d"
           }
          ],
          "scattercarpet": [
           {
            "marker": {
             "colorbar": {
              "outlinewidth": 0,
              "ticks": ""
             }
            },
            "type": "scattercarpet"
           }
          ],
          "scattergeo": [
           {
            "marker": {
             "colorbar": {
              "outlinewidth": 0,
              "ticks": ""
             }
            },
            "type": "scattergeo"
           }
          ],
          "scattergl": [
           {
            "marker": {
             "colorbar": {
              "outlinewidth": 0,
              "ticks": ""
             }
            },
            "type": "scattergl"
           }
          ],
          "scattermap": [
           {
            "marker": {
             "colorbar": {
              "outlinewidth": 0,
              "ticks": ""
             }
            },
            "type": "scattermap"
           }
          ],
          "scattermapbox": [
           {
            "marker": {
             "colorbar": {
              "outlinewidth": 0,
              "ticks": ""
             }
            },
            "type": "scattermapbox"
           }
          ],
          "scatterpolar": [
           {
            "marker": {
             "colorbar": {
              "outlinewidth": 0,
              "ticks": ""
             }
            },
            "type": "scatterpolar"
           }
          ],
          "scatterpolargl": [
           {
            "marker": {
             "colorbar": {
              "outlinewidth": 0,
              "ticks": ""
             }
            },
            "type": "scatterpolargl"
           }
          ],
          "scatterternary": [
           {
            "marker": {
             "colorbar": {
              "outlinewidth": 0,
              "ticks": ""
             }
            },
            "type": "scatterternary"
           }
          ],
          "surface": [
           {
            "colorbar": {
             "outlinewidth": 0,
             "ticks": ""
            },
            "colorscale": [
             [
              0,
              "#0d0887"
             ],
             [
              0.1111111111111111,
              "#46039f"
             ],
             [
              0.2222222222222222,
              "#7201a8"
             ],
             [
              0.3333333333333333,
              "#9c179e"
             ],
             [
              0.4444444444444444,
              "#bd3786"
             ],
             [
              0.5555555555555556,
              "#d8576b"
             ],
             [
              0.6666666666666666,
              "#ed7953"
             ],
             [
              0.7777777777777778,
              "#fb9f3a"
             ],
             [
              0.8888888888888888,
              "#fdca26"
             ],
             [
              1,
              "#f0f921"
             ]
            ],
            "type": "surface"
           }
          ],
          "table": [
           {
            "cells": {
             "fill": {
              "color": "#EBF0F8"
             },
             "line": {
              "color": "white"
             }
            },
            "header": {
             "fill": {
              "color": "#C8D4E3"
             },
             "line": {
              "color": "white"
             }
            },
            "type": "table"
           }
          ]
         },
         "layout": {
          "annotationdefaults": {
           "arrowcolor": "#2a3f5f",
           "arrowhead": 0,
           "arrowwidth": 1
          },
          "autotypenumbers": "strict",
          "coloraxis": {
           "colorbar": {
            "outlinewidth": 0,
            "ticks": ""
           }
          },
          "colorscale": {
           "diverging": [
            [
             0,
             "#8e0152"
            ],
            [
             0.1,
             "#c51b7d"
            ],
            [
             0.2,
             "#de77ae"
            ],
            [
             0.3,
             "#f1b6da"
            ],
            [
             0.4,
             "#fde0ef"
            ],
            [
             0.5,
             "#f7f7f7"
            ],
            [
             0.6,
             "#e6f5d0"
            ],
            [
             0.7,
             "#b8e186"
            ],
            [
             0.8,
             "#7fbc41"
            ],
            [
             0.9,
             "#4d9221"
            ],
            [
             1,
             "#276419"
            ]
           ],
           "sequential": [
            [
             0,
             "#0d0887"
            ],
            [
             0.1111111111111111,
             "#46039f"
            ],
            [
             0.2222222222222222,
             "#7201a8"
            ],
            [
             0.3333333333333333,
             "#9c179e"
            ],
            [
             0.4444444444444444,
             "#bd3786"
            ],
            [
             0.5555555555555556,
             "#d8576b"
            ],
            [
             0.6666666666666666,
             "#ed7953"
            ],
            [
             0.7777777777777778,
             "#fb9f3a"
            ],
            [
             0.8888888888888888,
             "#fdca26"
            ],
            [
             1,
             "#f0f921"
            ]
           ],
           "sequentialminus": [
            [
             0,
             "#0d0887"
            ],
            [
             0.1111111111111111,
             "#46039f"
            ],
            [
             0.2222222222222222,
             "#7201a8"
            ],
            [
             0.3333333333333333,
             "#9c179e"
            ],
            [
             0.4444444444444444,
             "#bd3786"
            ],
            [
             0.5555555555555556,
             "#d8576b"
            ],
            [
             0.6666666666666666,
             "#ed7953"
            ],
            [
             0.7777777777777778,
             "#fb9f3a"
            ],
            [
             0.8888888888888888,
             "#fdca26"
            ],
            [
             1,
             "#f0f921"
            ]
           ]
          },
          "colorway": [
           "#636efa",
           "#EF553B",
           "#00cc96",
           "#ab63fa",
           "#FFA15A",
           "#19d3f3",
           "#FF6692",
           "#B6E880",
           "#FF97FF",
           "#FECB52"
          ],
          "font": {
           "color": "#2a3f5f"
          },
          "geo": {
           "bgcolor": "white",
           "lakecolor": "white",
           "landcolor": "#E5ECF6",
           "showlakes": true,
           "showland": true,
           "subunitcolor": "white"
          },
          "hoverlabel": {
           "align": "left"
          },
          "hovermode": "closest",
          "mapbox": {
           "style": "light"
          },
          "paper_bgcolor": "white",
          "plot_bgcolor": "#E5ECF6",
          "polar": {
           "angularaxis": {
            "gridcolor": "white",
            "linecolor": "white",
            "ticks": ""
           },
           "bgcolor": "#E5ECF6",
           "radialaxis": {
            "gridcolor": "white",
            "linecolor": "white",
            "ticks": ""
           }
          },
          "scene": {
           "xaxis": {
            "backgroundcolor": "#E5ECF6",
            "gridcolor": "white",
            "gridwidth": 2,
            "linecolor": "white",
            "showbackground": true,
            "ticks": "",
            "zerolinecolor": "white"
           },
           "yaxis": {
            "backgroundcolor": "#E5ECF6",
            "gridcolor": "white",
            "gridwidth": 2,
            "linecolor": "white",
            "showbackground": true,
            "ticks": "",
            "zerolinecolor": "white"
           },
           "zaxis": {
            "backgroundcolor": "#E5ECF6",
            "gridcolor": "white",
            "gridwidth": 2,
            "linecolor": "white",
            "showbackground": true,
            "ticks": "",
            "zerolinecolor": "white"
           }
          },
          "shapedefaults": {
           "line": {
            "color": "#2a3f5f"
           }
          },
          "ternary": {
           "aaxis": {
            "gridcolor": "white",
            "linecolor": "white",
            "ticks": ""
           },
           "baxis": {
            "gridcolor": "white",
            "linecolor": "white",
            "ticks": ""
           },
           "bgcolor": "#E5ECF6",
           "caxis": {
            "gridcolor": "white",
            "linecolor": "white",
            "ticks": ""
           }
          },
          "title": {
           "x": 0.05
          },
          "xaxis": {
           "automargin": true,
           "gridcolor": "white",
           "linecolor": "white",
           "ticks": "",
           "title": {
            "standoff": 15
           },
           "zerolinecolor": "white",
           "zerolinewidth": 2
          },
          "yaxis": {
           "automargin": true,
           "gridcolor": "white",
           "linecolor": "white",
           "ticks": "",
           "title": {
            "standoff": 15
           },
           "zerolinecolor": "white",
           "zerolinewidth": 2
          }
         }
        },
        "xaxis": {
         "anchor": "y",
         "domain": [
          0,
          1
         ],
         "title": {
          "text": "POP_2021"
         }
        },
        "yaxis": {
         "anchor": "x",
         "domain": [
          0,
          1
         ],
         "title": {
          "text": "Avg_students_per_uni"
         }
        }
       }
      }
     },
     "metadata": {},
     "output_type": "display_data"
    }
   ],
   "source": [
    "fig = px.scatter(new_df, x=\"POP_2021\", y=\"Avg_students_per_uni\",hover_name=\"NAME\")\n",
    "fig.show()"
   ]
  },
  {
   "cell_type": "code",
   "execution_count": 21,
   "metadata": {},
   "outputs": [
    {
     "data": {
      "application/vnd.plotly.v1+json": {
       "config": {
        "plotlyServerURL": "https://plot.ly"
       },
       "data": [
        {
         "hovertemplate": "<b>%{hovertext}</b><br><br>POP_2021=%{x}<br>total_students_per_state=%{y}<extra></extra>",
         "hovertext": [
          "Alabama",
          "Alaska",
          "Arizona",
          "Arkansas",
          "California",
          "Colorado",
          "Connecticut",
          "Delaware",
          "District of Columbia",
          "Florida",
          "Georgia",
          "Hawaii",
          "Idaho",
          "Illinois",
          "Indiana",
          "Iowa",
          "Kansas",
          "Kentucky",
          "Louisiana",
          "Maine",
          "Maryland",
          "Massachusetts",
          "Michigan",
          "Minnesota",
          "Mississippi",
          "Missouri",
          "Montana",
          "Nebraska",
          "Nevada",
          "New Hampshire",
          "New Jersey",
          "New Mexico",
          "New York",
          "North Carolina",
          "North Dakota",
          "Ohio",
          "Oklahoma",
          "Oregon",
          "Pennsylvania",
          "Rhode Island",
          "South Carolina",
          "South Dakota",
          "Tennessee",
          "Texas",
          "Utah",
          "Vermont",
          "Virginia",
          "Washington",
          "West Virginia",
          "Wisconsin",
          "Wyoming",
          "Puerto Rico"
         ],
         "legendgroup": "",
         "marker": {
          "color": "#636efa",
          "symbol": "circle"
         },
         "mode": "markers",
         "name": "",
         "orientation": "v",
         "showlegend": false,
         "type": "scatter",
         "x": [
          "5039877",
          "732673",
          "7276316",
          "3025891",
          "39237836",
          "5812069",
          "3605597",
          "1003384",
          "670050",
          "21781128",
          "10799566",
          "1441553",
          "1900923",
          "12671469",
          "6805985",
          "3193079",
          "2934582",
          "4509394",
          "4624047",
          "1372247",
          "6165129",
          "6984723",
          "10050811",
          "5707390",
          "2949965",
          "6168187",
          "1104271",
          "1963692",
          "3143991",
          "1388992",
          "9267130",
          "2115877",
          "19835913",
          "10551162",
          "774948",
          "11780017",
          "3986639",
          "4246155",
          "12964056",
          "1095610",
          "5190705",
          "895376",
          "6975218",
          "29527941",
          "3337975",
          "645570",
          "8642274",
          "7738692",
          "1782959",
          "5895908",
          "578803",
          "3263584"
         ],
         "xaxis": "x",
         "y": {
          "bdata": "AAAAAICc2UAAAAAAAIBAQAAAAADAdtNAAAAAAEA40EAAAAAAkHz9QAAAAABActlAAAAAAEAY0kAAAAAAALi2QAAAAAAAMsBAAAAAAKDH60AAAAAAALHiQAAAAAAAQLBAAAAAAABCwEAAAAAAwIfoQAAAAABgQOZAAAAAAAAR00AAAAAAAJ7MQAAAAAAAHdhAAAAAAABt2EAAAAAAAPm7QAAAAADA49JAAAAAAAA16EAAAAAA4DroQAAAAABAoNlAAAAAAIBEyUAAAAAAwEvcQAAAAAAAn7dAAAAAAIBWxEAAAAAAALG7QAAAAACA4sFAAAAAAABx3EAAAAAAAAO5QAAAAACQG/tAAAAAAOB750AAAAAAANq4QAAAAAAg3utAAAAAAIDT0UAAAAAAgOPOQAAAAACA9/RAAAAAAADZxUAAAAAAgMDWQAAAAAAAf7dAAAAAAABD3UAAAAAAcOT2QAAAAAAAlMlAAAAAAACyuUAAAAAAIH7mQAAAAADAOddAAAAAAADhyEAAAAAAAJjgQAAAAAAAwJhAAAAAAAAA+H8=",
          "dtype": "f8"
         },
         "yaxis": "y"
        }
       ],
       "layout": {
        "legend": {
         "tracegroupgap": 0
        },
        "margin": {
         "t": 60
        },
        "template": {
         "data": {
          "bar": [
           {
            "error_x": {
             "color": "#2a3f5f"
            },
            "error_y": {
             "color": "#2a3f5f"
            },
            "marker": {
             "line": {
              "color": "#E5ECF6",
              "width": 0.5
             },
             "pattern": {
              "fillmode": "overlay",
              "size": 10,
              "solidity": 0.2
             }
            },
            "type": "bar"
           }
          ],
          "barpolar": [
           {
            "marker": {
             "line": {
              "color": "#E5ECF6",
              "width": 0.5
             },
             "pattern": {
              "fillmode": "overlay",
              "size": 10,
              "solidity": 0.2
             }
            },
            "type": "barpolar"
           }
          ],
          "carpet": [
           {
            "aaxis": {
             "endlinecolor": "#2a3f5f",
             "gridcolor": "white",
             "linecolor": "white",
             "minorgridcolor": "white",
             "startlinecolor": "#2a3f5f"
            },
            "baxis": {
             "endlinecolor": "#2a3f5f",
             "gridcolor": "white",
             "linecolor": "white",
             "minorgridcolor": "white",
             "startlinecolor": "#2a3f5f"
            },
            "type": "carpet"
           }
          ],
          "choropleth": [
           {
            "colorbar": {
             "outlinewidth": 0,
             "ticks": ""
            },
            "type": "choropleth"
           }
          ],
          "contour": [
           {
            "colorbar": {
             "outlinewidth": 0,
             "ticks": ""
            },
            "colorscale": [
             [
              0,
              "#0d0887"
             ],
             [
              0.1111111111111111,
              "#46039f"
             ],
             [
              0.2222222222222222,
              "#7201a8"
             ],
             [
              0.3333333333333333,
              "#9c179e"
             ],
             [
              0.4444444444444444,
              "#bd3786"
             ],
             [
              0.5555555555555556,
              "#d8576b"
             ],
             [
              0.6666666666666666,
              "#ed7953"
             ],
             [
              0.7777777777777778,
              "#fb9f3a"
             ],
             [
              0.8888888888888888,
              "#fdca26"
             ],
             [
              1,
              "#f0f921"
             ]
            ],
            "type": "contour"
           }
          ],
          "contourcarpet": [
           {
            "colorbar": {
             "outlinewidth": 0,
             "ticks": ""
            },
            "type": "contourcarpet"
           }
          ],
          "heatmap": [
           {
            "colorbar": {
             "outlinewidth": 0,
             "ticks": ""
            },
            "colorscale": [
             [
              0,
              "#0d0887"
             ],
             [
              0.1111111111111111,
              "#46039f"
             ],
             [
              0.2222222222222222,
              "#7201a8"
             ],
             [
              0.3333333333333333,
              "#9c179e"
             ],
             [
              0.4444444444444444,
              "#bd3786"
             ],
             [
              0.5555555555555556,
              "#d8576b"
             ],
             [
              0.6666666666666666,
              "#ed7953"
             ],
             [
              0.7777777777777778,
              "#fb9f3a"
             ],
             [
              0.8888888888888888,
              "#fdca26"
             ],
             [
              1,
              "#f0f921"
             ]
            ],
            "type": "heatmap"
           }
          ],
          "histogram": [
           {
            "marker": {
             "pattern": {
              "fillmode": "overlay",
              "size": 10,
              "solidity": 0.2
             }
            },
            "type": "histogram"
           }
          ],
          "histogram2d": [
           {
            "colorbar": {
             "outlinewidth": 0,
             "ticks": ""
            },
            "colorscale": [
             [
              0,
              "#0d0887"
             ],
             [
              0.1111111111111111,
              "#46039f"
             ],
             [
              0.2222222222222222,
              "#7201a8"
             ],
             [
              0.3333333333333333,
              "#9c179e"
             ],
             [
              0.4444444444444444,
              "#bd3786"
             ],
             [
              0.5555555555555556,
              "#d8576b"
             ],
             [
              0.6666666666666666,
              "#ed7953"
             ],
             [
              0.7777777777777778,
              "#fb9f3a"
             ],
             [
              0.8888888888888888,
              "#fdca26"
             ],
             [
              1,
              "#f0f921"
             ]
            ],
            "type": "histogram2d"
           }
          ],
          "histogram2dcontour": [
           {
            "colorbar": {
             "outlinewidth": 0,
             "ticks": ""
            },
            "colorscale": [
             [
              0,
              "#0d0887"
             ],
             [
              0.1111111111111111,
              "#46039f"
             ],
             [
              0.2222222222222222,
              "#7201a8"
             ],
             [
              0.3333333333333333,
              "#9c179e"
             ],
             [
              0.4444444444444444,
              "#bd3786"
             ],
             [
              0.5555555555555556,
              "#d8576b"
             ],
             [
              0.6666666666666666,
              "#ed7953"
             ],
             [
              0.7777777777777778,
              "#fb9f3a"
             ],
             [
              0.8888888888888888,
              "#fdca26"
             ],
             [
              1,
              "#f0f921"
             ]
            ],
            "type": "histogram2dcontour"
           }
          ],
          "mesh3d": [
           {
            "colorbar": {
             "outlinewidth": 0,
             "ticks": ""
            },
            "type": "mesh3d"
           }
          ],
          "parcoords": [
           {
            "line": {
             "colorbar": {
              "outlinewidth": 0,
              "ticks": ""
             }
            },
            "type": "parcoords"
           }
          ],
          "pie": [
           {
            "automargin": true,
            "type": "pie"
           }
          ],
          "scatter": [
           {
            "fillpattern": {
             "fillmode": "overlay",
             "size": 10,
             "solidity": 0.2
            },
            "type": "scatter"
           }
          ],
          "scatter3d": [
           {
            "line": {
             "colorbar": {
              "outlinewidth": 0,
              "ticks": ""
             }
            },
            "marker": {
             "colorbar": {
              "outlinewidth": 0,
              "ticks": ""
             }
            },
            "type": "scatter3d"
           }
          ],
          "scattercarpet": [
           {
            "marker": {
             "colorbar": {
              "outlinewidth": 0,
              "ticks": ""
             }
            },
            "type": "scattercarpet"
           }
          ],
          "scattergeo": [
           {
            "marker": {
             "colorbar": {
              "outlinewidth": 0,
              "ticks": ""
             }
            },
            "type": "scattergeo"
           }
          ],
          "scattergl": [
           {
            "marker": {
             "colorbar": {
              "outlinewidth": 0,
              "ticks": ""
             }
            },
            "type": "scattergl"
           }
          ],
          "scattermap": [
           {
            "marker": {
             "colorbar": {
              "outlinewidth": 0,
              "ticks": ""
             }
            },
            "type": "scattermap"
           }
          ],
          "scattermapbox": [
           {
            "marker": {
             "colorbar": {
              "outlinewidth": 0,
              "ticks": ""
             }
            },
            "type": "scattermapbox"
           }
          ],
          "scatterpolar": [
           {
            "marker": {
             "colorbar": {
              "outlinewidth": 0,
              "ticks": ""
             }
            },
            "type": "scatterpolar"
           }
          ],
          "scatterpolargl": [
           {
            "marker": {
             "colorbar": {
              "outlinewidth": 0,
              "ticks": ""
             }
            },
            "type": "scatterpolargl"
           }
          ],
          "scatterternary": [
           {
            "marker": {
             "colorbar": {
              "outlinewidth": 0,
              "ticks": ""
             }
            },
            "type": "scatterternary"
           }
          ],
          "surface": [
           {
            "colorbar": {
             "outlinewidth": 0,
             "ticks": ""
            },
            "colorscale": [
             [
              0,
              "#0d0887"
             ],
             [
              0.1111111111111111,
              "#46039f"
             ],
             [
              0.2222222222222222,
              "#7201a8"
             ],
             [
              0.3333333333333333,
              "#9c179e"
             ],
             [
              0.4444444444444444,
              "#bd3786"
             ],
             [
              0.5555555555555556,
              "#d8576b"
             ],
             [
              0.6666666666666666,
              "#ed7953"
             ],
             [
              0.7777777777777778,
              "#fb9f3a"
             ],
             [
              0.8888888888888888,
              "#fdca26"
             ],
             [
              1,
              "#f0f921"
             ]
            ],
            "type": "surface"
           }
          ],
          "table": [
           {
            "cells": {
             "fill": {
              "color": "#EBF0F8"
             },
             "line": {
              "color": "white"
             }
            },
            "header": {
             "fill": {
              "color": "#C8D4E3"
             },
             "line": {
              "color": "white"
             }
            },
            "type": "table"
           }
          ]
         },
         "layout": {
          "annotationdefaults": {
           "arrowcolor": "#2a3f5f",
           "arrowhead": 0,
           "arrowwidth": 1
          },
          "autotypenumbers": "strict",
          "coloraxis": {
           "colorbar": {
            "outlinewidth": 0,
            "ticks": ""
           }
          },
          "colorscale": {
           "diverging": [
            [
             0,
             "#8e0152"
            ],
            [
             0.1,
             "#c51b7d"
            ],
            [
             0.2,
             "#de77ae"
            ],
            [
             0.3,
             "#f1b6da"
            ],
            [
             0.4,
             "#fde0ef"
            ],
            [
             0.5,
             "#f7f7f7"
            ],
            [
             0.6,
             "#e6f5d0"
            ],
            [
             0.7,
             "#b8e186"
            ],
            [
             0.8,
             "#7fbc41"
            ],
            [
             0.9,
             "#4d9221"
            ],
            [
             1,
             "#276419"
            ]
           ],
           "sequential": [
            [
             0,
             "#0d0887"
            ],
            [
             0.1111111111111111,
             "#46039f"
            ],
            [
             0.2222222222222222,
             "#7201a8"
            ],
            [
             0.3333333333333333,
             "#9c179e"
            ],
            [
             0.4444444444444444,
             "#bd3786"
            ],
            [
             0.5555555555555556,
             "#d8576b"
            ],
            [
             0.6666666666666666,
             "#ed7953"
            ],
            [
             0.7777777777777778,
             "#fb9f3a"
            ],
            [
             0.8888888888888888,
             "#fdca26"
            ],
            [
             1,
             "#f0f921"
            ]
           ],
           "sequentialminus": [
            [
             0,
             "#0d0887"
            ],
            [
             0.1111111111111111,
             "#46039f"
            ],
            [
             0.2222222222222222,
             "#7201a8"
            ],
            [
             0.3333333333333333,
             "#9c179e"
            ],
            [
             0.4444444444444444,
             "#bd3786"
            ],
            [
             0.5555555555555556,
             "#d8576b"
            ],
            [
             0.6666666666666666,
             "#ed7953"
            ],
            [
             0.7777777777777778,
             "#fb9f3a"
            ],
            [
             0.8888888888888888,
             "#fdca26"
            ],
            [
             1,
             "#f0f921"
            ]
           ]
          },
          "colorway": [
           "#636efa",
           "#EF553B",
           "#00cc96",
           "#ab63fa",
           "#FFA15A",
           "#19d3f3",
           "#FF6692",
           "#B6E880",
           "#FF97FF",
           "#FECB52"
          ],
          "font": {
           "color": "#2a3f5f"
          },
          "geo": {
           "bgcolor": "white",
           "lakecolor": "white",
           "landcolor": "#E5ECF6",
           "showlakes": true,
           "showland": true,
           "subunitcolor": "white"
          },
          "hoverlabel": {
           "align": "left"
          },
          "hovermode": "closest",
          "mapbox": {
           "style": "light"
          },
          "paper_bgcolor": "white",
          "plot_bgcolor": "#E5ECF6",
          "polar": {
           "angularaxis": {
            "gridcolor": "white",
            "linecolor": "white",
            "ticks": ""
           },
           "bgcolor": "#E5ECF6",
           "radialaxis": {
            "gridcolor": "white",
            "linecolor": "white",
            "ticks": ""
           }
          },
          "scene": {
           "xaxis": {
            "backgroundcolor": "#E5ECF6",
            "gridcolor": "white",
            "gridwidth": 2,
            "linecolor": "white",
            "showbackground": true,
            "ticks": "",
            "zerolinecolor": "white"
           },
           "yaxis": {
            "backgroundcolor": "#E5ECF6",
            "gridcolor": "white",
            "gridwidth": 2,
            "linecolor": "white",
            "showbackground": true,
            "ticks": "",
            "zerolinecolor": "white"
           },
           "zaxis": {
            "backgroundcolor": "#E5ECF6",
            "gridcolor": "white",
            "gridwidth": 2,
            "linecolor": "white",
            "showbackground": true,
            "ticks": "",
            "zerolinecolor": "white"
           }
          },
          "shapedefaults": {
           "line": {
            "color": "#2a3f5f"
           }
          },
          "ternary": {
           "aaxis": {
            "gridcolor": "white",
            "linecolor": "white",
            "ticks": ""
           },
           "baxis": {
            "gridcolor": "white",
            "linecolor": "white",
            "ticks": ""
           },
           "bgcolor": "#E5ECF6",
           "caxis": {
            "gridcolor": "white",
            "linecolor": "white",
            "ticks": ""
           }
          },
          "title": {
           "x": 0.05
          },
          "xaxis": {
           "automargin": true,
           "gridcolor": "white",
           "linecolor": "white",
           "ticks": "",
           "title": {
            "standoff": 15
           },
           "zerolinecolor": "white",
           "zerolinewidth": 2
          },
          "yaxis": {
           "automargin": true,
           "gridcolor": "white",
           "linecolor": "white",
           "ticks": "",
           "title": {
            "standoff": 15
           },
           "zerolinecolor": "white",
           "zerolinewidth": 2
          }
         }
        },
        "xaxis": {
         "anchor": "y",
         "domain": [
          0,
          1
         ],
         "title": {
          "text": "POP_2021"
         }
        },
        "yaxis": {
         "anchor": "x",
         "domain": [
          0,
          1
         ],
         "title": {
          "text": "total_students_per_state"
         }
        }
       }
      }
     },
     "metadata": {},
     "output_type": "display_data"
    }
   ],
   "source": [
    "fig = px.scatter(new_df, x=\"POP_2021\", y=\"total_students_per_state\",hover_name=\"NAME\")\n",
    "fig.show()"
   ]
  },
  {
   "cell_type": "markdown",
   "metadata": {},
   "source": [
    "Conclusion: No Correlation "
   ]
  },
  {
   "cell_type": "markdown",
   "metadata": {},
   "source": [
    "### 7-Do students prefer a university because it belongs to a state with a high GDP per capita?"
   ]
  },
  {
   "cell_type": "code",
   "execution_count": 22,
   "metadata": {},
   "outputs": [
    {
     "data": {
      "text/html": [
       "<div>\n",
       "<style scoped>\n",
       "    .dataframe tbody tr th:only-of-type {\n",
       "        vertical-align: middle;\n",
       "    }\n",
       "\n",
       "    .dataframe tbody tr th {\n",
       "        vertical-align: top;\n",
       "    }\n",
       "\n",
       "    .dataframe thead th {\n",
       "        text-align: right;\n",
       "    }\n",
       "</style>\n",
       "<table border=\"1\" class=\"dataframe\">\n",
       "  <thead>\n",
       "    <tr style=\"text-align: right;\">\n",
       "      <th></th>\n",
       "      <th>NAME</th>\n",
       "      <th>total_students_per_state</th>\n",
       "      <th>universities_per_state</th>\n",
       "      <th>Avg_students_per_uni</th>\n",
       "      <th>GDP</th>\n",
       "    </tr>\n",
       "  </thead>\n",
       "  <tbody>\n",
       "    <tr>\n",
       "      <th>0</th>\n",
       "      <td>Alabama</td>\n",
       "      <td>26226.0</td>\n",
       "      <td>22</td>\n",
       "      <td>1192.0</td>\n",
       "      <td>238,556</td>\n",
       "    </tr>\n",
       "    <tr>\n",
       "      <th>1</th>\n",
       "      <td>Alaska</td>\n",
       "      <td>33.0</td>\n",
       "      <td>1</td>\n",
       "      <td>33.0</td>\n",
       "      <td>50,767</td>\n",
       "    </tr>\n",
       "    <tr>\n",
       "      <th>2</th>\n",
       "      <td>Arizona</td>\n",
       "      <td>19931.0</td>\n",
       "      <td>6</td>\n",
       "      <td>3322.0</td>\n",
       "      <td>410,228</td>\n",
       "    </tr>\n",
       "    <tr>\n",
       "      <th>3</th>\n",
       "      <td>Arkansas</td>\n",
       "      <td>16609.0</td>\n",
       "      <td>17</td>\n",
       "      <td>977.0</td>\n",
       "      <td>139,561</td>\n",
       "    </tr>\n",
       "    <tr>\n",
       "      <th>4</th>\n",
       "      <td>California</td>\n",
       "      <td>120777.0</td>\n",
       "      <td>82</td>\n",
       "      <td>1473.0</td>\n",
       "      <td>3,184,008</td>\n",
       "    </tr>\n",
       "    <tr>\n",
       "      <th>5</th>\n",
       "      <td>Colorado</td>\n",
       "      <td>26057.0</td>\n",
       "      <td>18</td>\n",
       "      <td>1448.0</td>\n",
       "      <td>418,819</td>\n",
       "    </tr>\n",
       "    <tr>\n",
       "      <th>6</th>\n",
       "      <td>Connecticut</td>\n",
       "      <td>18529.0</td>\n",
       "      <td>18</td>\n",
       "      <td>1029.0</td>\n",
       "      <td>278,976</td>\n",
       "    </tr>\n",
       "    <tr>\n",
       "      <th>7</th>\n",
       "      <td>Delaware</td>\n",
       "      <td>5816.0</td>\n",
       "      <td>3</td>\n",
       "      <td>1939.0</td>\n",
       "      <td>77,149</td>\n",
       "    </tr>\n",
       "    <tr>\n",
       "      <th>8</th>\n",
       "      <td>District of Columbia</td>\n",
       "      <td>8292.0</td>\n",
       "      <td>7</td>\n",
       "      <td>1185.0</td>\n",
       "      <td>144,555</td>\n",
       "    </tr>\n",
       "    <tr>\n",
       "      <th>9</th>\n",
       "      <td>Florida</td>\n",
       "      <td>56893.0</td>\n",
       "      <td>45</td>\n",
       "      <td>1264.0</td>\n",
       "      <td>1,239,884</td>\n",
       "    </tr>\n",
       "    <tr>\n",
       "      <th>10</th>\n",
       "      <td>Georgia</td>\n",
       "      <td>38280.0</td>\n",
       "      <td>39</td>\n",
       "      <td>982.0</td>\n",
       "      <td>665,678</td>\n",
       "    </tr>\n",
       "    <tr>\n",
       "      <th>11</th>\n",
       "      <td>Hawaii</td>\n",
       "      <td>4160.0</td>\n",
       "      <td>7</td>\n",
       "      <td>594.0</td>\n",
       "      <td>86,888</td>\n",
       "    </tr>\n",
       "    <tr>\n",
       "      <th>12</th>\n",
       "      <td>Idaho</td>\n",
       "      <td>8324.0</td>\n",
       "      <td>6</td>\n",
       "      <td>1387.0</td>\n",
       "      <td>92,904</td>\n",
       "    </tr>\n",
       "    <tr>\n",
       "      <th>13</th>\n",
       "      <td>Illinois</td>\n",
       "      <td>50238.0</td>\n",
       "      <td>52</td>\n",
       "      <td>966.0</td>\n",
       "      <td>876,536</td>\n",
       "    </tr>\n",
       "    <tr>\n",
       "      <th>14</th>\n",
       "      <td>Indiana</td>\n",
       "      <td>45571.0</td>\n",
       "      <td>41</td>\n",
       "      <td>1111.0</td>\n",
       "      <td>399,281</td>\n",
       "    </tr>\n",
       "    <tr>\n",
       "      <th>15</th>\n",
       "      <td>Iowa</td>\n",
       "      <td>19524.0</td>\n",
       "      <td>26</td>\n",
       "      <td>751.0</td>\n",
       "      <td>201,580</td>\n",
       "    </tr>\n",
       "    <tr>\n",
       "      <th>16</th>\n",
       "      <td>Kansas</td>\n",
       "      <td>14652.0</td>\n",
       "      <td>21</td>\n",
       "      <td>698.0</td>\n",
       "      <td>177,470</td>\n",
       "    </tr>\n",
       "    <tr>\n",
       "      <th>17</th>\n",
       "      <td>Kentucky</td>\n",
       "      <td>24692.0</td>\n",
       "      <td>26</td>\n",
       "      <td>950.0</td>\n",
       "      <td>219,756</td>\n",
       "    </tr>\n",
       "    <tr>\n",
       "      <th>18</th>\n",
       "      <td>Louisiana</td>\n",
       "      <td>25012.0</td>\n",
       "      <td>21</td>\n",
       "      <td>1191.0</td>\n",
       "      <td>236,854</td>\n",
       "    </tr>\n",
       "    <tr>\n",
       "      <th>19</th>\n",
       "      <td>Maine</td>\n",
       "      <td>7161.0</td>\n",
       "      <td>15</td>\n",
       "      <td>477.0</td>\n",
       "      <td>73,036</td>\n",
       "    </tr>\n",
       "    <tr>\n",
       "      <th>20</th>\n",
       "      <td>Maryland</td>\n",
       "      <td>19343.0</td>\n",
       "      <td>22</td>\n",
       "      <td>879.0</td>\n",
       "      <td>416,406</td>\n",
       "    </tr>\n",
       "    <tr>\n",
       "      <th>21</th>\n",
       "      <td>Massachusetts</td>\n",
       "      <td>49576.0</td>\n",
       "      <td>58</td>\n",
       "      <td>855.0</td>\n",
       "      <td>608,053</td>\n",
       "    </tr>\n",
       "    <tr>\n",
       "      <th>22</th>\n",
       "      <td>Michigan</td>\n",
       "      <td>49623.0</td>\n",
       "      <td>39</td>\n",
       "      <td>1272.0</td>\n",
       "      <td>543,721</td>\n",
       "    </tr>\n",
       "    <tr>\n",
       "      <th>23</th>\n",
       "      <td>Minnesota</td>\n",
       "      <td>26241.0</td>\n",
       "      <td>31</td>\n",
       "      <td>846.0</td>\n",
       "      <td>384,728</td>\n",
       "    </tr>\n",
       "    <tr>\n",
       "      <th>24</th>\n",
       "      <td>Mississippi</td>\n",
       "      <td>12937.0</td>\n",
       "      <td>15</td>\n",
       "      <td>862.0</td>\n",
       "      <td>116,557</td>\n",
       "    </tr>\n",
       "    <tr>\n",
       "      <th>25</th>\n",
       "      <td>Missouri</td>\n",
       "      <td>28975.0</td>\n",
       "      <td>32</td>\n",
       "      <td>905.0</td>\n",
       "      <td>339,652</td>\n",
       "    </tr>\n",
       "    <tr>\n",
       "      <th>26</th>\n",
       "      <td>Montana</td>\n",
       "      <td>6047.0</td>\n",
       "      <td>7</td>\n",
       "      <td>864.0</td>\n",
       "      <td>55,194</td>\n",
       "    </tr>\n",
       "    <tr>\n",
       "      <th>27</th>\n",
       "      <td>Nebraska</td>\n",
       "      <td>10413.0</td>\n",
       "      <td>13</td>\n",
       "      <td>801.0</td>\n",
       "      <td>139,441</td>\n",
       "    </tr>\n",
       "    <tr>\n",
       "      <th>28</th>\n",
       "      <td>Nevada</td>\n",
       "      <td>7089.0</td>\n",
       "      <td>3</td>\n",
       "      <td>2363.0</td>\n",
       "      <td>190,463</td>\n",
       "    </tr>\n",
       "    <tr>\n",
       "      <th>29</th>\n",
       "      <td>New Hampshire</td>\n",
       "      <td>9157.0</td>\n",
       "      <td>11</td>\n",
       "      <td>832.0</td>\n",
       "      <td>91,416</td>\n",
       "    </tr>\n",
       "    <tr>\n",
       "      <th>30</th>\n",
       "      <td>New Jersey</td>\n",
       "      <td>29124.0</td>\n",
       "      <td>27</td>\n",
       "      <td>1079.0</td>\n",
       "      <td>650,236</td>\n",
       "    </tr>\n",
       "    <tr>\n",
       "      <th>31</th>\n",
       "      <td>New Mexico</td>\n",
       "      <td>6403.0</td>\n",
       "      <td>5</td>\n",
       "      <td>1281.0</td>\n",
       "      <td>103,302</td>\n",
       "    </tr>\n",
       "    <tr>\n",
       "      <th>32</th>\n",
       "      <td>New York</td>\n",
       "      <td>111033.0</td>\n",
       "      <td>114</td>\n",
       "      <td>974.0</td>\n",
       "      <td>1,765,102</td>\n",
       "    </tr>\n",
       "    <tr>\n",
       "      <th>33</th>\n",
       "      <td>North Carolina</td>\n",
       "      <td>48095.0</td>\n",
       "      <td>51</td>\n",
       "      <td>943.0</td>\n",
       "      <td>619,537</td>\n",
       "    </tr>\n",
       "    <tr>\n",
       "      <th>34</th>\n",
       "      <td>North Dakota</td>\n",
       "      <td>6362.0</td>\n",
       "      <td>7</td>\n",
       "      <td>909.0</td>\n",
       "      <td>55,988</td>\n",
       "    </tr>\n",
       "    <tr>\n",
       "      <th>35</th>\n",
       "      <td>Ohio</td>\n",
       "      <td>57073.0</td>\n",
       "      <td>47</td>\n",
       "      <td>1214.0</td>\n",
       "      <td>695,258</td>\n",
       "    </tr>\n",
       "    <tr>\n",
       "      <th>36</th>\n",
       "      <td>Oklahoma</td>\n",
       "      <td>18254.0</td>\n",
       "      <td>20</td>\n",
       "      <td>913.0</td>\n",
       "      <td>193,940</td>\n",
       "    </tr>\n",
       "    <tr>\n",
       "      <th>37</th>\n",
       "      <td>Oregon</td>\n",
       "      <td>15815.0</td>\n",
       "      <td>19</td>\n",
       "      <td>832.0</td>\n",
       "      <td>256,063</td>\n",
       "    </tr>\n",
       "    <tr>\n",
       "      <th>38</th>\n",
       "      <td>Pennsylvania</td>\n",
       "      <td>85880.0</td>\n",
       "      <td>108</td>\n",
       "      <td>795.0</td>\n",
       "      <td>779,361</td>\n",
       "    </tr>\n",
       "    <tr>\n",
       "      <th>39</th>\n",
       "      <td>Rhode Island</td>\n",
       "      <td>11186.0</td>\n",
       "      <td>8</td>\n",
       "      <td>1398.0</td>\n",
       "      <td>62,279</td>\n",
       "    </tr>\n",
       "    <tr>\n",
       "      <th>40</th>\n",
       "      <td>South Carolina</td>\n",
       "      <td>23298.0</td>\n",
       "      <td>28</td>\n",
       "      <td>832.0</td>\n",
       "      <td>254,504</td>\n",
       "    </tr>\n",
       "    <tr>\n",
       "      <th>41</th>\n",
       "      <td>South Dakota</td>\n",
       "      <td>6015.0</td>\n",
       "      <td>10</td>\n",
       "      <td>602.0</td>\n",
       "      <td>55,260</td>\n",
       "    </tr>\n",
       "    <tr>\n",
       "      <th>42</th>\n",
       "      <td>Tennessee</td>\n",
       "      <td>29964.0</td>\n",
       "      <td>33</td>\n",
       "      <td>908.0</td>\n",
       "      <td>414,471</td>\n",
       "    </tr>\n",
       "    <tr>\n",
       "      <th>43</th>\n",
       "      <td>Texas</td>\n",
       "      <td>93767.0</td>\n",
       "      <td>63</td>\n",
       "      <td>1488.0</td>\n",
       "      <td>1,952,709</td>\n",
       "    </tr>\n",
       "    <tr>\n",
       "      <th>44</th>\n",
       "      <td>Utah</td>\n",
       "      <td>13096.0</td>\n",
       "      <td>5</td>\n",
       "      <td>2619.0</td>\n",
       "      <td>217,442</td>\n",
       "    </tr>\n",
       "    <tr>\n",
       "      <th>45</th>\n",
       "      <td>Vermont</td>\n",
       "      <td>6578.0</td>\n",
       "      <td>17</td>\n",
       "      <td>387.0</td>\n",
       "      <td>34,753</td>\n",
       "    </tr>\n",
       "    <tr>\n",
       "      <th>46</th>\n",
       "      <td>Virginia</td>\n",
       "      <td>46065.0</td>\n",
       "      <td>40</td>\n",
       "      <td>1152.0</td>\n",
       "      <td>580,475</td>\n",
       "    </tr>\n",
       "    <tr>\n",
       "      <th>47</th>\n",
       "      <td>Washington</td>\n",
       "      <td>23783.0</td>\n",
       "      <td>20</td>\n",
       "      <td>1189.0</td>\n",
       "      <td>644,075</td>\n",
       "    </tr>\n",
       "    <tr>\n",
       "      <th>48</th>\n",
       "      <td>West Virginia</td>\n",
       "      <td>12738.0</td>\n",
       "      <td>17</td>\n",
       "      <td>749.0</td>\n",
       "      <td>77,188</td>\n",
       "    </tr>\n",
       "    <tr>\n",
       "      <th>49</th>\n",
       "      <td>Wisconsin</td>\n",
       "      <td>33984.0</td>\n",
       "      <td>33</td>\n",
       "      <td>1030.0</td>\n",
       "      <td>339,748</td>\n",
       "    </tr>\n",
       "    <tr>\n",
       "      <th>50</th>\n",
       "      <td>Wyoming</td>\n",
       "      <td>1584.0</td>\n",
       "      <td>1</td>\n",
       "      <td>1584.0</td>\n",
       "      <td>37,827</td>\n",
       "    </tr>\n",
       "  </tbody>\n",
       "</table>\n",
       "</div>"
      ],
      "text/plain": [
       "                    NAME  total_students_per_state  universities_per_state  \\\n",
       "0                Alabama                   26226.0                      22   \n",
       "1                 Alaska                      33.0                       1   \n",
       "2                Arizona                   19931.0                       6   \n",
       "3               Arkansas                   16609.0                      17   \n",
       "4             California                  120777.0                      82   \n",
       "5               Colorado                   26057.0                      18   \n",
       "6            Connecticut                   18529.0                      18   \n",
       "7               Delaware                    5816.0                       3   \n",
       "8   District of Columbia                    8292.0                       7   \n",
       "9                Florida                   56893.0                      45   \n",
       "10               Georgia                   38280.0                      39   \n",
       "11                Hawaii                    4160.0                       7   \n",
       "12                 Idaho                    8324.0                       6   \n",
       "13              Illinois                   50238.0                      52   \n",
       "14               Indiana                   45571.0                      41   \n",
       "15                  Iowa                   19524.0                      26   \n",
       "16                Kansas                   14652.0                      21   \n",
       "17              Kentucky                   24692.0                      26   \n",
       "18             Louisiana                   25012.0                      21   \n",
       "19                 Maine                    7161.0                      15   \n",
       "20              Maryland                   19343.0                      22   \n",
       "21         Massachusetts                   49576.0                      58   \n",
       "22              Michigan                   49623.0                      39   \n",
       "23             Minnesota                   26241.0                      31   \n",
       "24           Mississippi                   12937.0                      15   \n",
       "25              Missouri                   28975.0                      32   \n",
       "26               Montana                    6047.0                       7   \n",
       "27              Nebraska                   10413.0                      13   \n",
       "28                Nevada                    7089.0                       3   \n",
       "29         New Hampshire                    9157.0                      11   \n",
       "30            New Jersey                   29124.0                      27   \n",
       "31            New Mexico                    6403.0                       5   \n",
       "32              New York                  111033.0                     114   \n",
       "33        North Carolina                   48095.0                      51   \n",
       "34          North Dakota                    6362.0                       7   \n",
       "35                  Ohio                   57073.0                      47   \n",
       "36              Oklahoma                   18254.0                      20   \n",
       "37                Oregon                   15815.0                      19   \n",
       "38          Pennsylvania                   85880.0                     108   \n",
       "39          Rhode Island                   11186.0                       8   \n",
       "40        South Carolina                   23298.0                      28   \n",
       "41          South Dakota                    6015.0                      10   \n",
       "42             Tennessee                   29964.0                      33   \n",
       "43                 Texas                   93767.0                      63   \n",
       "44                  Utah                   13096.0                       5   \n",
       "45               Vermont                    6578.0                      17   \n",
       "46              Virginia                   46065.0                      40   \n",
       "47            Washington                   23783.0                      20   \n",
       "48         West Virginia                   12738.0                      17   \n",
       "49             Wisconsin                   33984.0                      33   \n",
       "50               Wyoming                    1584.0                       1   \n",
       "\n",
       "    Avg_students_per_uni        GDP  \n",
       "0                 1192.0    238,556  \n",
       "1                   33.0     50,767  \n",
       "2                 3322.0    410,228  \n",
       "3                  977.0    139,561  \n",
       "4                 1473.0  3,184,008  \n",
       "5                 1448.0    418,819  \n",
       "6                 1029.0    278,976  \n",
       "7                 1939.0     77,149  \n",
       "8                 1185.0    144,555  \n",
       "9                 1264.0  1,239,884  \n",
       "10                 982.0    665,678  \n",
       "11                 594.0     86,888  \n",
       "12                1387.0     92,904  \n",
       "13                 966.0    876,536  \n",
       "14                1111.0    399,281  \n",
       "15                 751.0    201,580  \n",
       "16                 698.0    177,470  \n",
       "17                 950.0    219,756  \n",
       "18                1191.0    236,854  \n",
       "19                 477.0     73,036  \n",
       "20                 879.0    416,406  \n",
       "21                 855.0    608,053  \n",
       "22                1272.0    543,721  \n",
       "23                 846.0    384,728  \n",
       "24                 862.0    116,557  \n",
       "25                 905.0    339,652  \n",
       "26                 864.0     55,194  \n",
       "27                 801.0    139,441  \n",
       "28                2363.0    190,463  \n",
       "29                 832.0     91,416  \n",
       "30                1079.0    650,236  \n",
       "31                1281.0    103,302  \n",
       "32                 974.0  1,765,102  \n",
       "33                 943.0    619,537  \n",
       "34                 909.0     55,988  \n",
       "35                1214.0    695,258  \n",
       "36                 913.0    193,940  \n",
       "37                 832.0    256,063  \n",
       "38                 795.0    779,361  \n",
       "39                1398.0     62,279  \n",
       "40                 832.0    254,504  \n",
       "41                 602.0     55,260  \n",
       "42                 908.0    414,471  \n",
       "43                1488.0  1,952,709  \n",
       "44                2619.0    217,442  \n",
       "45                 387.0     34,753  \n",
       "46                1152.0    580,475  \n",
       "47                1189.0    644,075  \n",
       "48                 749.0     77,188  \n",
       "49                1030.0    339,748  \n",
       "50                1584.0     37,827  "
      ]
     },
     "execution_count": 22,
     "metadata": {},
     "output_type": "execute_result"
    }
   ],
   "source": [
    "GDP=pd.read_csv(\"gdp2022.CSV\")\n",
    "GDP.set_index('NAME', inplace=True)\n",
    "new_df = pd.concat([agg_df,GDP],axis=1)\n",
    "new_df.reset_index(inplace=True)\n",
    "\n",
    "\n",
    "new_df"
   ]
  },
  {
   "cell_type": "code",
   "execution_count": 23,
   "metadata": {},
   "outputs": [
    {
     "data": {
      "application/vnd.plotly.v1+json": {
       "config": {
        "plotlyServerURL": "https://plot.ly"
       },
       "data": [
        {
         "hovertemplate": "<b>%{hovertext}</b><br><br>GDP=%{x}<br>Avg_students_per_uni=%{y}<extra></extra>",
         "hovertext": [
          "Alabama",
          "Alaska",
          "Arizona",
          "Arkansas",
          "California",
          "Colorado",
          "Connecticut",
          "Delaware",
          "District of Columbia",
          "Florida",
          "Georgia",
          "Hawaii",
          "Idaho",
          "Illinois",
          "Indiana",
          "Iowa",
          "Kansas",
          "Kentucky",
          "Louisiana",
          "Maine",
          "Maryland",
          "Massachusetts",
          "Michigan",
          "Minnesota",
          "Mississippi",
          "Missouri",
          "Montana",
          "Nebraska",
          "Nevada",
          "New Hampshire",
          "New Jersey",
          "New Mexico",
          "New York",
          "North Carolina",
          "North Dakota",
          "Ohio",
          "Oklahoma",
          "Oregon",
          "Pennsylvania",
          "Rhode Island",
          "South Carolina",
          "South Dakota",
          "Tennessee",
          "Texas",
          "Utah",
          "Vermont",
          "Virginia",
          "Washington",
          "West Virginia",
          "Wisconsin",
          "Wyoming"
         ],
         "legendgroup": "",
         "marker": {
          "color": "#636efa",
          "symbol": "circle"
         },
         "mode": "markers",
         "name": "",
         "orientation": "v",
         "showlegend": false,
         "type": "scatter",
         "x": [
          "238,556",
          "50,767",
          "410,228",
          "139,561",
          "3,184,008",
          "418,819",
          "278,976",
          "77,149",
          "144,555",
          "1,239,884",
          "665,678",
          "86,888",
          "92,904",
          "876,536",
          "399,281",
          "201,580",
          "177,470",
          "219,756",
          "236,854",
          "73,036",
          "416,406",
          "608,053",
          "543,721",
          "384,728",
          "116,557",
          "339,652",
          "55,194",
          "139,441",
          "190,463",
          "91,416",
          "650,236",
          "103,302",
          "1,765,102",
          "619,537",
          "55,988",
          "695,258",
          "193,940",
          "256,063",
          "779,361",
          "62,279",
          "254,504",
          "55,260",
          "414,471",
          "1,952,709",
          "217,442",
          "34,753",
          "580,475",
          "644,075",
          "77,188",
          "339,748",
          "37,827"
         ],
         "xaxis": "x",
         "y": {
          "bdata": "AAAAAACgkkAAAAAAAIBAQAAAAAAA9KlAAAAAAACIjkAAAAAAAASXQAAAAAAAoJZAAAAAAAAUkEAAAAAAAEyeQAAAAAAAhJJAAAAAAADAk0AAAAAAALCOQAAAAAAAkIJAAAAAAACslUAAAAAAADCOQAAAAAAAXJFAAAAAAAB4h0AAAAAAANCFQAAAAAAAsI1AAAAAAACckkAAAAAAANB9QAAAAAAAeItAAAAAAAC4ikAAAAAAAOCTQAAAAAAAcIpAAAAAAADwikAAAAAAAEiMQAAAAAAAAItAAAAAAAAIiUAAAAAAAHaiQAAAAAAAAIpAAAAAAADckEAAAAAAAASUQAAAAAAAcI5AAAAAAAB4jUAAAAAAAGiMQAAAAAAA+JJAAAAAAACIjEAAAAAAAACKQAAAAAAA2IhAAAAAAADYlUAAAAAAAACKQAAAAAAA0IJAAAAAAABgjEAAAAAAAECXQAAAAAAAdqRAAAAAAAAweEAAAAAAAACSQAAAAAAAlJJAAAAAAABoh0AAAAAAABiQQAAAAAAAwJhA",
          "dtype": "f8"
         },
         "yaxis": "y"
        }
       ],
       "layout": {
        "legend": {
         "tracegroupgap": 0
        },
        "margin": {
         "t": 60
        },
        "template": {
         "data": {
          "bar": [
           {
            "error_x": {
             "color": "#2a3f5f"
            },
            "error_y": {
             "color": "#2a3f5f"
            },
            "marker": {
             "line": {
              "color": "#E5ECF6",
              "width": 0.5
             },
             "pattern": {
              "fillmode": "overlay",
              "size": 10,
              "solidity": 0.2
             }
            },
            "type": "bar"
           }
          ],
          "barpolar": [
           {
            "marker": {
             "line": {
              "color": "#E5ECF6",
              "width": 0.5
             },
             "pattern": {
              "fillmode": "overlay",
              "size": 10,
              "solidity": 0.2
             }
            },
            "type": "barpolar"
           }
          ],
          "carpet": [
           {
            "aaxis": {
             "endlinecolor": "#2a3f5f",
             "gridcolor": "white",
             "linecolor": "white",
             "minorgridcolor": "white",
             "startlinecolor": "#2a3f5f"
            },
            "baxis": {
             "endlinecolor": "#2a3f5f",
             "gridcolor": "white",
             "linecolor": "white",
             "minorgridcolor": "white",
             "startlinecolor": "#2a3f5f"
            },
            "type": "carpet"
           }
          ],
          "choropleth": [
           {
            "colorbar": {
             "outlinewidth": 0,
             "ticks": ""
            },
            "type": "choropleth"
           }
          ],
          "contour": [
           {
            "colorbar": {
             "outlinewidth": 0,
             "ticks": ""
            },
            "colorscale": [
             [
              0,
              "#0d0887"
             ],
             [
              0.1111111111111111,
              "#46039f"
             ],
             [
              0.2222222222222222,
              "#7201a8"
             ],
             [
              0.3333333333333333,
              "#9c179e"
             ],
             [
              0.4444444444444444,
              "#bd3786"
             ],
             [
              0.5555555555555556,
              "#d8576b"
             ],
             [
              0.6666666666666666,
              "#ed7953"
             ],
             [
              0.7777777777777778,
              "#fb9f3a"
             ],
             [
              0.8888888888888888,
              "#fdca26"
             ],
             [
              1,
              "#f0f921"
             ]
            ],
            "type": "contour"
           }
          ],
          "contourcarpet": [
           {
            "colorbar": {
             "outlinewidth": 0,
             "ticks": ""
            },
            "type": "contourcarpet"
           }
          ],
          "heatmap": [
           {
            "colorbar": {
             "outlinewidth": 0,
             "ticks": ""
            },
            "colorscale": [
             [
              0,
              "#0d0887"
             ],
             [
              0.1111111111111111,
              "#46039f"
             ],
             [
              0.2222222222222222,
              "#7201a8"
             ],
             [
              0.3333333333333333,
              "#9c179e"
             ],
             [
              0.4444444444444444,
              "#bd3786"
             ],
             [
              0.5555555555555556,
              "#d8576b"
             ],
             [
              0.6666666666666666,
              "#ed7953"
             ],
             [
              0.7777777777777778,
              "#fb9f3a"
             ],
             [
              0.8888888888888888,
              "#fdca26"
             ],
             [
              1,
              "#f0f921"
             ]
            ],
            "type": "heatmap"
           }
          ],
          "histogram": [
           {
            "marker": {
             "pattern": {
              "fillmode": "overlay",
              "size": 10,
              "solidity": 0.2
             }
            },
            "type": "histogram"
           }
          ],
          "histogram2d": [
           {
            "colorbar": {
             "outlinewidth": 0,
             "ticks": ""
            },
            "colorscale": [
             [
              0,
              "#0d0887"
             ],
             [
              0.1111111111111111,
              "#46039f"
             ],
             [
              0.2222222222222222,
              "#7201a8"
             ],
             [
              0.3333333333333333,
              "#9c179e"
             ],
             [
              0.4444444444444444,
              "#bd3786"
             ],
             [
              0.5555555555555556,
              "#d8576b"
             ],
             [
              0.6666666666666666,
              "#ed7953"
             ],
             [
              0.7777777777777778,
              "#fb9f3a"
             ],
             [
              0.8888888888888888,
              "#fdca26"
             ],
             [
              1,
              "#f0f921"
             ]
            ],
            "type": "histogram2d"
           }
          ],
          "histogram2dcontour": [
           {
            "colorbar": {
             "outlinewidth": 0,
             "ticks": ""
            },
            "colorscale": [
             [
              0,
              "#0d0887"
             ],
             [
              0.1111111111111111,
              "#46039f"
             ],
             [
              0.2222222222222222,
              "#7201a8"
             ],
             [
              0.3333333333333333,
              "#9c179e"
             ],
             [
              0.4444444444444444,
              "#bd3786"
             ],
             [
              0.5555555555555556,
              "#d8576b"
             ],
             [
              0.6666666666666666,
              "#ed7953"
             ],
             [
              0.7777777777777778,
              "#fb9f3a"
             ],
             [
              0.8888888888888888,
              "#fdca26"
             ],
             [
              1,
              "#f0f921"
             ]
            ],
            "type": "histogram2dcontour"
           }
          ],
          "mesh3d": [
           {
            "colorbar": {
             "outlinewidth": 0,
             "ticks": ""
            },
            "type": "mesh3d"
           }
          ],
          "parcoords": [
           {
            "line": {
             "colorbar": {
              "outlinewidth": 0,
              "ticks": ""
             }
            },
            "type": "parcoords"
           }
          ],
          "pie": [
           {
            "automargin": true,
            "type": "pie"
           }
          ],
          "scatter": [
           {
            "fillpattern": {
             "fillmode": "overlay",
             "size": 10,
             "solidity": 0.2
            },
            "type": "scatter"
           }
          ],
          "scatter3d": [
           {
            "line": {
             "colorbar": {
              "outlinewidth": 0,
              "ticks": ""
             }
            },
            "marker": {
             "colorbar": {
              "outlinewidth": 0,
              "ticks": ""
             }
            },
            "type": "scatter3d"
           }
          ],
          "scattercarpet": [
           {
            "marker": {
             "colorbar": {
              "outlinewidth": 0,
              "ticks": ""
             }
            },
            "type": "scattercarpet"
           }
          ],
          "scattergeo": [
           {
            "marker": {
             "colorbar": {
              "outlinewidth": 0,
              "ticks": ""
             }
            },
            "type": "scattergeo"
           }
          ],
          "scattergl": [
           {
            "marker": {
             "colorbar": {
              "outlinewidth": 0,
              "ticks": ""
             }
            },
            "type": "scattergl"
           }
          ],
          "scattermap": [
           {
            "marker": {
             "colorbar": {
              "outlinewidth": 0,
              "ticks": ""
             }
            },
            "type": "scattermap"
           }
          ],
          "scattermapbox": [
           {
            "marker": {
             "colorbar": {
              "outlinewidth": 0,
              "ticks": ""
             }
            },
            "type": "scattermapbox"
           }
          ],
          "scatterpolar": [
           {
            "marker": {
             "colorbar": {
              "outlinewidth": 0,
              "ticks": ""
             }
            },
            "type": "scatterpolar"
           }
          ],
          "scatterpolargl": [
           {
            "marker": {
             "colorbar": {
              "outlinewidth": 0,
              "ticks": ""
             }
            },
            "type": "scatterpolargl"
           }
          ],
          "scatterternary": [
           {
            "marker": {
             "colorbar": {
              "outlinewidth": 0,
              "ticks": ""
             }
            },
            "type": "scatterternary"
           }
          ],
          "surface": [
           {
            "colorbar": {
             "outlinewidth": 0,
             "ticks": ""
            },
            "colorscale": [
             [
              0,
              "#0d0887"
             ],
             [
              0.1111111111111111,
              "#46039f"
             ],
             [
              0.2222222222222222,
              "#7201a8"
             ],
             [
              0.3333333333333333,
              "#9c179e"
             ],
             [
              0.4444444444444444,
              "#bd3786"
             ],
             [
              0.5555555555555556,
              "#d8576b"
             ],
             [
              0.6666666666666666,
              "#ed7953"
             ],
             [
              0.7777777777777778,
              "#fb9f3a"
             ],
             [
              0.8888888888888888,
              "#fdca26"
             ],
             [
              1,
              "#f0f921"
             ]
            ],
            "type": "surface"
           }
          ],
          "table": [
           {
            "cells": {
             "fill": {
              "color": "#EBF0F8"
             },
             "line": {
              "color": "white"
             }
            },
            "header": {
             "fill": {
              "color": "#C8D4E3"
             },
             "line": {
              "color": "white"
             }
            },
            "type": "table"
           }
          ]
         },
         "layout": {
          "annotationdefaults": {
           "arrowcolor": "#2a3f5f",
           "arrowhead": 0,
           "arrowwidth": 1
          },
          "autotypenumbers": "strict",
          "coloraxis": {
           "colorbar": {
            "outlinewidth": 0,
            "ticks": ""
           }
          },
          "colorscale": {
           "diverging": [
            [
             0,
             "#8e0152"
            ],
            [
             0.1,
             "#c51b7d"
            ],
            [
             0.2,
             "#de77ae"
            ],
            [
             0.3,
             "#f1b6da"
            ],
            [
             0.4,
             "#fde0ef"
            ],
            [
             0.5,
             "#f7f7f7"
            ],
            [
             0.6,
             "#e6f5d0"
            ],
            [
             0.7,
             "#b8e186"
            ],
            [
             0.8,
             "#7fbc41"
            ],
            [
             0.9,
             "#4d9221"
            ],
            [
             1,
             "#276419"
            ]
           ],
           "sequential": [
            [
             0,
             "#0d0887"
            ],
            [
             0.1111111111111111,
             "#46039f"
            ],
            [
             0.2222222222222222,
             "#7201a8"
            ],
            [
             0.3333333333333333,
             "#9c179e"
            ],
            [
             0.4444444444444444,
             "#bd3786"
            ],
            [
             0.5555555555555556,
             "#d8576b"
            ],
            [
             0.6666666666666666,
             "#ed7953"
            ],
            [
             0.7777777777777778,
             "#fb9f3a"
            ],
            [
             0.8888888888888888,
             "#fdca26"
            ],
            [
             1,
             "#f0f921"
            ]
           ],
           "sequentialminus": [
            [
             0,
             "#0d0887"
            ],
            [
             0.1111111111111111,
             "#46039f"
            ],
            [
             0.2222222222222222,
             "#7201a8"
            ],
            [
             0.3333333333333333,
             "#9c179e"
            ],
            [
             0.4444444444444444,
             "#bd3786"
            ],
            [
             0.5555555555555556,
             "#d8576b"
            ],
            [
             0.6666666666666666,
             "#ed7953"
            ],
            [
             0.7777777777777778,
             "#fb9f3a"
            ],
            [
             0.8888888888888888,
             "#fdca26"
            ],
            [
             1,
             "#f0f921"
            ]
           ]
          },
          "colorway": [
           "#636efa",
           "#EF553B",
           "#00cc96",
           "#ab63fa",
           "#FFA15A",
           "#19d3f3",
           "#FF6692",
           "#B6E880",
           "#FF97FF",
           "#FECB52"
          ],
          "font": {
           "color": "#2a3f5f"
          },
          "geo": {
           "bgcolor": "white",
           "lakecolor": "white",
           "landcolor": "#E5ECF6",
           "showlakes": true,
           "showland": true,
           "subunitcolor": "white"
          },
          "hoverlabel": {
           "align": "left"
          },
          "hovermode": "closest",
          "mapbox": {
           "style": "light"
          },
          "paper_bgcolor": "white",
          "plot_bgcolor": "#E5ECF6",
          "polar": {
           "angularaxis": {
            "gridcolor": "white",
            "linecolor": "white",
            "ticks": ""
           },
           "bgcolor": "#E5ECF6",
           "radialaxis": {
            "gridcolor": "white",
            "linecolor": "white",
            "ticks": ""
           }
          },
          "scene": {
           "xaxis": {
            "backgroundcolor": "#E5ECF6",
            "gridcolor": "white",
            "gridwidth": 2,
            "linecolor": "white",
            "showbackground": true,
            "ticks": "",
            "zerolinecolor": "white"
           },
           "yaxis": {
            "backgroundcolor": "#E5ECF6",
            "gridcolor": "white",
            "gridwidth": 2,
            "linecolor": "white",
            "showbackground": true,
            "ticks": "",
            "zerolinecolor": "white"
           },
           "zaxis": {
            "backgroundcolor": "#E5ECF6",
            "gridcolor": "white",
            "gridwidth": 2,
            "linecolor": "white",
            "showbackground": true,
            "ticks": "",
            "zerolinecolor": "white"
           }
          },
          "shapedefaults": {
           "line": {
            "color": "#2a3f5f"
           }
          },
          "ternary": {
           "aaxis": {
            "gridcolor": "white",
            "linecolor": "white",
            "ticks": ""
           },
           "baxis": {
            "gridcolor": "white",
            "linecolor": "white",
            "ticks": ""
           },
           "bgcolor": "#E5ECF6",
           "caxis": {
            "gridcolor": "white",
            "linecolor": "white",
            "ticks": ""
           }
          },
          "title": {
           "x": 0.05
          },
          "xaxis": {
           "automargin": true,
           "gridcolor": "white",
           "linecolor": "white",
           "ticks": "",
           "title": {
            "standoff": 15
           },
           "zerolinecolor": "white",
           "zerolinewidth": 2
          },
          "yaxis": {
           "automargin": true,
           "gridcolor": "white",
           "linecolor": "white",
           "ticks": "",
           "title": {
            "standoff": 15
           },
           "zerolinecolor": "white",
           "zerolinewidth": 2
          }
         }
        },
        "xaxis": {
         "anchor": "y",
         "domain": [
          0,
          1
         ],
         "title": {
          "text": "GDP"
         }
        },
        "yaxis": {
         "anchor": "x",
         "domain": [
          0,
          1
         ],
         "title": {
          "text": "Avg_students_per_uni"
         }
        }
       }
      }
     },
     "metadata": {},
     "output_type": "display_data"
    }
   ],
   "source": [
    "fig = px.scatter(new_df, x=\"GDP\", y=\"Avg_students_per_uni\",hover_name=\"NAME\")\n",
    "fig.show()"
   ]
  },
  {
   "cell_type": "code",
   "execution_count": 24,
   "metadata": {},
   "outputs": [
    {
     "data": {
      "application/vnd.plotly.v1+json": {
       "config": {
        "plotlyServerURL": "https://plot.ly"
       },
       "data": [
        {
         "hovertemplate": "<b>%{hovertext}</b><br><br>GDP=%{x}<br>total_students_per_state=%{y}<extra></extra>",
         "hovertext": [
          "Alabama",
          "Alaska",
          "Arizona",
          "Arkansas",
          "California",
          "Colorado",
          "Connecticut",
          "Delaware",
          "District of Columbia",
          "Florida",
          "Georgia",
          "Hawaii",
          "Idaho",
          "Illinois",
          "Indiana",
          "Iowa",
          "Kansas",
          "Kentucky",
          "Louisiana",
          "Maine",
          "Maryland",
          "Massachusetts",
          "Michigan",
          "Minnesota",
          "Mississippi",
          "Missouri",
          "Montana",
          "Nebraska",
          "Nevada",
          "New Hampshire",
          "New Jersey",
          "New Mexico",
          "New York",
          "North Carolina",
          "North Dakota",
          "Ohio",
          "Oklahoma",
          "Oregon",
          "Pennsylvania",
          "Rhode Island",
          "South Carolina",
          "South Dakota",
          "Tennessee",
          "Texas",
          "Utah",
          "Vermont",
          "Virginia",
          "Washington",
          "West Virginia",
          "Wisconsin",
          "Wyoming"
         ],
         "legendgroup": "",
         "marker": {
          "color": "#636efa",
          "symbol": "circle"
         },
         "mode": "markers",
         "name": "",
         "orientation": "v",
         "showlegend": false,
         "type": "scatter",
         "x": [
          "238,556",
          "50,767",
          "410,228",
          "139,561",
          "3,184,008",
          "418,819",
          "278,976",
          "77,149",
          "144,555",
          "1,239,884",
          "665,678",
          "86,888",
          "92,904",
          "876,536",
          "399,281",
          "201,580",
          "177,470",
          "219,756",
          "236,854",
          "73,036",
          "416,406",
          "608,053",
          "543,721",
          "384,728",
          "116,557",
          "339,652",
          "55,194",
          "139,441",
          "190,463",
          "91,416",
          "650,236",
          "103,302",
          "1,765,102",
          "619,537",
          "55,988",
          "695,258",
          "193,940",
          "256,063",
          "779,361",
          "62,279",
          "254,504",
          "55,260",
          "414,471",
          "1,952,709",
          "217,442",
          "34,753",
          "580,475",
          "644,075",
          "77,188",
          "339,748",
          "37,827"
         ],
         "xaxis": "x",
         "y": {
          "bdata": "AAAAAICc2UAAAAAAAIBAQAAAAADAdtNAAAAAAEA40EAAAAAAkHz9QAAAAABActlAAAAAAEAY0kAAAAAAALi2QAAAAAAAMsBAAAAAAKDH60AAAAAAALHiQAAAAAAAQLBAAAAAAABCwEAAAAAAwIfoQAAAAABgQOZAAAAAAAAR00AAAAAAAJ7MQAAAAAAAHdhAAAAAAABt2EAAAAAAAPm7QAAAAADA49JAAAAAAAA16EAAAAAA4DroQAAAAABAoNlAAAAAAIBEyUAAAAAAwEvcQAAAAAAAn7dAAAAAAIBWxEAAAAAAALG7QAAAAACA4sFAAAAAAABx3EAAAAAAAAO5QAAAAACQG/tAAAAAAOB750AAAAAAANq4QAAAAAAg3utAAAAAAIDT0UAAAAAAgOPOQAAAAACA9/RAAAAAAADZxUAAAAAAgMDWQAAAAAAAf7dAAAAAAABD3UAAAAAAcOT2QAAAAAAAlMlAAAAAAACyuUAAAAAAIH7mQAAAAADAOddAAAAAAADhyEAAAAAAAJjgQAAAAAAAwJhA",
          "dtype": "f8"
         },
         "yaxis": "y"
        }
       ],
       "layout": {
        "legend": {
         "tracegroupgap": 0
        },
        "margin": {
         "t": 60
        },
        "template": {
         "data": {
          "bar": [
           {
            "error_x": {
             "color": "#2a3f5f"
            },
            "error_y": {
             "color": "#2a3f5f"
            },
            "marker": {
             "line": {
              "color": "#E5ECF6",
              "width": 0.5
             },
             "pattern": {
              "fillmode": "overlay",
              "size": 10,
              "solidity": 0.2
             }
            },
            "type": "bar"
           }
          ],
          "barpolar": [
           {
            "marker": {
             "line": {
              "color": "#E5ECF6",
              "width": 0.5
             },
             "pattern": {
              "fillmode": "overlay",
              "size": 10,
              "solidity": 0.2
             }
            },
            "type": "barpolar"
           }
          ],
          "carpet": [
           {
            "aaxis": {
             "endlinecolor": "#2a3f5f",
             "gridcolor": "white",
             "linecolor": "white",
             "minorgridcolor": "white",
             "startlinecolor": "#2a3f5f"
            },
            "baxis": {
             "endlinecolor": "#2a3f5f",
             "gridcolor": "white",
             "linecolor": "white",
             "minorgridcolor": "white",
             "startlinecolor": "#2a3f5f"
            },
            "type": "carpet"
           }
          ],
          "choropleth": [
           {
            "colorbar": {
             "outlinewidth": 0,
             "ticks": ""
            },
            "type": "choropleth"
           }
          ],
          "contour": [
           {
            "colorbar": {
             "outlinewidth": 0,
             "ticks": ""
            },
            "colorscale": [
             [
              0,
              "#0d0887"
             ],
             [
              0.1111111111111111,
              "#46039f"
             ],
             [
              0.2222222222222222,
              "#7201a8"
             ],
             [
              0.3333333333333333,
              "#9c179e"
             ],
             [
              0.4444444444444444,
              "#bd3786"
             ],
             [
              0.5555555555555556,
              "#d8576b"
             ],
             [
              0.6666666666666666,
              "#ed7953"
             ],
             [
              0.7777777777777778,
              "#fb9f3a"
             ],
             [
              0.8888888888888888,
              "#fdca26"
             ],
             [
              1,
              "#f0f921"
             ]
            ],
            "type": "contour"
           }
          ],
          "contourcarpet": [
           {
            "colorbar": {
             "outlinewidth": 0,
             "ticks": ""
            },
            "type": "contourcarpet"
           }
          ],
          "heatmap": [
           {
            "colorbar": {
             "outlinewidth": 0,
             "ticks": ""
            },
            "colorscale": [
             [
              0,
              "#0d0887"
             ],
             [
              0.1111111111111111,
              "#46039f"
             ],
             [
              0.2222222222222222,
              "#7201a8"
             ],
             [
              0.3333333333333333,
              "#9c179e"
             ],
             [
              0.4444444444444444,
              "#bd3786"
             ],
             [
              0.5555555555555556,
              "#d8576b"
             ],
             [
              0.6666666666666666,
              "#ed7953"
             ],
             [
              0.7777777777777778,
              "#fb9f3a"
             ],
             [
              0.8888888888888888,
              "#fdca26"
             ],
             [
              1,
              "#f0f921"
             ]
            ],
            "type": "heatmap"
           }
          ],
          "histogram": [
           {
            "marker": {
             "pattern": {
              "fillmode": "overlay",
              "size": 10,
              "solidity": 0.2
             }
            },
            "type": "histogram"
           }
          ],
          "histogram2d": [
           {
            "colorbar": {
             "outlinewidth": 0,
             "ticks": ""
            },
            "colorscale": [
             [
              0,
              "#0d0887"
             ],
             [
              0.1111111111111111,
              "#46039f"
             ],
             [
              0.2222222222222222,
              "#7201a8"
             ],
             [
              0.3333333333333333,
              "#9c179e"
             ],
             [
              0.4444444444444444,
              "#bd3786"
             ],
             [
              0.5555555555555556,
              "#d8576b"
             ],
             [
              0.6666666666666666,
              "#ed7953"
             ],
             [
              0.7777777777777778,
              "#fb9f3a"
             ],
             [
              0.8888888888888888,
              "#fdca26"
             ],
             [
              1,
              "#f0f921"
             ]
            ],
            "type": "histogram2d"
           }
          ],
          "histogram2dcontour": [
           {
            "colorbar": {
             "outlinewidth": 0,
             "ticks": ""
            },
            "colorscale": [
             [
              0,
              "#0d0887"
             ],
             [
              0.1111111111111111,
              "#46039f"
             ],
             [
              0.2222222222222222,
              "#7201a8"
             ],
             [
              0.3333333333333333,
              "#9c179e"
             ],
             [
              0.4444444444444444,
              "#bd3786"
             ],
             [
              0.5555555555555556,
              "#d8576b"
             ],
             [
              0.6666666666666666,
              "#ed7953"
             ],
             [
              0.7777777777777778,
              "#fb9f3a"
             ],
             [
              0.8888888888888888,
              "#fdca26"
             ],
             [
              1,
              "#f0f921"
             ]
            ],
            "type": "histogram2dcontour"
           }
          ],
          "mesh3d": [
           {
            "colorbar": {
             "outlinewidth": 0,
             "ticks": ""
            },
            "type": "mesh3d"
           }
          ],
          "parcoords": [
           {
            "line": {
             "colorbar": {
              "outlinewidth": 0,
              "ticks": ""
             }
            },
            "type": "parcoords"
           }
          ],
          "pie": [
           {
            "automargin": true,
            "type": "pie"
           }
          ],
          "scatter": [
           {
            "fillpattern": {
             "fillmode": "overlay",
             "size": 10,
             "solidity": 0.2
            },
            "type": "scatter"
           }
          ],
          "scatter3d": [
           {
            "line": {
             "colorbar": {
              "outlinewidth": 0,
              "ticks": ""
             }
            },
            "marker": {
             "colorbar": {
              "outlinewidth": 0,
              "ticks": ""
             }
            },
            "type": "scatter3d"
           }
          ],
          "scattercarpet": [
           {
            "marker": {
             "colorbar": {
              "outlinewidth": 0,
              "ticks": ""
             }
            },
            "type": "scattercarpet"
           }
          ],
          "scattergeo": [
           {
            "marker": {
             "colorbar": {
              "outlinewidth": 0,
              "ticks": ""
             }
            },
            "type": "scattergeo"
           }
          ],
          "scattergl": [
           {
            "marker": {
             "colorbar": {
              "outlinewidth": 0,
              "ticks": ""
             }
            },
            "type": "scattergl"
           }
          ],
          "scattermap": [
           {
            "marker": {
             "colorbar": {
              "outlinewidth": 0,
              "ticks": ""
             }
            },
            "type": "scattermap"
           }
          ],
          "scattermapbox": [
           {
            "marker": {
             "colorbar": {
              "outlinewidth": 0,
              "ticks": ""
             }
            },
            "type": "scattermapbox"
           }
          ],
          "scatterpolar": [
           {
            "marker": {
             "colorbar": {
              "outlinewidth": 0,
              "ticks": ""
             }
            },
            "type": "scatterpolar"
           }
          ],
          "scatterpolargl": [
           {
            "marker": {
             "colorbar": {
              "outlinewidth": 0,
              "ticks": ""
             }
            },
            "type": "scatterpolargl"
           }
          ],
          "scatterternary": [
           {
            "marker": {
             "colorbar": {
              "outlinewidth": 0,
              "ticks": ""
             }
            },
            "type": "scatterternary"
           }
          ],
          "surface": [
           {
            "colorbar": {
             "outlinewidth": 0,
             "ticks": ""
            },
            "colorscale": [
             [
              0,
              "#0d0887"
             ],
             [
              0.1111111111111111,
              "#46039f"
             ],
             [
              0.2222222222222222,
              "#7201a8"
             ],
             [
              0.3333333333333333,
              "#9c179e"
             ],
             [
              0.4444444444444444,
              "#bd3786"
             ],
             [
              0.5555555555555556,
              "#d8576b"
             ],
             [
              0.6666666666666666,
              "#ed7953"
             ],
             [
              0.7777777777777778,
              "#fb9f3a"
             ],
             [
              0.8888888888888888,
              "#fdca26"
             ],
             [
              1,
              "#f0f921"
             ]
            ],
            "type": "surface"
           }
          ],
          "table": [
           {
            "cells": {
             "fill": {
              "color": "#EBF0F8"
             },
             "line": {
              "color": "white"
             }
            },
            "header": {
             "fill": {
              "color": "#C8D4E3"
             },
             "line": {
              "color": "white"
             }
            },
            "type": "table"
           }
          ]
         },
         "layout": {
          "annotationdefaults": {
           "arrowcolor": "#2a3f5f",
           "arrowhead": 0,
           "arrowwidth": 1
          },
          "autotypenumbers": "strict",
          "coloraxis": {
           "colorbar": {
            "outlinewidth": 0,
            "ticks": ""
           }
          },
          "colorscale": {
           "diverging": [
            [
             0,
             "#8e0152"
            ],
            [
             0.1,
             "#c51b7d"
            ],
            [
             0.2,
             "#de77ae"
            ],
            [
             0.3,
             "#f1b6da"
            ],
            [
             0.4,
             "#fde0ef"
            ],
            [
             0.5,
             "#f7f7f7"
            ],
            [
             0.6,
             "#e6f5d0"
            ],
            [
             0.7,
             "#b8e186"
            ],
            [
             0.8,
             "#7fbc41"
            ],
            [
             0.9,
             "#4d9221"
            ],
            [
             1,
             "#276419"
            ]
           ],
           "sequential": [
            [
             0,
             "#0d0887"
            ],
            [
             0.1111111111111111,
             "#46039f"
            ],
            [
             0.2222222222222222,
             "#7201a8"
            ],
            [
             0.3333333333333333,
             "#9c179e"
            ],
            [
             0.4444444444444444,
             "#bd3786"
            ],
            [
             0.5555555555555556,
             "#d8576b"
            ],
            [
             0.6666666666666666,
             "#ed7953"
            ],
            [
             0.7777777777777778,
             "#fb9f3a"
            ],
            [
             0.8888888888888888,
             "#fdca26"
            ],
            [
             1,
             "#f0f921"
            ]
           ],
           "sequentialminus": [
            [
             0,
             "#0d0887"
            ],
            [
             0.1111111111111111,
             "#46039f"
            ],
            [
             0.2222222222222222,
             "#7201a8"
            ],
            [
             0.3333333333333333,
             "#9c179e"
            ],
            [
             0.4444444444444444,
             "#bd3786"
            ],
            [
             0.5555555555555556,
             "#d8576b"
            ],
            [
             0.6666666666666666,
             "#ed7953"
            ],
            [
             0.7777777777777778,
             "#fb9f3a"
            ],
            [
             0.8888888888888888,
             "#fdca26"
            ],
            [
             1,
             "#f0f921"
            ]
           ]
          },
          "colorway": [
           "#636efa",
           "#EF553B",
           "#00cc96",
           "#ab63fa",
           "#FFA15A",
           "#19d3f3",
           "#FF6692",
           "#B6E880",
           "#FF97FF",
           "#FECB52"
          ],
          "font": {
           "color": "#2a3f5f"
          },
          "geo": {
           "bgcolor": "white",
           "lakecolor": "white",
           "landcolor": "#E5ECF6",
           "showlakes": true,
           "showland": true,
           "subunitcolor": "white"
          },
          "hoverlabel": {
           "align": "left"
          },
          "hovermode": "closest",
          "mapbox": {
           "style": "light"
          },
          "paper_bgcolor": "white",
          "plot_bgcolor": "#E5ECF6",
          "polar": {
           "angularaxis": {
            "gridcolor": "white",
            "linecolor": "white",
            "ticks": ""
           },
           "bgcolor": "#E5ECF6",
           "radialaxis": {
            "gridcolor": "white",
            "linecolor": "white",
            "ticks": ""
           }
          },
          "scene": {
           "xaxis": {
            "backgroundcolor": "#E5ECF6",
            "gridcolor": "white",
            "gridwidth": 2,
            "linecolor": "white",
            "showbackground": true,
            "ticks": "",
            "zerolinecolor": "white"
           },
           "yaxis": {
            "backgroundcolor": "#E5ECF6",
            "gridcolor": "white",
            "gridwidth": 2,
            "linecolor": "white",
            "showbackground": true,
            "ticks": "",
            "zerolinecolor": "white"
           },
           "zaxis": {
            "backgroundcolor": "#E5ECF6",
            "gridcolor": "white",
            "gridwidth": 2,
            "linecolor": "white",
            "showbackground": true,
            "ticks": "",
            "zerolinecolor": "white"
           }
          },
          "shapedefaults": {
           "line": {
            "color": "#2a3f5f"
           }
          },
          "ternary": {
           "aaxis": {
            "gridcolor": "white",
            "linecolor": "white",
            "ticks": ""
           },
           "baxis": {
            "gridcolor": "white",
            "linecolor": "white",
            "ticks": ""
           },
           "bgcolor": "#E5ECF6",
           "caxis": {
            "gridcolor": "white",
            "linecolor": "white",
            "ticks": ""
           }
          },
          "title": {
           "x": 0.05
          },
          "xaxis": {
           "automargin": true,
           "gridcolor": "white",
           "linecolor": "white",
           "ticks": "",
           "title": {
            "standoff": 15
           },
           "zerolinecolor": "white",
           "zerolinewidth": 2
          },
          "yaxis": {
           "automargin": true,
           "gridcolor": "white",
           "linecolor": "white",
           "ticks": "",
           "title": {
            "standoff": 15
           },
           "zerolinecolor": "white",
           "zerolinewidth": 2
          }
         }
        },
        "xaxis": {
         "anchor": "y",
         "domain": [
          0,
          1
         ],
         "title": {
          "text": "GDP"
         }
        },
        "yaxis": {
         "anchor": "x",
         "domain": [
          0,
          1
         ],
         "title": {
          "text": "total_students_per_state"
         }
        }
       }
      }
     },
     "metadata": {},
     "output_type": "display_data"
    }
   ],
   "source": [
    "fig = px.scatter(new_df, x=\"GDP\", y=\"total_students_per_state\",hover_name=\"NAME\")\n",
    "fig.show()"
   ]
  },
  {
   "cell_type": "markdown",
   "metadata": {},
   "source": [
    "Conclusion: No Correlation "
   ]
  },
  {
   "cell_type": "markdown",
   "metadata": {},
   "source": [
    "### 8-Do students prefer a university based on the possibility of a higher, additional academic degree in the same university?"
   ]
  },
  {
   "cell_type": "code",
   "execution_count": 25,
   "metadata": {},
   "outputs": [],
   "source": [
    "df[\"Total Certificates\"] = (df.iloc[:, 4:15] == \"Yes\").sum(axis=1)"
   ]
  },
  {
   "cell_type": "code",
   "execution_count": 26,
   "metadata": {},
   "outputs": [
    {
     "data": {
      "application/vnd.plotly.v1+json": {
       "config": {
        "plotlyServerURL": "https://plot.ly"
       },
       "data": [
        {
         "customdata": {
          "bdata": "fwDEAO8A3gDdAK4AcwA+AA8ABQABAA==",
          "dtype": "i2",
          "shape": "11, 1"
         },
         "hovertemplate": "Total Certificates=%{x}<br>Average Enrolled Students=%{y}<br>University Count=%{customdata[0]}<extra></extra>",
         "legendgroup": "",
         "marker": {
          "color": "#636efa",
          "pattern": {
           "shape": ""
          }
         },
         "name": "",
         "orientation": "v",
         "showlegend": false,
         "textposition": "auto",
         "type": "bar",
         "x": {
          "bdata": "AAECAwQFBgcICQo=",
          "dtype": "i1"
         },
         "xaxis": "x",
         "y": {
          "bdata": "USgUCoUSd0BEY31orNN+QFkjERAfvYRAinzWDaZki0CXlpaWljaTQFK8QCbFd5pA/HVJ5cNUmUCVUkoppTiiQGZmZmZmWppAmpmZmZlDpkAAAAAAAOqiQA==",
          "dtype": "f8"
         },
         "yaxis": "y"
        }
       ],
       "layout": {
        "barmode": "relative",
        "height": 400,
        "legend": {
         "tracegroupgap": 0
        },
        "template": {
         "data": {
          "bar": [
           {
            "error_x": {
             "color": "#2a3f5f"
            },
            "error_y": {
             "color": "#2a3f5f"
            },
            "marker": {
             "line": {
              "color": "#E5ECF6",
              "width": 0.5
             },
             "pattern": {
              "fillmode": "overlay",
              "size": 10,
              "solidity": 0.2
             }
            },
            "type": "bar"
           }
          ],
          "barpolar": [
           {
            "marker": {
             "line": {
              "color": "#E5ECF6",
              "width": 0.5
             },
             "pattern": {
              "fillmode": "overlay",
              "size": 10,
              "solidity": 0.2
             }
            },
            "type": "barpolar"
           }
          ],
          "carpet": [
           {
            "aaxis": {
             "endlinecolor": "#2a3f5f",
             "gridcolor": "white",
             "linecolor": "white",
             "minorgridcolor": "white",
             "startlinecolor": "#2a3f5f"
            },
            "baxis": {
             "endlinecolor": "#2a3f5f",
             "gridcolor": "white",
             "linecolor": "white",
             "minorgridcolor": "white",
             "startlinecolor": "#2a3f5f"
            },
            "type": "carpet"
           }
          ],
          "choropleth": [
           {
            "colorbar": {
             "outlinewidth": 0,
             "ticks": ""
            },
            "type": "choropleth"
           }
          ],
          "contour": [
           {
            "colorbar": {
             "outlinewidth": 0,
             "ticks": ""
            },
            "colorscale": [
             [
              0,
              "#0d0887"
             ],
             [
              0.1111111111111111,
              "#46039f"
             ],
             [
              0.2222222222222222,
              "#7201a8"
             ],
             [
              0.3333333333333333,
              "#9c179e"
             ],
             [
              0.4444444444444444,
              "#bd3786"
             ],
             [
              0.5555555555555556,
              "#d8576b"
             ],
             [
              0.6666666666666666,
              "#ed7953"
             ],
             [
              0.7777777777777778,
              "#fb9f3a"
             ],
             [
              0.8888888888888888,
              "#fdca26"
             ],
             [
              1,
              "#f0f921"
             ]
            ],
            "type": "contour"
           }
          ],
          "contourcarpet": [
           {
            "colorbar": {
             "outlinewidth": 0,
             "ticks": ""
            },
            "type": "contourcarpet"
           }
          ],
          "heatmap": [
           {
            "colorbar": {
             "outlinewidth": 0,
             "ticks": ""
            },
            "colorscale": [
             [
              0,
              "#0d0887"
             ],
             [
              0.1111111111111111,
              "#46039f"
             ],
             [
              0.2222222222222222,
              "#7201a8"
             ],
             [
              0.3333333333333333,
              "#9c179e"
             ],
             [
              0.4444444444444444,
              "#bd3786"
             ],
             [
              0.5555555555555556,
              "#d8576b"
             ],
             [
              0.6666666666666666,
              "#ed7953"
             ],
             [
              0.7777777777777778,
              "#fb9f3a"
             ],
             [
              0.8888888888888888,
              "#fdca26"
             ],
             [
              1,
              "#f0f921"
             ]
            ],
            "type": "heatmap"
           }
          ],
          "histogram": [
           {
            "marker": {
             "pattern": {
              "fillmode": "overlay",
              "size": 10,
              "solidity": 0.2
             }
            },
            "type": "histogram"
           }
          ],
          "histogram2d": [
           {
            "colorbar": {
             "outlinewidth": 0,
             "ticks": ""
            },
            "colorscale": [
             [
              0,
              "#0d0887"
             ],
             [
              0.1111111111111111,
              "#46039f"
             ],
             [
              0.2222222222222222,
              "#7201a8"
             ],
             [
              0.3333333333333333,
              "#9c179e"
             ],
             [
              0.4444444444444444,
              "#bd3786"
             ],
             [
              0.5555555555555556,
              "#d8576b"
             ],
             [
              0.6666666666666666,
              "#ed7953"
             ],
             [
              0.7777777777777778,
              "#fb9f3a"
             ],
             [
              0.8888888888888888,
              "#fdca26"
             ],
             [
              1,
              "#f0f921"
             ]
            ],
            "type": "histogram2d"
           }
          ],
          "histogram2dcontour": [
           {
            "colorbar": {
             "outlinewidth": 0,
             "ticks": ""
            },
            "colorscale": [
             [
              0,
              "#0d0887"
             ],
             [
              0.1111111111111111,
              "#46039f"
             ],
             [
              0.2222222222222222,
              "#7201a8"
             ],
             [
              0.3333333333333333,
              "#9c179e"
             ],
             [
              0.4444444444444444,
              "#bd3786"
             ],
             [
              0.5555555555555556,
              "#d8576b"
             ],
             [
              0.6666666666666666,
              "#ed7953"
             ],
             [
              0.7777777777777778,
              "#fb9f3a"
             ],
             [
              0.8888888888888888,
              "#fdca26"
             ],
             [
              1,
              "#f0f921"
             ]
            ],
            "type": "histogram2dcontour"
           }
          ],
          "mesh3d": [
           {
            "colorbar": {
             "outlinewidth": 0,
             "ticks": ""
            },
            "type": "mesh3d"
           }
          ],
          "parcoords": [
           {
            "line": {
             "colorbar": {
              "outlinewidth": 0,
              "ticks": ""
             }
            },
            "type": "parcoords"
           }
          ],
          "pie": [
           {
            "automargin": true,
            "type": "pie"
           }
          ],
          "scatter": [
           {
            "fillpattern": {
             "fillmode": "overlay",
             "size": 10,
             "solidity": 0.2
            },
            "type": "scatter"
           }
          ],
          "scatter3d": [
           {
            "line": {
             "colorbar": {
              "outlinewidth": 0,
              "ticks": ""
             }
            },
            "marker": {
             "colorbar": {
              "outlinewidth": 0,
              "ticks": ""
             }
            },
            "type": "scatter3d"
           }
          ],
          "scattercarpet": [
           {
            "marker": {
             "colorbar": {
              "outlinewidth": 0,
              "ticks": ""
             }
            },
            "type": "scattercarpet"
           }
          ],
          "scattergeo": [
           {
            "marker": {
             "colorbar": {
              "outlinewidth": 0,
              "ticks": ""
             }
            },
            "type": "scattergeo"
           }
          ],
          "scattergl": [
           {
            "marker": {
             "colorbar": {
              "outlinewidth": 0,
              "ticks": ""
             }
            },
            "type": "scattergl"
           }
          ],
          "scattermap": [
           {
            "marker": {
             "colorbar": {
              "outlinewidth": 0,
              "ticks": ""
             }
            },
            "type": "scattermap"
           }
          ],
          "scattermapbox": [
           {
            "marker": {
             "colorbar": {
              "outlinewidth": 0,
              "ticks": ""
             }
            },
            "type": "scattermapbox"
           }
          ],
          "scatterpolar": [
           {
            "marker": {
             "colorbar": {
              "outlinewidth": 0,
              "ticks": ""
             }
            },
            "type": "scatterpolar"
           }
          ],
          "scatterpolargl": [
           {
            "marker": {
             "colorbar": {
              "outlinewidth": 0,
              "ticks": ""
             }
            },
            "type": "scatterpolargl"
           }
          ],
          "scatterternary": [
           {
            "marker": {
             "colorbar": {
              "outlinewidth": 0,
              "ticks": ""
             }
            },
            "type": "scatterternary"
           }
          ],
          "surface": [
           {
            "colorbar": {
             "outlinewidth": 0,
             "ticks": ""
            },
            "colorscale": [
             [
              0,
              "#0d0887"
             ],
             [
              0.1111111111111111,
              "#46039f"
             ],
             [
              0.2222222222222222,
              "#7201a8"
             ],
             [
              0.3333333333333333,
              "#9c179e"
             ],
             [
              0.4444444444444444,
              "#bd3786"
             ],
             [
              0.5555555555555556,
              "#d8576b"
             ],
             [
              0.6666666666666666,
              "#ed7953"
             ],
             [
              0.7777777777777778,
              "#fb9f3a"
             ],
             [
              0.8888888888888888,
              "#fdca26"
             ],
             [
              1,
              "#f0f921"
             ]
            ],
            "type": "surface"
           }
          ],
          "table": [
           {
            "cells": {
             "fill": {
              "color": "#EBF0F8"
             },
             "line": {
              "color": "white"
             }
            },
            "header": {
             "fill": {
              "color": "#C8D4E3"
             },
             "line": {
              "color": "white"
             }
            },
            "type": "table"
           }
          ]
         },
         "layout": {
          "annotationdefaults": {
           "arrowcolor": "#2a3f5f",
           "arrowhead": 0,
           "arrowwidth": 1
          },
          "autotypenumbers": "strict",
          "coloraxis": {
           "colorbar": {
            "outlinewidth": 0,
            "ticks": ""
           }
          },
          "colorscale": {
           "diverging": [
            [
             0,
             "#8e0152"
            ],
            [
             0.1,
             "#c51b7d"
            ],
            [
             0.2,
             "#de77ae"
            ],
            [
             0.3,
             "#f1b6da"
            ],
            [
             0.4,
             "#fde0ef"
            ],
            [
             0.5,
             "#f7f7f7"
            ],
            [
             0.6,
             "#e6f5d0"
            ],
            [
             0.7,
             "#b8e186"
            ],
            [
             0.8,
             "#7fbc41"
            ],
            [
             0.9,
             "#4d9221"
            ],
            [
             1,
             "#276419"
            ]
           ],
           "sequential": [
            [
             0,
             "#0d0887"
            ],
            [
             0.1111111111111111,
             "#46039f"
            ],
            [
             0.2222222222222222,
             "#7201a8"
            ],
            [
             0.3333333333333333,
             "#9c179e"
            ],
            [
             0.4444444444444444,
             "#bd3786"
            ],
            [
             0.5555555555555556,
             "#d8576b"
            ],
            [
             0.6666666666666666,
             "#ed7953"
            ],
            [
             0.7777777777777778,
             "#fb9f3a"
            ],
            [
             0.8888888888888888,
             "#fdca26"
            ],
            [
             1,
             "#f0f921"
            ]
           ],
           "sequentialminus": [
            [
             0,
             "#0d0887"
            ],
            [
             0.1111111111111111,
             "#46039f"
            ],
            [
             0.2222222222222222,
             "#7201a8"
            ],
            [
             0.3333333333333333,
             "#9c179e"
            ],
            [
             0.4444444444444444,
             "#bd3786"
            ],
            [
             0.5555555555555556,
             "#d8576b"
            ],
            [
             0.6666666666666666,
             "#ed7953"
            ],
            [
             0.7777777777777778,
             "#fb9f3a"
            ],
            [
             0.8888888888888888,
             "#fdca26"
            ],
            [
             1,
             "#f0f921"
            ]
           ]
          },
          "colorway": [
           "#636efa",
           "#EF553B",
           "#00cc96",
           "#ab63fa",
           "#FFA15A",
           "#19d3f3",
           "#FF6692",
           "#B6E880",
           "#FF97FF",
           "#FECB52"
          ],
          "font": {
           "color": "#2a3f5f"
          },
          "geo": {
           "bgcolor": "white",
           "lakecolor": "white",
           "landcolor": "#E5ECF6",
           "showlakes": true,
           "showland": true,
           "subunitcolor": "white"
          },
          "hoverlabel": {
           "align": "left"
          },
          "hovermode": "closest",
          "mapbox": {
           "style": "light"
          },
          "paper_bgcolor": "white",
          "plot_bgcolor": "#E5ECF6",
          "polar": {
           "angularaxis": {
            "gridcolor": "white",
            "linecolor": "white",
            "ticks": ""
           },
           "bgcolor": "#E5ECF6",
           "radialaxis": {
            "gridcolor": "white",
            "linecolor": "white",
            "ticks": ""
           }
          },
          "scene": {
           "xaxis": {
            "backgroundcolor": "#E5ECF6",
            "gridcolor": "white",
            "gridwidth": 2,
            "linecolor": "white",
            "showbackground": true,
            "ticks": "",
            "zerolinecolor": "white"
           },
           "yaxis": {
            "backgroundcolor": "#E5ECF6",
            "gridcolor": "white",
            "gridwidth": 2,
            "linecolor": "white",
            "showbackground": true,
            "ticks": "",
            "zerolinecolor": "white"
           },
           "zaxis": {
            "backgroundcolor": "#E5ECF6",
            "gridcolor": "white",
            "gridwidth": 2,
            "linecolor": "white",
            "showbackground": true,
            "ticks": "",
            "zerolinecolor": "white"
           }
          },
          "shapedefaults": {
           "line": {
            "color": "#2a3f5f"
           }
          },
          "ternary": {
           "aaxis": {
            "gridcolor": "white",
            "linecolor": "white",
            "ticks": ""
           },
           "baxis": {
            "gridcolor": "white",
            "linecolor": "white",
            "ticks": ""
           },
           "bgcolor": "#E5ECF6",
           "caxis": {
            "gridcolor": "white",
            "linecolor": "white",
            "ticks": ""
           }
          },
          "title": {
           "x": 0.05
          },
          "xaxis": {
           "automargin": true,
           "gridcolor": "white",
           "linecolor": "white",
           "ticks": "",
           "title": {
            "standoff": 15
           },
           "zerolinecolor": "white",
           "zerolinewidth": 2
          },
          "yaxis": {
           "automargin": true,
           "gridcolor": "white",
           "linecolor": "white",
           "ticks": "",
           "title": {
            "standoff": 15
           },
           "zerolinecolor": "white",
           "zerolinewidth": 2
          }
         }
        },
        "title": {
         "text": "By Average"
        },
        "xaxis": {
         "anchor": "y",
         "domain": [
          0,
          1
         ],
         "title": {
          "text": "Total Certificates"
         }
        },
        "yaxis": {
         "anchor": "x",
         "domain": [
          0,
          1
         ],
         "title": {
          "text": "Average Enrolled Students"
         }
        }
       }
      }
     },
     "metadata": {},
     "output_type": "display_data"
    }
   ],
   "source": [
    "df_grouped = df.groupby(\"Total Certificates\").agg({\"Enrolled total\": \"mean\", \"Total Certificates\": \"count\"}\n",
    ").rename(columns={\"Enrolled total\": \"Average Enrolled Students\", \"Total Certificates\": \"University Count\"}).reset_index()\n",
    "\n",
    "fig = px.bar(df_grouped, \n",
    "            x='Total Certificates', \n",
    "            y='Average Enrolled Students', \n",
    "            height=400,\n",
    "            hover_data={\"University Count\": True},\n",
    "            title=\"By Average\")\n",
    "fig.show()"
   ]
  },
  {
   "cell_type": "markdown",
   "metadata": {},
   "source": [
    "Conclusion: There is a positive correlation between the number of certificates offered by a university and the average number of students enrolled "
   ]
  }
 ],
 "metadata": {
  "kernelspec": {
   "display_name": "Python 3",
   "language": "python",
   "name": "python3"
  },
  "language_info": {
   "codemirror_mode": {
    "name": "ipython",
    "version": 3
   },
   "file_extension": ".py",
   "mimetype": "text/x-python",
   "name": "python",
   "nbconvert_exporter": "python",
   "pygments_lexer": "ipython3",
   "version": "3.12.2"
  }
 },
 "nbformat": 4,
 "nbformat_minor": 2
}
